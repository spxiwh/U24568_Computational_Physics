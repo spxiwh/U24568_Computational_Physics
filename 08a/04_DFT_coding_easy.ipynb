{
 "cells": [
  {
   "cell_type": "markdown",
   "id": "f0244749",
   "metadata": {},
   "source": [
    "# Coding up a Fourier transform - EASY(IER) VERSION\n",
    "\n",
    "Let's consider a stretch of data 16 seconds long, sampled 16 times a second (so 256 samples, or `len(data_time_domain) = 256`). This data is given by a sinusoid. Using the equations above, write a function to compute the Fourier transform of this data. Then inverse Fourier transform the data and verify that you get the original time series. Here we've written the relevant plotting codes, but we have not written the Fourier transform and inverse Fourier transform. That's your task!\n",
    "\n"
   ]
  },
  {
   "cell_type": "code",
   "execution_count": null,
   "id": "01d4744c",
   "metadata": {},
   "outputs": [],
   "source": [
    "%matplotlib inline\n",
    "import matplotlib\n",
    "import matplotlib.pyplot as plt\n",
    "import numpy as np\n",
    "import scipy\n",
    "import scipy.signal"
   ]
  },
  {
   "cell_type": "code",
   "execution_count": null,
   "id": "b26a8e6a",
   "metadata": {},
   "outputs": [],
   "source": [
    "omega = 1. * (2*np.pi)\n",
    "data_length = 256\n",
    "sample_rate = 1. / 16.\n",
    "times = np.arange(data_length) * sample_rate\n",
    "data_time_domain = np.cos(times * omega)\n",
    "plt.plot(times,data_time_domain)\n",
    "plt.xlabel('Time (s)')\n",
    "plt.ylabel('Amplitude')"
   ]
  },
  {
   "cell_type": "markdown",
   "id": "ce2cecd9",
   "metadata": {},
   "source": [
    "Okay, let's break this down into stages. We need to compute\n",
    "\n",
    "$X_k = \\sum_{n=0}^{N-1} x_n \\left[ \\cos({2 \\pi k n / N}) - i \\sin({2 \\pi k n / N}) \\right]$\n",
    "\n",
    "but this has a bunch of stages, and a summation, and needs to produce a vector of outputs. Let's break this down.\n",
    "\n",
    "## PART 1\n",
    "\n",
    "The bulk of this will be computing the bit inside the sum:\n",
    "\n",
    "$x_n \\left[ \\cos({2 \\pi k n / N}) - i \\sin({2 \\pi k n / N}) \\right]$\n",
    "\n",
    "This contains 4 things that will vary: $k$, $n$, $N$ and $x_n$. So first write a function that takes these 4 inputs and computes\n",
    "\n",
    "$x_n \\left[ \\cos({2 \\pi k n / N}) - i \\sin({2 \\pi k n / N}) \\right]$\n"
   ]
  },
  {
   "cell_type": "code",
   "execution_count": null,
   "id": "9a838a05",
   "metadata": {},
   "outputs": [],
   "source": [
    "def fourier_transform_inner_bit(x_n, k, n, N):\n",
    "    # ADD CODE HERE. Note that x_n, k, n, N are *not* numpy arrays, but are floats, this should return a complex number (one number)\n",
    "    # We're just going to call this *lots* of times!\n",
    "\n"
   ]
  },
  {
   "cell_type": "code",
   "execution_count": null,
   "id": "34c88a7e",
   "metadata": {},
   "outputs": [],
   "source": [
    "# Run this to validate the function above\n",
    "print(\"Your code gives\", fourier_transform_inner_bit(2, 3, 1, 10), \"it should say (-0.6180339887498947-1.9021130325903073j)\")\n",
    "print(\"Your code gives\", fourier_transform_inner_bit(4, 5, 2, 12), \"it should say (2.0000000000000004+3.4641016151377544j)\")\n"
   ]
  },
  {
   "cell_type": "markdown",
   "id": "18f87543",
   "metadata": {},
   "source": [
    "## PART 2 \n",
    "\n",
    "Okay we wrote a function to compute that inner part. Let's call this $F_1(x_n, k, n, N)$ where\n",
    "\n",
    "$F_1(x_n, k, n, N) = x_n \\left[ \\cos({2 \\pi k n / N}) - i \\sin({2 \\pi k n / N}) \\right]$\n",
    "\n",
    "then our original equation\n",
    "\n",
    "$X_k = \\sum_{n=0}^{N-1} x_n \\left[ \\cos({2 \\pi k n / N}) - i \\sin({2 \\pi k n / N}) \\right]$\n",
    "\n",
    "becomes\n",
    "\n",
    "$X_k = \\sum_{n=0}^{N-1} F_1(x_n, k, n, N)$\n",
    "\n",
    "so now let's compute\n",
    "\n",
    "$\\sum_{n=0}^{N-1} F_1(x_n, k, n, N)$\n",
    "\n",
    "To do this write a function, which will take $x$, $k$ and $N$ as inputs and should return the sum.\n",
    "\n",
    "**NOTE** $x$ is now a numpy array! When calling $F_1$ we should use $x_n$, which is the nth element of $x$ or `x[n]`\n"
   ]
  },
  {
   "cell_type": "code",
   "execution_count": null,
   "id": "c2eaf20b",
   "metadata": {},
   "outputs": [],
   "source": [
    "def fourier_transform_first_sum(x, k, N):\n",
    "    # ADD CODE HERE. Note that k and N are floats. x is a numpy array.\n",
    "    # This should contain a for loop where you loop over n, choose x_n from x and then call F_1\n",
    "    # This should return a complex number\n"
   ]
  },
  {
   "cell_type": "code",
   "execution_count": null,
   "id": "353352ab",
   "metadata": {},
   "outputs": [],
   "source": [
    "# Run this to verify your codde\n",
    "print(\"Your code gives\", fourier_transform_first_sum(np.arange(10), 3, 10), \"it should say (-5.000000000000003+3.632712640026803j)\")\n",
    "print(\"Your code gives\", fourier_transform_first_sum(np.logspace(1,1.2,12), 5, 12), \"it should say (-3.1900677019085393+0.8739794353193151j)\")\n"
   ]
  },
  {
   "cell_type": "markdown",
   "id": "a75df6ab",
   "metadata": {},
   "source": [
    "## PART 3\n",
    "\n",
    "Now we have a function $F_2(x, k, N)$ so we can write\n",
    "\n",
    "$X_k = F_2(x, k, N)$\n",
    "\n",
    "However, we want to compute $X_k$ for all possible values of k such that $X$ is also a numpy array of complex numbers). We'll do this in the following steps:\n",
    "\n",
    "* Our function should take as input $x$; the data in the time domain (`data_time_domain` in the example above). This is a numpy array.\n",
    "* Our function should output $X$ the Fourier transform, which is an array of complex numbers. Considering the stuff written above, we'll make $X$ the same length as $x$ (which will result in some symmetry in the output, as we'll explore later).\n",
    "* Define N to be the length of $x$\n",
    "* Create an empty array of complex numbers $X$, which should be the same length as $x$.\n",
    "* Loop over k (from 0 to N-1 (inclusive)). For each value of k set `X[k] = F_2(x, k, N)`\n",
    "* Return output\n",
    "\n",
    "\n"
   ]
  },
  {
   "cell_type": "code",
   "execution_count": null,
   "id": "92fd6e45",
   "metadata": {},
   "outputs": [],
   "source": [
    "def compute_fourier_transform(x):\n",
    "    # FILL IN THE MISSING CODE\n",
    "\n",
    "    return X\n"
   ]
  },
  {
   "cell_type": "code",
   "execution_count": null,
   "id": "ea4a0ea4",
   "metadata": {},
   "outputs": [],
   "source": [
    "# Run this to verify your code\n",
    "\n",
    "your_output_1 = compute_fourier_transform(np.arange(10))\n",
    "stock_output_1 = np.array([45.+0.00000000e+00j, -5.+1.53884177e+01j, -5.+6.88190960e+00j,\n",
    "                           -5.+3.63271264e+00j, -5.+1.62459848e+00j, -5.-5.51091060e-15j,\n",
    "                           -5.-1.62459848e+00j, -5.-3.63271264e+00j, -5.-6.88190960e+00j,\n",
    "                           -5.-1.53884177e+01j])\n",
    "# YOU NEED TO CHECK THAT stock_output_1 and your_output_1 are the same!!!\n",
    "\n",
    "print(your_output_1)\n",
    "your_output_2 = compute_fourier_transform(np.logspace(1,1.2,12))\n",
    "print(your_output_2)\n",
    "stock_output_2 = np.array([152.65360821+0.00000000e+00j, -2.2498741 +1.20995246e+01j,\n",
    "                           -2.99043154+5.64225487e+00j, -3.12673016+3.26041003e+00j,\n",
    "                           -3.17221609+1.88294825e+00j, -3.1900677 +8.73979435e-01j,\n",
    "                           -3.19496902+7.67154354e-14j, -3.1900677 -8.73979435e-01j,\n",
    "                           -3.17221609-1.88294825e+00j, -3.12673016-3.26041003e+00j,\n",
    "                           -2.99043154-5.64225487e+00j, -2.2498741 -1.20995246e+01j])\n",
    "# YOU NEED TO CHECK THAT stock_output_2 and your_output_2 are the same!!!\n"
   ]
  },
  {
   "cell_type": "markdown",
   "id": "5b09fd0c",
   "metadata": {},
   "source": [
    "## PART 4\n",
    "\n",
    "Now we need to define the *inverse* Fourier transform. Compare the equations. This is basically the same as the Fourier transform. So repeat parts 1 - 3, with the necessary small modification, and write an inverse Fourier transform"
   ]
  },
  {
   "cell_type": "code",
   "execution_count": null,
   "id": "5fcf7fe9",
   "metadata": {},
   "outputs": [],
   "source": [
    "\n",
    "def compute_inverse_fourier_transform(X):\n",
    "    # FILL IN THE MISSING CODE ... You will need some additional functions as well if following the form above!\n",
    "\n",
    "    return x\n"
   ]
  },
  {
   "cell_type": "code",
   "execution_count": null,
   "id": "327912df",
   "metadata": {},
   "outputs": [],
   "source": [
    "# If your code above is working, the following should plot the data, it's Fourier transform, \n",
    "# and then the inverse of that (which should be identical to the original data)\n",
    "\n",
    "# Create data\n",
    "omega = 1. * (2*np.pi)\n",
    "data_length = 256\n",
    "sample_rate = 1. / 16.\n",
    "times = np.arange(data_length) * sample_rate\n",
    "data_time_domain = np.cos(times * omega)\n",
    "plt.plot(times,data_time_domain)\n",
    "plt.xlabel('Time (s)')\n",
    "plt.ylabel('Amplitude')\n",
    "\n",
    "# Here's how you would plot the Fourier transformed data.\n",
    "plt.figure()\n",
    "frequencies = np.arange(256) * (1./(data_length*sample_rate))\n",
    "data_frequency_domain = compute_fourier_transform(data_time_domain)\n",
    "plt.plot(frequencies, data_frequency_domain.real)\n",
    "plt.plot(frequencies, data_frequency_domain.imag) # This is complex, so need two lines\n",
    "plt.title('Fourier Transform')\n",
    "plt.xlabel('Frequency (Hz)')\n",
    "plt.ylabel('Amplitude')\n",
    "plt.legend(['Real component','Imag component'])\n",
    "\n",
    "# Make sure that the inverted data is equal to the original data!\n",
    "plt.figure()\n",
    "data_time_domain_inverted = compute_inverse_fourier_transform(data_frequency_domain)\n",
    "plt.plot(times, data_time_domain_inverted.real, 'k-')\n",
    "plt.plot(times, data_time_domain_inverted.imag, 'b-') # This is complex, so need two lines\n",
    "plt.plot(times, data_time_domain, 'r:')\n",
    "plt.title('Original data (hopefully)')\n",
    "plt.xlabel('Time (s)')\n",
    "plt.ylabel('Amplitude')\n",
    "plt.legend(['Real component','Imag component', 'Original data'])\n"
   ]
  }
 ],
 "metadata": {
  "kernelspec": {
   "display_name": "Python 3 (ipykernel)",
   "language": "python",
   "name": "python3"
  },
  "language_info": {
   "codemirror_mode": {
    "name": "ipython",
    "version": 3
   },
   "file_extension": ".py",
   "mimetype": "text/x-python",
   "name": "python",
   "nbconvert_exporter": "python",
   "pygments_lexer": "ipython3",
   "version": "3.9.12"
  }
 },
 "nbformat": 4,
 "nbformat_minor": 5
}
