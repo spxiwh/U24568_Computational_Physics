{
 "cells": [
  {
   "cell_type": "markdown",
   "id": "17528c6d",
   "metadata": {},
   "source": [
    "# Coding up a Fourier transform - HARD VERSION\n",
    "\n",
    "(Please note, the EASY VERSION ends up with the same code for doing a Fourier transform, but guides you through how to do it. Consider that version if this is not so easy).\n",
    "\n",
    "Let's consider a stretch of data 16 seconds long, sampled 16 times a second (so 256 samples, or `len(data_time_domain) = 256`). This data is given by a sinusoid. Using the equations above, write a function to compute the Fourier transform of this data. Then inverse Fourier transform the data and verify that you get the original time series. Here we've written the relevant plotting codes, but we have not written the Fourier transform and inverse Fourier transform. That's your task!"
   ]
  },
  {
   "cell_type": "code",
   "execution_count": null,
   "id": "68c51474",
   "metadata": {},
   "outputs": [],
   "source": [
    "# Generic imports\n",
    "%matplotlib inline\n",
    "import matplotlib\n",
    "import matplotlib.pyplot as plt\n",
    "import numpy as np\n",
    "import scipy\n",
    "import scipy.signal"
   ]
  },
  {
   "cell_type": "code",
   "execution_count": null,
   "id": "f70be0ca",
   "metadata": {},
   "outputs": [],
   "source": [
    "omega = 1. * (2*np.pi)\n",
    "data_length = 256\n",
    "sample_rate = 1. / 16.\n",
    "times = np.arange(data_length) * sample_rate\n",
    "data_time_domain = np.cos(times * omega)\n",
    "plt.plot(times,data_time_domain)\n",
    "plt.xlabel('Time (s)')\n",
    "plt.ylabel('Amplitude')"
   ]
  },
  {
   "cell_type": "markdown",
   "id": "7aa571b2",
   "metadata": {},
   "source": [
    "Now, take the discrete Fourier transform equations and plug them in here and run the code on the cell below to check if it works. If you don't know where to start with this, go to the easier version and we will guide you through it!"
   ]
  },
  {
   "cell_type": "code",
   "execution_count": null,
   "id": "d883c391",
   "metadata": {},
   "outputs": [],
   "source": [
    "def compute_fourier_transform(data_time_domain):\n",
    "    # FILL IN THE MISSING CODE\n",
    "    return data_frequency_domain\n",
    "\n",
    "def compute_inverse_fourier_transform(data_frequency_domain):\n",
    "    # FILL IN THE MISSING CODE\n",
    "    return data_time_domain / N\n"
   ]
  },
  {
   "cell_type": "code",
   "execution_count": null,
   "id": "6c545867",
   "metadata": {},
   "outputs": [],
   "source": [
    "# Here's how you would plot the Fourier transformed data. \n",
    "frequencies = np.arange(256) * (1./(data_length*sample_rate))\n",
    "data_frequency_domain = compute_fourier_transform(data_time_domain)\n",
    "plt.plot(frequencies, data_frequency_domain.real)\n",
    "plt.plot(frequencies, data_frequency_domain.imag) # This is complex, so need two lines\n",
    "plt.title('Fourier Transform')\n",
    "plt.xlabel('Frequency (Hz)')\n",
    "plt.ylabel('Amplitude')\n",
    "plt.legend(['Real component','Imag component'])\n",
    "\n",
    "# Make sure that the inverted data is equal to the original data!\n",
    "plt.figure()\n",
    "data_time_domain_inverted = compute_inverse_fourier_transform(data_frequency_domain)\n",
    "plt.plot(times, data_time_domain_inverted.real, 'k-')\n",
    "plt.plot(times, data_time_domain_inverted.imag, 'b-') # This is complex, so need two lines\n",
    "plt.plot(times, data_time_domain, 'r:')\n",
    "plt.title('Original data (hopefully)')\n",
    "plt.xlabel('Time (s)')\n",
    "plt.ylabel('Amplitude')\n",
    "plt.legend(['Real component','Imag component', 'Original data'])\n"
   ]
  }
 ],
 "metadata": {
  "kernelspec": {
   "display_name": "Python 3 (ipykernel)",
   "language": "python",
   "name": "python3"
  },
  "language_info": {
   "codemirror_mode": {
    "name": "ipython",
    "version": 3
   },
   "file_extension": ".py",
   "mimetype": "text/x-python",
   "name": "python",
   "nbconvert_exporter": "python",
   "pygments_lexer": "ipython3",
   "version": "3.9.12"
  }
 },
 "nbformat": 4,
 "nbformat_minor": 5
}
