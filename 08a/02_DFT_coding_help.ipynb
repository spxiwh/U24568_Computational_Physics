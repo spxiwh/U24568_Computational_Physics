{
 "cells": [
  {
   "cell_type": "markdown",
   "id": "d0efc06a",
   "metadata": {},
   "source": [
    "# Discrete Fourier Transforms - What we need to remember for coding\n",
    "\n",
    "Here we again introduce what a discrete Fourier transform is. This is *not* a replacement for the videos above, but a supplement to it.\n",
    "\n",
    "Any time series $x(t)$ can be sampled as a set of discrete points $x[t_n]$ or $x_n$ for short. This is often necessary in the real world where, for example, we are measuring a quantity 100 times every second obtaining a discretely sampled representation of the thing being measured.\n",
    "\n",
    "Like Fourier transforms of continuous data, a discretely sample times series $x_n$ can be represented as the sum of a set of sine waves with different frequencies and amplitudes. $X[f_k]$ or $X_k$ for short represents the amplitudes and phases as a function of the sine wave frequency (denoted k). To represent a time series of length N we need N independent variables.\n",
    "\n",
    "The Fourier transform is used to express $X_k$ in terms of $x_n$. It is given by:\n",
    "\n",
    "$X_k = \\sum_{n=0}^{N-1} x_n \\left[ \\cos({2 \\pi k n / N}) - i \\sin({2 \\pi k n / N}) \\right]$\n",
    "\n",
    "Likewise the inverse Fourier transform is used to obtain $x_n$ from $X_k$. It is given by:\n",
    "\n",
    "$x_n = \\frac{1}{N} \\sum_{k=0}^{N-1} X_k \\left[ \\cos({2 \\pi k n / N}) + i \\sin({2 \\pi k n / N}) \\right]$\n",
    "\n",
    "In the general case both $x[t_n]$ and $X[f_k]$ are sequences of complex numbers **with the same length**. However, often we will be dealing with time series of real data. In this case there is symmetry in the Frequency-domain representation such that\n",
    "\n",
    "$X_{N-j} = X_J^{*}$\n",
    "\n",
    "In this case, because of the symmetry, you only need the values up to $X_{N/2}$ to fully define the Fourier transform of $x_n$. The frequency corresponding to $k=N/2$ is the \"Nyquist frequency\".\n",
    "\n",
    "Enough math, let's demonstrate this.\n"
   ]
  }
 ],
 "metadata": {
  "kernelspec": {
   "display_name": "Python 3 (ipykernel)",
   "language": "python",
   "name": "python3"
  },
  "language_info": {
   "codemirror_mode": {
    "name": "ipython",
    "version": 3
   },
   "file_extension": ".py",
   "mimetype": "text/x-python",
   "name": "python",
   "nbconvert_exporter": "python",
   "pygments_lexer": "ipython3",
   "version": "3.9.12"
  }
 },
 "nbformat": 4,
 "nbformat_minor": 5
}
