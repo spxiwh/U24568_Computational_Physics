{
 "cells": [
  {
   "cell_type": "markdown",
   "id": "26f043ee",
   "metadata": {},
   "source": [
    "# Aliasing exercises\n",
    "\n",
    "* Sample a 4000Hz sine wave at 300Hz. What frequency does it have now? Fourier transform this data to confirm.\n",
    "* Sample a 4000Hz sine wave at 250Hz. What frequency does it have now? Fourier transform this data to confirm.\n",
    "* Create a dataset consisting of sine waves at 150Hz, 250Hz, 350 Hz, and 450Hz (randomly choose the phase). Sample this data at 65Hz. What is the frequency content of this aliased output?"
   ]
  },
  {
   "cell_type": "code",
   "execution_count": null,
   "id": "e58c0dab",
   "metadata": {},
   "outputs": [],
   "source": []
  }
 ],
 "metadata": {
  "kernelspec": {
   "display_name": "Python 3 (ipykernel)",
   "language": "python",
   "name": "python3"
  },
  "language_info": {
   "codemirror_mode": {
    "name": "ipython",
    "version": 3
   },
   "file_extension": ".py",
   "mimetype": "text/x-python",
   "name": "python",
   "nbconvert_exporter": "python",
   "pygments_lexer": "ipython3",
   "version": "3.9.12"
  }
 },
 "nbformat": 4,
 "nbformat_minor": 5
}
