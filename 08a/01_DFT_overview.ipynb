{
 "cells": [
  {
   "cell_type": "markdown",
   "id": "8e353f29",
   "metadata": {},
   "source": [
    "# Discrete Fourier Transforms - What is a Fourier transform?\n",
    "\n",
    "In this notebook we will be using Fourier transforms, exploring how we would code a Fourier transform and exploring how these can often provide a better way of visualizing data, in this case time-series data. In the field of signal-processing (which we will be exploring for coursework 2!) these can be incredibly powerful tool for being able to see signals buried in noise.\n",
    "\n",
    "We will demonstrate all of this with code, and provide our own brief introduction here, but it is very beneficial to understand the theory behind this. In other modules (though this may depend on option choices) you should have already encountered Fourier transforms. However, to give an introduction to what these are there is some background watching for this notebook:\n",
    "\n",
    "* https://www.youtube.com/watch?v=spUNpyF58BY&ab_channel=3Blue1Brown < An Introduction to Fourier transforms by YouTuber 3Blue1Brown\n",
    "* https://www.youtube.com/watch?v=kP02nBNtjrU&ab_channel=LookingGlassUniverse < An introduction to Fourier series by YouTuber LookingGlassUniverse (part 1 of 2)\n",
    "* https://www.youtube.com/watch?v=Xxut2PN-V8Q&ab_channel=LookingGlassUniverse < An introduction to Fourier series by YouTuber LookingGlassUniverse (part 2 of 2) \n",
    "* https://moodle.port.ac.uk/mod/lti/view.php?id=2166844 < An Introduction to Fourier series by Ian.\n",
    "\n",
    "Please do watch over these in advance of the lecture!"
   ]
  }
 ],
 "metadata": {
  "kernelspec": {
   "display_name": "Python 3 (ipykernel)",
   "language": "python",
   "name": "python3"
  },
  "language_info": {
   "codemirror_mode": {
    "name": "ipython",
    "version": 3
   },
   "file_extension": ".py",
   "mimetype": "text/x-python",
   "name": "python",
   "nbconvert_exporter": "python",
   "pygments_lexer": "ipython3",
   "version": "3.9.12"
  }
 },
 "nbformat": 4,
 "nbformat_minor": 5
}
