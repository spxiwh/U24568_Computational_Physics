{
 "cells": [
  {
   "cell_type": "markdown",
   "id": "b2a71d14",
   "metadata": {},
   "source": [
    "# Discrete Fourier Transforms - Further Exercises - SOLUTION"
   ]
  },
  {
   "cell_type": "code",
   "execution_count": null,
   "id": "d8d97595",
   "metadata": {},
   "outputs": [],
   "source": [
    "%matplotlib inline\n",
    "import matplotlib\n",
    "import matplotlib.pyplot as plt\n",
    "import numpy as np\n",
    "import scipy\n",
    "import scipy.signal"
   ]
  },
  {
   "cell_type": "markdown",
   "id": "638e5e1c",
   "metadata": {},
   "source": [
    "Copy your Fourier transform functions into the box below"
   ]
  },
  {
   "cell_type": "code",
   "execution_count": null,
   "id": "d4027167",
   "metadata": {},
   "outputs": [],
   "source": [
    "def compute_fourier_transform(data_time_domain):\n",
    "    # FILL IN THE MISSING CODE\n",
    "    return data_frequency_domain\n",
    "\n",
    "def compute_inverse_fourier_transform(data_frequency_domain):\n",
    "    # FILL IN THE MISSING CODE\n",
    "    return data_time_domain / N\n",
    "\n"
   ]
  },
  {
   "cell_type": "markdown",
   "id": "806da1ad",
   "metadata": {},
   "source": [
    "## Exercise 1.2: Fourier transform the following data\n",
    "\n",
    "Fourier transform, and inverse Fourier transform, the following 4 datasets (`data_time_domain_CASE_1`, `data_time_domain_CASE_2`, `data_time_domain_CASE_3` and `data_time_domain_CASE_4`)? What do you notice about the Fourier transforms in each case? For each case you should\n",
    "\n",
    "* Plot the original data\n",
    "* Fourier transform the data, using your hand-written routine, and plot that.\n",
    "* Inverse Fourier transform, using your routine, and plot that.\n",
    "* Comment in-line what you notice about each case. Discuss with classmates and/or TAs and the lecturer."
   ]
  },
  {
   "cell_type": "code",
   "execution_count": null,
   "id": "a33830fc",
   "metadata": {},
   "outputs": [],
   "source": [
    "omega = 1. * (2*np.pi)\n",
    "sample_rate = 1. / 16.\n",
    "times = np.arange(256) * sample_rate\n",
    "\n",
    "data_time_domain = np.cos(times * omega)\n",
    "data_time_domain_CASE_1 = np.sin(times * omega)\n",
    "\n",
    "data_time_domain_CASE_2 = np.sin(times * omega) + np.cos(times*2*omega) + np.sin(times*3*omega)\n",
    "\n",
    "np.random.seed(1959)\n",
    "data_time_domain_CASE_3 = np.random.normal(size=256)\n",
    "\n",
    "data_time_domain_CASE_4 = np.zeros(256)\n",
    "data_time_domain_CASE_4[3] = 1."
   ]
  },
  {
   "cell_type": "code",
   "execution_count": 2,
   "id": "96ad136e",
   "metadata": {},
   "outputs": [],
   "source": [
    "# Add many plots here. The 4 data you want to run on are:\n",
    "# data_time_domain_CASE_1\n",
    "# data_time_domain_CASE_2\n",
    "# data_time_domain_CASE_3\n",
    "# data_time_domain_CASE_4\n",
    "\n"
   ]
  },
  {
   "cell_type": "markdown",
   "id": "11dc2d9f",
   "metadata": {},
   "source": [
    "## Exercise 1.3:\n",
    "\n",
    "What is the computational complexity of your algorithm? This means, if I make the input vector twice as big (or three times as big or ...) and plot how long the algorithm takes to run what shape does it follow. We can use the build in ipython function `timeit` to evaluate this.\n",
    "\n",
    "*Plot the output from the timeit commands below, how does the speed of your code scale as the length of the input increases?*"
   ]
  },
  {
   "cell_type": "code",
   "execution_count": null,
   "id": "fd7a64db",
   "metadata": {},
   "outputs": [],
   "source": [
    "# This will time your function for a set of lengths. You need to run this, plot the data that comes out and\n",
    "# examine the resulting curve. Does it follow a y = a * x**2 + b * x + c curve?\n",
    "\n",
    "# WARNING: These data sets are longer than 256 samples. Make sure your Fourier transform function can handle that! \n",
    "data_time_domain_CASE_3 = np.random.normal(size=256)\n",
    "%timeit -n 2 -r 2 compute_fourier_transform(data_time_domain_CASE_3)\n",
    "data_time_domain_CASE_3 = np.random.normal(size=256*2)\n",
    "%timeit -n 2 -r 2 compute_fourier_transform(data_time_domain_CASE_3)\n",
    "data_time_domain_CASE_3 = np.random.normal(size=256*3)\n",
    "%timeit -n 2 -r 2 compute_fourier_transform(data_time_domain_CASE_3)\n",
    "data_time_domain_CASE_3 = np.random.normal(size=256*4)\n",
    "%timeit -n 2 -r 2 compute_fourier_transform(data_time_domain_CASE_3)\n",
    "data_time_domain_CASE_3 = np.random.normal(size=256*5)\n",
    "%timeit -n 2 -r 2 compute_fourier_transform(data_time_domain_CASE_3)\n",
    "data_time_domain_CASE_3 = np.random.normal(size=256*6)\n",
    "%timeit -n 2 -r 2 compute_fourier_transform(data_time_domain_CASE_3)\n",
    "data_time_domain_CASE_3 = np.random.normal(size=256*7)\n",
    "%timeit -n 2 -r 2 compute_fourier_transform(data_time_domain_CASE_3)\n",
    "data_time_domain_CASE_3 = np.random.normal(size=256*8)\n",
    "%timeit -n 2 -r 2 compute_fourier_transform(data_time_domain_CASE_3)\n",
    "data_time_domain_CASE_3 = np.random.normal(size=256*9)\n",
    "%timeit -n 2 -r 2 compute_fourier_transform(data_time_domain_CASE_3)"
   ]
  },
  {
   "cell_type": "markdown",
   "id": "d0dca2bf",
   "metadata": {},
   "source": [
    "## Exercise 1.4:\n",
    "\n",
    "Use library functions to perform a Fourier transform. There are a few ways of doing this, but the simplest (IMO) is to use numpy to call into the FFTW algorithm. The FFTW algorithm has N log N complexity, so much faster for large Fourier transforms (FFT = Fast Fourier Transform, FFTW is a specific algorithm and stands for \"Fastest Fourier Transform in the West\"). Here you must first demonstrate this on the original data stream.\n"
   ]
  },
  {
   "cell_type": "code",
   "execution_count": null,
   "id": "c66836fb",
   "metadata": {},
   "outputs": [],
   "source": [
    "def compute_fourier_transform_numpy(data_time_domain):\n",
    "    # FILL IN THE MISSING CODE, using the numpy library to perform an FFT. Google how to use it!\n",
    "    return data_frequency_domain\n",
    "\n",
    "def compute_inverse_fourier_transform_numpy(data_frequency_domain):\n",
    "    # FILL IN THE MISSING CODE, using the numpy library to perform an IFFT. Google how to use it!\n",
    "    return data_time_domain\n"
   ]
  },
  {
   "cell_type": "code",
   "execution_count": null,
   "id": "c17a2e35",
   "metadata": {},
   "outputs": [],
   "source": [
    "# Here's an example of using your functions to call numpy's FFT on the first example.\n",
    "omega = 1. * (2*np.pi)\n",
    "data_length = 16\n",
    "sample_rate = 16.\n",
    "times = np.arange(256) / sample_rate\n",
    "frequencies = np.arange(256) * (1./(data_length*sample_rate))\n",
    "data_time_domain = np.cos(times * omega)\n",
    "plt.plot(times,data_time_domain)\n",
    "plt.xlabel('Time (s)')\n",
    "plt.ylabel('Amplitude')\n",
    "\n",
    "data_fourier_domain = compute_fourier_transform_numpy(data_time_domain)\n",
    "plt.figure()\n",
    "plt.plot(frequencies, data_fourier_domain.real)\n",
    "plt.plot(frequencies, data_fourier_domain.imag)\n",
    "plt.title('Fourier Transform')\n",
    "plt.xlabel('Frequency (Hz)')\n",
    "plt.ylabel('Amplitude')\n",
    "plt.legend(['Real component','Imag component'])\n",
    "\n",
    "plt.figure()\n",
    "data_time_domain_inv = compute_inverse_fourier_transform_numpy(data_fourier_domain)\n",
    "plt.plot(times, data_time_domain_inv.real)\n",
    "plt.plot(times, data_time_domain_inv.imag)\n",
    "plt.title('Original data (hopefully)')\n",
    "plt.xlabel('Time (s)')\n",
    "plt.ylabel('Amplitude')\n",
    "plt.legend(['Real component','Imag component'])"
   ]
  },
  {
   "cell_type": "markdown",
   "id": "748d429f",
   "metadata": {},
   "source": [
    "### More tasks for you\n",
    "\n",
    "* Use numpy's FFT algorithm on the other data streams.\n",
    "* Time numpy's FFT algorithm and compare to your algorithm"
   ]
  },
  {
   "cell_type": "code",
   "execution_count": null,
   "id": "6d9025f1",
   "metadata": {},
   "outputs": [],
   "source": []
  }
 ],
 "metadata": {
  "kernelspec": {
   "display_name": "Python 3 (ipykernel)",
   "language": "python",
   "name": "python3"
  },
  "language_info": {
   "codemirror_mode": {
    "name": "ipython",
    "version": 3
   },
   "file_extension": ".py",
   "mimetype": "text/x-python",
   "name": "python",
   "nbconvert_exporter": "python",
   "pygments_lexer": "ipython3",
   "version": "3.9.12"
  }
 },
 "nbformat": 4,
 "nbformat_minor": 5
}
