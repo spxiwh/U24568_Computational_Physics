{
 "cells": [
  {
   "cell_type": "markdown",
   "id": "44ef3f45",
   "metadata": {},
   "source": [
    "# Aliasing Summary\n",
    "\n",
    "Aliasing is a problem when discretely sampling data. It can make time-series data at a certain frequency appear at a very different frequency! If possible it is better to sample the data at a higher rate, but this isn't always possible (e.g. streaming music over the internet to someone on dial-up internet). Alternatively you could *remove* the high frequency content (as we will describe in the next notebook), and then downsample the data. If done right, you can *resample* time series, while avoiding aliasing, but is more computationally expensive to do so. This leads in to filtering in our next lecture!"
   ]
  }
 ],
 "metadata": {
  "kernelspec": {
   "display_name": "Python 3 (ipykernel)",
   "language": "python",
   "name": "python3"
  },
  "language_info": {
   "codemirror_mode": {
    "name": "ipython",
    "version": 3
   },
   "file_extension": ".py",
   "mimetype": "text/x-python",
   "name": "python",
   "nbconvert_exporter": "python",
   "pygments_lexer": "ipython3",
   "version": "3.9.12"
  }
 },
 "nbformat": 4,
 "nbformat_minor": 5
}
