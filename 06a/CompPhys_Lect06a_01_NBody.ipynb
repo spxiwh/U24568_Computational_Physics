{
 "cells": [
  {
   "cell_type": "markdown",
   "id": "cebc72ef",
   "metadata": {},
   "source": [
    "# N-body Simulations and More"
   ]
  },
  {
   "cell_type": "code",
   "execution_count": 1,
   "id": "c4c424d1",
   "metadata": {},
   "outputs": [],
   "source": [
    "%matplotlib inline\n",
    "import numpy as np\n",
    "import matplotlib.pyplot as plt\n",
    "from scipy.integrate import odeint\n",
    "\n",
    "# NOTE: All units in SI\n",
    "from scipy.constants import gravitational_constant, au\n",
    "\n",
    "year = 365.25*24*3600 # seconds\n",
    "\n",
    "mass_sun = 1.989e30 # kg\n",
    "mass_earth = 5.972e24 # kg\n",
    "mass_mars = 6.39e23 # kg\n",
    "mass_jupiter = 1.898e27 # kg\n",
    "\n",
    "earth_distance = 1.496e11 # meters\n",
    "mars_distance = 227.9*1.e9 # meters\n",
    "jupiter_distance = 778.57*1.e9 # meters\n",
    "\n",
    "scale_factor = (gravitational_constant*mass_sun*year**2/earth_distance**3)\n",
    "\n",
    "# Masses and distances in our nicely scaled units\n",
    "mE = mass_earth/mass_sun\n",
    "mM = mass_mars/mass_sun\n",
    "mJ = mass_jupiter/mass_sun\n",
    "\n",
    "rE = earth_distance / earth_distance\n",
    "rM = mars_distance / earth_distance\n",
    "rJ = jupiter_distance / earth_distance"
   ]
  },
  {
   "cell_type": "markdown",
   "id": "3acdc28f",
   "metadata": {},
   "source": [
    "## A Realistic Star System\n",
    "\n",
    "Let's now simulate a realistic solar system. We'll include the Sun and a few planets, and they will all have mass and interact.\n",
    "\n",
    "We'll make this entirely general, so it can handle N different objects in 3D. Each object will have six variables associated with it - $(x, y, z, v_x, v_y, v_z)$.\n",
    "\n",
    "Because of the way `odeint` works, we need to store all of the variables in a single 1D array that we'll call `state`. We'll store them in this order in `state`:\n",
    " * positions for object `i`: `6*i` to `6*i+3`\n",
    " * velocities for object `i`: `6*i+3` to `6*i+6`\n",
    "\n",
    "Writing these out every time they're needed would make the code very hard to read and debug. So we'll define some helper functions and a class to help process the data. This is the main point of the notebook - it's not so much about solving the ODEs, it's about being able to process the output.\n",
    "\n",
    "Let's start by defining our derivatives function."
   ]
  },
  {
   "cell_type": "code",
   "execution_count": 2,
   "id": "b8a11eb2",
   "metadata": {},
   "outputs": [],
   "source": [
    "def distance(pos1, pos2):\n",
    "    return np.sqrt(np.sum((pos2-pos1)**2, axis=-1))\n",
    "\n",
    "def deriv(state, t):\n",
    "    derivatives = 0.*state # make an empty array shaped like state\n",
    "    for i in range(len(mass)):\n",
    "        pos1 = state[6*i: 6*i+3]\n",
    "        acc = 0.\n",
    "        for j in range(len(mass)):\n",
    "            if j == i: # Object doesn't interact with itself\n",
    "                continue\n",
    "\n",
    "            pos2 = state[6*j: 6*j+3]\n",
    "\n",
    "            r = distance(pos1, pos2)\n",
    "            vec = pos2 - pos1\n",
    "            acc += scale_factor*mass[j]*vec/r**3\n",
    "\n",
    "        # Derivative of position is velocity\n",
    "        derivatives[6*i: 6*i+3] = state[6*i+3: 6*i+6]\n",
    "        # Derivative of velocity is acceleration\n",
    "        derivatives[6*i+3: 6*i+6] = acc\n",
    "\n",
    "    return derivatives\n"
   ]
  },
  {
   "cell_type": "markdown",
   "id": "a0f99ed8",
   "metadata": {},
   "source": [
    "## Exercise\n",
    "\n",
    "Set up initial conditions for a solar system with the Sun, the Earth, and Jupiter. Remember that the velocity should be $2 \\pi / \\sqrt{r}$ in our nicely scaled units. Solve this for 100 years. Then plot the $x, y$ positions of the three objects over time. What is wrong with the solution?"
   ]
  },
  {
   "cell_type": "code",
   "execution_count": 3,
   "id": "56238c66",
   "metadata": {},
   "outputs": [],
   "source": [
    "mass = np.array([1., mE, mJ])"
   ]
  },
  {
   "cell_type": "code",
   "execution_count": 4,
   "id": "adfe0a36",
   "metadata": {},
   "outputs": [
    {
     "ename": "SyntaxError",
     "evalue": "invalid syntax (3052957143.py, line 1)",
     "output_type": "error",
     "traceback": [
      "\u001b[0;36m  Cell \u001b[0;32mIn[4], line 1\u001b[0;36m\u001b[0m\n\u001b[0;31m    times = # ??\u001b[0m\n\u001b[0m            ^\u001b[0m\n\u001b[0;31mSyntaxError\u001b[0m\u001b[0;31m:\u001b[0m invalid syntax\n"
     ]
    }
   ],
   "source": [
    "times = # ??\n",
    "\n",
    "ic = np.array([])\n",
    "soln = odeint #??"
   ]
  },
  {
   "cell_type": "code",
   "execution_count": null,
   "id": "cb5a2408",
   "metadata": {},
   "outputs": [],
   "source": [
    "# Make the plot here"
   ]
  },
  {
   "cell_type": "markdown",
   "id": "7417aa25",
   "metadata": {},
   "source": [
    "## Exercise\n",
    "\n",
    "The centre of mass is not at rest by default (the total momentum is not zero). Fill in the functions below to calculate position and velocity of each object, then calculate the total momentum\n",
    "\n",
    "$$p_\\mathrm{total} = \\sum\\limits_{i} ~ m_i \\vec{v_i}$$\n",
    "\n",
    "Divide this by the total mass to get the velocity of the center of mass."
   ]
  },
  {
   "cell_type": "code",
   "execution_count": null,
   "id": "a21a271b",
   "metadata": {},
   "outputs": [],
   "source": [
    "def pos(state, i):\n",
    "    \"\"\"The position (3D) of object i\"\"\"\n",
    "    return # ??\n",
    "\n",
    "def vel(state, i):\n",
    "    \"\"\"The velocity (3D) of object i\"\"\"\n",
    "    return # ??\n",
    "\n",
    "def total_momentum(state, mass):\n",
    "    p_sum = 0.\n",
    "    for i in range(len(mass)):\n",
    "        p_sum +=  # ??\n",
    "    return p_sum"
   ]
  },
  {
   "cell_type": "markdown",
   "id": "d5d5e27c",
   "metadata": {},
   "source": [
    "## Exercise\n",
    "\n",
    "Now fill in the function to remove the center of mass motion, make and plot the new solution."
   ]
  },
  {
   "cell_type": "code",
   "execution_count": null,
   "id": "0af7529e",
   "metadata": {},
   "outputs": [],
   "source": [
    "def remove_center_of_mass_motion(state):\n",
    "    new_state = state.copy() # Don't modify the state, create a new one\n",
    "    \n",
    "    # ??\n",
    "\n",
    "    return new_state\n"
   ]
  },
  {
   "cell_type": "code",
   "execution_count": null,
   "id": "3382c9f7",
   "metadata": {},
   "outputs": [],
   "source": [
    "new_ic = remove_center_of_mass_motion(ic)\n",
    "new_ic"
   ]
  },
  {
   "cell_type": "code",
   "execution_count": null,
   "id": "e1d49a63",
   "metadata": {},
   "outputs": [],
   "source": [
    "# Make the plot here"
   ]
  },
  {
   "cell_type": "markdown",
   "id": "02fe82b8",
   "metadata": {},
   "source": [
    "## A class to simplify the analysis\n",
    "\n",
    "Now we want to investigate things like energy conservation. We'll build a class to store the result of the simulation, and add functions to it to calculate the total momentum, total kinetic energy, and total potential energy.\n",
    "\n",
    "$$\\mathrm{KE} = \\sum\\limits_{i} \\frac{1}{2} m_i |\\vec{v_i}|^2$$\n",
    "\n",
    "$$\\mathrm{PE} = - \\sum\\limits_{i<j} \\frac{G m_i m_j}{r_{i,j}}$$\n",
    "\n",
    "The gravitational constant $G$ can be replaced by `scale_factor` in the units we use in the code.\n",
    "\n",
    "When we write the code for these, we need to sum the $|\\vec{v}_i|^2$ over the three dimensions. But there is also a time dimension and we don't want to sum over that. We can do this using the `axis` option in `np.sum`. If we do `np.sum(arr, axis=-1)`, it will only sum over the last dimension of the array, and leave the time dimension alone. It's helpful to check the shapes of the inputs and outputs as you write the functions below."
   ]
  },
  {
   "cell_type": "markdown",
   "id": "94b6b6e1",
   "metadata": {},
   "source": [
    "### Exercise\n",
    "\n",
    "Fill in the class below with functions for total momentum, total kinetic, and total potential energies. Look at the derivatives function for inspiration. This is difficult, so take your time and test your output."
   ]
  },
  {
   "cell_type": "code",
   "execution_count": null,
   "id": "1b14cfb3",
   "metadata": {},
   "outputs": [],
   "source": [
    "class NBody():\n",
    "    def __init__(self, mass, soln):\n",
    "        self.n_obj = len(mass)\n",
    "        self.mass = mass\n",
    "        self.soln = soln\n",
    "    @property\n",
    "    def m_total(self):\n",
    "        return np.sum(mass)\n",
    "    def pos(self, i):\n",
    "        return self.soln[:, 6*i:6*i+3]\n",
    "    def vel(self, i):\n",
    "        return self.soln[:, 6*i+3:6*i+6]\n",
    "    def momentum(self, i):\n",
    "        # ??\n",
    "    \n",
    "    def total_kinetic(self):\n",
    "        # ??\n",
    "    \n",
    "    def total_potential(self):\n",
    "        # ??\n"
   ]
  },
  {
   "cell_type": "markdown",
   "id": "a9ed4597",
   "metadata": {},
   "source": [
    "### Exercise\n",
    "\n",
    "Now load your simulation into the `NBody` class, calculate the total energy, and show that it is conserved. Is the conservation perfect? Does it oscillate?"
   ]
  },
  {
   "cell_type": "code",
   "execution_count": null,
   "id": "2b3f36b0",
   "metadata": {},
   "outputs": [],
   "source": [
    "nb = NBody(mass, soln)"
   ]
  },
  {
   "cell_type": "code",
   "execution_count": null,
   "id": "1a4cc9a1",
   "metadata": {},
   "outputs": [],
   "source": [
    "Ktot = nb.total_kinetic()\n",
    "Vtot = nb.total_potential()"
   ]
  },
  {
   "cell_type": "markdown",
   "id": "9a3b2ab5",
   "metadata": {},
   "source": [
    "### Exercise\n",
    "\n",
    "Now see how long you can run the simulation for. How well is the energy conserved? This is an indication of how accurate the simulation is. Numerical errors will cause the total energy to change."
   ]
  },
  {
   "cell_type": "code",
   "execution_count": null,
   "id": "a3829ec9",
   "metadata": {},
   "outputs": [],
   "source": []
  },
  {
   "cell_type": "markdown",
   "id": "68373280",
   "metadata": {},
   "source": [
    "### Exercise\n",
    "\n",
    "Try decreasing the accuracy of the solver, using the options `rtol` and `atol`. Can you make the simulation run faster by decreasing these? Does using fewer output points in the `times` series make a difference? What's the longest time you can simulate while keeping reasonable accuracy of the total energy?"
   ]
  },
  {
   "cell_type": "code",
   "execution_count": null,
   "id": "24821e6e",
   "metadata": {},
   "outputs": [],
   "source": []
  },
  {
   "cell_type": "markdown",
   "id": "1764a101",
   "metadata": {},
   "source": [
    "## Binary Star Systems"
   ]
  },
  {
   "cell_type": "markdown",
   "id": "f4f7b063",
   "metadata": {},
   "source": [
    "### Exercise\n",
    "\n",
    "Now simulate a binary star system. Start with equal-mass stars. You'll need to change the `mass` array. It will be easy to get an elliptical orbit. You'll be able to see that it's elliptical because the kinetic and potential energies will oscillate (though the sum won't)."
   ]
  },
  {
   "cell_type": "code",
   "execution_count": null,
   "id": "f9ddb3eb",
   "metadata": {},
   "outputs": [],
   "source": []
  },
  {
   "cell_type": "markdown",
   "id": "7915b806",
   "metadata": {},
   "source": [
    "### Exercise\n",
    "\n",
    "Choose the initial velocities that make the orbits circular (meaning that the distance doesn't change over time, or the KE and PE don't oscillate). You can do this by numerically solving for a solution where the distance doesn't vary, or do the calculation analytically. Either way, check your solution."
   ]
  },
  {
   "cell_type": "code",
   "execution_count": null,
   "id": "8b88bbcb",
   "metadata": {},
   "outputs": [],
   "source": []
  },
  {
   "cell_type": "markdown",
   "id": "4b57ab1b",
   "metadata": {},
   "source": [
    "### Exercise\n",
    "\n",
    "Now create and test a binary with unequal masses. Start with a two-to-one ratio, but can you write a function to create the initial conditions for any masses, and any separation? Test that you have circular motion."
   ]
  },
  {
   "cell_type": "code",
   "execution_count": null,
   "id": "0ac46039",
   "metadata": {},
   "outputs": [],
   "source": []
  },
  {
   "cell_type": "markdown",
   "id": "a235710e",
   "metadata": {},
   "source": [
    "### Exercise\n",
    "\n",
    "Now try replacing the Sun with two stars of $0.5 M_\\odot$, in an orbit much smaller than 1 AU. Is the solar system still stable?"
   ]
  },
  {
   "cell_type": "code",
   "execution_count": null,
   "id": "be2f017d",
   "metadata": {},
   "outputs": [],
   "source": []
  },
  {
   "cell_type": "markdown",
   "id": "16c77a45",
   "metadata": {},
   "source": [
    "### Exercise\n",
    "\n",
    "If you have extra time, try experimenting with trinary systems. Put two stars at the center, and one orbiting them both at a larger distance. What kind of solutions can you get?\n",
    "\n",
    "We will not provide a solution to this exercise"
   ]
  },
  {
   "cell_type": "code",
   "execution_count": null,
   "id": "0b029f11",
   "metadata": {},
   "outputs": [],
   "source": []
  }
 ],
 "metadata": {
  "kernelspec": {
   "display_name": "CompPhys2",
   "language": "python",
   "name": "python3"
  },
  "language_info": {
   "codemirror_mode": {
    "name": "ipython",
    "version": 3
   },
   "file_extension": ".py",
   "mimetype": "text/x-python",
   "name": "python",
   "nbconvert_exporter": "python",
   "pygments_lexer": "ipython3",
   "version": "3.10.16"
  }
 },
 "nbformat": 4,
 "nbformat_minor": 5
}
