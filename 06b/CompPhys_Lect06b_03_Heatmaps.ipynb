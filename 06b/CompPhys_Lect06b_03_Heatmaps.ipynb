{
 "cells": [
  {
   "cell_type": "markdown",
   "metadata": {},
   "source": [
    "# Advanced Plotting: Heatmaps\n",
    "\n",
    "We have seen in the scatter plotting examples that colour can be useful to convey information in plotting.\n",
    "Here we extend that thought so that we look at \"heatmaps\", these are generally 2D images which are different colors depending on a third variable of information\n",
    "\n",
    "For example, you may use heatmaps to show:\n",
    "* Population density on a map (2D location, density colour)\n",
    "* Confusion matrices to assess an analysis\n",
    "\n",
    "Note that there are many different colormaps, and some may be better for displaying your data than others, see https://matplotlib.org/stable/gallery/color/colormap_reference.html"
   ]
  },
  {
   "cell_type": "code",
   "execution_count": 1,
   "metadata": {},
   "outputs": [],
   "source": [
    "import matplotlib.pyplot as plt\n",
    "import numpy as np"
   ]
  },
  {
   "cell_type": "markdown",
   "metadata": {},
   "source": [
    "The most simple way to show heat maps is imshow, but it can be inflexible. Note how we do not provide X and Y values"
   ]
  },
  {
   "cell_type": "code",
   "execution_count": 2,
   "metadata": {},
   "outputs": [
    {
     "data": {
      "text/plain": [
       "<matplotlib.image.AxesImage at 0x7fd98ad9e310>"
      ]
     },
     "execution_count": 2,
     "metadata": {},
     "output_type": "execute_result"
    },
    {
     "data": {
      "image/png": "[encoded data removed]",
      "text/plain": [
       "<Figure size 640x480 with 1 Axes>"
      ]
     },
     "metadata": {},
     "output_type": "display_data"
    }
   ],
   "source": [
    "z = np.random.random(size=(3,5))\n",
    "\n",
    "plt.imshow(z)"
   ]
  },
  {
   "cell_type": "markdown",
   "metadata": {},
   "source": [
    "## Exercise\n",
    "\n",
    "Annotate each square in the image with the x,y,z values"
   ]
  },
  {
   "cell_type": "markdown",
   "metadata": {},
   "source": [
    "# Using pcolormesh to set the x and y values\n",
    "\n",
    "Using pcolormesh and numpy's meshgrid, we can set x and y values for the heatmap, which do not have to be equally-spaced\n",
    "\n",
    "Note that where imshow had the y-axis increasing in value as you move down the image, pcolormesh uses standard plotting conventions.\n",
    "\n",
    "The size of each block in the mesh will be dependent on the spacing between datapoints. Each block will split halfway between the data points."
   ]
  },
  {
   "cell_type": "code",
   "execution_count": 3,
   "metadata": {},
   "outputs": [
    {
     "data": {
      "text/plain": [
       "<matplotlib.collections.QuadMesh at 0x7fd98ae4a4f0>"
      ]
     },
     "execution_count": 3,
     "metadata": {},
     "output_type": "execute_result"
    },
    {
     "data": {
      "image/png": "[encoded data removed]",
      "text/plain": [
       "<Figure size 640x480 with 1 Axes>"
      ]
     },
     "metadata": {},
     "output_type": "display_data"
    }
   ],
   "source": [
    "x = np.array([0,1,3,4,12], dtype=float)\n",
    "y = np.array([2,7,8], dtype=float)\n",
    "\n",
    "X,Y = np.meshgrid(x, y)\n",
    "plt.pcolormesh(X,Y, z)"
   ]
  },
  {
   "cell_type": "markdown",
   "metadata": {},
   "source": [
    "## Exercise\n",
    "\n",
    "You have been provided with the dataset `face.csv`. Plot the data as a heatmap:\n",
    "* without any transformation using imshow\n",
    "* without any transformation using pcolormesh\n",
    "* Apply a shear transformation by changing the x coordinates\n"
   ]
  },
  {
   "cell_type": "code",
   "execution_count": 4,
   "metadata": {},
   "outputs": [],
   "source": [
    "face = np.genfromtxt(\"face.csv\")"
   ]
  },
  {
   "cell_type": "code",
   "execution_count": 5,
   "metadata": {},
   "outputs": [],
   "source": [
    "# Without any transformation using imshow"
   ]
  },
  {
   "cell_type": "code",
   "execution_count": 6,
   "metadata": {},
   "outputs": [],
   "source": [
    "# without any transformation using pcolormesh"
   ]
  },
  {
   "cell_type": "code",
   "execution_count": 7,
   "metadata": {},
   "outputs": [],
   "source": [
    "# Apply a shear transformation by changing the x coordinates"
   ]
  }
 ],
 "metadata": {
  "kernelspec": {
   "display_name": "igwn",
   "language": "python",
   "name": "python3"
  },
  "language_info": {
   "codemirror_mode": {
    "name": "ipython",
    "version": 3
   },
   "file_extension": ".py",
   "mimetype": "text/x-python",
   "name": "python",
   "nbconvert_exporter": "python",
   "pygments_lexer": "ipython3",
   "version": "3.9.15"
  }
 },
 "nbformat": 4,
 "nbformat_minor": 2
}
