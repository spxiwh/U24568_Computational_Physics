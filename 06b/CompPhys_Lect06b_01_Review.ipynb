{
 "cells": [
  {
   "cell_type": "markdown",
   "id": "637b876c",
   "metadata": {},
   "source": [
    "# Review and example assessment questions"
   ]
  },
  {
   "cell_type": "code",
   "execution_count": 1,
   "id": "2fdf38ac",
   "metadata": {},
   "outputs": [],
   "source": [
    "%matplotlib inline\n",
    "import matplotlib.pyplot as plt\n",
    "import numpy as np"
   ]
  },
  {
   "cell_type": "markdown",
   "id": "21ac6919",
   "metadata": {},
   "source": [
    "## Lists, Loops, Indices\n",
    "\n",
    "The following code tries to make a list of powers of two, from $2^0$ to $2^{20}$. It doesn't work. Can you fix it?"
   ]
  },
  {
   "cell_type": "code",
   "execution_count": 2,
   "id": "48e55743",
   "metadata": {},
   "outputs": [
    {
     "ename": "NameError",
     "evalue": "name 'powers_of_two' is not defined",
     "output_type": "error",
     "traceback": [
      "\u001b[0;31m---------------------------------------------------------------------------\u001b[0m",
      "\u001b[0;31mNameError\u001b[0m                                 Traceback (most recent call last)",
      "Input \u001b[0;32mIn [2]\u001b[0m, in \u001b[0;36m<module>\u001b[0;34m\u001b[0m\n\u001b[1;32m      1\u001b[0m \u001b[38;5;28;01mfor\u001b[39;00m i \u001b[38;5;129;01min\u001b[39;00m \u001b[38;5;28mrange\u001b[39m(\u001b[38;5;241m20\u001b[39m):\n\u001b[0;32m----> 2\u001b[0m     \u001b[43mpowers_of_two\u001b[49m\u001b[38;5;241m.\u001b[39mappend(\u001b[38;5;241m2\u001b[39m\u001b[38;5;241m*\u001b[39m\u001b[38;5;241m*\u001b[39mi)\n",
      "\u001b[0;31mNameError\u001b[0m: name 'powers_of_two' is not defined"
     ]
    }
   ],
   "source": [
    "# Make this cell run?\n",
    "\n",
    "for i in range(20):\n",
    "    powers_of_two.append(2**i)"
   ]
  },
  {
   "cell_type": "markdown",
   "id": "f4afbc8a",
   "metadata": {},
   "source": [
    "Does it really go to $2^{20}$? Make sure that it does."
   ]
  },
  {
   "cell_type": "code",
   "execution_count": 3,
   "id": "69021017",
   "metadata": {},
   "outputs": [],
   "source": [
    "# Check here"
   ]
  },
  {
   "cell_type": "markdown",
   "id": "b7bd02b6",
   "metadata": {},
   "source": [
    "If instead we want to find all powers of $2$ less than a billion, a `while` loop would be more appropriate. Write that."
   ]
  },
  {
   "cell_type": "code",
   "execution_count": 4,
   "id": "f9c7676e",
   "metadata": {},
   "outputs": [],
   "source": [
    "# Answer goes here"
   ]
  },
  {
   "cell_type": "markdown",
   "id": "e95e2cf2",
   "metadata": {},
   "source": [
    "## Pythagorean Triples\n",
    "\n",
    "Find all of the natural numbers $a$, $b$, and $c$ which satisfy $a^2 + b^2 = c^2$. The simplest example is $3^2 + 4^2 = 5^2$. You can simplify things by only considering $b <= a$, since swapping $a$ and $b$ obviously also gives a solution.\n",
    "\n",
    "How high in $a$ and $b$ can you search in a reasonable time?"
   ]
  },
  {
   "cell_type": "code",
   "execution_count": null,
   "id": "b1a232db",
   "metadata": {},
   "outputs": [],
   "source": []
  },
  {
   "cell_type": "code",
   "execution_count": null,
   "id": "407d0222",
   "metadata": {},
   "outputs": [],
   "source": []
  },
  {
   "cell_type": "markdown",
   "id": "1206107c",
   "metadata": {},
   "source": [
    "Challenge: Modify your code to store the tuples `(a, b, c)`, then sort them by $c$ before printing them out."
   ]
  },
  {
   "cell_type": "code",
   "execution_count": null,
   "id": "d90e69cd",
   "metadata": {},
   "outputs": [],
   "source": []
  },
  {
   "cell_type": "markdown",
   "id": "8756ae25",
   "metadata": {},
   "source": [
    "## A Line Class\n",
    "\n",
    "Define a class `Line`. It should be initialised with slope and intercept (you can call them $m$ and $b$ for short), and store those. The equation of a line will be $y = m x + b$. \n",
    "\n",
    "Now define a method for this class `.intersect(other)`. Here `other` will be another instance of a `Line`. The method returns the `(x, y)` point where that line intersects this one. The formulas for that point are\n",
    "\n",
    "$$x = \\frac{b_2 - b_1}{m_1 - m_2}$$\n",
    "\n",
    "$$y = \\frac{b_2 m_1 - b_1 m_2}{m_1 - m_2}$$\n",
    "\n",
    "Hint: When implementing formulas, it's usually easiest to first define variables with short names like `b1`, `m1`, `b2`, and `m2`. Otherwise, you'll have formulas with many terms like `self.m` and `other.m`.\n",
    "\n",
    "Don't forget to test your code by making two instances of `Line` and finding their intersection. Does it matter whether you intersect 1 with 2 or 2 with 1?"
   ]
  },
  {
   "cell_type": "code",
   "execution_count": null,
   "id": "459d23b1",
   "metadata": {},
   "outputs": [],
   "source": []
  },
  {
   "cell_type": "code",
   "execution_count": null,
   "id": "4d252fd1",
   "metadata": {},
   "outputs": [],
   "source": []
  },
  {
   "cell_type": "markdown",
   "id": "44766666",
   "metadata": {},
   "source": [
    "## Binomial Coefficient - Using Recursion, Dictionaries and Tuples\n",
    "\n",
    "The binomial coefficient counts the number of ways to choose $k$ items from a set of $n$ possible items, without replacement and ignoring order. This is usually notated as ${n \\choose k}$. There's a recursive formula for this function, \n",
    "\n",
    "$${n \\choose k} = {n-1 \\choose k-1} + {n-1 \\choose k} ~.$$\n",
    "\n",
    "This is also known as Pascal's triangle (see this [Wikipedia entry](https://en.wikipedia.org/wiki/Pascal%27s_triangle)).\n",
    "\n",
    "Recall that for recursion, we need a base case (or base cases). In this case, we have both\n",
    "\n",
    "$${n \\choose 0} = 1 ~ \\mathrm{and} ~ {n \\choose n} = 1 ~.$$\n",
    "\n",
    "In words, there's only one way to choose either no items, or all of the items.\n",
    "\n",
    "Write a recursive function `binom(n, k)` which implements this. Remember, the function should first check whether it's being called on the base case, and if so return the known answer. Otherwise, it should call itself in the form of the equation above, and build the answer out of that.\n",
    "\n",
    "Some test cases are: ${n \\choose 1} = {n \\choose n-1} = n$, ${4 \\choose 2} = 6$, and ${5 \\choose 2} = {5 \\choose 3} = 10$."
   ]
  },
  {
   "cell_type": "code",
   "execution_count": null,
   "id": "7aa5b281",
   "metadata": {},
   "outputs": [],
   "source": []
  },
  {
   "cell_type": "code",
   "execution_count": null,
   "id": "d61baf9b",
   "metadata": {},
   "outputs": [],
   "source": []
  },
  {
   "cell_type": "markdown",
   "id": "354a2151",
   "metadata": {},
   "source": [
    "This can be quite slow for large $n$, so we might use a dictionary to \"memoize\" it. Outside the function, define an empty dictionary called `memo`. Then make two modifications:\n",
    " 1. When called, check the dictionary to see if it has an entry for the tuple `(n, k)`. If it does, return that.\n",
    " 1. If not, do the usual recursive step. But before returning the answer, first enter the answer in the dictionary with the key `(n, k)`. Then return it.\n",
    " \n",
    "By doing this, any time the function is called with a certain `(n, k)`, it will remember the answer, and it won't have to do the work next time. The function will get faster the more it is used.\n",
    "\n",
    "Define a function `binom_m` which modifies your previous answer, and test it."
   ]
  },
  {
   "cell_type": "code",
   "execution_count": null,
   "id": "6f88eef1",
   "metadata": {},
   "outputs": [],
   "source": []
  },
  {
   "cell_type": "markdown",
   "id": "c52f7582",
   "metadata": {},
   "source": [
    "Python has some nice functionality to automate \"memoization\", ask us about this."
   ]
  },
  {
   "cell_type": "code",
   "execution_count": null,
   "id": "2aa4dc26",
   "metadata": {},
   "outputs": [],
   "source": []
  },
  {
   "cell_type": "code",
   "execution_count": null,
   "id": "472acd26",
   "metadata": {},
   "outputs": [],
   "source": []
  },
  {
   "cell_type": "markdown",
   "id": "29057da6",
   "metadata": {},
   "source": [
    "## Pandas and data manipulation\n",
    "\n",
    "1. Create a dataframe for this data:\n",
    "\n",
    "    Animal   | Height | Weight\n",
    "    Cat      | 30     | 5\n",
    "    Dog      | 45     | 20\n",
    "    Elephant | 200    | 4000\n",
    "    Monkey   | 60     | 5 \n",
    "    Tiger    | 100    | 250\n",
    "\n",
    "2. Sort it by Weight and print the names of the animals in Weight order.\n",
    "\n",
    "3. Remove the row contaning Elephant.\n",
    "\n",
    "4. Split Monkey and Tiger into a separate dataframe.\n",
    "\n",
    "5. Join the two remaining dataframes back together."
   ]
  },
  {
   "cell_type": "code",
   "execution_count": null,
   "id": "0ad27648",
   "metadata": {},
   "outputs": [],
   "source": []
  },
  {
   "cell_type": "code",
   "execution_count": null,
   "id": "31d95fa5",
   "metadata": {},
   "outputs": [],
   "source": []
  }
 ],
 "metadata": {
  "kernelspec": {
   "display_name": "Python 3 (ipykernel)",
   "language": "python",
   "name": "python3"
  },
  "language_info": {
   "codemirror_mode": {
    "name": "ipython",
    "version": 3
   },
   "file_extension": ".py",
   "mimetype": "text/x-python",
   "name": "python",
   "nbconvert_exporter": "python",
   "pygments_lexer": "ipython3",
   "version": "3.9.7"
  }
 },
 "nbformat": 4,
 "nbformat_minor": 5
}
