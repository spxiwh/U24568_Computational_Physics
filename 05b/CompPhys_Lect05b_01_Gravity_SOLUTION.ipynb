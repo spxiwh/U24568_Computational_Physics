{
 "cells": [
  {
   "cell_type": "markdown",
   "id": "cc53bb8f",
   "metadata": {},
   "source": [
    "# Gravity!\n",
    "\n",
    "Continuing from the previous notebook, now we're going to try a more difficult problem: gravity! We'll do this in two dimensions for simplicity, though we could also do it in three dimensions. We've now got more variables than before. It's still ordinary differential equations though. The only derivative is a time derivative.\n",
    "\n",
    "Now we want to solve a vector equation:\n",
    "\n",
    "$$\\vec{F~} = - \\frac{G~M~m}{r^2} \\hat{r~}$$\n",
    "\n",
    "We'll take this to be the force on $m$, so $F = m a$. In terms of the unnormalized vector $\\vec{r~}$, we have\n",
    "\n",
    "$$\\vec{a~} = - \\frac{G~M}{r^2} \\frac{\\vec{r~}}{r}$$\n",
    "\n",
    "where $r$ is the length of $\\vec{r~}$."
   ]
  },
  {
   "cell_type": "markdown",
   "id": "79694e0d",
   "metadata": {},
   "source": [
    "So how do we put this into the form scipy expects? We define the position of the little object by\n",
    "$$\\vec{r~} = (x, y)$$\n",
    "Then the length is\n",
    "$$r = \\sqrt{x^2 + y^2}$$\n",
    "We have second-order differential equations for both $x$ and $y$. We need four variables $x$, $y$, $v_x$, $v_y$.\n",
    "\n",
    "We also need to rescale our variables. Kilograms, meters, and seconds aren't great for describing orbits. We'll get a lot of huge numbers. Let's define a rescaling:\n",
    "$$t = T~\\tau$$\n",
    "$$r = R~\\rho$$\n",
    "So the differential equation looks something like\n",
    "$$\\frac{d^2 r}{d t^2} = \\frac{R}{T^2} \\frac{d^2 \\rho}{d \\tau^2} = - \\frac{G~M}{(R~\\rho)^2}$$\n",
    "or\n",
    "$$\\frac{d^2 \\rho}{d \\tau^2} = - \\left( \\frac{G~M~T^2}{R^3}\\right) ~ \\frac{1}{\\rho^2}$$\n",
    "All the units have been collected into one single factor. If we choose $R = 1~\\mathrm{AU}$ and $T = 1~\\mathrm{yr}$, and set $M$ to the mass of the Sun, this factor becomes a nice number close to $1$."
   ]
  },
  {
   "cell_type": "code",
   "execution_count": 1,
   "id": "06ddf932",
   "metadata": {},
   "outputs": [],
   "source": [
    "%matplotlib inline\n",
    "import numpy as np\n",
    "import matplotlib.pyplot as plt\n",
    "from scipy.integrate import odeint\n",
    "\n",
    "# In addition to the imports, we'll also import some constants\n",
    "# And also define our own\n",
    "# NOTE: All units in SI\n",
    "from scipy.constants import gravitational_constant, au\n",
    "\n",
    "year = 365.25*24*3600 # seconds\n",
    "\n",
    "mass_sun = 1.989e30 # kg\n",
    "\n",
    "earth_distance = 1.496e11 # meters\n",
    "# The Earth distance is also defined as 1 AU\n",
    "mars_distance = 227.9*1.e9 # meters\n",
    "jupiter_distance = 778.57*1.e9 # meters"
   ]
  },
  {
   "cell_type": "markdown",
   "id": "858890eb",
   "metadata": {},
   "source": [
    "## Exercise\n",
    "\n",
    "We've just defined several useful constants. Use them to determine the constant $\\frac{G~M~T^2}{R^3}$. Call the variable `scale_factor`."
   ]
  },
  {
   "cell_type": "code",
   "execution_count": 2,
   "id": "0e5d8017",
   "metadata": {},
   "outputs": [
    {
     "data": {
      "text/plain": [
       "np.float64(6.283998929838098)"
      ]
     },
     "execution_count": 2,
     "metadata": {},
     "output_type": "execute_result"
    }
   ],
   "source": [
    "scale_factor = gravitational_constant * mass_sun * year ** 2 / au ** 3\n",
    "\n",
    "# Note that the scale_factor is (2pi)^2\n",
    "# which is related to the circular motion\n",
    "np.sqrt(scale_factor)"
   ]
  },
  {
   "cell_type": "markdown",
   "id": "8488e3a1",
   "metadata": {},
   "source": [
    "Now we're ready to define the gravitational acceleration and start some calculations. Read the explanation above carefully, then\n",
    "\n",
    "## Exercise\n",
    "\n",
    "Complete the derivatives function below."
   ]
  },
  {
   "cell_type": "code",
   "execution_count": 3,
   "id": "01e67157",
   "metadata": {},
   "outputs": [],
   "source": [
    "# Gravitational acceleration in 2D\n",
    "\n",
    "def grav_derivs(state, t):\n",
    "    x, y, vx, vy = state\n",
    "    \n",
    "    r =  (x ** 2 + y ** 2) ** 0.5 # Calculate the distance from x and y\n",
    "    acc =  - scale_factor / r ** 2 # Calculate the magnitude of the acceleration\n",
    "    acc_x =  acc * x / r # Calculate the vector components of the acceleration\n",
    "    acc_y =  acc * y / r # Calculate the vector components of the acceleration\n",
    "    \n",
    "    return (vx, vy, acc_x, acc_y)"
   ]
  },
  {
   "cell_type": "markdown",
   "id": "146efae8",
   "metadata": {},
   "source": [
    "## Exercise\n",
    "\n",
    "Read the two cells of code below. The equation is being solved. Answer the following questions:\n",
    " 1. For what length of time is the orbit being solved?\n",
    " 1. What is the starting position of the planet?\n",
    " 1. What is the starting velocity?\n",
    " 1. What kind of orbit do you expect?\n",
    "Write brief answers, then run the code and see if you're correct. You may need to debug your derivatives function."
   ]
  },
  {
   "cell_type": "code",
   "execution_count": 4,
   "id": "08d42807",
   "metadata": {},
   "outputs": [],
   "source": [
    "times = np.linspace(0., 0.3, 100000)\n",
    "r_init = (1, 0., 0., 1) # Starting values at t = 0\n",
    "rarr = odeint(grav_derivs, r_init, times)"
   ]
  },
  {
   "cell_type": "markdown",
   "id": "ba3b21fc",
   "metadata": {},
   "source": [
    "Answers:\n",
    " 1. The orbit is being calculated for 0.3 years, in steps of around 95 seconds\n",
    " 1. The starting position of the planet is at x=1, y=0 (AU)\n",
    " 1. The starting velocity is vx=0, vy=1 (AU / year)\n",
    " 1. The velocity is less than 2 $\\pi$ AU / year, so I expect this to be an elliptical orbit. This could possibly be a plunge, however as we have not defined a collision criterion, so it would revert to being elliptical with a very close perihelion."
   ]
  },
  {
   "cell_type": "code",
   "execution_count": 5,
   "id": "090ef802",
   "metadata": {},
   "outputs": [
    {
     "data": {
      "image/png": "[encoded data removed]",
      "text/plain": [
       "<Figure size 800x800 with 1 Axes>"
      ]
     },
     "metadata": {},
     "output_type": "display_data"
    }
   ],
   "source": [
    "plt.figure(figsize=(8,8))\n",
    "plt.scatter(rarr[:,0], rarr[:,1], s=5)\n",
    "plt.scatter(0., 0., c='y', s=50)\n",
    "plt.gca().set_aspect('equal', 'datalim')"
   ]
  },
  {
   "cell_type": "code",
   "execution_count": 6,
   "id": "73e6fe13",
   "metadata": {},
   "outputs": [],
   "source": [
    "# Your answer here!"
   ]
  },
  {
   "cell_type": "code",
   "execution_count": null,
   "id": "5b31edb4",
   "metadata": {},
   "outputs": [],
   "source": []
  }
 ],
 "metadata": {
  "kernelspec": {
   "display_name": "CompPhys2",
   "language": "python",
   "name": "python3"
  },
  "language_info": {
   "codemirror_mode": {
    "name": "ipython",
    "version": 3
   },
   "file_extension": ".py",
   "mimetype": "text/x-python",
   "name": "python",
   "nbconvert_exporter": "python",
   "pygments_lexer": "ipython3",
   "version": "3.10.16"
  }
 },
 "nbformat": 4,
 "nbformat_minor": 5
}
