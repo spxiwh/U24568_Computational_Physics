{
 "cells": [
  {
   "cell_type": "markdown",
   "id": "930849c7",
   "metadata": {},
   "source": [
    "# Mission to Mars\n",
    "\n",
    "Now let's try to plan a mission from Earth to Mars. Define a third object, a spacecraft. Give it the same initial position as Earth, but slightly more velocity.\n",
    "\n"
   ]
  },
  {
   "cell_type": "code",
   "execution_count": 1,
   "id": "cfdef129",
   "metadata": {},
   "outputs": [],
   "source": [
    "%matplotlib inline\n",
    "import numpy as np\n",
    "import matplotlib.pyplot as plt\n",
    "from scipy.integrate import odeint\n",
    "\n",
    "# In addition to the imports, we'll also import some constants\n",
    "# And also define our own\n",
    "# NOTE: All units in SI\n",
    "from scipy.constants import gravitational_constant, au\n",
    "\n",
    "year = 365.25*24*3600 # seconds\n",
    "\n",
    "mass_sun = 1.989e30 # kg\n",
    "\n",
    "earth_distance = 1.496e11 # meters\n",
    "# The Earth distance is also defined as 1 AU\n",
    "mars_distance = 227.9*1.e9 # meters\n",
    "jupiter_distance = 778.57*1.e9 # meters"
   ]
  },
  {
   "cell_type": "markdown",
   "id": "0145f197",
   "metadata": {},
   "source": [
    "## Define your function from before\n",
    "\n",
    "Please paste your `grav_derivs` function from before into here"
   ]
  },
  {
   "cell_type": "code",
   "execution_count": 2,
   "id": "a19266ce",
   "metadata": {},
   "outputs": [
    {
     "ename": "SyntaxError",
     "evalue": "invalid syntax (479395606.py, line 5)",
     "output_type": "error",
     "traceback": [
      "\u001b[0;36m  Input \u001b[0;32mIn [2]\u001b[0;36m\u001b[0m\n\u001b[0;31m    r =  # Calculate the distance from x and y\u001b[0m\n\u001b[0m         ^\u001b[0m\n\u001b[0;31mSyntaxError\u001b[0m\u001b[0;31m:\u001b[0m invalid syntax\n"
     ]
    }
   ],
   "source": [
    "# Gravitational acceleration in 2D\n",
    "def grav_derivs(state, t):\n",
    "    x, y, vx, vy = state\n",
    "    \n",
    "    r =  # Calculate the distance from x and y\n",
    "    acc =  # Calculate the magnitude of the acceleration\n",
    "    acc_x =  # Calculate the vector components of the acceleration\n",
    "    acc_y =  # Calculate the vector components of the acceleration\n",
    "    \n",
    "    return (vx, vy, acc_x, acc_y)"
   ]
  },
  {
   "cell_type": "markdown",
   "id": "fab2d02a",
   "metadata": {},
   "source": [
    "## Exercise\n",
    "\n",
    "Make the initial conditions, integrate them to get `rarr5`, and make a plot of Earth, Mars and the spacecraft."
   ]
  },
  {
   "cell_type": "code",
   "execution_count": 3,
   "id": "d318d1b8",
   "metadata": {},
   "outputs": [
    {
     "ename": "NameError",
     "evalue": "name 'grav_derivs' is not defined",
     "output_type": "error",
     "traceback": [
      "\u001b[0;31m---------------------------------------------------------------------------\u001b[0m",
      "\u001b[0;31mNameError\u001b[0m                                 Traceback (most recent call last)",
      "Input \u001b[0;32mIn [3]\u001b[0m, in \u001b[0;36m<module>\u001b[0;34m\u001b[0m\n\u001b[1;32m      1\u001b[0m r_init5 \u001b[38;5;241m=\u001b[39m (\u001b[38;5;241m1.\u001b[39m, \u001b[38;5;241m0.\u001b[39m, \u001b[38;5;241m0.\u001b[39m, \u001b[38;5;241m1\u001b[39m) \u001b[38;5;66;03m# FIXME: Change the last value\u001b[39;00m\n\u001b[1;32m      2\u001b[0m times \u001b[38;5;241m=\u001b[39m np\u001b[38;5;241m.\u001b[39mlinspace(\u001b[38;5;241m0.\u001b[39m, \u001b[38;5;241m10\u001b[39m, \u001b[38;5;241m10000\u001b[39m)\n\u001b[0;32m----> 3\u001b[0m rarr5 \u001b[38;5;241m=\u001b[39m odeint(\u001b[43mgrav_derivs\u001b[49m, r_init5, times)\n",
      "\u001b[0;31mNameError\u001b[0m: name 'grav_derivs' is not defined"
     ]
    }
   ],
   "source": [
    "r_init5 = (1., 0., 0., 1) # FIXME: Change the last value\n",
    "times = np.linspace(0., 10, 10000)\n",
    "rarr5 = odeint(grav_derivs, r_init5, times)"
   ]
  },
  {
   "cell_type": "markdown",
   "id": "e44e80b5",
   "metadata": {},
   "source": [
    "The plotting code below requires r_arr2 and r_arr4 from the previous notebook, copy code to generate them here and then make the plot"
   ]
  },
  {
   "cell_type": "code",
   "execution_count": 4,
   "id": "86620d51",
   "metadata": {},
   "outputs": [],
   "source": [
    "# Copy stuff into here"
   ]
  },
  {
   "cell_type": "code",
   "execution_count": 5,
   "id": "17b4e7d7",
   "metadata": {},
   "outputs": [
    {
     "ename": "NameError",
     "evalue": "name 'rarr2' is not defined",
     "output_type": "error",
     "traceback": [
      "\u001b[0;31m---------------------------------------------------------------------------\u001b[0m",
      "\u001b[0;31mNameError\u001b[0m                                 Traceback (most recent call last)",
      "Input \u001b[0;32mIn [5]\u001b[0m, in \u001b[0;36m<module>\u001b[0;34m\u001b[0m\n\u001b[1;32m      1\u001b[0m plt\u001b[38;5;241m.\u001b[39mfigure(figsize\u001b[38;5;241m=\u001b[39m(\u001b[38;5;241m8\u001b[39m,\u001b[38;5;241m8\u001b[39m))\n\u001b[0;32m----> 2\u001b[0m plt\u001b[38;5;241m.\u001b[39mscatter(\u001b[43mrarr2\u001b[49m[:,\u001b[38;5;241m0\u001b[39m], rarr2[:,\u001b[38;5;241m1\u001b[39m], s\u001b[38;5;241m=\u001b[39m\u001b[38;5;241m5\u001b[39m)\n\u001b[1;32m      3\u001b[0m plt\u001b[38;5;241m.\u001b[39mscatter(rarr4[:,\u001b[38;5;241m0\u001b[39m], rarr4[:,\u001b[38;5;241m1\u001b[39m], c\u001b[38;5;241m=\u001b[39m\u001b[38;5;124m'\u001b[39m\u001b[38;5;124mr\u001b[39m\u001b[38;5;124m'\u001b[39m, s\u001b[38;5;241m=\u001b[39m\u001b[38;5;241m4\u001b[39m)\n\u001b[1;32m      4\u001b[0m plt\u001b[38;5;241m.\u001b[39mscatter(rarr5[:,\u001b[38;5;241m0\u001b[39m], rarr5[:,\u001b[38;5;241m1\u001b[39m], c\u001b[38;5;241m=\u001b[39m\u001b[38;5;124m'\u001b[39m\u001b[38;5;124mk\u001b[39m\u001b[38;5;124m'\u001b[39m, ls\u001b[38;5;241m=\u001b[39m\u001b[38;5;124m'\u001b[39m\u001b[38;5;124m:\u001b[39m\u001b[38;5;124m'\u001b[39m, s\u001b[38;5;241m=\u001b[39m\u001b[38;5;241m2\u001b[39m)\n",
      "\u001b[0;31mNameError\u001b[0m: name 'rarr2' is not defined"
     ]
    },
    {
     "data": {
      "text/plain": [
       "<Figure size 800x800 with 0 Axes>"
      ]
     },
     "metadata": {},
     "output_type": "display_data"
    }
   ],
   "source": [
    "plt.figure(figsize=(8,8))\n",
    "plt.scatter(rarr2[:,0], rarr2[:,1], s=5)\n",
    "plt.scatter(rarr4[:,0], rarr4[:,1], c='r', s=4)\n",
    "plt.scatter(rarr5[:,0], rarr5[:,1], c='k', ls=':', s=2)\n",
    "plt.scatter(0., 0., c='y', s=50) # The sun\n",
    "plt.gca().set_aspect('equal', 'datalim')"
   ]
  },
  {
   "cell_type": "markdown",
   "id": "6a24c51a",
   "metadata": {},
   "source": [
    "## Hohmann Transfer Orbit\n",
    "\n",
    "A Hohmann transfer orbit is the minimum-energy way to go from one circular orbit to another in the same plane. It's an elliptical orbit that just barely touches both circular orbits. You can read about it on [Wikipedia](https://en.wikipedia.org/wiki/Hohmann_transfer_orbit).\n",
    "\n",
    "For the initial conditions, we can start the spacecraft at the same position as Earth at $t = 0$, i.e. $(x, y) = (1, 0)$. But we need to choose the correct velocity to reach Mars's orbit. We could write down the energy equation and solve it, or we could let the computer solve it.\n",
    "\n",
    "### Exercise\n",
    "\n",
    "Write a function that takes the output of `odeint` and gives an array of the distance of the spacecraft from the Sun."
   ]
  },
  {
   "cell_type": "code",
   "execution_count": null,
   "id": "21fbb909",
   "metadata": {},
   "outputs": [],
   "source": []
  },
  {
   "cell_type": "markdown",
   "id": "327369a7",
   "metadata": {},
   "source": [
    "## Exercise\n",
    "\n",
    "Now write a function that finds the maximum radius of the craft"
   ]
  },
  {
   "cell_type": "code",
   "execution_count": null,
   "id": "a04109f2",
   "metadata": {},
   "outputs": [],
   "source": []
  },
  {
   "cell_type": "markdown",
   "id": "5a1626b8",
   "metadata": {},
   "source": [
    "## Exercise\n",
    "\n",
    "Now put it together. Write a function that takes an initial velocity, solves the ODE, then finds the maximum radius that the orbit of the craft reaches. Test the function and make sure it gives sensible results (e.g. what happens when it has the same velocity as the Earth?)."
   ]
  },
  {
   "cell_type": "code",
   "execution_count": null,
   "id": "df10fd18",
   "metadata": {},
   "outputs": [],
   "source": []
  },
  {
   "cell_type": "markdown",
   "id": "0ddfc7e6",
   "metadata": {},
   "source": [
    "Now let's automate finding the best value! Using `scipy.optimize.newton`, you can use Newton's method to find the root of a function. See the example below. You need to give it a function that returns zero when it's at the right answer, so it's good to have it return the square of the max distance minus the distance that you want it to reach (`r_mars`).\n"
   ]
  },
  {
   "cell_type": "code",
   "execution_count": 6,
   "id": "bc5abd1a",
   "metadata": {},
   "outputs": [
    {
     "data": {
      "text/plain": [
       "array([2.])"
      ]
     },
     "execution_count": 6,
     "metadata": {},
     "output_type": "execute_result"
    }
   ],
   "source": [
    "from scipy.optimize import newton\n",
    "\n",
    "def test(x):\n",
    "    return (x - 2.)**2\n",
    "\n",
    "newton(test, 1.)"
   ]
  },
  {
   "cell_type": "code",
   "execution_count": 7,
   "id": "f823b0d0",
   "metadata": {},
   "outputs": [],
   "source": [
    "newton?"
   ]
  },
  {
   "cell_type": "markdown",
   "id": "44321fbf",
   "metadata": {},
   "source": [
    "## Exercise\n",
    "\n",
    "Use `newton` to find an orbit for the spacecraft that leaves Earth, and just reaches Mars."
   ]
  },
  {
   "cell_type": "code",
   "execution_count": null,
   "id": "89b78de6",
   "metadata": {},
   "outputs": [],
   "source": []
  },
  {
   "cell_type": "markdown",
   "id": "542a9acb",
   "metadata": {},
   "source": [
    "## Exercise\n",
    "\n",
    "(quite difficult): This orbit only works when Earth and Mars are at certain positions. Find the correct relative positions of Earth and Mars such that the spacecraft reaches Mars, then plot your solution. How far apart in time are the launch windows?"
   ]
  },
  {
   "cell_type": "code",
   "execution_count": null,
   "id": "e3a1a689",
   "metadata": {},
   "outputs": [],
   "source": []
  }
 ],
 "metadata": {
  "kernelspec": {
   "display_name": "Python 3 (ipykernel)",
   "language": "python",
   "name": "python3"
  },
  "language_info": {
   "codemirror_mode": {
    "name": "ipython",
    "version": 3
   },
   "file_extension": ".py",
   "mimetype": "text/x-python",
   "name": "python",
   "nbconvert_exporter": "python",
   "pygments_lexer": "ipython3",
   "version": "3.9.7"
  }
 },
 "nbformat": 4,
 "nbformat_minor": 5
}
