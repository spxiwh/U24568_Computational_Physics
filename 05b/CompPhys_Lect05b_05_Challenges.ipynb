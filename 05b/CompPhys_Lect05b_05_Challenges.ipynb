{
 "cells": [
  {
   "cell_type": "markdown",
   "id": "91229359",
   "metadata": {},
   "source": [
    "# Challenges\n",
    "\n",
    "If you've finished the previous content for this lecture and want to explore ODEs a bit further, please feel free to attempt one (or more) of these challenges. We will not provide solutions to these.\n",
    "\n",
    "Here's some suggested modifications to the orbital mechanics problems that should test you (each of this is described in more detail, with some hints, below):\n",
    "\n",
    " * What if gravity were an inverse cube rather than an inverse square law? What do the orbits look like, are they stable? This is what would happen if there were three space dimensions.\n",
    " * Simulate a solar sail mission, see the hints below.\n",
    " * Add in the force from a rocket. See the hints below.\n",
    " * Give the planets mass as well, let them attract the spacecraft. Investigate the Lagrange points."
   ]
  },
  {
   "cell_type": "markdown",
   "id": "223ebee1",
   "metadata": {},
   "source": [
    "## Inverse Cube Law\n",
    "\n",
    "Just replace $\\frac{1}{r^2}$ with $\\frac{1}{r^3}$. You can also add in a little bit of a $\\frac{1}{r^3}$ term to the one currently there. This actually happens due to the oblateness of the Sun and also General Relativity, and we measure these effects on Mercury. You need an elliptical orbit to see them though."
   ]
  },
  {
   "cell_type": "code",
   "execution_count": null,
   "id": "87a265ca",
   "metadata": {},
   "outputs": [],
   "source": []
  },
  {
   "cell_type": "markdown",
   "id": "580f79b0",
   "metadata": {},
   "source": [
    "## Solar sail\n",
    "\n",
    "The intensity of sunlight at Earth's orbit is 1400 Watts per square meter. That falls off like $1/r^2$. The pressure of light is intensity divided by the speed of light.\n",
    "\n",
    "To get the acceleration provided by a solar sail, multiply the pressure of the sunlight by the area of your solar sail, and divide by the mass of your craft. It's not like gravity, the mass of your craft doesn't divide out. You might have a tiny probe of a few kilograms, or maybe a metric ton like a more typical craft.\n",
    "\n",
    "The force of the sunlight points directly out from the Sun, so in the opposite direction from gravity."
   ]
  },
  {
   "cell_type": "code",
   "execution_count": null,
   "id": "634be345",
   "metadata": {},
   "outputs": [],
   "source": []
  },
  {
   "cell_type": "markdown",
   "id": "9e88394f",
   "metadata": {},
   "source": [
    "## Rocket\n",
    "\n",
    "To make the rocket interesting, let's always point it at a 90 degree angle from the sun. We need a unit vector that's perpendicular to $\\hat{r~}$. We can use the cross product with $z$.\n",
    "\n",
    "$$\\hat{\\theta~} = \\left( \\frac{x}{r}, \\frac{y}{r}, 0 \\right) \\times \\left( 0, 0, 1 \\right)$$\n",
    "\n",
    "You can make it a constant force or whatever you want. A real rocket would lose mass as it expends its fuel, if you want to simulate that."
   ]
  },
  {
   "cell_type": "code",
   "execution_count": null,
   "id": "333b677d",
   "metadata": {},
   "outputs": [],
   "source": []
  },
  {
   "cell_type": "markdown",
   "id": "f933ba59",
   "metadata": {},
   "source": [
    "## Giving planets mass\n",
    "\n",
    "We'll need to start by defining a derivatives function that will simulate all the orbits at once, because the forces now depend on all positions. The `state` variable now has $4N$ components, two position and two velocity for each object.\n",
    "\n",
    "The best way to make this work is to write a loop through the $N$ objects, finding the derivatives for that object, and building up a list of all of the derivatives. If you have a list, and you want to add several things to it, you can do something like `lst.extend([1,2,3,4])` - it's similar to `append` but for multiple elements.\n",
    "\n",
    "You also need to set masses (scaled relative to the sun's mass) for all the planets, and calculate forces based on the vectors between them."
   ]
  },
  {
   "cell_type": "code",
   "execution_count": null,
   "id": "7c7b51ec",
   "metadata": {},
   "outputs": [],
   "source": []
  },
  {
   "cell_type": "markdown",
   "id": "a680cf5e",
   "metadata": {},
   "source": [
    "## CHALLENGING EXERCISE - Slingshot\n",
    "\n",
    "Slingshot (https://libregamewiki.org/Slingshot) is an old game where the goal is to shoot \"arrows\" from your stationary spaceship around a set of planetoids to reach your opponent. The \"arrow\" is attracted by the gravity of the planetoids as it moves and therefore sometimes the path to take is highly nontrivial!\n",
    "In this exercise your goal is to simulate a single shot and plot the trajectory. Here is the step-by-step instructions\n",
    "\n",
    "1: Put your spaceship at x=0, y=0. Display this with a red triangle on a plot.\n",
    "\n",
    "2: Put the opponent's spaceship at x=100, y=0. Display this with a green triangle on the same plot.\n",
    "\n",
    "3: Choose a planetoids with x position between 10 and 90, and y position between -30 and 30. Add these to the plot as a black circle.\n",
    "\n",
    "4: Ask the user to set the initial speed and initial shot direction (by using the input function). The initial speed should be a value between 0 and 10 (set it to 10 if it is larger), and the initial direction is an angle between 0 and 360 degrees. \n",
    "\n",
    "5: Use the techniques above to solve the differential equations governing how the arrow will move and predict the motion of the show. Stop the evolution if the x position is smaller than -20 or larger than 120 or if the y position is larger than 50 or smaller than -50.\n",
    "\n",
    "The equations governing the motion of the particle are those of Newtonian gravity (projected into 2 dimensions). We have to solve both for x-motion and for y-motion separately. To do this we calculate the acceleration at a given time, use this to compute the change in velocity, and update the position according to the velocity. So in order of how something would be solved at a given time point:\n",
    "\n",
    "$$ \\frac{dv_x}{dt}  = a_x = \\frac{ - G M}{r^2} (x_a - x_p/r) $$\n",
    "\n",
    "$$ \\frac{dx_a}{dt} = v_x $$\n",
    "\n",
    "$$ \\frac{dv_y}{dt}  = a_y = \\frac{ - G M}{r^2} (y_a - y_p/r) $$\n",
    "\n",
    "$$ \\frac{dy_a}{dt} = v_y $$\n",
    "\n",
    "Where here a is the acceleration of the arrow (in the x and y directions), v is the velocity (in the x and y directions) and are the x and y positions of the arrow and and are the positions of the planetoid (the position of the planetoid doesn't change). M is the mass of the planetoid; set this to 10, and G to 10 (but if you find the planetoid is too gravitationally strong, or too weak, try adjusting this value). r is the distance between the arrow and the planetoid $r = ((x_a - x_p)^2 + (y_a - y_p)^2)^{0.5}$.\n",
    "\n",
    "If you get this working try adding multiple planetoids (then the a equation becomes a sum over different contributions) and draw the position of these planetoids randomly so you get a different game each time. Also stop the motion of the arrow if it comes within a distance of 1 of the opponent's ship. Display appropriate text based on if the arrow hits, or misses, the ship.\n"
   ]
  },
  {
   "cell_type": "code",
   "execution_count": null,
   "id": "afbfdbe4",
   "metadata": {},
   "outputs": [],
   "source": []
  }
 ],
 "metadata": {
  "kernelspec": {
   "display_name": "Python 3 (ipykernel)",
   "language": "python",
   "name": "python3"
  },
  "language_info": {
   "codemirror_mode": {
    "name": "ipython",
    "version": 3
   },
   "file_extension": ".py",
   "mimetype": "text/x-python",
   "name": "python",
   "nbconvert_exporter": "python",
   "pygments_lexer": "ipython3",
   "version": "3.9.7"
  }
 },
 "nbformat": 4,
 "nbformat_minor": 5
}
