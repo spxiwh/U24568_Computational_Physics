{
 "cells": [
  {
   "cell_type": "markdown",
   "id": "cc53bb8f",
   "metadata": {},
   "source": [
    "# Gravity!\n",
    "\n",
    "Continuing from the previous notebook, now we're going to try a more difficult problem: gravity! We'll do this in two dimensions for simplicity, though we could also do it in three dimensions. We've now got more variables than before. It's still ordinary differential equations though. The only derivative is a time derivative.\n",
    "\n",
    "Now we want to solve a vector equation:\n",
    "\n",
    "$$\\vec{F~} = - \\frac{G~M~m}{r^2} \\hat{r~}$$\n",
    "\n",
    "We'll take this to be the force on $m$, so $F = m a$. In terms of the unnormalized vector $\\vec{r~}$, we have\n",
    "\n",
    "$$\\vec{a~} = - \\frac{G~M}{r^2} \\frac{\\vec{r~}}{r}$$\n",
    "\n",
    "where $r$ is the length of $\\vec{r~}$."
   ]
  },
  {
   "cell_type": "markdown",
   "id": "79694e0d",
   "metadata": {},
   "source": [
    "So how do we put this into the form scipy expects? We define the position of the little object by\n",
    "\n",
    "$$\\vec{r~} = (x, y)$$\n",
    "\n",
    "Then the length is\n",
    "\n",
    "$$r = \\sqrt{x^2 + y^2}$$\n",
    "\n",
    "We have second-order differential equations for both $x$ and $y$. We need four variables $x$, $y$, $v_x$, $v_y$.\n",
    "\n",
    "We also need to rescale our variables. Kilograms, meters, and seconds aren't great for describing orbits. We'll get a lot of huge numbers. Let's define a rescaling:\n",
    "\n",
    "$$t = T~\\tau$$\n",
    "\n",
    "$$r = R~\\rho$$\n",
    "\n",
    "So the differential equation looks something like\n",
    "\n",
    "$$\\frac{d^2 r}{d t^2} = \\frac{R}{T^2} \\frac{d^2 \\rho}{d \\tau^2} = - \\frac{G~M}{(R~\\rho)^2}$$\n",
    "\n",
    "or\n",
    "\n",
    "$$\\frac{d^2 \\rho}{d \\tau^2} = - \\left( \\frac{G~M~T^2}{R^3}\\right) ~ \\frac{1}{\\rho^2}$$\n",
    "\n",
    "All the units have been collected into one single factor. If we choose $R = 1~\\mathrm{AU}$ and $T = 1~\\mathrm{yr}$, and set $M$ to the mass of the Sun, this factor becomes a nice number close to $1$."
   ]
  },
  {
   "cell_type": "code",
   "execution_count": 1,
   "id": "06ddf932",
   "metadata": {},
   "outputs": [],
   "source": [
    "%matplotlib inline\n",
    "import numpy as np\n",
    "import matplotlib.pyplot as plt\n",
    "from scipy.integrate import odeint\n",
    "\n",
    "# In addition to the imports, we'll also import some constants\n",
    "# And also define our own\n",
    "# NOTE: All units in SI\n",
    "from scipy.constants import gravitational_constant, au\n",
    "\n",
    "year = 365.25*24*3600 # seconds\n",
    "\n",
    "mass_sun = 1.989e30 # kg\n",
    "\n",
    "earth_distance = 1.496e11 # meters\n",
    "# The Earth distance is also defined as 1 AU\n",
    "mars_distance = 227.9*1.e9 # meters\n",
    "jupiter_distance = 778.57*1.e9 # meters"
   ]
  },
  {
   "cell_type": "markdown",
   "id": "858890eb",
   "metadata": {},
   "source": [
    "## Exercise\n",
    "\n",
    "We've just defined several useful constants. Use them to determine the constant $\\frac{G~M~T^2}{R^3}$. Call the variable `scale_factor`."
   ]
  },
  {
   "cell_type": "code",
   "execution_count": 2,
   "id": "0e5d8017",
   "metadata": {},
   "outputs": [],
   "source": [
    "# Answer"
   ]
  },
  {
   "cell_type": "markdown",
   "id": "8488e3a1",
   "metadata": {},
   "source": [
    "Now we're ready to define the gravitational acceleration and start some calculations. Read the explanation above carefully, then\n",
    "\n",
    "## Exercise\n",
    "\n",
    "Complete the derivatives function below."
   ]
  },
  {
   "cell_type": "code",
   "execution_count": 3,
   "id": "01e67157",
   "metadata": {},
   "outputs": [
    {
     "ename": "SyntaxError",
     "evalue": "invalid syntax (479395606.py, line 5)",
     "output_type": "error",
     "traceback": [
      "\u001b[0;36m  Input \u001b[0;32mIn [3]\u001b[0;36m\u001b[0m\n\u001b[0;31m    r =  # Calculate the distance from x and y\u001b[0m\n\u001b[0m         ^\u001b[0m\n\u001b[0;31mSyntaxError\u001b[0m\u001b[0;31m:\u001b[0m invalid syntax\n"
     ]
    }
   ],
   "source": [
    "# Gravitational acceleration in 2D\n",
    "def grav_derivs(state, t):\n",
    "    x, y, vx, vy = state\n",
    "    \n",
    "    r =  # Calculate the distance from x and y\n",
    "    acc =  # Calculate the magnitude of the acceleration\n",
    "    acc_x =  # Calculate the vector components of the acceleration\n",
    "    acc_y =  # Calculate the vector components of the acceleration\n",
    "    \n",
    "    return (vx, vy, acc_x, acc_y)"
   ]
  },
  {
   "cell_type": "markdown",
   "id": "146efae8",
   "metadata": {},
   "source": [
    "## Exercise\n",
    "\n",
    "Read the two cells of code below. The equation is being solved. Answer the following questions:\n",
    " 1. For what length of time is the orbit being solved?\n",
    " 1. What is the starting position of the planet?\n",
    " 1. What is the starting velocity?\n",
    " 1. What kind of orbit do you expect?\n",
    "Write brief answers, then run the code and see if you're correct. You may need to debug your derivatives function."
   ]
  },
  {
   "cell_type": "code",
   "execution_count": 4,
   "id": "08d42807",
   "metadata": {},
   "outputs": [
    {
     "ename": "NameError",
     "evalue": "name 'grav_derivs' is not defined",
     "output_type": "error",
     "traceback": [
      "\u001b[0;31m---------------------------------------------------------------------------\u001b[0m",
      "\u001b[0;31mNameError\u001b[0m                                 Traceback (most recent call last)",
      "Input \u001b[0;32mIn [4]\u001b[0m, in \u001b[0;36m<module>\u001b[0;34m\u001b[0m\n\u001b[1;32m      1\u001b[0m times \u001b[38;5;241m=\u001b[39m np\u001b[38;5;241m.\u001b[39mlinspace(\u001b[38;5;241m0.\u001b[39m, \u001b[38;5;241m0.3\u001b[39m, \u001b[38;5;241m100000\u001b[39m)\n\u001b[1;32m      2\u001b[0m r_init \u001b[38;5;241m=\u001b[39m (\u001b[38;5;241m1.\u001b[39m, \u001b[38;5;241m0.\u001b[39m, \u001b[38;5;241m0.\u001b[39m, \u001b[38;5;241m1.\u001b[39m) \u001b[38;5;66;03m# Starting values at t = 0\u001b[39;00m\n\u001b[0;32m----> 3\u001b[0m rarr \u001b[38;5;241m=\u001b[39m odeint(\u001b[43mgrav_derivs\u001b[49m, r_init, times)\n",
      "\u001b[0;31mNameError\u001b[0m: name 'grav_derivs' is not defined"
     ]
    }
   ],
   "source": [
    "times = np.linspace(0., 0.3, 100000)\n",
    "r_init = (1., 0., 0., 1.) # Starting values at t = 0\n",
    "rarr = odeint(grav_derivs, r_init, times)"
   ]
  },
  {
   "cell_type": "code",
   "execution_count": 5,
   "id": "090ef802",
   "metadata": {},
   "outputs": [
    {
     "ename": "NameError",
     "evalue": "name 'rarr' is not defined",
     "output_type": "error",
     "traceback": [
      "\u001b[0;31m---------------------------------------------------------------------------\u001b[0m",
      "\u001b[0;31mNameError\u001b[0m                                 Traceback (most recent call last)",
      "Input \u001b[0;32mIn [5]\u001b[0m, in \u001b[0;36m<module>\u001b[0;34m\u001b[0m\n\u001b[1;32m      1\u001b[0m plt\u001b[38;5;241m.\u001b[39mfigure(figsize\u001b[38;5;241m=\u001b[39m(\u001b[38;5;241m8\u001b[39m,\u001b[38;5;241m8\u001b[39m))\n\u001b[0;32m----> 2\u001b[0m plt\u001b[38;5;241m.\u001b[39mscatter(\u001b[43mrarr\u001b[49m[:,\u001b[38;5;241m0\u001b[39m], rarr[:,\u001b[38;5;241m1\u001b[39m], s\u001b[38;5;241m=\u001b[39m\u001b[38;5;241m5\u001b[39m)\n\u001b[1;32m      3\u001b[0m plt\u001b[38;5;241m.\u001b[39mscatter(\u001b[38;5;241m0.\u001b[39m, \u001b[38;5;241m0.\u001b[39m, c\u001b[38;5;241m=\u001b[39m\u001b[38;5;124m'\u001b[39m\u001b[38;5;124my\u001b[39m\u001b[38;5;124m'\u001b[39m, s\u001b[38;5;241m=\u001b[39m\u001b[38;5;241m50\u001b[39m)\n\u001b[1;32m      4\u001b[0m plt\u001b[38;5;241m.\u001b[39mgca()\u001b[38;5;241m.\u001b[39mset_aspect(\u001b[38;5;124m'\u001b[39m\u001b[38;5;124mequal\u001b[39m\u001b[38;5;124m'\u001b[39m, \u001b[38;5;124m'\u001b[39m\u001b[38;5;124mdatalim\u001b[39m\u001b[38;5;124m'\u001b[39m)\n",
      "\u001b[0;31mNameError\u001b[0m: name 'rarr' is not defined"
     ]
    },
    {
     "data": {
      "text/plain": [
       "<Figure size 800x800 with 0 Axes>"
      ]
     },
     "metadata": {},
     "output_type": "display_data"
    }
   ],
   "source": [
    "plt.figure(figsize=(8,8))\n",
    "plt.scatter(rarr[:,0], rarr[:,1], s=5)\n",
    "plt.scatter(0., 0., c='y', s=50)\n",
    "plt.gca().set_aspect('equal', 'datalim')"
   ]
  },
  {
   "cell_type": "code",
   "execution_count": 6,
   "id": "73e6fe13",
   "metadata": {},
   "outputs": [],
   "source": [
    "# Your answer here!"
   ]
  },
  {
   "cell_type": "code",
   "execution_count": null,
   "id": "5b31edb4",
   "metadata": {},
   "outputs": [],
   "source": []
  }
 ],
 "metadata": {
  "kernelspec": {
   "display_name": "CompPhys2",
   "language": "python",
   "name": "python3"
  },
  "language_info": {
   "codemirror_mode": {
    "name": "ipython",
    "version": 3
   },
   "file_extension": ".py",
   "mimetype": "text/x-python",
   "name": "python",
   "nbconvert_exporter": "python",
   "pygments_lexer": "ipython3",
   "version": "3.10.16"
  }
 },
 "nbformat": 4,
 "nbformat_minor": 5
}
