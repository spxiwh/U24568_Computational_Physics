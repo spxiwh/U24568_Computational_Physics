{
 "cells": [
  {
   "cell_type": "markdown",
   "id": "952a1a6b",
   "metadata": {},
   "source": [
    "# Exercises\n",
    "\n",
    "Okay, we've spent a long time looking at how to high-pass filter a simple dataset and found out that it is not *at all* trivial and we need to be careful. This is why you don't just have a simple `high_pass_filter` function in scipy. Here find some examples to test your knowledge, which will ask you to implement *other* types of filters."
   ]
  },
  {
   "cell_type": "code",
   "execution_count": 1,
   "id": "fd57a1ae",
   "metadata": {},
   "outputs": [],
   "source": [
    "%matplotlib inline\n",
    "import matplotlib\n",
    "import matplotlib.pyplot as plt\n",
    "import numpy as np\n",
    "import scipy\n",
    "import scipy.signal"
   ]
  },
  {
   "cell_type": "code",
   "execution_count": 2,
   "id": "5dcd1d60",
   "metadata": {},
   "outputs": [],
   "source": [
    "def compute_fourier_transform(data):\n",
    "    # Bring in your previous answer - or maybe use the\n",
    "    # numpy one as this may be intensive\n",
    "    return\n",
    "\n",
    "def compute_inverse_fourier_transform(data):\n",
    "    # Bring in your previous answer - or maybe use the\n",
    "    # numpy one as this may be intensive\n",
    "    return"
   ]
  },
  {
   "cell_type": "markdown",
   "id": "c866aa22",
   "metadata": {},
   "source": [
    "## Exercise 1 - low-pass filter\n",
    "\n",
    "Take data_time_domain_EXERCISE1 below and create, and perform, a *low*-pass filter, removing all frequency content above 2Hz. Using scipy will be easier, but your choice. Demonstrate that the 0.5Hz signal buried in that data is visible in both the time and frequency domains.\n"
   ]
  },
  {
   "cell_type": "code",
   "execution_count": 3,
   "id": "25c2f507",
   "metadata": {},
   "outputs": [],
   "source": [
    "omega = 1. * (2*np.pi)\n",
    "data_length = 256\n",
    "sample_rate = 16\n",
    "sample_points = int(data_length * sample_rate)\n",
    "times = np.arange(sample_points) / sample_rate\n",
    "frequencies = np.arange(sample_points) * (sample_rate/sample_points)\n",
    "\n",
    "np.random.seed(1)\n",
    "data_time_domain_EXERCISE1 = np.zeros(data_length * sample_rate)\n",
    "# Add high frequency noise: components between 4 and 8Hz\n",
    "for i in range(2*data_length*4,8*data_length*4):\n",
    "    omega = (np.random.uniform() * 4 + 4) * (2*np.pi)\n",
    "    phase = np.random.random() * (2*np.pi)\n",
    "    data_time_domain_EXERCISE1 += 100*np.sin(times * omega + phase)\n",
    "\n",
    "# Add in a single 4Hz sine wave\n",
    "omega = 0.5 * (2*np.pi)\n",
    "signal_EXERCISE1 = np.sin(times * omega)\n",
    "data_time_domain_EXERCISE1 += signal_EXERCISE1"
   ]
  },
  {
   "cell_type": "code",
   "execution_count": 4,
   "id": "ae9c9746",
   "metadata": {},
   "outputs": [],
   "source": [
    "# Solution"
   ]
  },
  {
   "cell_type": "markdown",
   "id": "8c677b01",
   "metadata": {},
   "source": [
    "## Exercise 2 - band-pass filter\n",
    "\n",
    "Take data_time_domain_EXERCISE2 below and perform a \"band-pass\" filter. Specifically, remove all frequency content above 4Hz and below 1Hz. Can you recover the 2Hz signal in that data?\n"
   ]
  },
  {
   "cell_type": "code",
   "execution_count": 5,
   "id": "5031f873",
   "metadata": {},
   "outputs": [],
   "source": [
    "omega = 1. * (2*np.pi)\n",
    "data_length = 256\n",
    "sample_rate = 16\n",
    "sample_points = int(data_length * sample_rate)\n",
    "times = np.arange(sample_points) / sample_rate\n",
    "\n",
    "np.random.seed(2)\n",
    "data_time_domain_EXERCISE2 = np.zeros(data_length * sample_rate)\n",
    "# Add low frequency noise: No components above 1Hz\n",
    "for i in range(1,1*data_length*4):\n",
    "    omega = np.random.uniform() * (2*np.pi)\n",
    "    phase = np.random.random() * (2*np.pi)\n",
    "    data_time_domain_EXERCISE2 += 100*np.sin(times * omega + phase)\n",
    "\n",
    "# High frequency noise: between 4 and 8 Hz\n",
    "for i in range(4*data_length*4,8*data_length*4):\n",
    "    omega = 4 * (1 + np.random.uniform()) * (2*np.pi)\n",
    "    phase = np.random.random() * (2*np.pi)\n",
    "    data_time_domain_EXERCISE2 += 100*np.sin(times * omega + phase)\n",
    "\n",
    "# Add in a single 2Hz sine wave\n",
    "omega = 2 * (2*np.pi)\n",
    "signal_EXERCISE2 = np.sin(times * omega)\n",
    "data_time_domain_EXERCISE2 += signal_EXERCISE2"
   ]
  },
  {
   "cell_type": "code",
   "execution_count": 6,
   "id": "c9e6880b",
   "metadata": {},
   "outputs": [],
   "source": [
    "# SOLUTION"
   ]
  },
  {
   "cell_type": "markdown",
   "id": "8b8b7cf7",
   "metadata": {},
   "source": [
    "## Exercise - re-weighting noise\n",
    "\n",
    "CHALLENGING: The data_time_domain_EXERCISE3 below contains \"pink\" noise (lower frequency content is louder than higher frequency content). Can you convert this into \"white\" noise where the contribution to the noise at all frequencies is equal?\n"
   ]
  },
  {
   "cell_type": "code",
   "execution_count": 7,
   "id": "c177a6e9",
   "metadata": {},
   "outputs": [],
   "source": [
    "omega = 1. * (2*np.pi)\n",
    "data_length = 256\n",
    "sample_rate = 16\n",
    "sample_points = int(data_length * sample_rate)\n",
    "times = np.arange(sample_points) / sample_rate\n",
    "\n",
    "np.random.seed(3)\n",
    "data_time_domain_EXERCISE3 = np.zeros(data_length * sample_rate)\n",
    "# Add low frequency noise: No components above 1Hz\n",
    "for i in range(1,8*(data_length*4)):\n",
    "    omega = i / (data_length*4) * (2*np.pi)\n",
    "    phase = np.random.random() * (2*np.pi)\n",
    "    data_time_domain_EXERCISE3 += (1./i) * np.sin(times * omega + phase)"
   ]
  },
  {
   "cell_type": "code",
   "execution_count": 8,
   "id": "a4c283db",
   "metadata": {},
   "outputs": [],
   "source": [
    "# SOLUTION"
   ]
  }
 ],
 "metadata": {
  "kernelspec": {
   "display_name": "CompPhys2",
   "language": "python",
   "name": "python3"
  },
  "language_info": {
   "codemirror_mode": {
    "name": "ipython",
    "version": 3
   },
   "file_extension": ".py",
   "mimetype": "text/x-python",
   "name": "python",
   "nbconvert_exporter": "python",
   "pygments_lexer": "ipython3",
   "version": "3.10.16"
  }
 },
 "nbformat": 4,
 "nbformat_minor": 5
}
