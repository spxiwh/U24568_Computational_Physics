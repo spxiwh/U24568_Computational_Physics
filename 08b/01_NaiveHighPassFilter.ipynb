{
 "cells": [
  {
   "cell_type": "markdown",
   "id": "e0324acb",
   "metadata": {},
   "source": [
    "# A naïve implementation of a high-pass filter\n",
    "\n",
    "A high-pass filter (see introduction slides) is one where we remove content at low frequencies (below the high-pass). This might be done if you have noise at low frequencies but signal at higher frequencies and want to extract that signal.\n",
    "\n",
    "Let's show this with a contrived example:\n",
    "\n",
    " * We will generate a dataset that is 8 seconds long sampled 16 times a second.\n",
    " * In this dataset we will add noise with frequencies up to 1Hz, but not above it.\n",
    " * We will also add a sine wave at 4Hz, but the amplitude will be much smaller than the noise.\n",
    " \n",
    "In the time-domain the sine-wave is not visible above the low-frequency noise at all, but with a high-pass filter the signal can be easily extracted from the data because there is no overlap in the *frequency* components of the noise and the signal."
   ]
  },
  {
   "cell_type": "code",
   "execution_count": 1,
   "id": "8db3b089",
   "metadata": {},
   "outputs": [],
   "source": [
    "%matplotlib inline\n",
    "import matplotlib\n",
    "import matplotlib.pyplot as plt\n",
    "import numpy as np\n",
    "import scipy\n",
    "import scipy.signal"
   ]
  },
  {
   "cell_type": "markdown",
   "id": "c861a12a",
   "metadata": {},
   "source": [
    "We are going to need to use Fourier transforms again, so copy in your code from last week"
   ]
  },
  {
   "cell_type": "code",
   "execution_count": 2,
   "id": "dbc49e27",
   "metadata": {},
   "outputs": [],
   "source": [
    "def compute_fourier_transform(data_time_domain):\n",
    "    return np.fft.fft(data_time_domain)\n",
    "\n",
    "\n",
    "def compute_inverse_fourier_transform(data_frequency_domain):\n",
    "    return np.fft.ifft(data_frequency_domain)"
   ]
  },
  {
   "cell_type": "markdown",
   "id": "9e52d075",
   "metadata": {},
   "source": [
    "And then we generate the data as described."
   ]
  },
  {
   "cell_type": "code",
   "execution_count": 3,
   "id": "e30fe1f2",
   "metadata": {},
   "outputs": [],
   "source": [
    "# Choose data length and sampling rate\n",
    "omega = 1. * (2*np.pi)\n",
    "data_length = 8\n",
    "sample_rate = 16\n",
    "sample_points = int(data_length * sample_rate)\n",
    "times = np.arange(sample_points) / sample_rate\n",
    "\n",
    "np.random.seed(1024)\n",
    "data_time_domain = np.zeros(sample_points)\n",
    "# Add low frequency noise: No components above 1Hz\n",
    "for i in range(1,(data_length+1)):\n",
    "    omega = i / data_length * (2*np.pi)\n",
    "    phase = np.random.random() * (2*np.pi)\n",
    "    data_time_domain += 100*np.sin(times * omega + phase)\n",
    "\n",
    "# Add in a single 4Hz sine wave\n",
    "omega = 4. * (2*np.pi) \n",
    "signal = np.sin(times * omega)\n",
    "data_time_domain += signal"
   ]
  },
  {
   "cell_type": "markdown",
   "id": "47180409",
   "metadata": {},
   "source": [
    "## Exercise\n",
    "\n",
    "Plot this data in the time domain. Can you see the 4Hz signal above the noise?"
   ]
  },
  {
   "cell_type": "code",
   "execution_count": 4,
   "id": "ef614c0b",
   "metadata": {},
   "outputs": [],
   "source": [
    "# Can you see the data?"
   ]
  },
  {
   "cell_type": "markdown",
   "id": "b5b8df52",
   "metadata": {},
   "source": [
    "## Exercise\n",
    "\n",
    "Using your Fourier transform knowledge from the last class, transform to the frequency domain and plot the data in the frequency domain as well. Convert back to the time domain and verify that you get the original data.\n",
    "\n",
    "To try to see the sine wave in the frequency domain plot the magnitude of the frequency domain data (remember it is complex) against frequency, and use a log y-axis (plt.semilogy)."
   ]
  },
  {
   "cell_type": "code",
   "execution_count": 5,
   "id": "7c3601dc",
   "metadata": {},
   "outputs": [],
   "source": [
    "# Solution"
   ]
  },
  {
   "cell_type": "markdown",
   "id": "47c81738",
   "metadata": {},
   "source": [
    "Hopefully you can see a spike in your frequency-domain plot corresponding to the signal. Now we need to high-pass filter the data to be able to extract the signal in the time domain.\n",
    "\n",
    "First let's explore a simple approach to the problem. Fourier transform the data, set to 0 all content below 2Hz and then transform back to the time domain:"
   ]
  },
  {
   "cell_type": "markdown",
   "id": "8079326a",
   "metadata": {},
   "source": [
    "## Exercise\n",
    "\n",
    "Carry out the instructions below\n",
    "\n",
    "* Fourier transform the data and then zero out all content below 2Hz.\n",
    "* Plot this data in the Fourier domain.\n",
    "* Transform the data back to the time domain (using an inverse Fourier transform)\n",
    "* Plot the filtered data in the time domain.\n",
    "* Can you see the sine wave clearly now? (The answer should be \"yes\")\n",
    "\n",
    "We have provided some hints below for doing this"
   ]
  },
  {
   "cell_type": "code",
   "execution_count": 6,
   "id": "7890c94a",
   "metadata": {},
   "outputs": [],
   "source": [
    "# Transform into the fourier domain\n",
    "data_frequency_domain = compute_fourier_transform(data_time_domain)\n",
    "\n",
    "# Set values below 2Hz to 0 (as this is symmetric we need to remove content at both small *and* large values)\n",
    "# Remove content at low frequencies\n",
    "\n",
    "# Zero out all data from max_frequency - 2Hz to max_frequency ... AS 16Hz is the max frequency this is ...\n",
    "\n",
    "# Make the plots requested"
   ]
  },
  {
   "cell_type": "markdown",
   "id": "911610ca",
   "metadata": {},
   "source": [
    "At this point, applying a high-pass filter may appear to be very easy ... However, as we will see, there's more to it than this!"
   ]
  }
 ],
 "metadata": {
  "kernelspec": {
   "display_name": "CompPhys2",
   "language": "python",
   "name": "python3"
  },
  "language_info": {
   "codemirror_mode": {
    "name": "ipython",
    "version": 3
   },
   "file_extension": ".py",
   "mimetype": "text/x-python",
   "name": "python",
   "nbconvert_exporter": "python",
   "pygments_lexer": "ipython3",
   "version": "3.10.16"
  }
 },
 "nbformat": 4,
 "nbformat_minor": 5
}
