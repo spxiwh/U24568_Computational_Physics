{
 "cells": [
  {
   "cell_type": "markdown",
   "id": "24cf2ab3",
   "metadata": {},
   "source": [
    "# Generators - Exercises 2\n",
    "\n",
    "## Exercise 1\n",
    "\n",
    "Write a generator to return N random numbers (uniformly distributed between 0 and 1). N should be supplied to the generator."
   ]
  },
  {
   "cell_type": "code",
   "execution_count": 1,
   "id": "3a58c22f",
   "metadata": {},
   "outputs": [
    {
     "name": "stdout",
     "output_type": "stream",
     "text": [
      "0.9670298390136767\n",
      "0.5472322491757223\n",
      "0.9726843599648843\n",
      "0.7148159936743647\n",
      "0.6977288245972708\n",
      "0.21608949558037638\n",
      "0.9762744547762418\n",
      "0.006230255204589863\n",
      "0.25298236238344396\n",
      "0.4347915324044458\n"
     ]
    }
   ],
   "source": [
    "import numpy as np\n",
    "np.random.seed(4)\n",
    "\n",
    "def gen_N_random(N):\n",
    "    for _ in range(N): # Note that if we aren't going to use a variable, the convention is that it is denoted by an underscore\n",
    "        yield np.random.uniform()\n",
    "\n",
    "for num in gen_N_random(10):\n",
    "    print(num)"
   ]
  },
  {
   "cell_type": "markdown",
   "id": "af7d53b1",
   "metadata": {},
   "source": [
    "## Exercise 2\n",
    "\n",
    "Write a generator to return the first N numbers in the Fibonacci sequence."
   ]
  },
  {
   "cell_type": "code",
   "execution_count": 2,
   "id": "91ee9a89",
   "metadata": {},
   "outputs": [
    {
     "name": "stdout",
     "output_type": "stream",
     "text": [
      "0\n",
      "1\n",
      "1\n",
      "2\n",
      "3\n",
      "5\n",
      "8\n",
      "13\n",
      "21\n",
      "34\n"
     ]
    }
   ],
   "source": [
    "def gen_N_fibonacci(N):\n",
    "    fib = 0\n",
    "    fib_next = 1\n",
    "    for _ in range(N):\n",
    "        yield fib\n",
    "        fib, fib_next = fib_next, fib_next + fib\n",
    "\n",
    "\n",
    "for num in gen_N_fibonacci(10):\n",
    "    print(num)"
   ]
  }
 ],
 "metadata": {
  "kernelspec": {
   "display_name": "CompPhys2",
   "language": "python",
   "name": "python3"
  },
  "language_info": {
   "codemirror_mode": {
    "name": "ipython",
    "version": 3
   },
   "file_extension": ".py",
   "mimetype": "text/x-python",
   "name": "python",
   "nbconvert_exporter": "python",
   "pygments_lexer": "ipython3",
   "version": "3.10.16"
  }
 },
 "nbformat": 4,
 "nbformat_minor": 5
}
