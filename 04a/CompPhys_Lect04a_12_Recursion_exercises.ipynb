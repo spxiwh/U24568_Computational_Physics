{
 "cells": [
  {
   "cell_type": "markdown",
   "id": "a1f3c1ec",
   "metadata": {},
   "source": [
    "# Recursion - Exercises\n",
    "\n",
    "## Exercise 1\n",
    "\n",
    "Write a program to compute f(n)=f(n-1)+100 when n>0 and f(0)=1 with a given n input by console (n>0)."
   ]
  },
  {
   "cell_type": "code",
   "execution_count": 1,
   "id": "bfa4a3f0",
   "metadata": {},
   "outputs": [],
   "source": [
    "# Code here"
   ]
  },
  {
   "cell_type": "markdown",
   "id": "41d41fc4",
   "metadata": {},
   "source": [
    "## Exercise 2\n",
    "\n",
    "Write a function to return the Nth Fibonacci number using recursion."
   ]
  },
  {
   "cell_type": "code",
   "execution_count": 2,
   "id": "c69b88da",
   "metadata": {},
   "outputs": [],
   "source": [
    "# Code here"
   ]
  }
 ],
 "metadata": {
  "kernelspec": {
   "display_name": "Python 3 (ipykernel)",
   "language": "python",
   "name": "python3"
  },
  "language_info": {
   "codemirror_mode": {
    "name": "ipython",
    "version": 3
   },
   "file_extension": ".py",
   "mimetype": "text/x-python",
   "name": "python",
   "nbconvert_exporter": "python",
   "pygments_lexer": "ipython3",
   "version": "3.9.12"
  }
 },
 "nbformat": 4,
 "nbformat_minor": 5
}
