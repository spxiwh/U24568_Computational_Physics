{
 "cells": [
  {
   "cell_type": "markdown",
   "id": "0fd730ca",
   "metadata": {},
   "source": [
    "# List comprehensions - Exercises 1\n",
    "\n",
    "## Exercise 1\n",
    "\n",
    "Compute $x^{0.5}$ for all integer values of $x$ between 15 and 105 using a list comprehension."
   ]
  },
  {
   "cell_type": "code",
   "execution_count": 1,
   "id": "2aaf4a4c",
   "metadata": {},
   "outputs": [],
   "source": [
    "# Code here"
   ]
  },
  {
   "cell_type": "markdown",
   "id": "c7385888",
   "metadata": {},
   "source": [
    "## Exercise 2\n",
    "\n",
    "Compute $\\sin(x)^2 - \\cos(x)^2$ for 1000 values of x, uniformly distributed between 0 and $2 \\pi$ using a list comprehension."
   ]
  },
  {
   "cell_type": "code",
   "execution_count": 2,
   "id": "e4e51d01",
   "metadata": {},
   "outputs": [],
   "source": [
    "# Code here"
   ]
  }
 ],
 "metadata": {
  "kernelspec": {
   "display_name": "Python 3 (ipykernel)",
   "language": "python",
   "name": "python3"
  },
  "language_info": {
   "codemirror_mode": {
    "name": "ipython",
    "version": 3
   },
   "file_extension": ".py",
   "mimetype": "text/x-python",
   "name": "python",
   "nbconvert_exporter": "python",
   "pygments_lexer": "ipython3",
   "version": "3.9.12"
  }
 },
 "nbformat": 4,
 "nbformat_minor": 5
}
