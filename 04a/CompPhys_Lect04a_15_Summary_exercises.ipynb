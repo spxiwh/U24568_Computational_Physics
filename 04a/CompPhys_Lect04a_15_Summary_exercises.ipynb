{
 "cells": [
  {
   "cell_type": "markdown",
   "id": "0a1036ab",
   "metadata": {},
   "source": [
    "# Summary Exercises\n",
    "\n",
    "We've introduced a number of different concepts at this point. Let me try and set some summary exercises to close things out, these will probably be quite challenging. "
   ]
  },
  {
   "cell_type": "markdown",
   "id": "22926549",
   "metadata": {},
   "source": [
    "## Exercise 1\n",
    "\n",
    "Write a generator with the following properties:\n",
    "\n",
    "* The generator should model the motion of a particle in two directions (call them x and y).\n",
    "* The initial position of the particle should be (0,0) (corresponding to the positions in x and y). This should be the first `yield` of this generator.\n",
    "* Every subsequent `yield` should move the particle by a random amount in x and y. The magnitude moved should be drawn from a uniform distribution between 0 and 1 and the direction of this moving should be drawn from a uniform angle between 0 and 2pi.\n",
    "* The generator should stop when the distance between the particle and the origin is at least 10.\n",
    "\n",
    "Run this generator (use a list comprehension to run the generator and store the x,y positions of the particle over time).\n",
    "\n",
    "Plot these positions in a 2D plot.\n",
    "\n",
    "Run the generator some additional times and show these evolutions on the same plot.\n"
   ]
  },
  {
   "cell_type": "code",
   "execution_count": 1,
   "id": "87a1d1ab",
   "metadata": {},
   "outputs": [],
   "source": [
    "# Code here"
   ]
  },
  {
   "cell_type": "markdown",
   "id": "f57bbbc1",
   "metadata": {},
   "source": [
    "## Exercise 2\n",
    "\n",
    "(Courtesy of codesignal.com, https://app.codesignal.com/arcade/python-arcade/lambda-illusions/eP7hJDmLdZym2Kdo3)\n",
    "\n",
    "\"\"\"\n",
    "You've been preparing all night for the upcoming test and entered the class certain that you will ace it. Now that you received the test questions, you died inside a little: looks like you prepared for the test on a completely different topic.\n",
    "\n",
    "You're not even sure if you should bother to answer the questions. You still have some hope though: it is known that there's a glitch in the test preparing system, so that if the sum of digits of question ids is divisible by k, the answer to each question has a 90% probability to be an A.\n",
    "\n",
    "Given the list of question ids, determine if the sum of their digits is divisible by k to see if it's worth trying to pass the test.\n",
    "\"\"\"\n",
    "\n",
    "To solve this problem you must write a lambda function in the space indicated. You *must not* add any additional lines to solve this!\n"
   ]
  },
  {
   "cell_type": "code",
   "execution_count": 2,
   "id": "6e4fd751",
   "metadata": {},
   "outputs": [],
   "source": [
    "# Code here"
   ]
  },
  {
   "cell_type": "code",
   "execution_count": 3,
   "id": "73480c3f",
   "metadata": {},
   "outputs": [
    {
     "ename": "SyntaxError",
     "evalue": "invalid syntax (3881476396.py, line 2)",
     "output_type": "error",
     "traceback": [
      "\u001b[0;36m  File \u001b[0;32m\"/var/folders/67/1t4_rwdj441c8g3j147_fwrh0000gs/T/ipykernel_56511/3881476396.py\"\u001b[0;36m, line \u001b[0;32m2\u001b[0m\n\u001b[0;31m    digitSum = # Add lambda function here. MAKE NO OTHER CHANGES!!\u001b[0m\n\u001b[0m               ^\u001b[0m\n\u001b[0;31mSyntaxError\u001b[0m\u001b[0;31m:\u001b[0m invalid syntax\n"
     ]
    }
   ],
   "source": [
    "def isTestSolvable(ids, k):\n",
    "    digitSum = # Add lambda function here. MAKE NO OTHER CHANGES!!\n",
    "\n",
    "    sm = 0\n",
    "    for questionId in ids:\n",
    "        sm += digitSum(questionId)\n",
    "    return sm % k == 0\n",
    "\n",
    "ids = [529665, 909767, 644200]\n",
    "k = 3\n",
    "print (isTestSolvable(ids,k), \"Should be True\")\n",
    "\n",
    "ids = [882144, 993441, 460418, 325830, 404529, 912233, 255818, 68407, 94032, 6801, 38227, 997782, 747063, 754688, 725338, 802267, 673468, 271162, 478014, 21599]\n",
    "k = 6\n",
    "print (isTestSolvable(ids,k), \"Should be False\")\n"
   ]
  },
  {
   "cell_type": "markdown",
   "id": "352e591e",
   "metadata": {},
   "source": [
    "## Exercise 3\n",
    "\n",
    "(From https://www.w3resource.com/)\n",
    "\n",
    "Write a Python program to calculate the value of 'a' to the power 'b'. Do not use the `**` operator, the `pow` function `math.pow`, equivalent numpy functions or anything else that already does this for you.\n",
    "\n",
    "Assume that b is an integer, and implement this using only the multiply `*` operator. Can you write a solution:\n",
    "\n",
    "1. Using recursion\n",
    "1. Not using recursion\n",
    "\n",
    "Which do you prefer?"
   ]
  },
  {
   "cell_type": "code",
   "execution_count": 4,
   "id": "d38a4e60",
   "metadata": {},
   "outputs": [],
   "source": [
    "# Code here"
   ]
  },
  {
   "cell_type": "markdown",
   "id": "ce04a2fe",
   "metadata": {},
   "source": [
    "## EXERCISE 4\n",
    "\n",
    "Given a string, write a function to return all unique palindromic (https://en.wikipedia.org/wiki/Palindrome) subtrings (https://en.wikipedia.org/wiki/Substring) sorted according to the scrabble value of each of the substrings (if the scrabble score is equal, it should be alphabetically sorted). By this we mean if the string is \"arsfgfsgh\", the output should be `['a', 'r', 's', 'g', 'f', 'fgf', 'sfgfs']`. These are all the possible substrings of the input which are palindromes and they ordered in increasing values of the scrabble score (a = 1, r = 1, s = 1, g = 2, f = 4, fgf = 10, sfgfs = 12).\n",
    "\n",
    "Some other examples and outputs:\n",
    "\n",
    "* Input: 'cabca'; Output: `['a', 'b', 'c']`\n",
    "* Input: 'ccccccccccc'; Output: `['c', 'cc', 'ccc', 'cccc', 'ccccc', 'cccccc', 'ccccccc', 'cccccccc', 'ccccccccc', 'cccccccccc']`\n",
    "* Input: 'abacabaabacab'; Output: `['a', 'aa', 'b', 'c', 'aba', 'aca', 'baab', 'abaaba', 'bacab', 'abacaba', 'cabaabac', 'acabaabaca']`\n",
    "* Input: 'zazazaza'; Output: `['a', 'z', 'aza', 'zaz', 'azaza', 'zazaz', 'zazazaz']`\n",
    "* Input: 'shjzzovuzvabrcrfxemkhbiguanipxaxrnybexth'; Output: `['a', 'e', 'i', 'n', 'o', 'r', 's', 't', 'u', 'g', 'b', 'c', 'm', 'p', 'f', 'h', 'v', 'y', 'k', 'rcr', 'j', 'x', 'z', 'xax', 'zz']`"
   ]
  },
  {
   "cell_type": "code",
   "execution_count": 6,
   "id": "6e098dca",
   "metadata": {},
   "outputs": [],
   "source": [
    "scrabble_score = {\"a\": 1 , \"b\": 3 , \"c\": 3 , \"d\": 2 ,\n",
    "         \"e\": 1 , \"f\": 4 , \"g\": 2 , \"h\": 4 ,\n",
    "         \"i\": 1 , \"j\": 8 , \"k\": 5 , \"l\": 1 ,\n",
    "         \"m\": 3 , \"n\": 1 , \"o\": 1 , \"p\": 3 ,\n",
    "         \"q\": 10, \"r\": 1 , \"s\": 1 , \"t\": 1 ,\n",
    "         \"u\": 1 , \"v\": 4 , \"w\": 4 , \"x\": 8 ,\n",
    "         \"y\": 4 , \"z\": 10}\n",
    "\n",
    "# Code here"
   ]
  }
 ],
 "metadata": {
  "kernelspec": {
   "display_name": "Python 3 (ipykernel)",
   "language": "python",
   "name": "python3"
  },
  "language_info": {
   "codemirror_mode": {
    "name": "ipython",
    "version": 3
   },
   "file_extension": ".py",
   "mimetype": "text/x-python",
   "name": "python",
   "nbconvert_exporter": "python",
   "pygments_lexer": "ipython3",
   "version": "3.9.12"
  }
 },
 "nbformat": 4,
 "nbformat_minor": 5
}
