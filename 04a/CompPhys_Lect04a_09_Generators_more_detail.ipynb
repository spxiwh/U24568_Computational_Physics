{
 "cells": [
  {
   "cell_type": "markdown",
   "id": "488bd71c",
   "metadata": {},
   "source": [
    "# Generators - A bit more complexity\n",
    "\n",
    "Let's add a bit more complexity to the problem now. Here's an example which will generate $N$ numbers between 0 and $\\pi$. $N$ is supplied as an argument when creating the generator"
   ]
  },
  {
   "cell_type": "code",
   "execution_count": 1,
   "id": "33ab9055",
   "metadata": {},
   "outputs": [
    {
     "name": "stdout",
     "output_type": "stream",
     "text": [
      "0.0\n",
      "0.3490658503988659\n",
      "0.6981317007977318\n",
      "1.0471975511965976\n",
      "1.3962634015954636\n",
      "1.7453292519943295\n",
      "2.0943951023931953\n",
      "2.443460952792061\n",
      "2.792526803190927\n",
      "3.141592653589793\n",
      "\n",
      "0.0\n",
      "0.16534698176788384\n",
      "0.3306939635357677\n",
      "0.4960409453036515\n",
      "0.6613879270715354\n",
      "0.8267349088394192\n",
      "0.992081890607303\n",
      "1.1574288723751869\n",
      "1.3227758541430708\n",
      "1.4881228359109546\n",
      "1.6534698176788385\n",
      "1.8188167994467224\n",
      "1.984163781214606\n",
      "2.14951076298249\n",
      "2.3148577447503738\n",
      "2.4802047265182576\n",
      "2.6455517082861415\n",
      "2.8108986900540254\n",
      "2.9762456718219092\n",
      "3.141592653589793\n"
     ]
    }
   ],
   "source": [
    "import numpy as np\n",
    "\n",
    "def gen_N_numbers(N):\n",
    "    diff = np.pi / (N-1)\n",
    "    for i in range(N):\n",
    "        yield i * diff\n",
    "\n",
    "for num in gen_N_numbers(10):\n",
    "    print (num)\n",
    "\n",
    "print()\n",
    "\n",
    "for num in gen_N_numbers(20):\n",
    "    print (num)\n"
   ]
  },
  {
   "cell_type": "markdown",
   "id": "2c40acb4",
   "metadata": {},
   "source": [
    "And here's a more complex example, which is really one of the main examples for why a generator would be used. In this case we consider the motion of some particle in the x direction. With each iteration the particle moves by 1 unit in the x direction *either* forwards or backwards, with a 50% chance of doing either. The iteration should stop when the particle has reached an x position of either +50 or -50.\n",
    "\n",
    "This is a special example because it's an *evolving* system. The next point depends on the previous point and this information can be stored inside the generator. This is great if doing some quite complex random evolution problems (we'll explore one example at the end!)"
   ]
  },
  {
   "cell_type": "code",
   "execution_count": 2,
   "id": "f9387152",
   "metadata": {},
   "outputs": [
    {
     "name": "stdout",
     "output_type": "stream",
     "text": [
      "376 [-1, -2, -3, -4, -5, -6, -5, -6, -5, -6, -5, -4, -3, -4, -3, -2, -3, -2, -3, -4, -5, -6, -7, -8, -7, -6, -7, -6, -7, -8, -9, -10, -9, -8, -9, -10, -11, -12, -11, -12, -13, -14, -15, -14, -13, -12, -13, -14, -15, -16, -15, -16, -17, -18, -19, -20, -19, -20, -21, -20, -21, -22, -23, -24, -25, -26, -27, -28, -29, -28, -29, -30, -29, -28, -27, -26, -25, -24, -23, -22, -23, -24, -25, -24, -23, -24, -23, -24, -23, -22, -23, -22, -21, -22, -23, -22, -23, -22, -21, -20, -19, -18, -19, -18, -19, -20, -19, -20, -19, -18, -19, -18, -17, -18, -19, -18, -19, -18, -17, -18, -17, -16, -17, -18, -19, -18, -17, -18, -19, -20, -21, -22, -21, -20, -21, -22, -23, -22, -23, -22, -21, -22, -21, -20, -21, -20, -21, -20, -19, -20, -19, -20, -21, -20, -21, -22, -23, -22, -23, -22, -23, -22, -21, -22, -21, -22, -21, -22, -23, -24, -23, -22, -21, -22, -23, -24, -25, -26, -27, -26, -25, -24, -23, -24, -23, -24, -25, -24, -25, -24, -23, -22, -21, -20, -19, -20, -19, -20, -19, -18, -19, -18, -17, -18, -19, -18, -19, -18, -17, -16, -17, -18, -17, -18, -19, -18, -17, -18, -17, -16, -15, -14, -15, -14, -15, -14, -13, -12, -13, -12, -11, -12, -13, -14, -15, -14, -15, -16, -17, -16, -17, -16, -17, -18, -17, -16, -17, -18, -19, -18, -19, -20, -19, -20, -21, -20, -21, -22, -21, -22, -23, -22, -23, -24, -25, -26, -25, -24, -25, -26, -27, -26, -27, -26, -25, -24, -23, -24, -23, -24, -25, -26, -27, -28, -29, -30, -29, -28, -27, -28, -29, -28, -29, -28, -29, -28, -27, -26, -25, -24, -23, -24, -25, -26, -27, -28, -27, -28, -29, -30, -31, -30, -29, -30, -31, -30, -29, -30, -29, -28, -29, -30, -29, -30, -31, -30, -29, -28, -27, -26, -27, -26, -27, -28, -29, -28, -29, -30, -31, -32, -33, -34, -35, -36, -35, -36, -35, -36, -37, -36, -37, -38, -39, -40, -41, -40, -41, -40, -41, -42, -43, -44, -45, -46, -47, -48, -47, -48, -47, -46, -47, -48, -49, -48, -49, -50]\n"
     ]
    }
   ],
   "source": [
    "# The random module is great for random problems. We explored random processes already\n",
    "import random\n",
    "\n",
    "def moving_particle():\n",
    "    particle_position = 0\n",
    "    \n",
    "    while 1:\n",
    "        forward_or_backwards = random.choice([-1,1])\n",
    "        particle_position = particle_position + forward_or_backwards\n",
    "        yield particle_position\n",
    "        if abs(particle_position) == 50:\n",
    "            break\n",
    "\n",
    "particle_moves = []\n",
    "for pos in moving_particle():\n",
    "    particle_moves.append(pos)\n",
    "\n",
    "print (len(particle_moves), particle_moves)"
   ]
  },
  {
   "cell_type": "markdown",
   "id": "f3dad4a2",
   "metadata": {},
   "source": [
    "For a bit more detail in generators, and some more advanced functionality, I refer you again to this article:\n",
    "\n",
    "https://realpython.com/introduction-to-python-generators/"
   ]
  }
 ],
 "metadata": {
  "kernelspec": {
   "display_name": "Python 3 (ipykernel)",
   "language": "python",
   "name": "python3"
  },
  "language_info": {
   "codemirror_mode": {
    "name": "ipython",
    "version": 3
   },
   "file_extension": ".py",
   "mimetype": "text/x-python",
   "name": "python",
   "nbconvert_exporter": "python",
   "pygments_lexer": "ipython3",
   "version": "3.9.12"
  }
 },
 "nbformat": 4,
 "nbformat_minor": 5
}
