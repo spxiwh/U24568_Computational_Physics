{
 "cells": [
  {
   "cell_type": "markdown",
   "id": "4f9e2e92",
   "metadata": {},
   "source": [
    "# Introduction\n",
    "\n",
    "In this lecture we will introduce a number of advanced techniques in Python, which can be useful in a variety of situations. Some of these are particular to Python, and its syntax, others are more general techniques. In particular we will cover:\n",
    "\n",
    "* List, Set and Dictionary comprehensions\n",
    "* Generators\n",
    "* Recursion\n",
    "* Functions as objects, and the Lambda operator\n",
    "\n",
    "Please do ask if you find any of this confusing. We're more than happy to go over this (whether today, or in a future lecture). This topics are largely separate from each other, so you could go over this in whatever order makes sense to you."
   ]
  }
 ],
 "metadata": {
  "kernelspec": {
   "display_name": "Python 3 (ipykernel)",
   "language": "python",
   "name": "python3"
  },
  "language_info": {
   "codemirror_mode": {
    "name": "ipython",
    "version": 3
   },
   "file_extension": ".py",
   "mimetype": "text/x-python",
   "name": "python",
   "nbconvert_exporter": "python",
   "pygments_lexer": "ipython3",
   "version": "3.9.12"
  }
 },
 "nbformat": 4,
 "nbformat_minor": 5
}
