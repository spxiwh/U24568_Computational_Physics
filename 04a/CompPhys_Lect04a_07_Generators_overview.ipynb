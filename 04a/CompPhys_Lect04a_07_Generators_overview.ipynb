{
 "cells": [
  {
   "cell_type": "markdown",
   "id": "af15ec1b",
   "metadata": {},
   "source": [
    "# Generators - Overview\n",
    "\n",
    "What is a generator? A generator is a specific type of function in Python, which has some special properties allowing it to be used as an iterator (ie. in a for loop). Let me quote from the nice reference https://realpython.com/introduction-to-python-generators/ here:\n",
    "\n",
    "\"\n",
    "Introduced with PEP 255, generator functions are a special kind of function that return a lazy iterator. These are objects that you can loop over like a list. However, unlike lists, lazy iterators do not store their contents in memory.\n",
    "\"\n",
    "\n",
    "Why would you need this?\n",
    "\n",
    "\"\n",
    "Have you ever had to work with a dataset so large that it overwhelmed your machine’s memory? Or maybe you have a complex function that needs to maintain an internal state every time it’s called, but the function is too small to justify creating its own class. In these cases and more, generators and the Python yield statement are here to help.\n",
    "\"\n",
    "\n",
    "Still not making sense? Let's try to explain with some examples.\n",
    "\n",
    "As an example of this (following closely https://realpython.com/introduction-to-python-generators/), let's look at reading in our `stm.txt` file. This is on Moodle for those following the course, but we'll also generate a similar file here to illustrate the same points and make this more portable."
   ]
  },
  {
   "cell_type": "code",
   "execution_count": 2,
   "id": "bb5f375f",
   "metadata": {},
   "outputs": [],
   "source": [
    "fpointer = open('stm.txt', 'w')\n",
    "for i in range(1000):\n",
    "    fpointer.write('2 2 4 5 6\\n')\n",
    "fpointer.close()"
   ]
  },
  {
   "cell_type": "markdown",
   "id": "74f0fa66",
   "metadata": {},
   "source": [
    "Let's first start by writing a function to read this in line-by-line using stuff we've already seen:"
   ]
  },
  {
   "cell_type": "code",
   "execution_count": 4,
   "id": "9938b9cf",
   "metadata": {},
   "outputs": [
    {
     "name": "stdout",
     "output_type": "stream",
     "text": [
      "Row count is 1001\n",
      "6\n"
     ]
    }
   ],
   "source": [
    "def txt_reader(file_name):\n",
    "    file = open(file_name)\n",
    "    lines = file.read().split(\"\\n\")\n",
    "    result = [line.split(' ') for line in lines]\n",
    "    # Result will be a list of lists. result[i] will refer to the ith row, result[i][j] will refer to the jth column\n",
    "    # in the ith row.\n",
    "    return result\n",
    "\n",
    "txt_gen = txt_reader(\"stm.txt\")\n",
    "row_count = 0\n",
    "\n",
    "for row in txt_gen:\n",
    "    row_count += 1\n",
    "\n",
    "print(f\"Row count is {row_count}\")\n",
    "\n",
    "# Note that the entire file is stored in memory, so we can do:\n",
    "print (txt_gen[2][4])\n",
    "# To quickly get a specific value\n"
   ]
  },
  {
   "cell_type": "markdown",
   "id": "ebe93955",
   "metadata": {},
   "source": [
    "However, if this file was extremely long, then it might not be possible to hold the whole thing in memory (or you just might not want to be so inefficient with memory usage). So if we just wanted to do something that involves reading the file in a linear order (for example counting the number of entries, or lines, in the file, or counting how often 123 occurs in the file), we can instead use a generator. This looks something like"
   ]
  },
  {
   "cell_type": "code",
   "execution_count": 5,
   "id": "43b528b0",
   "metadata": {},
   "outputs": [
    {
     "name": "stdout",
     "output_type": "stream",
     "text": [
      "Row count is 1000\n"
     ]
    }
   ],
   "source": [
    "def txt_reader(file_name):\n",
    "    for row in open(file_name, \"r\"):\n",
    "        yield row\n",
    "\n",
    "txt_gen = txt_reader(\"stm.txt\")\n",
    "row_count = 0\n",
    "\n",
    "for row in txt_gen:\n",
    "    row_count += 1\n",
    "\n",
    "print(f\"Row count is {row_count}\")\n",
    "\n",
    "# Note that the entire file is NOT stored in memory, so we CANNOT do:\n",
    "# print (txt_gen[2][10])\n",
    "# To quickly get a specific value\n"
   ]
  },
  {
   "cell_type": "markdown",
   "id": "2933089b",
   "metadata": {},
   "source": [
    "So let's try and break down how this works. The magic here is the `yield` statement. If you run a function that evaluates a yield statement, it will be interpreted as a *generator*, and a generator object will be returned. Then if used as an iterator (ie. in a for loop) the first value of the iterator will be the value after `yield`, then it will continue until `yield` is reached again and this will be the second value of the iterator. When the function stops reaching `yield` (ie. when it stops) the iteration will stop. So as a simple example of generating integers between 1 and 100 you can do:"
   ]
  },
  {
   "cell_type": "code",
   "execution_count": 7,
   "id": "4733be89",
   "metadata": {},
   "outputs": [
    {
     "name": "stdout",
     "output_type": "stream",
     "text": [
      "1\n",
      "2\n",
      "3\n",
      "4\n",
      "5\n",
      "6\n",
      "7\n",
      "8\n",
      "9\n",
      "10\n",
      "11\n",
      "12\n",
      "13\n",
      "14\n",
      "15\n",
      "16\n",
      "17\n",
      "18\n",
      "19\n",
      "20\n",
      "21\n",
      "22\n",
      "23\n",
      "24\n",
      "25\n",
      "26\n",
      "27\n",
      "28\n",
      "29\n",
      "30\n",
      "31\n",
      "32\n",
      "33\n",
      "34\n",
      "35\n",
      "36\n",
      "37\n",
      "38\n",
      "39\n",
      "40\n",
      "41\n",
      "42\n",
      "43\n",
      "44\n",
      "45\n",
      "46\n",
      "47\n",
      "48\n",
      "49\n",
      "50\n",
      "51\n",
      "52\n",
      "53\n",
      "54\n",
      "55\n",
      "56\n",
      "57\n",
      "58\n",
      "59\n",
      "60\n",
      "61\n",
      "62\n",
      "63\n",
      "64\n",
      "65\n",
      "66\n",
      "67\n",
      "68\n",
      "69\n",
      "70\n",
      "71\n",
      "72\n",
      "73\n",
      "74\n",
      "75\n",
      "76\n",
      "77\n",
      "78\n",
      "79\n",
      "80\n",
      "81\n",
      "82\n",
      "83\n",
      "84\n",
      "85\n",
      "86\n",
      "87\n",
      "88\n",
      "89\n",
      "90\n",
      "91\n",
      "92\n",
      "93\n",
      "94\n",
      "95\n",
      "96\n",
      "97\n",
      "98\n",
      "99\n",
      "100\n"
     ]
    }
   ],
   "source": [
    "def integer_generator():\n",
    "    i = 1\n",
    "    while i <= 100:\n",
    "        yield i\n",
    "        i += 1\n",
    "\n",
    "gen = integer_generator()\n",
    "\n",
    "for curr_int in gen:\n",
    "    print (curr_int)"
   ]
  },
  {
   "cell_type": "markdown",
   "id": "b0c50067",
   "metadata": {},
   "source": [
    "I emphasize that this is just a simple example, for such a case the `range` function (which is actually a generator!) should be used. But you can make this an infinite integer generator. The following will just keep generating integers until you terminate the process (kernel->interrupt will stop this):"
   ]
  },
  {
   "cell_type": "code",
   "execution_count": 8,
   "id": "4bbe2059",
   "metadata": {},
   "outputs": [
    {
     "name": "stdout",
     "output_type": "stream",
     "text": [
      "1\n",
      "2\n",
      "3\n",
      "4\n",
      "5\n",
      "6\n",
      "7\n",
      "8\n",
      "9\n",
      "10\n",
      "11\n",
      "12\n",
      "13\n",
      "14\n",
      "15\n",
      "16\n",
      "17\n",
      "18\n",
      "19\n",
      "20\n",
      "21\n",
      "22\n",
      "23\n",
      "24\n",
      "25\n",
      "26\n",
      "27\n",
      "28\n",
      "29\n",
      "30\n",
      "31\n",
      "32\n",
      "33\n",
      "34\n",
      "35\n",
      "36\n",
      "37\n",
      "38\n",
      "39\n",
      "40\n",
      "41\n",
      "42\n",
      "43\n",
      "44\n",
      "45\n",
      "46\n",
      "47\n",
      "48\n",
      "49\n",
      "50\n",
      "51\n",
      "52\n",
      "53\n",
      "54\n",
      "55\n",
      "56\n",
      "57\n",
      "58\n",
      "59\n",
      "60\n",
      "61\n",
      "62\n",
      "63\n",
      "64\n",
      "65\n",
      "66\n",
      "67\n",
      "68\n"
     ]
    }
   ],
   "source": [
    "def integer_generator():\n",
    "    i = 1\n",
    "    while 1:\n",
    "        yield i\n",
    "        i += 1\n",
    "\n",
    "gen = integer_generator()\n",
    "\n",
    "for curr_int in gen:\n",
    "    print (curr_int)\n",
    "    # I have to include a break here or the HTML generation code gets stuck!!\n",
    "    if curr_int > 67:\n",
    "        break"
   ]
  },
  {
   "cell_type": "markdown",
   "id": "0bcee0d4",
   "metadata": {},
   "source": [
    "We can also use the `next` command, which will simply obtain the next value from the generator. So in the previous case we can do:"
   ]
  },
  {
   "cell_type": "code",
   "execution_count": 9,
   "id": "f67e567c",
   "metadata": {},
   "outputs": [
    {
     "name": "stdout",
     "output_type": "stream",
     "text": [
      "1\n",
      "2\n",
      "3\n",
      "4\n",
      "5\n"
     ]
    }
   ],
   "source": [
    "def integer_generator():\n",
    "    i = 1\n",
    "    while 1:\n",
    "        yield i\n",
    "        i += 1\n",
    "\n",
    "gen = integer_generator()\n",
    "\n",
    "print (next(gen))\n",
    "print (next(gen))\n",
    "print (next(gen))\n",
    "print (next(gen))\n",
    "print (next(gen))"
   ]
  }
 ],
 "metadata": {
  "kernelspec": {
   "display_name": "Python 3 (ipykernel)",
   "language": "python",
   "name": "python3"
  },
  "language_info": {
   "codemirror_mode": {
    "name": "ipython",
    "version": 3
   },
   "file_extension": ".py",
   "mimetype": "text/x-python",
   "name": "python",
   "nbconvert_exporter": "python",
   "pygments_lexer": "ipython3",
   "version": "3.9.12"
  }
 },
 "nbformat": 4,
 "nbformat_minor": 5
}
