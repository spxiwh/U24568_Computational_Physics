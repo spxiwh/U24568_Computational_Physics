{
 "cells": [
  {
   "cell_type": "markdown",
   "metadata": {
    "id": "bapxcfvJzkXf"
   },
   "source": [
    "# Everything in one notebook - Advanced Techniques\n",
    "## Lecture 4a - Advanced Techniques"
   ]
  },
  {
   "cell_type": "markdown",
   "metadata": {
    "id": "QkUstCvfzkXh"
   },
   "source": [
    "In this lecture we will introduce a number of advanced techniques in Python, which can be useful in a variety of situations. Some of these are particular to Python, and its syntax, others are more general techniques. In particular we will cover:\n",
    "\n",
    "* List, Set and Dictionary comprehensions\n",
    "* Generators\n",
    "* Recursion\n",
    "* Functions as objects, and the Lambda operator\n",
    "\n",
    "Please do ask if you find any of this confusing. We're more than happy to go over this (whether today, or in a future lecture). This topics are largely separate from each other, so you could go over this in whatever order makes sense to you."
   ]
  },
  {
   "cell_type": "markdown",
   "metadata": {
    "id": "8G-Gry2uzkXh"
   },
   "source": [
    "## List comprehensions\n",
    "\n",
    "\"List comprehensions\" is a fancy way of describing a syntax feature in Python, which lets you write simple for loops in a condensed form. Let's consider a for loop which collects the first 100 cubic numbers."
   ]
  },
  {
   "cell_type": "code",
   "execution_count": null,
   "metadata": {
    "id": "DfEf6kpozkXh"
   },
   "outputs": [],
   "source": [
    "cube_numbers = []\n",
    "for i in range(1,101):\n",
    "    cube_numbers.append(i**3)"
   ]
  },
  {
   "cell_type": "markdown",
   "metadata": {
    "id": "edD70qSnzkXi"
   },
   "source": [
    "This is 3 lines of code. This can be written in one line as a list comprehension with the following:"
   ]
  },
  {
   "cell_type": "code",
   "execution_count": null,
   "metadata": {
    "id": "d1pC8B_izkXi"
   },
   "outputs": [],
   "source": [
    "cube_numbers = [i**3 for i in range(1,101)]\n",
    "print(cube_numbers)"
   ]
  },
  {
   "cell_type": "markdown",
   "metadata": {
    "id": "udYCSS4EzkXi"
   },
   "source": [
    "You can see that exactly the same variables (`i` and `cube_numbers`) are used, and both use the same `range` function. In fact these are identical, python will internally do exactly the same thing in these two instances."
   ]
  },
  {
   "cell_type": "markdown",
   "metadata": {
    "id": "kIL2IJ3wzkXi"
   },
   "source": [
    "One more example, and then it's over to you. Here we have as input a list of names, as strings in the format \"FIRST_NAME LAST_NAME\" (for e.g. `[\"Ian Harry\", \"Laura Nutall\", \"Gareth Cabourn-Davies\"]`). We want to create two lists, one list of the first names, and one of the last names. This can be done using:"
   ]
  },
  {
   "cell_type": "code",
   "execution_count": null,
   "metadata": {
    "id": "ZltsvkrrzkXi"
   },
   "outputs": [],
   "source": [
    "names = [\"Boris Johnson\", \"Theresa May\", \"David Cameron\", \"Gordon Brown\", \"Tony Blair\", \"John Major\", \"Margaret Thatcher\",\n",
    "         \"James Callaghan\", \"Harold Wilson\", \"Edward Heath\", \"Harold Wilson\", \"Alec Douglas-Home\", \"Harold Macmillan\"] # Turns out this list dated a lot in a year!\n",
    "\n",
    "first_names = []\n",
    "last_names = []\n",
    "for name in names:\n",
    "    first_name, last_name = name.split(' ')\n",
    "    first_names.append(first_name)\n",
    "    last_names.append(last_name)\n",
    "print (first_names)\n",
    "print (last_names)"
   ]
  },
  {
   "cell_type": "markdown",
   "metadata": {
    "id": "ZdcFWeJizkXi"
   },
   "source": [
    "This can be written more simply as *two* list comprehensions."
   ]
  },
  {
   "cell_type": "code",
   "execution_count": null,
   "metadata": {
    "id": "n6fqNBwSzkXi"
   },
   "outputs": [],
   "source": [
    "first_names = [name.split(' ')[0] for name in names]\n",
    "last_names = [name.split(' ')[1] for name in names]\n",
    "\n",
    "print (first_names)\n",
    "print (last_names)"
   ]
  },
  {
   "cell_type": "markdown",
   "metadata": {
    "id": "de1IBoI7zkXj"
   },
   "source": [
    "In this case, the list comprehensions, while less code, are actually slower, as we need to loop and do the split twice. However, as the \"Zen of Python\" states:\n",
    "\n",
    "https://www.python.org/dev/peps/pep-0020/\n",
    "\n",
    "\"Readability counts\", so if you can make code more readable (even if it's slower) it might be worth doing if you don't need that speed difference. I note that it is possible to reduce this into a single line command, but then it is still only as fast as the two list comprehensions, and almost unreadable:"
   ]
  },
  {
   "cell_type": "code",
   "execution_count": null,
   "metadata": {
    "id": "gV_PU63kzkXj"
   },
   "outputs": [],
   "source": [
    "# AVOID CODE LIKE THIS, IF YOU DON'T KNOW WHAT IT DOES, HOW WILL ANYONE ELSE?\n",
    "# .... But this does demonstrate that you can nest list comprehensions in list comprehensions\n",
    "first_names, last_names = [[name.split(' ')[i] for name in names] for i in [0,1]]\n",
    "\n",
    "print (first_names)\n",
    "print (last_names)"
   ]
  },
  {
   "cell_type": "markdown",
   "metadata": {
    "id": "cNmrY1n-zkXj"
   },
   "source": [
    "**EXERCISE**\n",
    "\n",
    "1. Compute $x^{0.5}$ for all integer values of $x$ between 15 and 105 using a list comprehension.\n",
    "1. Compute $\\sin(x)^2 - \\cos(x)^2$ for 1000 values of x, uniformly distributed between 0 and $2 \\pi$ using a list comprehension."
   ]
  },
  {
   "cell_type": "code",
   "execution_count": null,
   "metadata": {
    "id": "3r9e8PNqzkXj"
   },
   "outputs": [],
   "source": []
  },
  {
   "cell_type": "markdown",
   "metadata": {
    "id": "t5hdCy24zkXj"
   },
   "source": [
    "There's one more level of complexity that we can unlock with list comprehensions. That is that they can also contain a single conditional statement. So for example if we wanted to store all values of $x^3$ for x between 1 and 100 (inclusive) where $x^3$ does not end with the digit 8, we can do:"
   ]
  },
  {
   "cell_type": "code",
   "execution_count": null,
   "metadata": {
    "id": "KsZg53MTzkXj"
   },
   "outputs": [],
   "source": [
    "cubic_numbers = []\n",
    "for x in range(1,101):\n",
    "    x3 = x**3\n",
    "    if not (x3 % 10) == 8:\n",
    "        cubic_numbers.append(x3)\n",
    "print (cubic_numbers)"
   ]
  },
  {
   "cell_type": "markdown",
   "metadata": {
    "id": "fO2GB4WJzkXj"
   },
   "source": [
    "This can be written as a single list comprehension with"
   ]
  },
  {
   "cell_type": "code",
   "execution_count": null,
   "metadata": {
    "id": "2w65AjmqzkXj"
   },
   "outputs": [],
   "source": [
    "cubic_numbers = [x**3 for x in range(1,101) if (not (x**3 % 10) == 8)]"
   ]
  },
  {
   "cell_type": "markdown",
   "metadata": {
    "id": "ymmOkr11zkXj"
   },
   "source": [
    "Again though, list comprehensions should be used to help with code readability by making things more concise. Things that become so concise that they are unreadable are not good!"
   ]
  },
  {
   "cell_type": "markdown",
   "metadata": {
    "id": "6kS-4xFUzkXj"
   },
   "source": [
    "**EXERCISE**\n",
    "\n",
    "1. Compute $x^{0.5}$ for all integer values of $x$ between 15 and 105 *excluding* all values of $x$ where $x$ is a multiple of 7, using a list comprehension.\n",
    "1. Compute $\\sin(x)^2 - \\cos(x)^2$ for 1000 values of $x$, uniformly distributed between 0 and $2 \\pi$. Include only values of $x$ where $\\cos(x)$ is greater than 0 *or* $\\sin(x)$ is less than -0.5. Use a single-line list comprehension."
   ]
  },
  {
   "cell_type": "code",
   "execution_count": null,
   "metadata": {
    "id": "NqSOtWsbzkXj"
   },
   "outputs": [],
   "source": []
  },
  {
   "cell_type": "code",
   "execution_count": null,
   "metadata": {
    "id": "3rdS7JJizkXk"
   },
   "outputs": [],
   "source": []
  },
  {
   "cell_type": "markdown",
   "metadata": {
    "id": "v-yvelC-zkXk"
   },
   "source": [
    "As well as list comprehensions, we can also consider dictionary and even set comprehensions. These are simple enough to write:"
   ]
  },
  {
   "cell_type": "code",
   "execution_count": null,
   "metadata": {
    "id": "rXrKiP71zkXk"
   },
   "outputs": [],
   "source": [
    "cubic_numbers_dict = {x:x**3 for x in range(1,101) if (not (x**3 % 10) == 8)}\n",
    "print (cubic_numbers_dict)\n",
    "print (type(cubic_numbers_dict))\n",
    "\n",
    "# I avoid this because the syntax is too similar (in my mind) to dictionaries.\n",
    "#I would just do a list comprehension and wrap set() around it.\n",
    "cubic_numbers_set = {x**3 for x in range(1,101) if (not (x**3 % 10) == 8)}\n",
    "print (cubic_numbers_set)\n",
    "print (type(cubic_numbers_set))"
   ]
  },
  {
   "cell_type": "markdown",
   "metadata": {
    "id": "ZfR1r5R_zkXk"
   },
   "source": [
    "We can also do this (using circular brackets), but we do *not* get a tuple, instead we get ..."
   ]
  },
  {
   "cell_type": "code",
   "execution_count": null,
   "metadata": {
    "id": "QbZ-5X-uzkXk"
   },
   "outputs": [],
   "source": [
    "cubic_numbers_gen = (x**3 for x in range(1,101) if (not (x**3 % 10) == 8))\n",
    "print (cubic_numbers_gen)\n",
    "print (type(cubic_numbers_gen))"
   ]
  },
  {
   "cell_type": "markdown",
   "metadata": {
    "id": "x4tJs88AzkXk"
   },
   "source": [
    "A \"generator\" object?! What's that? This leads nicely into our next section!"
   ]
  },
  {
   "cell_type": "markdown",
   "metadata": {
    "id": "3wUVXMD3zkXk"
   },
   "source": [
    "## Generators\n",
    "\n",
    "What is a generator? A generator is a specific type of function in Python, which has some special properties allowing it to be used as an iterator (ie. in a for loop). Let me quote from the nice reference https://realpython.com/introduction-to-python-generators/ here:\n",
    "\n",
    "\"\n",
    "Introduced with PEP 255, generator functions are a special kind of function that return a lazy iterator. These are objects that you can loop over like a list. However, unlike lists, lazy iterators do not store their contents in memory.\n",
    "\"\n",
    "\n",
    "Why would you need this?\n",
    "\n",
    "\"\n",
    "Have you ever had to work with a dataset so large that it overwhelmed your machine’s memory? Or maybe you have a complex function that needs to maintain an internal state every time it’s called, but the function is too small to justify creating its own class. In these cases and more, generators and the Python yield statement are here to help.\n",
    "\"\n",
    "\n",
    "Still not making sense? Let's try to explain with some examples."
   ]
  },
  {
   "cell_type": "markdown",
   "metadata": {
    "id": "JNHceHB8zkXr"
   },
   "source": [
    "As an example of this (following closely https://realpython.com/introduction-to-python-generators/), let's look at reading in our `stm.txt` file, which we've used in previous lectures (you can download it from Moodle). Let's first start by writing a function to read this in line-by-line using stuff we've already seen:"
   ]
  },
  {
   "cell_type": "code",
   "execution_count": null,
   "metadata": {
    "id": "mKMVtFdFzkXr"
   },
   "outputs": [],
   "source": [
    "def txt_reader(file_name):\n",
    "    file = open(file_name)\n",
    "    lines = file.read().split(\"\\n\")\n",
    "    result = [line.split(' ') for line in lines]\n",
    "    # Result will be a list of lists. result[i] will refer to the ith row, result[i][j] will refer to the jth column\n",
    "    # in the ith row.\n",
    "    return result\n",
    "\n",
    "txt_gen = txt_reader(\"stm.txt\")\n",
    "row_count = 0\n",
    "\n",
    "for row in txt_gen:\n",
    "    row_count += 1\n",
    "\n",
    "# This uses a cool feature called fstrings. It lets us refer to specific variables, and print them, directly!\n",
    "print(f\"Row count is {row_count}\")\n",
    "\n",
    "# Note that the entire file is stored in memory, so we can do:\n",
    "print (txt_gen[2][10])\n",
    "# To quickly get a specific value\n"
   ]
  },
  {
   "cell_type": "markdown",
   "metadata": {
    "id": "I-E3AJr3zkXr"
   },
   "source": [
    "However, if this file was extremely long, then it might not be possible to hold the whole thing in memory (or you just might not want to be so inefficient with memory usage). So if we just wanted to do something that involves reading the file in a linear order (for example counting the number of entries, or lines, in the file, or counting how often 123 occurs in the file), we can instead use a generator. This looks something like"
   ]
  },
  {
   "cell_type": "code",
   "execution_count": null,
   "metadata": {
    "id": "gC0h0IXJzkXr"
   },
   "outputs": [],
   "source": [
    "def txt_reader(file_name):\n",
    "    for row in open(file_name, \"r\"):\n",
    "        yield row\n",
    "\n",
    "txt_gen = txt_reader(\"stm.txt\")\n",
    "row_count = 0\n",
    "\n",
    "for row in txt_gen:\n",
    "    row_count += 1\n",
    "\n",
    "print(f\"Row count is {row_count}\")\n",
    "\n",
    "# Note that the entire file is NOT stored in memory, so we CANNOT do:\n",
    "# print (txt_gen[2][10])\n",
    "# To quickly get a specific value\n"
   ]
  },
  {
   "cell_type": "markdown",
   "metadata": {
    "id": "M-eItsRKzkXr"
   },
   "source": [
    "So let's try and break down how this works. The magic here is the `yield` statement. If you run a function that evaluates a yield statement, it will be interpreted as a *generator*, and a generator object will be returned. Then if used as an iterator (ie. in a for loop) the first value of the iterator will be the value after `yield`, then it will continue until `yield` is reached again and this will be the second value of the iterator. When the function stops reaching `yield` (ie. when it stops) the iteration will stop. So as a simple example of generating integers between 1 and 1000 you can do:"
   ]
  },
  {
   "cell_type": "code",
   "execution_count": null,
   "metadata": {
    "id": "4xGzLctrzkXr"
   },
   "outputs": [],
   "source": [
    "def integer_generator():\n",
    "    i = 1\n",
    "    while i <= 1000:\n",
    "        yield i\n",
    "        i += 1\n",
    "\n",
    "gen = integer_generator()\n",
    "\n",
    "for curr_int in gen:\n",
    "    print (curr_int)"
   ]
  },
  {
   "cell_type": "markdown",
   "metadata": {
    "id": "2ADcijrczkXr"
   },
   "source": [
    "I emphasize that this is just a simple example, for such a case the `range` function (which is actually a generator!) should be used. But you can make this an infinite integer generator. The following will just keep generating integers until you terminate the process (kernel->interrupt will stop this):"
   ]
  },
  {
   "cell_type": "code",
   "execution_count": null,
   "metadata": {
    "id": "UVCmD2-szkXs"
   },
   "outputs": [],
   "source": [
    "def integer_generator():\n",
    "    i = 1\n",
    "    while 1:\n",
    "        yield i\n",
    "        i += 1\n",
    "\n",
    "gen = integer_generator()\n",
    "\n",
    "for curr_int in gen:\n",
    "    print (curr_int)"
   ]
  },
  {
   "cell_type": "markdown",
   "metadata": {
    "id": "Rbsc_YrizkXs"
   },
   "source": [
    "We can also use the `next` command, which will simply obtain the next value from the generator. So in the previous case we can do:"
   ]
  },
  {
   "cell_type": "code",
   "execution_count": null,
   "metadata": {
    "id": "xO5n-3NOzkXs"
   },
   "outputs": [],
   "source": [
    "def integer_generator():\n",
    "    i = 1\n",
    "    while 1:\n",
    "        yield i\n",
    "        i += 1\n",
    "\n",
    "gen = integer_generator()\n",
    "\n",
    "print (next(gen))\n",
    "print (next(gen))\n",
    "print (next(gen))\n",
    "print (next(gen))\n",
    "print (next(gen))"
   ]
  },
  {
   "cell_type": "markdown",
   "metadata": {
    "id": "Cku7K1JFzkXs"
   },
   "source": [
    "**EXERCISES** Let's try a couple of exercises at this stage.\n",
    "\n",
    "* Write a generator that returns $x !$ (x-factorial) for x between 1 and 40.\n",
    "* Write a generator that loops over values of $x^2$ while $x^2$ is smaller than 10000.\n"
   ]
  },
  {
   "cell_type": "code",
   "execution_count": null,
   "metadata": {
    "id": "AmRwdy5GzkXs"
   },
   "outputs": [],
   "source": []
  },
  {
   "cell_type": "code",
   "execution_count": null,
   "metadata": {
    "id": "SSRb5IhszkXs"
   },
   "outputs": [],
   "source": []
  },
  {
   "cell_type": "markdown",
   "metadata": {
    "id": "OBotbEz2zkXs"
   },
   "source": [
    "Let's add a bit more complexity to the problem now. Here's an example which will generate $N$ numbers between 0 and $\\pi$. $N$ is supplied as an argument when creating the generator"
   ]
  },
  {
   "cell_type": "code",
   "execution_count": null,
   "metadata": {
    "id": "Dj2XvcnUzkXs"
   },
   "outputs": [],
   "source": [
    "import numpy as np\n",
    "\n",
    "def gen_N_numbers(N):\n",
    "    diff = np.pi / (N-1)\n",
    "    for i in range(N):\n",
    "        yield i * diff\n",
    "\n",
    "for num in gen_N_numbers(10):\n",
    "    print (num)\n",
    "\n",
    "print()\n",
    "\n",
    "for num in gen_N_numbers(20):\n",
    "    print (num)\n"
   ]
  },
  {
   "cell_type": "markdown",
   "metadata": {
    "id": "zx8xZRZpzkXs"
   },
   "source": [
    "And here's a more complex example, which is really one of the main examples for why a generator would be used. In this case we consider the motion of some particle in the x direction. With each iteration the particle moves by 1 unit in the x direction *either* forwards or backwards, with a 50% chance of doing either. The iteration should stop when the particle has reached an x position of either +50 or -50.\n",
    "\n",
    "This is a special example because it's an *evolving* system. The next point depends on the previous point and this information can be stored inside the generator. This is great if doing some quite complex random evolution problems (we'll explore one example at the end!)"
   ]
  },
  {
   "cell_type": "code",
   "execution_count": null,
   "metadata": {
    "id": "_ZxZU-P0zkXs"
   },
   "outputs": [],
   "source": [
    "# The random module is great for random problems. We explored random processes already\n",
    "import random\n",
    "\n",
    "def moving_particle():\n",
    "    particle_position = 0\n",
    "    \n",
    "    while 1:\n",
    "        forward_or_backwards = random.choice([-1,1])\n",
    "        particle_position = particle_position + forward_or_backwards\n",
    "        yield particle_position\n",
    "        if abs(particle_position) == 50:\n",
    "            break\n",
    "\n",
    "particle_moves = []\n",
    "for pos in moving_particle():\n",
    "    particle_moves.append(pos)\n",
    "\n",
    "print (len(particle_moves), particle_moves)"
   ]
  },
  {
   "cell_type": "markdown",
   "metadata": {
    "id": "w-_7jVVnzkXs"
   },
   "source": [
    "**EXERCISES**\n",
    "\n",
    "* Write a generator to return N random numbers (uniformly distributed between 0 and 1). N should be supplied to the generator.\n",
    "* Write a generator to return the first N numbers in the Fibonacci sequence."
   ]
  },
  {
   "cell_type": "code",
   "execution_count": null,
   "metadata": {
    "id": "zEzuSl1szkXs"
   },
   "outputs": [],
   "source": []
  },
  {
   "cell_type": "code",
   "execution_count": null,
   "metadata": {
    "id": "AW2rHkAZzkXs"
   },
   "outputs": [],
   "source": []
  },
  {
   "cell_type": "code",
   "execution_count": null,
   "metadata": {
    "id": "WpU-ud6CzkXs"
   },
   "outputs": [],
   "source": []
  },
  {
   "cell_type": "markdown",
   "metadata": {
    "id": "OfSoJZyMzkXs"
   },
   "source": [
    "For a bit more detail in generators, and some more advanced functionality, I refer you again to this article:\n",
    "\n",
    "https://realpython.com/introduction-to-python-generators/"
   ]
  },
  {
   "cell_type": "markdown",
   "metadata": {
    "id": "NZgEfL2SzkXt"
   },
   "source": [
    "## Recursion\n",
    "\n",
    "Recursion is an important idea in many computing languages. This basically boils down to \"some function that calls itself\". A standard use case would be where the problem can be repeatedly reduced to a simpler problem of the same form. Some of the examples below might seem more natural using iteration (a for loop or generator), but they're useful practice for building to problems where recursion is more natural. As always, the idea here is to provide you with a toolkit and which tool to use for any given problem is something that should be considered when attempting the problem!\n",
    "\n",
    "As an example of a recursive function (following https://www.programiz.com/python-programming/recursion) let's consider the case of generating X factorial. This can be defined, using a function that calls itself, as follows:"
   ]
  },
  {
   "cell_type": "code",
   "execution_count": null,
   "metadata": {
    "id": "TTUnBv5WzkXt"
   },
   "outputs": [],
   "source": [
    "def calc_factorial(x):\n",
    "    \"\"\"This is a recursive function\n",
    "    to find the factorial of an integer\"\"\"\n",
    "\n",
    "    if x == 1:\n",
    "        return 1\n",
    "    else:\n",
    "        return (x * calc_factorial(x-1))\n",
    "\n",
    "num = 4\n",
    "print(\"The factorial of\", num, \"is\", calc_factorial(num))"
   ]
  },
  {
   "cell_type": "markdown",
   "metadata": {
    "id": "9wOcqDmIzkXt"
   },
   "source": [
    "According to the page above, this form has a number of advantages, and disadvantages:\n",
    "\n",
    "ADVANTAGES:\n",
    "* Recursive functions make the code look clean and elegant.\n",
    "* A complex task can be broken down into simpler sub-problems using recursion.\n",
    "* Sequence generation is easier with recursion than using some nested iteration.\n",
    "\n",
    "DISADVANTAGES\n",
    "* Sometimes the logic behind recursion is hard to follow through.\n",
    "* Recursive calls can be expensive (inefficient) as they take up a lot of memory and time.\n",
    "* Recursive functions are hard to debug.\n"
   ]
  },
  {
   "cell_type": "markdown",
   "metadata": {
    "id": "L3VXZACWzkXt"
   },
   "source": [
    "Here's another example for computing the sum of numbers between 1 and N (thanks to https://realpython.com/python-thinking-recursively/):"
   ]
  },
  {
   "cell_type": "code",
   "execution_count": null,
   "metadata": {
    "id": "P6FtVw5NzkXt"
   },
   "outputs": [],
   "source": [
    "def sum_recursive(current_number, highest_number, accumulated_sum=0):\n",
    "    # Base case\n",
    "    # Return the final state\n",
    "    if current_number == highest_number:\n",
    "        return accumulated_sum\n",
    "\n",
    "    # Recursive case\n",
    "    # Thread the state through the recursive call\n",
    "    else:\n",
    "        #return current_number + sum_recursive(current_number + 1, highest_number)\n",
    "        return sum_recursive(current_number + 1, highest_number, accumulated_sum=(accumulated_sum + current_number))\n",
    "\n",
    "# Sum of numbers between 1 and 10\n",
    "print (sum_recursive(1,11))\n",
    "\n",
    "# Sum of numbers between 1 and 10\n",
    "print (sum_recursive(5,60))"
   ]
  },
  {
   "cell_type": "markdown",
   "metadata": {
    "id": "Ad1c_K0TzkXt"
   },
   "source": [
    "The `sum_recursive` function tracks the current sum in the `accumulated_sum` variable. In this example this wasn't needed (it could have been done as with the previous example, see the commented out code), but in many cases this is the kind of approach that is needed to deal with a recursion problem. Brute-force path-finding is one example where you might want to do something like this."
   ]
  },
  {
   "cell_type": "markdown",
   "metadata": {
    "id": "Z-HsCtlZzkXt"
   },
   "source": [
    "**EXERCISES**\n",
    "\n",
    "* Write a program to compute f(n)=f(n-1)+100 when n>0 and f(0)=1 with a given n input by console (n>0).\n",
    "* Write a function to return the Nth Fibonacci number using recursion."
   ]
  },
  {
   "cell_type": "code",
   "execution_count": null,
   "metadata": {
    "id": "6Fbymk_lzkXt"
   },
   "outputs": [],
   "source": []
  },
  {
   "cell_type": "code",
   "execution_count": null,
   "metadata": {
    "id": "oh1auX64zkXt"
   },
   "outputs": [],
   "source": []
  },
  {
   "cell_type": "markdown",
   "metadata": {
    "id": "ySSfwj39zkXt"
   },
   "source": [
    "## Function as a value and the lambda operator\n",
    "\n",
    "In our last topic of this lecture, let's explore the idea of functions as a value themselves, and the lambda operator in python.\n",
    "\n",
    "Let's take a closer look at the `math.sin` function:"
   ]
  },
  {
   "cell_type": "code",
   "execution_count": null,
   "metadata": {
    "id": "C_cIKuWxzkXt"
   },
   "outputs": [],
   "source": [
    "import math\n",
    "\n",
    "a = math.sin\n",
    "b = math.sin(3.0)\n",
    "\n",
    "print(a, b)"
   ]
  },
  {
   "cell_type": "markdown",
   "metadata": {
    "id": "SJazKQXJzkXt"
   },
   "source": [
    "The meaning of `b` is (I hope!) clear. It's a float storing the sin of 3.0 .... Or it's the result of *operating* the function `math.sin` on the float `3.0`. However, `a` is the function itself. So we can do:"
   ]
  },
  {
   "cell_type": "code",
   "execution_count": null,
   "metadata": {
    "id": "-PqK9MGazkXt"
   },
   "outputs": [],
   "source": [
    "a = math.sin\n",
    "b = math.sin(3.0)\n",
    "c = a(b)\n",
    "\n",
    "print(a, b, c)"
   ]
  },
  {
   "cell_type": "markdown",
   "metadata": {
    "id": "q5EPOz29zkXt"
   },
   "source": [
    "This can be useful if want to write a function that will take as input a value (`x`), and a function (`F`), and returns `F(x)`:"
   ]
  },
  {
   "cell_type": "code",
   "execution_count": null,
   "metadata": {
    "id": "XN9PU66hzkXt"
   },
   "outputs": [],
   "source": [
    "def F_of_x(F, x):\n",
    "    return F(x)\n",
    "\n",
    "print(F_of_x(math.sin, 1.0), math.sin(1.0))\n",
    "print(F_of_x(math.cos, 1.0), math.cos(1.0))\n",
    "print(F_of_x(math.exp, 2.0), math.exp(2.0))\n"
   ]
  },
  {
   "cell_type": "markdown",
   "metadata": {
    "id": "gSc_KmzDzkXu"
   },
   "source": [
    "One example of a function taking another (which we briefly touched on earlier in the course) is the sorted function. This takes a function which can determine a sort order. For example if I wanted to sort values between 0 and 10 according to the sin of that value I could do:"
   ]
  },
  {
   "cell_type": "code",
   "execution_count": null,
   "metadata": {
    "id": "MhkjOPY7zkXu",
    "scrolled": true
   },
   "outputs": [],
   "source": [
    "import numpy as np\n",
    "inputs = np.linspace(0,10,100)\n",
    "sorted_inps = sorted(inputs, key=math.sin)\n",
    "print(sorted_inps)\n",
    "# Checking that this worked as intended.\n",
    "print ([math.sin(val) for val in sorted_inps])"
   ]
  },
  {
   "cell_type": "markdown",
   "metadata": {
    "id": "zpiIjBjYzkXu"
   },
   "source": [
    "The `lambda` function can be used to quickly define simple functions. For example if we wanted to define a function that returns $x^2$, we could do:"
   ]
  },
  {
   "cell_type": "code",
   "execution_count": null,
   "metadata": {
    "id": "ralRJFqIzkXu"
   },
   "outputs": [],
   "source": [
    "def x_squared(x):\n",
    "    return x * x"
   ]
  },
  {
   "cell_type": "markdown",
   "metadata": {
    "id": "DM2V9uU3zkXu"
   },
   "source": [
    "Or this could be written as a single line function according to:"
   ]
  },
  {
   "cell_type": "code",
   "execution_count": null,
   "metadata": {
    "id": "DAsLAgAUzkXu"
   },
   "outputs": [],
   "source": [
    "x_squared_alt = lambda x : x*x\n",
    "\n",
    "print(x_squared(10), x_squared_alt(10))"
   ]
  },
  {
   "cell_type": "markdown",
   "metadata": {
    "id": "qVMREapJzkXu"
   },
   "source": [
    "A standard usecase for this is being able to write `sorted` commands which do not extend over multiple lines, for example we could do:"
   ]
  },
  {
   "cell_type": "code",
   "execution_count": null,
   "metadata": {
    "id": "w2kxr2e-zkXu"
   },
   "outputs": [],
   "source": [
    "import numpy as np\n",
    "inputs = np.linspace(-9.5,10,51)\n",
    "sorted_inps = sorted(inputs, key=lambda x : (x-2)*(x-2))\n",
    "print(sorted_inps)\n"
   ]
  },
  {
   "cell_type": "markdown",
   "metadata": {
    "id": "0ItEx6FGzkXu"
   },
   "source": [
    "**EXERCISE**\n",
    "\n",
    "* Generate 100 numbers uniformly distributed between 5 and 50. Then sort the numbers by using the function $F(x) = x^3 - 50.5 x^2 - 34$. This means that after sorting the numbers into `array` if I did `array**3 - 50.5 * array**2 - 34` the output would be in ascending order. Do *not* store the values of F(x)."
   ]
  },
  {
   "cell_type": "code",
   "execution_count": null,
   "metadata": {
    "id": "A7aCTV6NzkXu"
   },
   "outputs": [],
   "source": []
  },
  {
   "cell_type": "markdown",
   "metadata": {
    "id": "4W7uz9B0zkXu"
   },
   "source": [
    "## Summary\n",
    "\n",
    "We've introduced a number of different concepts at this point. Let me try and set some summary exercises to close things out, these will probably be quite challenging. "
   ]
  },
  {
   "cell_type": "markdown",
   "metadata": {
    "id": "ADz9zoxTzkXu"
   },
   "source": [
    "### Exercise 1\n",
    "\n",
    "Write a generator with the following properties:\n",
    "\n",
    "* The generator should model the motion of a particle in two directions (call them x and y).\n",
    "* The initial position of the particle should be (0,0) (corresponding to the positions in x and y). This should be the first `yield` of this generator.\n",
    "* Every subsequent `yield` should move the particle by a random amount in x and y. The magnitude moved should be drawn from a uniform distribution between 0 and 1 and the direction of this moving should be drawn from a uniform angle between 0 and 2pi.\n",
    "* The generator should stop when the distance between the particle and the origin is at least 10.\n",
    "\n",
    "Run this generator (use a list comprehension to run the generator and store the x,y positions of the particle over time).\n",
    "\n",
    "Plot these positions in a 2D plot.\n",
    "\n",
    "Run the generator some additional times and show these evolutions on the same plot.\n"
   ]
  },
  {
   "cell_type": "code",
   "execution_count": null,
   "metadata": {
    "id": "AYBhLUNczkXu"
   },
   "outputs": [],
   "source": []
  },
  {
   "cell_type": "markdown",
   "metadata": {
    "id": "j2BnS6VRzkXu"
   },
   "source": [
    "### Exercise 2\n",
    "\n",
    "(Courtesy of codesignal.com, https://app.codesignal.com/arcade/python-arcade/lambda-illusions/eP7hJDmLdZym2Kdo3)\n",
    "\n",
    "\"\"\"\n",
    "You've been preparing all night for the upcoming test and entered the class certain that you will ace it. Now that you received the test questions, you died inside a little: looks like you prepared for the test on a completely different topic.\n",
    "\n",
    "You're not even sure if you should bother to answer the questions. You still have some hope though: it is known that there's a glitch in the test preparing system, so that if the sum of digits of question ids is divisible by k, the answer to each question has a 90% probability to be an A.\n",
    "\n",
    "Given the list of question ids, determine if the sum of their digits is divisible by k to see if it's worth trying to pass the test.\n",
    "\"\"\"\n",
    "\n",
    "To solve this problem you must write a lambda function in the space indicated. You *must not* add any additional lines to solve this!\n"
   ]
  },
  {
   "cell_type": "code",
   "execution_count": null,
   "metadata": {
    "id": "md3CoXbRzkXu"
   },
   "outputs": [],
   "source": [
    "def isTestSolvable(ids, k):\n",
    "    digitSum = # Add lambda function here. MAKE NO OTHER CHANGES!!\n",
    "\n",
    "    sm = 0\n",
    "    for questionId in ids:\n",
    "        sm += digitSum(questionId)\n",
    "    return sm % k == 0\n"
   ]
  },
  {
   "cell_type": "code",
   "execution_count": null,
   "metadata": {
    "id": "xNH_SA-ozkXu"
   },
   "outputs": [],
   "source": [
    "ids = [529665, 909767, 644200]\n",
    "k = 3\n",
    "print (isTestSolvable(ids,k), \"Should be True\")\n",
    "\n",
    "ids = [882144, 993441, 460418, 325830, 404529, 912233, 255818, 68407, 94032, 6801, 38227, 997782, 747063, 754688, 725338, 802267, 673468, 271162, 478014, 21599]\n",
    "k = 6\n",
    "print (isTestSolvable(ids,k), \"Should be False\")\n"
   ]
  },
  {
   "cell_type": "markdown",
   "metadata": {
    "id": "-iZCWDT6zkXu"
   },
   "source": [
    "### Exercise 3\n",
    "\n",
    "(From https://www.w3resource.com/)\n",
    "\n",
    "Write a Python program to calculate the value of 'a' to the power 'b'. Do not use the `**` operator, the `pow` function `math.pow`, equivalent numpy functions or anything else that already does this for you.\n",
    "\n",
    "Assume that b is an integer, and implement this using only the multiply `*` operator. Can you write a solution:\n",
    "\n",
    "1. Using recursion\n",
    "1. Not using recursion\n",
    "\n",
    "Which do you prefer?"
   ]
  },
  {
   "cell_type": "code",
   "execution_count": null,
   "metadata": {
    "id": "I6ofG-m6zkXu"
   },
   "outputs": [],
   "source": []
  },
  {
   "cell_type": "markdown",
   "metadata": {
    "id": "4-HB877szkXu"
   },
   "source": [
    "### EXERCISE 4\n",
    "\n",
    "Given a string, write a function to return all unique palindromic (https://en.wikipedia.org/wiki/Palindrome) subtrings (https://en.wikipedia.org/wiki/Substring) sorted according to the scrabble value of each of the substrings (if the scrabble score is equal, it should be alphabetically sorted). By this we mean if the string is \"arsfgfsgh\", the output should be `['a', 'r', 's', 'g', 'f', 'fgf', 'sfgfs']`. These are all the possible substrings of the input which are palindromes and they ordered in increasing values of the scrabble score (a = 1, r = 1, s = 1, g = 2, f = 4, fgf = 10, sfgfs = 12).\n",
    "\n",
    "Some other examples and outputs:\n",
    "\n",
    "* Input: 'cabca'; Output: `['a', 'b', 'c']`\n",
    "* Input: 'ccccccccccc'; Output: `['c', 'cc', 'ccc', 'cccc', 'ccccc', 'cccccc', 'ccccccc', 'cccccccc', 'ccccccccc', 'cccccccccc']`\n",
    "* Input: 'abacabaabacab'; Output: `['a', 'aa', 'b', 'c', 'aba', 'aca', 'baab', 'abaaba', 'bacab', 'abacaba', 'cabaabac', 'acabaabaca']`\n",
    "* Input: 'zazazaza'; Output: `['a', 'z', 'aza', 'zaz', 'azaza', 'zazaz', 'zazazaz']`\n",
    "* Input: 'shjzzovuzvabrcrfxemkhbiguanipxaxrnybexth'; Output: `['a', 'e', 'i', 'n', 'o', 'r', 's', 't', 'u', 'g', 'b', 'c', 'm', 'p', 'f', 'h', 'v', 'y', 'k', 'rcr', 'j', 'x', 'z', 'xax', 'zz']`"
   ]
  },
  {
   "cell_type": "code",
   "execution_count": null,
   "metadata": {
    "id": "aYmALQRJzkXv"
   },
   "outputs": [],
   "source": [
    "scrabble_score = {\"a\": 1 , \"b\": 3 , \"c\": 3 , \"d\": 2 ,\n",
    "         \"e\": 1 , \"f\": 4 , \"g\": 2 , \"h\": 4 ,\n",
    "         \"i\": 1 , \"j\": 8 , \"k\": 5 , \"l\": 1 ,\n",
    "         \"m\": 3 , \"n\": 1 , \"o\": 1 , \"p\": 3 ,\n",
    "         \"q\": 10, \"r\": 1 , \"s\": 1 , \"t\": 1 ,\n",
    "         \"u\": 1 , \"v\": 4 , \"w\": 4 , \"x\": 8 ,\n",
    "         \"y\": 4 , \"z\": 10}\n"
   ]
  },
  {
   "cell_type": "code",
   "execution_count": null,
   "metadata": {
    "id": "i6b3OB8hzkXv"
   },
   "outputs": [],
   "source": []
  }
 ],
 "metadata": {
  "colab": {
   "provenance": []
  },
  "kernelspec": {
   "display_name": "Python 3 (ipykernel)",
   "language": "python",
   "name": "python3"
  },
  "language_info": {
   "codemirror_mode": {
    "name": "ipython",
    "version": 3
   },
   "file_extension": ".py",
   "mimetype": "text/x-python",
   "name": "python",
   "nbconvert_exporter": "python",
   "pygments_lexer": "ipython3",
   "version": "3.9.12"
  }
 },
 "nbformat": 4,
 "nbformat_minor": 1
}
