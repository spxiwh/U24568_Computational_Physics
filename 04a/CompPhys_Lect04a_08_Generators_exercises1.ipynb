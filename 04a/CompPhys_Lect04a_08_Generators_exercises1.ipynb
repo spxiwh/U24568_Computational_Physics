{
 "cells": [
  {
   "cell_type": "markdown",
   "id": "1fa750a3",
   "metadata": {},
   "source": [
    "# Generators - Exercises 1\n",
    "\n",
    "## Exercise 1\n",
    "\n",
    "Write a generator that returns $x !$ (x-factorial) for x between 1 and 40."
   ]
  },
  {
   "cell_type": "code",
   "execution_count": null,
   "id": "c96a7221",
   "metadata": {},
   "outputs": [],
   "source": [
    "# Code here"
   ]
  },
  {
   "cell_type": "markdown",
   "id": "6fdd8e6f",
   "metadata": {},
   "source": [
    "## Exercise 2\n",
    "\n",
    "Write a generator that loops over values of $x^2$ while $x^2$ is smaller than 10000."
   ]
  },
  {
   "cell_type": "code",
   "execution_count": 1,
   "id": "dc7c8463",
   "metadata": {},
   "outputs": [],
   "source": [
    "# Code here"
   ]
  }
 ],
 "metadata": {
  "kernelspec": {
   "display_name": "Python 3 (ipykernel)",
   "language": "python",
   "name": "python3"
  },
  "language_info": {
   "codemirror_mode": {
    "name": "ipython",
    "version": 3
   },
   "file_extension": ".py",
   "mimetype": "text/x-python",
   "name": "python",
   "nbconvert_exporter": "python",
   "pygments_lexer": "ipython3",
   "version": "3.9.12"
  }
 },
 "nbformat": 4,
 "nbformat_minor": 5
}
