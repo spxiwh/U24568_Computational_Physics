{
 "cells": [
  {
   "cell_type": "markdown",
   "id": "a3d017de",
   "metadata": {},
   "source": [
    "# List comprehensions - Overview\n",
    "\n",
    "\"List comprehensions\" is a fancy way of describing a syntax feature in Python, which lets you write simple for loops in a condensed form. Let's consider a for loop which collects the first 100 cubic numbers."
   ]
  },
  {
   "cell_type": "code",
   "execution_count": 1,
   "id": "cc6b3fad",
   "metadata": {},
   "outputs": [],
   "source": [
    "cube_numbers = []\n",
    "for i in range(1,101):\n",
    "    cube_numbers.append(i**3)"
   ]
  },
  {
   "cell_type": "markdown",
   "id": "aa2d3ff1",
   "metadata": {},
   "source": [
    "This is 3 lines of code. This can be written in one line as a list comprehension with the following:"
   ]
  },
  {
   "cell_type": "code",
   "execution_count": 2,
   "id": "49543139",
   "metadata": {},
   "outputs": [
    {
     "name": "stdout",
     "output_type": "stream",
     "text": [
      "[1, 8, 27, 64, 125, 216, 343, 512, 729, 1000, 1331, 1728, 2197, 2744, 3375, 4096, 4913, 5832, 6859, 8000, 9261, 10648, 12167, 13824, 15625, 17576, 19683, 21952, 24389, 27000, 29791, 32768, 35937, 39304, 42875, 46656, 50653, 54872, 59319, 64000, 68921, 74088, 79507, 85184, 91125, 97336, 103823, 110592, 117649, 125000, 132651, 140608, 148877, 157464, 166375, 175616, 185193, 195112, 205379, 216000, 226981, 238328, 250047, 262144, 274625, 287496, 300763, 314432, 328509, 343000, 357911, 373248, 389017, 405224, 421875, 438976, 456533, 474552, 493039, 512000, 531441, 551368, 571787, 592704, 614125, 636056, 658503, 681472, 704969, 729000, 753571, 778688, 804357, 830584, 857375, 884736, 912673, 941192, 970299, 1000000]\n"
     ]
    }
   ],
   "source": [
    "cube_numbers = [i**3 for i in range(1,101)]\n",
    "print(cube_numbers)"
   ]
  },
  {
   "cell_type": "markdown",
   "id": "843cc36a",
   "metadata": {},
   "source": [
    "You can see that exactly the same variables (`i` and `cube_numbers`) are used, and both use the same `range` function. In fact these are identical, python will internally do exactly the same thing in these two instances.\n",
    "\n",
    "One more example, and then it's over to you. Here we have as input a list of names, as strings in the format \"FIRST_NAME LAST_NAME\" (for e.g. `[\"Ian Harry\", \"Laura Nuttall\", \"Gareth Cabourn-Davies\"]`). We want to create two lists, one list of the first names, and one of the last names. This can be done using:"
   ]
  },
  {
   "cell_type": "code",
   "execution_count": null,
   "id": "15718ca2",
   "metadata": {},
   "outputs": [
    {
     "name": "stdout",
     "output_type": "stream",
     "text": [
      "['Boris', 'Theresa', 'David', 'Gordon', 'Tony', 'John', 'Margaret', 'James', 'Harold', 'Edward', 'Harold', 'Alec', 'Harold']\n",
      "['Johnson', 'May', 'Cameron', 'Brown', 'Blair', 'Major', 'Thatcher', 'Callaghan', 'Wilson', 'Heath', 'Wilson', 'Douglas-Home', 'Macmillan']\n"
     ]
    }
   ],
   "source": [
    "names = [\"Boris Johnson\", \"Theresa May\", \"David Cameron\", \"Gordon Brown\", \"Tony Blair\", \"John Major\", \"Margaret Thatcher\",\n",
    "         \"James Callaghan\", \"Harold Wilson\", \"Edward Heath\", \"Harold Wilson\", \"Alec Douglas-Home\", \"Harold Macmillan\"] # Turns out this list dated a lot in a few years!\n",
    "\n",
    "first_names = []\n",
    "last_names = []\n",
    "for name in names:\n",
    "    first_name, last_name = name.split(' ')\n",
    "    first_names.append(first_name)\n",
    "    last_names.append(last_name)\n",
    "print (first_names)\n",
    "print (last_names)"
   ]
  },
  {
   "cell_type": "markdown",
   "id": "26e9a41f",
   "metadata": {},
   "source": [
    "This can be written more simply as *two* list comprehensions."
   ]
  },
  {
   "cell_type": "code",
   "execution_count": 4,
   "id": "a2c7d429",
   "metadata": {},
   "outputs": [
    {
     "name": "stdout",
     "output_type": "stream",
     "text": [
      "['Boris', 'Theresa', 'David', 'Gordon', 'Tony', 'John', 'Margaret', 'James', 'Harold', 'Edward', 'Harold', 'Alec', 'Harold']\n",
      "['Johnson', 'May', 'Cameron', 'Brown', 'Blair', 'Major', 'Thatcher', 'Callaghan', 'Wilson', 'Heath', 'Wilson', 'Douglas-Home', 'Macmillan']\n"
     ]
    }
   ],
   "source": [
    "first_names = [name.split(' ')[0] for name in names]\n",
    "last_names = [name.split(' ')[1] for name in names]\n",
    "\n",
    "print (first_names)\n",
    "print (last_names)"
   ]
  },
  {
   "cell_type": "markdown",
   "id": "e8b4cd01",
   "metadata": {},
   "source": [
    "In this case, the list comprehensions, while less code, are actually slower, as we need to loop and do the split twice. However, as the \"Zen of Python\" states:\n",
    "\n",
    "https://www.python.org/dev/peps/pep-0020/\n",
    "\n",
    "\"Readability counts\", so if you can make code more readable (even if it's slower) it might be worth doing if you don't need that speed difference. I note that it is possible to reduce this into a single line command, but then it is still only as fast as the two list comprehensions, and almost unreadable:"
   ]
  },
  {
   "cell_type": "code",
   "execution_count": 5,
   "id": "6812d7d6",
   "metadata": {},
   "outputs": [
    {
     "name": "stdout",
     "output_type": "stream",
     "text": [
      "['Boris', 'Theresa', 'David', 'Gordon', 'Tony', 'John', 'Margaret', 'James', 'Harold', 'Edward', 'Harold', 'Alec', 'Harold']\n",
      "['Johnson', 'May', 'Cameron', 'Brown', 'Blair', 'Major', 'Thatcher', 'Callaghan', 'Wilson', 'Heath', 'Wilson', 'Douglas-Home', 'Macmillan']\n"
     ]
    }
   ],
   "source": [
    "# AVOID CODE LIKE THIS, IF YOU DON'T KNOW WHAT IT DOES, HOW WILL ANYONE ELSE?\n",
    "# .... But this does demonstrate that you can nest list comprehensions in list comprehensions\n",
    "first_names, last_names = [[name.split(' ')[i] for name in names] for i in [0,1]]\n",
    "\n",
    "print (first_names)\n",
    "print (last_names)"
   ]
  }
 ],
 "metadata": {
  "kernelspec": {
   "display_name": "CompPhys2",
   "language": "python",
   "name": "python3"
  },
  "language_info": {
   "codemirror_mode": {
    "name": "ipython",
    "version": 3
   },
   "file_extension": ".py",
   "mimetype": "text/x-python",
   "name": "python",
   "nbconvert_exporter": "python",
   "pygments_lexer": "ipython3",
   "version": "3.10.16"
  }
 },
 "nbformat": 4,
 "nbformat_minor": 5
}
