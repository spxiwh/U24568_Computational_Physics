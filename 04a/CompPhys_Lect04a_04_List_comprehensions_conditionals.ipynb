{
 "cells": [
  {
   "cell_type": "markdown",
   "id": "d69c8271",
   "metadata": {},
   "source": [
    "# List Comprehensions - Including conditionals\n",
    "\n",
    "There's one more level of complexity that we can unlock with list comprehensions. That is that they can also contain a single conditional statement. So for example if we wanted to store all values of $x^3$ for x between 1 and 100 (inclusive) where $x^3$ does not end with the digit 8, we can do:"
   ]
  },
  {
   "cell_type": "code",
   "execution_count": 1,
   "id": "01cc30fe",
   "metadata": {},
   "outputs": [
    {
     "name": "stdout",
     "output_type": "stream",
     "text": [
      "[1, 27, 64, 125, 216, 343, 512, 729, 1000, 1331, 2197, 2744, 3375, 4096, 4913, 5832, 6859, 8000, 9261, 12167, 13824, 15625, 17576, 19683, 21952, 24389, 27000, 29791, 35937, 39304, 42875, 46656, 50653, 54872, 59319, 64000, 68921, 79507, 85184, 91125, 97336, 103823, 110592, 117649, 125000, 132651, 148877, 157464, 166375, 175616, 185193, 195112, 205379, 216000, 226981, 250047, 262144, 274625, 287496, 300763, 314432, 328509, 343000, 357911, 389017, 405224, 421875, 438976, 456533, 474552, 493039, 512000, 531441, 571787, 592704, 614125, 636056, 658503, 681472, 704969, 729000, 753571, 804357, 830584, 857375, 884736, 912673, 941192, 970299, 1000000]\n"
     ]
    }
   ],
   "source": [
    "cubic_numbers = []\n",
    "for x in range(1,101):\n",
    "    x3 = x**3\n",
    "    if not (x3 % 10) == 8:\n",
    "        cubic_numbers.append(x3)\n",
    "print (cubic_numbers)"
   ]
  },
  {
   "cell_type": "markdown",
   "id": "d75c0f65",
   "metadata": {},
   "source": [
    "This can be written as a single list comprehension with"
   ]
  },
  {
   "cell_type": "code",
   "execution_count": 2,
   "id": "53bdd25b",
   "metadata": {},
   "outputs": [],
   "source": [
    "cubic_numbers = [x**3 for x in range(1,101) if (not (x**3 % 10) == 8)]"
   ]
  },
  {
   "cell_type": "markdown",
   "id": "2008caea",
   "metadata": {},
   "source": [
    "Again though, list comprehensions should be used to help with code readability by making things more concise. Things that become so concise that they are unreadable are not good!"
   ]
  }
 ],
 "metadata": {
  "kernelspec": {
   "display_name": "Python 3 (ipykernel)",
   "language": "python",
   "name": "python3"
  },
  "language_info": {
   "codemirror_mode": {
    "name": "ipython",
    "version": 3
   },
   "file_extension": ".py",
   "mimetype": "text/x-python",
   "name": "python",
   "nbconvert_exporter": "python",
   "pygments_lexer": "ipython3",
   "version": "3.9.12"
  }
 },
 "nbformat": 4,
 "nbformat_minor": 5
}
