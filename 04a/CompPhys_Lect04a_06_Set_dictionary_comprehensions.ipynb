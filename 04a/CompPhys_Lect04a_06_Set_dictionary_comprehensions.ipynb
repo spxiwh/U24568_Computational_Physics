{
 "cells": [
  {
   "cell_type": "markdown",
   "id": "b20c3903",
   "metadata": {},
   "source": [
    "# Set and Dictionary Comprehensions\n",
    "\n",
    "As well as list comprehensions, we can also consider dictionary and even set comprehensions. These are simple enough to write:"
   ]
  },
  {
   "cell_type": "code",
   "execution_count": 1,
   "id": "0deedc14",
   "metadata": {},
   "outputs": [
    {
     "name": "stdout",
     "output_type": "stream",
     "text": [
      "{1: 1, 3: 27, 4: 64, 5: 125, 6: 216, 7: 343, 8: 512, 9: 729, 10: 1000, 11: 1331, 13: 2197, 14: 2744, 15: 3375, 16: 4096, 17: 4913, 18: 5832, 19: 6859, 20: 8000, 21: 9261, 23: 12167, 24: 13824, 25: 15625, 26: 17576, 27: 19683, 28: 21952, 29: 24389, 30: 27000, 31: 29791, 33: 35937, 34: 39304, 35: 42875, 36: 46656, 37: 50653, 38: 54872, 39: 59319, 40: 64000, 41: 68921, 43: 79507, 44: 85184, 45: 91125, 46: 97336, 47: 103823, 48: 110592, 49: 117649, 50: 125000, 51: 132651, 53: 148877, 54: 157464, 55: 166375, 56: 175616, 57: 185193, 58: 195112, 59: 205379, 60: 216000, 61: 226981, 63: 250047, 64: 262144, 65: 274625, 66: 287496, 67: 300763, 68: 314432, 69: 328509, 70: 343000, 71: 357911, 73: 389017, 74: 405224, 75: 421875, 76: 438976, 77: 456533, 78: 474552, 79: 493039, 80: 512000, 81: 531441, 83: 571787, 84: 592704, 85: 614125, 86: 636056, 87: 658503, 88: 681472, 89: 704969, 90: 729000, 91: 753571, 93: 804357, 94: 830584, 95: 857375, 96: 884736, 97: 912673, 98: 941192, 99: 970299, 100: 1000000}\n",
      "<class 'dict'>\n",
      "{512, 1, 4096, 13824, 64000, 110592, 175616, 262144, 512000, 681472, 804357, 357911, 27, 195112, 132651, 9261, 97336, 970299, 314432, 64, 46656, 205379, 1000000, 658503, 125000, 54872, 29791, 35937, 830584, 125, 941192, 79507, 2197, 636056, 226981, 17576, 2744, 250047, 85184, 274625, 438976, 5832, 6859, 216, 729, 300763, 19683, 405224, 614125, 287496, 15625, 157464, 857375, 912673, 3375, 4913, 1331, 68921, 328509, 592704, 8000, 24389, 456533, 343, 884736, 185193, 27000, 42875, 12167, 39304, 571787, 148877, 103823, 117649, 389017, 753571, 729000, 59319, 474552, 21952, 216000, 704969, 343000, 50653, 166375, 1000, 493039, 531441, 421875, 91125}\n",
      "<class 'set'>\n"
     ]
    }
   ],
   "source": [
    "cubic_numbers_dict = {x:x**3 for x in range(1,101) if (not (x**3 % 10) == 8)}\n",
    "print (cubic_numbers_dict)\n",
    "print (type(cubic_numbers_dict))\n",
    "\n",
    "# I avoid this because the syntax is too similar (in my mind) to dictionaries.\n",
    "#I would just do a list comprehension and wrap set() around it.\n",
    "cubic_numbers_set = {x**3 for x in range(1,101) if (not (x**3 % 10) == 8)}\n",
    "print (cubic_numbers_set)\n",
    "print (type(cubic_numbers_set))"
   ]
  },
  {
   "cell_type": "markdown",
   "id": "eefb62d0",
   "metadata": {},
   "source": [
    "We can also do this (using circular brackets), but we do *not* get a tuple, instead we get ..."
   ]
  },
  {
   "cell_type": "code",
   "execution_count": 2,
   "id": "350d002b",
   "metadata": {},
   "outputs": [
    {
     "name": "stdout",
     "output_type": "stream",
     "text": [
      "<generator object <genexpr> at 0x104296900>\n",
      "<class 'generator'>\n"
     ]
    }
   ],
   "source": [
    "cubic_numbers_gen = (x**3 for x in range(1,101) if (not (x**3 % 10) == 8))\n",
    "print (cubic_numbers_gen)\n",
    "print (type(cubic_numbers_gen))"
   ]
  },
  {
   "cell_type": "markdown",
   "id": "4bb984eb",
   "metadata": {},
   "source": [
    "A \"generator\" object?! What's that? This leads nicely into our next section!"
   ]
  }
 ],
 "metadata": {
  "kernelspec": {
   "display_name": "Python 3 (ipykernel)",
   "language": "python",
   "name": "python3"
  },
  "language_info": {
   "codemirror_mode": {
    "name": "ipython",
    "version": 3
   },
   "file_extension": ".py",
   "mimetype": "text/x-python",
   "name": "python",
   "nbconvert_exporter": "python",
   "pygments_lexer": "ipython3",
   "version": "3.9.12"
  }
 },
 "nbformat": 4,
 "nbformat_minor": 5
}
