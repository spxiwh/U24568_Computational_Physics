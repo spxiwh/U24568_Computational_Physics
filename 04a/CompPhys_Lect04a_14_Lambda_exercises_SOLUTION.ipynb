{
 "cells": [
  {
   "cell_type": "markdown",
   "id": "996b616b",
   "metadata": {},
   "source": [
    "# Function as a value and the lambda operator - Exercise\n",
    "\n",
    "## Exercise 1\n",
    "\n",
    "Generate 100 numbers uniformly distributed between 5 and 50. Then sort the numbers by using the function $F(x) = x^3 - 50.5 x^2 - 34$. This means that after sorting the numbers into `array` if I did `array**3 - 50.5 * array**2 - 34` the output would be in ascending order. Do *not* store the values of F(x)."
   ]
  },
  {
   "cell_type": "code",
   "execution_count": 1,
   "id": "77af0d8e",
   "metadata": {},
   "outputs": [
    {
     "name": "stdout",
     "output_type": "stream",
     "text": [
      "[33.72074628 33.59290614 33.21750411 32.88764375 32.88569432 34.78922205\n",
      " 32.34542588 32.16400144 31.95888138 31.80876106 31.42086581 31.27840446\n",
      " 36.79319945 30.30275228 37.05685583 29.99104132 37.43051052 37.441601\n",
      " 37.55225367 29.45237079 29.1264938  37.90212944 28.88850612 28.83673925\n",
      " 28.74757273 28.52036021 27.9762011  27.97612049 39.2403009  39.35320766\n",
      " 27.21220241 39.38720591 26.52763081 26.41118099 26.19016617 40.4862469\n",
      " 40.55776436 25.49515199 40.80085513 25.08903084 41.04751488 41.29908508\n",
      " 24.56673028 24.46141698 24.41721339 24.37109682 24.17412967 41.85210097\n",
      " 42.02520892 23.19779591 23.1058112  42.35277474 22.71357117 22.14315001\n",
      " 21.86323273 20.82581313 20.54577254 43.98177573 44.11375431 20.01983205\n",
      " 44.30432313 19.49588569 19.38604084 18.78781355 18.43813411 18.43406831\n",
      " 45.32652522 18.00837626 17.15655837 15.47277476 15.11464725 14.84604774\n",
      " 14.68930098 14.15343975 47.2461761  47.26418612 47.28429677 47.4493183\n",
      " 13.46776319 13.36476585 13.04406571 11.79365484 11.2273118  10.75350708\n",
      " 48.58432983 48.82348585  9.51740574 49.22917459 49.31372468  8.19242801\n",
      "  8.09105601  8.05533816  7.96137745 49.48684332  6.75105339  6.44036704\n",
      "  6.2929422   5.51294619  5.39925285  5.37387685]\n",
      "True\n"
     ]
    }
   ],
   "source": [
    "import numpy as np\n",
    "# Always give the same output from this notebook, this keeps the webpage consistent.\n",
    "np.random.seed(8)\n",
    "\n",
    "inputs = np.random.uniform(5, 50, 100)\n",
    "sorted_inps = np.array(sorted(inputs, key=lambda x: x ** 3 - 50.5 * x ** 2 - 34))\n",
    "\n",
    "print(sorted_inps)\n",
    "# Checking that this worked as intended.\n",
    "sort_key = (sorted_inps ** 3 - 50.5 * sorted_inps ** 2 - 34)\n",
    "# Is every entry larger than the one directly before it?\n",
    "print((sort_key[1:] >= sort_key[:-1]).all())"
   ]
  }
 ],
 "metadata": {
  "kernelspec": {
   "display_name": "CompPhys2",
   "language": "python",
   "name": "python3"
  },
  "language_info": {
   "codemirror_mode": {
    "name": "ipython",
    "version": 3
   },
   "file_extension": ".py",
   "mimetype": "text/x-python",
   "name": "python",
   "nbconvert_exporter": "python",
   "pygments_lexer": "ipython3",
   "version": "3.10.16"
  }
 },
 "nbformat": 4,
 "nbformat_minor": 5
}
