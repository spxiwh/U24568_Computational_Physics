{
 "cells": [
  {
   "cell_type": "markdown",
   "id": "630ede38",
   "metadata": {},
   "source": [
    "# Recursion - Overview\n",
    "\n",
    "Recursion is an important idea in many computing languages. This basically boils down to \"some function that calls itself\". A standard use case would be where the problem can be repeatedly reduced to a simpler problem of the same form. Some of the examples below might seem more natural using iteration (a for loop or generator), but they're useful practice for building to problems where recursion is more natural. As always, the idea here is to provide you with a toolkit and which tool to use for any given problem is something that should be considered when attempting the problem!\n",
    "\n",
    "As an example of a recursive function (following https://www.programiz.com/python-programming/recursion) let's consider the case of generating X factorial. This can be defined, using a function that calls itself, as follows:"
   ]
  },
  {
   "cell_type": "code",
   "execution_count": 1,
   "id": "ecb89961",
   "metadata": {},
   "outputs": [
    {
     "name": "stdout",
     "output_type": "stream",
     "text": [
      "The factorial of 4 is 24\n"
     ]
    }
   ],
   "source": [
    "def calc_factorial(x):\n",
    "    \"\"\"This is a recursive function\n",
    "    to find the factorial of an integer\"\"\"\n",
    "\n",
    "    if x == 1:\n",
    "        return 1\n",
    "    else:\n",
    "        return (x * calc_factorial(x-1))\n",
    "\n",
    "num = 4\n",
    "print(\"The factorial of\", num, \"is\", calc_factorial(num))"
   ]
  },
  {
   "cell_type": "markdown",
   "id": "7b96007c",
   "metadata": {},
   "source": [
    "According to the page above, this form has a number of advantages, and disadvantages:\n",
    "\n",
    "ADVANTAGES:\n",
    "* Recursive functions make the code look clean and elegant.\n",
    "* A complex task can be broken down into simpler sub-problems using recursion.\n",
    "* Sequence generation is easier with recursion than using some nested iteration.\n",
    "\n",
    "DISADVANTAGES\n",
    "* Sometimes the logic behind recursion is hard to follow through.\n",
    "* Recursive calls can be expensive (inefficient) as they take up a lot of memory and time.\n",
    "* Recursive functions are hard to debug.\n",
    "\n",
    "Here's another example for computing the sum of numbers between 1 and N (thanks to https://realpython.com/python-thinking-recursively/):"
   ]
  },
  {
   "cell_type": "code",
   "execution_count": 3,
   "id": "853dc925",
   "metadata": {},
   "outputs": [
    {
     "name": "stdout",
     "output_type": "stream",
     "text": [
      "55\n",
      "55\n",
      "1760\n"
     ]
    }
   ],
   "source": [
    "def sum_recursive(current_number, highest_number, accumulated_sum=0):\n",
    "    # Base case\n",
    "    # Return the final state\n",
    "    if current_number == highest_number:\n",
    "        return accumulated_sum\n",
    "\n",
    "    # Recursive case\n",
    "    # Thread the state through the recursive call\n",
    "    else:\n",
    "        #return current_number + sum_recursive(current_number + 1, highest_number)\n",
    "        return sum_recursive(current_number + 1, highest_number, accumulated_sum=(accumulated_sum + current_number))\n",
    "\n",
    "# Sum of numbers between 1 and 10\n",
    "print (sum_recursive(1,11))\n",
    "# Manually confirm this is correct\n",
    "print(1 + 2 + 3 + 4 + 5 + 6 + 7 + 8 + 9 + 10)\n",
    "\n",
    "# Sum of numbers between 5 and 60\n",
    "print (sum_recursive(5,60))"
   ]
  },
  {
   "cell_type": "markdown",
   "id": "6b597e35",
   "metadata": {},
   "source": [
    "The `sum_recursive` function tracks the current sum in the `accumulated_sum` variable. In this example this wasn't needed (it could have been done as with the previous example, see the commented out code), but in many cases this is the kind of approach that is needed to deal with a recursion problem. Brute-force path-finding is one example where you might want to do something like this."
   ]
  }
 ],
 "metadata": {
  "kernelspec": {
   "display_name": "CompPhys2",
   "language": "python",
   "name": "python3"
  },
  "language_info": {
   "codemirror_mode": {
    "name": "ipython",
    "version": 3
   },
   "file_extension": ".py",
   "mimetype": "text/x-python",
   "name": "python",
   "nbconvert_exporter": "python",
   "pygments_lexer": "ipython3",
   "version": "3.10.16"
  }
 },
 "nbformat": 4,
 "nbformat_minor": 5
}
