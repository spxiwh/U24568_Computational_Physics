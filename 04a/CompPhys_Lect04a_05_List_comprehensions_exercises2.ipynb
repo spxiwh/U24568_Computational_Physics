{
 "cells": [
  {
   "cell_type": "markdown",
   "id": "2b263945",
   "metadata": {},
   "source": [
    "# List Comprehensions - Exercises 2\n",
    "\n",
    "## Exercise 1\n",
    "\n",
    "Compute $x^{0.5}$ for all integer values of $x$ between 15 and 105 *excluding* all values of $x$ where $x$ is a multiple of 7, using a list comprehension.\n"
   ]
  },
  {
   "cell_type": "code",
   "execution_count": 1,
   "id": "ae23bf5a",
   "metadata": {},
   "outputs": [],
   "source": [
    "# Code here"
   ]
  },
  {
   "cell_type": "markdown",
   "id": "edfd3801",
   "metadata": {},
   "source": [
    "## Exercise 2\n",
    "\n",
    "Compute $\\sin(x)^2 - \\cos(x)^2$ for 1000 values of $x$, uniformly distributed between 0 and $2 \\pi$. Include only values of $x$ where $\\cos(x)$ is greater than 0 *or* $\\sin(x)$ is less than -0.5. Use a single-line list comprehension."
   ]
  },
  {
   "cell_type": "code",
   "execution_count": 2,
   "id": "f96a674c",
   "metadata": {},
   "outputs": [],
   "source": [
    "# Code here"
   ]
  }
 ],
 "metadata": {
  "kernelspec": {
   "display_name": "Python 3 (ipykernel)",
   "language": "python",
   "name": "python3"
  },
  "language_info": {
   "codemirror_mode": {
    "name": "ipython",
    "version": 3
   },
   "file_extension": ".py",
   "mimetype": "text/x-python",
   "name": "python",
   "nbconvert_exporter": "python",
   "pygments_lexer": "ipython3",
   "version": "3.9.12"
  }
 },
 "nbformat": 4,
 "nbformat_minor": 5
}
