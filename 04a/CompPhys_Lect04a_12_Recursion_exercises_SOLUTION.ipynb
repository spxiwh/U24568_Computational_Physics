{
 "cells": [
  {
   "cell_type": "markdown",
   "id": "a1f3c1ec",
   "metadata": {},
   "source": [
    "# Recursion - Exercises\n",
    "\n",
    "## Exercise 1\n",
    "\n",
    "Write a program to compute f(n)=f(n-1)+100 when n>0 and f(0)=1 with a given n input by console (n>0)."
   ]
  },
  {
   "cell_type": "code",
   "execution_count": 1,
   "id": "bfa4a3f0",
   "metadata": {},
   "outputs": [
    {
     "name": "stdout",
     "output_type": "stream",
     "text": [
      "501\n"
     ]
    }
   ],
   "source": [
    "def recursive_plus_100(n):\n",
    "    if n == 0:\n",
    "        # base case: f(0) = 1\n",
    "        return 1\n",
    "    else:\n",
    "        # f(n) = f(n-1) + 100\n",
    "        return recursive_plus_100(n - 1) + 100\n",
    "\n",
    "test_n = 5\n",
    "print(recursive_plus_100(test_n))"
   ]
  },
  {
   "cell_type": "markdown",
   "id": "41d41fc4",
   "metadata": {},
   "source": [
    "## Exercise 2\n",
    "\n",
    "Write a function to return the Nth Fibonacci number using recursion."
   ]
  },
  {
   "cell_type": "code",
   "execution_count": 2,
   "id": "c69b88da",
   "metadata": {},
   "outputs": [
    {
     "name": "stdout",
     "output_type": "stream",
     "text": [
      "The 15th Fibonacci number is 610\n"
     ]
    }
   ],
   "source": [
    "def recursive_fibonacci(n):\n",
    "    if n <= 1:\n",
    "        # This is the base value\n",
    "        return n\n",
    "    else:\n",
    "        # Each term in the Fibonacci sequence is the sum of the two terms before it\n",
    "        return(recursive_fibonacci(n-1) + recursive_fibonacci(n-2))\n",
    "\n",
    "test_n = 15\n",
    "print(\"The %dth Fibonacci number is %d\" % (test_n, recursive_fibonacci(test_n)))"
   ]
  }
 ],
 "metadata": {
  "kernelspec": {
   "display_name": "CompPhys2",
   "language": "python",
   "name": "python3"
  },
  "language_info": {
   "codemirror_mode": {
    "name": "ipython",
    "version": 3
   },
   "file_extension": ".py",
   "mimetype": "text/x-python",
   "name": "python",
   "nbconvert_exporter": "python",
   "pygments_lexer": "ipython3",
   "version": "3.10.16"
  }
 },
 "nbformat": 4,
 "nbformat_minor": 5
}
