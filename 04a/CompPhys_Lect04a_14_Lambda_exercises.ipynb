{
 "cells": [
  {
   "cell_type": "markdown",
   "id": "996b616b",
   "metadata": {},
   "source": [
    "# Function as a value and the lambda operator - Exercise\n",
    "\n",
    "## Exercise 1\n",
    "\n",
    "Generate 100 numbers uniformly distributed between 5 and 50. Then sort the numbers by using the function $F(x) = x^3 - 50.5 x^2 - 34$. This means that after sorting the numbers into `array` if I did `array**3 - 50.5 * array**2 - 34` the output would be in ascending order. Do *not* store the values of F(x)."
   ]
  },
  {
   "cell_type": "code",
   "execution_count": 1,
   "id": "77af0d8e",
   "metadata": {},
   "outputs": [],
   "source": [
    "# Code here"
   ]
  }
 ],
 "metadata": {
  "kernelspec": {
   "display_name": "Python 3 (ipykernel)",
   "language": "python",
   "name": "python3"
  },
  "language_info": {
   "codemirror_mode": {
    "name": "ipython",
    "version": 3
   },
   "file_extension": ".py",
   "mimetype": "text/x-python",
   "name": "python",
   "nbconvert_exporter": "python",
   "pygments_lexer": "ipython3",
   "version": "3.9.12"
  }
 },
 "nbformat": 4,
 "nbformat_minor": 5
}
