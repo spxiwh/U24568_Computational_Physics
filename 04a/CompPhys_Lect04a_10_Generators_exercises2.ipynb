{
 "cells": [
  {
   "cell_type": "markdown",
   "id": "24cf2ab3",
   "metadata": {},
   "source": [
    "# Generators - Exercises 2\n",
    "\n",
    "## Exercise 1\n",
    "\n",
    "Write a generator to return N random numbers (uniformly distributed between 0 and 1). N should be supplied to the generator."
   ]
  },
  {
   "cell_type": "code",
   "execution_count": 1,
   "id": "3a58c22f",
   "metadata": {},
   "outputs": [],
   "source": [
    "# Code here"
   ]
  },
  {
   "cell_type": "markdown",
   "id": "af7d53b1",
   "metadata": {},
   "source": [
    "## Exercise 2\n",
    "\n",
    "Write a generator to return the first N numbers in the Fibonacci sequence."
   ]
  },
  {
   "cell_type": "code",
   "execution_count": 2,
   "id": "91ee9a89",
   "metadata": {},
   "outputs": [],
   "source": [
    "# Code here"
   ]
  }
 ],
 "metadata": {
  "kernelspec": {
   "display_name": "Python 3 (ipykernel)",
   "language": "python",
   "name": "python3"
  },
  "language_info": {
   "codemirror_mode": {
    "name": "ipython",
    "version": 3
   },
   "file_extension": ".py",
   "mimetype": "text/x-python",
   "name": "python",
   "nbconvert_exporter": "python",
   "pygments_lexer": "ipython3",
   "version": "3.9.12"
  }
 },
 "nbformat": 4,
 "nbformat_minor": 5
}
