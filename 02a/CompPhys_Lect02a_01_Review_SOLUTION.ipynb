{
 "cells": [
  {
   "cell_type": "markdown",
   "id": "bd941fe4",
   "metadata": {},
   "source": [
    "# Review\n",
    "\n",
    "## Basic Numpy\n",
    "\n",
    "We'll start by reviewing some numpy basics. You can create a numpy array by\n",
    " 1. Using `np.array` on a list of numbers.\n",
    " 1. Using `np.arange` or `np.linspace` to create an equally-spaced array.\n",
    " 1. Using `np.zeros` or `np.ones` to create an array of the same number.\n",
    "\n",
    "**IMPORTANT**: It's best to vectorize your operations on numpy arrays. That means using numpy functions (and built-in math function like `+`, `-`, `*`, `/`, `**`, etc.) on the *entire array*. This is both clearer and faster than writing a loop over the indexes. Its best to try to do things only in numpy first if you can."
   ]
  },
  {
   "cell_type": "code",
   "execution_count": 1,
   "id": "a973bd02",
   "metadata": {},
   "outputs": [],
   "source": [
    "# We'll almost always import numpy as np to save some typing\n",
    "import numpy as np"
   ]
  },
  {
   "cell_type": "code",
   "execution_count": 2,
   "id": "43a5f31e",
   "metadata": {},
   "outputs": [
    {
     "name": "stdout",
     "output_type": "stream",
     "text": [
      "[ 1  2  3  4  5  6  7  8  9 10]\n"
     ]
    }
   ],
   "source": [
    "# Convert a list to a numpy array\n",
    "a_list = [1,2,3,4,5,6,7,8,9,10]\n",
    "a_numpy_array = np.array(a_list)\n",
    "print(a_numpy_array)"
   ]
  },
  {
   "cell_type": "code",
   "execution_count": 3,
   "id": "52f43446",
   "metadata": {},
   "outputs": [
    {
     "name": "stdout",
     "output_type": "stream",
     "text": [
      "[ 0.00000000e+00  5.00000000e-01  8.66025404e-01  1.00000000e+00\n",
      "  8.66025404e-01  5.00000000e-01  1.22464680e-16 -5.00000000e-01\n",
      " -8.66025404e-01 -1.00000000e+00 -8.66025404e-01 -5.00000000e-01]\n"
     ]
    }
   ],
   "source": [
    "# Create a range of values, just like the range builtin\n",
    "x_vals = np.arange(0, 2*np.pi, np.pi/6)\n",
    "\n",
    "# Calculate sin over the entire array\n",
    "sin_x = np.sin(x_vals)\n",
    "print(sin_x)"
   ]
  },
  {
   "cell_type": "code",
   "execution_count": 4,
   "id": "e1d3be0b",
   "metadata": {},
   "outputs": [
    {
     "data": {
      "text/plain": [
       "array([1., 1., 1., 1., 1., 1., 1., 1., 1., 1., 1., 1.])"
      ]
     },
     "execution_count": 4,
     "metadata": {},
     "output_type": "execute_result"
    }
   ],
   "source": [
    "# Test the trigonometric identity\n",
    "np.cos(x_vals)**2 + np.sin(x_vals)**2"
   ]
  },
  {
   "cell_type": "markdown",
   "id": "ec5eec72",
   "metadata": {},
   "source": [
    "It is possible to write this as a loop, as done below. But it's more lines, easier to make a mistake, and slower when you have millions of numbers."
   ]
  },
  {
   "cell_type": "code",
   "execution_count": 5,
   "id": "e604a205",
   "metadata": {},
   "outputs": [
    {
     "name": "stdout",
     "output_type": "stream",
     "text": [
      "[np.float64(1.0), np.float64(1.0), np.float64(1.0), np.float64(1.0), np.float64(0.9999999999999999), np.float64(1.0), np.float64(1.0), np.float64(1.0), np.float64(1.0), np.float64(1.0), np.float64(1.0), np.float64(1.0)]\n"
     ]
    }
   ],
   "source": [
    "result = []\n",
    "for i in range(len(x_vals)):\n",
    "    x = x_vals[i]\n",
    "    result.append(np.cos(x)**2 + np.sin(x)**2)\n",
    "\n",
    "print(result)"
   ]
  },
  {
   "cell_type": "code",
   "execution_count": 6,
   "id": "7fadb5f5",
   "metadata": {},
   "outputs": [
    {
     "name": "stdout",
     "output_type": "stream",
     "text": [
      "[-1.   -0.75 -0.5  -0.25  0.    0.25  0.5   0.75  1.  ]\n"
     ]
    },
    {
     "data": {
      "text/plain": [
       "array([-1.  , -0.75, -0.5 , -0.25,  0.  ,  0.25,  0.5 ,  0.75,  1.  ])"
      ]
     },
     "execution_count": 6,
     "metadata": {},
     "output_type": "execute_result"
    }
   ],
   "source": [
    "# Nine equally-spaced values from -1 to 1\n",
    "print(np.linspace(-1, 1, 9))\n",
    "\n",
    "# Note that printing the numpy array looks different from\n",
    "# just outputting it (as the last line of the cell)\n",
    "np.linspace(-1, 1, 9)"
   ]
  },
  {
   "cell_type": "markdown",
   "id": "05eeb1e6",
   "metadata": {},
   "source": [
    "## Slicing Arrays\n",
    "\n",
    "We'll review how to select portions of the data using *slicing*. This is **very important**, and while we did cover it last year, the idea is confusing and is worth revisiting.\n",
    "\n",
    "Let's start by defining an array to work with that has floating point numbers of the form 'row.column', so it's easy to see if we've got the right data."
   ]
  },
  {
   "cell_type": "code",
   "execution_count": 7,
   "id": "62c698fe",
   "metadata": {},
   "outputs": [
    {
     "name": "stdout",
     "output_type": "stream",
     "text": [
      "[[0.  0.1 0.2 0.3 0.4 0.5 0.6 0.7 0.8 0.9]\n",
      " [1.  1.1 1.2 1.3 1.4 1.5 1.6 1.7 1.8 1.9]\n",
      " [2.  2.1 2.2 2.3 2.4 2.5 2.6 2.7 2.8 2.9]\n",
      " [3.  3.1 3.2 3.3 3.4 3.5 3.6 3.7 3.8 3.9]\n",
      " [4.  4.1 4.2 4.3 4.4 4.5 4.6 4.7 4.8 4.9]\n",
      " [5.  5.1 5.2 5.3 5.4 5.5 5.6 5.7 5.8 5.9]\n",
      " [6.  6.1 6.2 6.3 6.4 6.5 6.6 6.7 6.8 6.9]\n",
      " [7.  7.1 7.2 7.3 7.4 7.5 7.6 7.7 7.8 7.9]\n",
      " [8.  8.1 8.2 8.3 8.4 8.5 8.6 8.7 8.8 8.9]\n",
      " [9.  9.1 9.2 9.3 9.4 9.5 9.6 9.7 9.8 9.9]]\n"
     ]
    }
   ],
   "source": [
    "arr10 = np.array([[(ii+0.1*jj) for jj in range(10)] for ii in range(10)])\n",
    "print(arr10)"
   ]
  },
  {
   "cell_type": "markdown",
   "id": "d14ea240",
   "metadata": {},
   "source": [
    "Selecting one entry in the array uses the format `arr[row, col]`. Row 0, column 2 in the matrix above would be `arr10[0, 2]`."
   ]
  },
  {
   "cell_type": "code",
   "execution_count": 8,
   "id": "49d87f90",
   "metadata": {},
   "outputs": [
    {
     "data": {
      "text/plain": [
       "np.float64(0.2)"
      ]
     },
     "execution_count": 8,
     "metadata": {},
     "output_type": "execute_result"
    }
   ],
   "source": [
    "arr10[0,2]"
   ]
  },
  {
   "cell_type": "markdown",
   "id": "a2e37611",
   "metadata": {},
   "source": [
    "We can use the same slicing syntax used for lists on arrays as well. We just need to provide a slice for the row and the column. Here are some examples of 1D slices:\n",
    "\n",
    " 1. `arr[1]` element 1 of arr\n",
    " 1. `arr[1:4]` elements 1 up to 4 (but not including 4)\n",
    " 1. `arr[1:]` element 1 to the end\n",
    " 1. `arr[1:7:2]` element 1, 3, 5, up to 7\n",
    " 1. `arr[1::2]` element 1, 3, 5, to the end\n",
    " 1. `arr[:]` all of arr\n",
    "\n",
    "We can use any of these in the row and the column entry. Let's show this on our 2D array:"
   ]
  },
  {
   "cell_type": "code",
   "execution_count": 9,
   "id": "c5997fe1",
   "metadata": {},
   "outputs": [
    {
     "data": {
      "text/plain": [
       "array([0.1, 1.1, 2.1, 3.1, 4.1, 5.1, 6.1, 7.1, 8.1, 9.1])"
      ]
     },
     "execution_count": 9,
     "metadata": {},
     "output_type": "execute_result"
    }
   ],
   "source": [
    "# Slicing - All rows, column 1\n",
    "arr10[:,1]"
   ]
  },
  {
   "cell_type": "code",
   "execution_count": 10,
   "id": "330edb01",
   "metadata": {},
   "outputs": [
    {
     "data": {
      "text/plain": [
       "array([2. , 2.1, 2.2, 2.3, 2.4, 2.5, 2.6, 2.7, 2.8, 2.9])"
      ]
     },
     "execution_count": 10,
     "metadata": {},
     "output_type": "execute_result"
    }
   ],
   "source": [
    "# Slicing - Row 2, all columns\n",
    "arr10[2,:]"
   ]
  },
  {
   "cell_type": "code",
   "execution_count": 11,
   "id": "abd2176d",
   "metadata": {},
   "outputs": [
    {
     "data": {
      "text/plain": [
       "array([2.1, 2.3, 2.5, 2.7])"
      ]
     },
     "execution_count": 11,
     "metadata": {},
     "output_type": "execute_result"
    }
   ],
   "source": [
    "# Slicing - Row 2, columns 1 through 7, skipping by 2\n",
    "arr10[2,1:8:2]"
   ]
  },
  {
   "cell_type": "code",
   "execution_count": 12,
   "id": "7e8a7526",
   "metadata": {},
   "outputs": [
    {
     "data": {
      "text/plain": [
       "array([9. , 9.1, 9.2, 9.3, 9.4, 9.5, 9.6, 9.7, 9.8, 9.9])"
      ]
     },
     "execution_count": 12,
     "metadata": {},
     "output_type": "execute_result"
    }
   ],
   "source": [
    "# Slicing - Last row\n",
    "arr10[-1,:]"
   ]
  },
  {
   "cell_type": "markdown",
   "id": "fb118a94",
   "metadata": {},
   "source": [
    "We can also assign values by putting the slice before an equals sign. Using `:` we can do it to a whole column."
   ]
  },
  {
   "cell_type": "code",
   "execution_count": 13,
   "id": "cac171bb",
   "metadata": {},
   "outputs": [
    {
     "name": "stdout",
     "output_type": "stream",
     "text": [
      "[[0.  0.1 0.2 0.3 0.4 0.  0.6 0.7 0.8 0.9]\n",
      " [1.  1.1 1.2 1.3 1.4 0.  1.6 1.7 1.8 1.9]\n",
      " [2.  2.1 2.2 2.3 2.4 0.  2.6 2.7 2.8 2.9]\n",
      " [3.  3.1 3.2 3.3 3.4 0.  3.6 3.7 3.8 3.9]\n",
      " [4.  4.1 4.2 4.3 4.4 0.  4.6 4.7 4.8 4.9]\n",
      " [5.  5.1 5.2 5.3 5.4 0.  5.6 5.7 5.8 5.9]\n",
      " [6.  6.1 6.2 6.3 6.4 0.  6.6 6.7 6.8 6.9]\n",
      " [7.  7.1 7.2 7.3 7.4 0.  7.6 7.7 7.8 7.9]\n",
      " [8.  8.1 8.2 8.3 8.4 0.  8.6 8.7 8.8 8.9]\n",
      " [9.  9.1 9.2 9.3 9.4 0.  9.6 9.7 9.8 9.9]]\n"
     ]
    }
   ],
   "source": [
    "test_arr = arr10.copy()\n",
    "test_arr[:,5] = 0.\n",
    "print(test_arr)"
   ]
  },
  {
   "cell_type": "markdown",
   "id": "46b92a21",
   "metadata": {},
   "source": [
    "## Exercises\n",
    "\n",
    "Here's some questions for you to practice slicing. Please answer these in the cells below on `test_arr`.\n",
    "\n",
    "* What is the output of test_arr[1:] and test_arr[:,1]? Please write down what you think first, and then verify below by running this.\n",
    "* How would you access the element at the second row, third column? What is the value?\n",
    "* Extract the first two rows, and the last two columns (the output is a 2x2 array)?\n",
    "* Reverse the order of both the rows and columns?\n",
    "* Write a function that takes four inputs (max_row, min_row, max_column, min_column) and returns the \"subarray\" of the original 2D array containing only fields between min_row and max_row, and min_column by max_column. What would the shape of the resulting array be? Check if that's what you have."
   ]
  },
  {
   "cell_type": "markdown",
   "id": "04af845b",
   "metadata": {},
   "source": [
    "`test_arr[1:]` will be the `test_arr` array, missing all the `0.X` entries, it is a 9 by 10 array\n",
    "\n",
    "`test_arr[:,1]` will be 0.1, 1.1, .... 9.1, it is a 10 by 1 array"
   ]
  },
  {
   "cell_type": "code",
   "execution_count": 14,
   "id": "fad33f2a",
   "metadata": {},
   "outputs": [
    {
     "name": "stdout",
     "output_type": "stream",
     "text": [
      "[[1.  1.1 1.2 1.3 1.4 0.  1.6 1.7 1.8 1.9]\n",
      " [2.  2.1 2.2 2.3 2.4 0.  2.6 2.7 2.8 2.9]\n",
      " [3.  3.1 3.2 3.3 3.4 0.  3.6 3.7 3.8 3.9]\n",
      " [4.  4.1 4.2 4.3 4.4 0.  4.6 4.7 4.8 4.9]\n",
      " [5.  5.1 5.2 5.3 5.4 0.  5.6 5.7 5.8 5.9]\n",
      " [6.  6.1 6.2 6.3 6.4 0.  6.6 6.7 6.8 6.9]\n",
      " [7.  7.1 7.2 7.3 7.4 0.  7.6 7.7 7.8 7.9]\n",
      " [8.  8.1 8.2 8.3 8.4 0.  8.6 8.7 8.8 8.9]\n",
      " [9.  9.1 9.2 9.3 9.4 0.  9.6 9.7 9.8 9.9]]\n",
      "[0.1 1.1 2.1 3.1 4.1 5.1 6.1 7.1 8.1 9.1]\n"
     ]
    }
   ],
   "source": [
    "print(test_arr[1:])\n",
    "print(test_arr[:,1])"
   ]
  },
  {
   "cell_type": "markdown",
   "id": "33428656",
   "metadata": {},
   "source": [
    "To access the element at the second row, third column, I would use `test_arr[1,2]`. Its value is 1.2"
   ]
  },
  {
   "cell_type": "code",
   "execution_count": 15,
   "id": "237eb77d",
   "metadata": {},
   "outputs": [
    {
     "data": {
      "text/plain": [
       "np.float64(1.2)"
      ]
     },
     "execution_count": 15,
     "metadata": {},
     "output_type": "execute_result"
    }
   ],
   "source": [
    "test_arr[1,2]"
   ]
  },
  {
   "cell_type": "markdown",
   "id": "d43e547c",
   "metadata": {},
   "source": [
    "Extract the first two rows, and the last two columns (the output is a 2x2 array)?"
   ]
  },
  {
   "cell_type": "code",
   "execution_count": 16,
   "id": "fd263e19",
   "metadata": {},
   "outputs": [
    {
     "data": {
      "text/plain": [
       "array([[0.8, 0.9],\n",
       "       [1.8, 1.9]])"
      ]
     },
     "execution_count": 16,
     "metadata": {},
     "output_type": "execute_result"
    }
   ],
   "source": [
    "test_arr[:2,-2:]"
   ]
  },
  {
   "cell_type": "markdown",
   "id": "fbf0d63e",
   "metadata": {},
   "source": [
    "Reverse the order of both the rows and columns?"
   ]
  },
  {
   "cell_type": "code",
   "execution_count": 17,
   "id": "41524e84",
   "metadata": {},
   "outputs": [
    {
     "data": {
      "text/plain": [
       "array([[9.9, 9.8, 9.7, 9.6, 0. , 9.4, 9.3, 9.2, 9.1, 9. ],\n",
       "       [8.9, 8.8, 8.7, 8.6, 0. , 8.4, 8.3, 8.2, 8.1, 8. ],\n",
       "       [7.9, 7.8, 7.7, 7.6, 0. , 7.4, 7.3, 7.2, 7.1, 7. ],\n",
       "       [6.9, 6.8, 6.7, 6.6, 0. , 6.4, 6.3, 6.2, 6.1, 6. ],\n",
       "       [5.9, 5.8, 5.7, 5.6, 0. , 5.4, 5.3, 5.2, 5.1, 5. ],\n",
       "       [4.9, 4.8, 4.7, 4.6, 0. , 4.4, 4.3, 4.2, 4.1, 4. ],\n",
       "       [3.9, 3.8, 3.7, 3.6, 0. , 3.4, 3.3, 3.2, 3.1, 3. ],\n",
       "       [2.9, 2.8, 2.7, 2.6, 0. , 2.4, 2.3, 2.2, 2.1, 2. ],\n",
       "       [1.9, 1.8, 1.7, 1.6, 0. , 1.4, 1.3, 1.2, 1.1, 1. ],\n",
       "       [0.9, 0.8, 0.7, 0.6, 0. , 0.4, 0.3, 0.2, 0.1, 0. ]])"
      ]
     },
     "execution_count": 17,
     "metadata": {},
     "output_type": "execute_result"
    }
   ],
   "source": [
    "test_arr[::-1,::-1]"
   ]
  },
  {
   "cell_type": "markdown",
   "id": "878d1668",
   "metadata": {},
   "source": [
    "Write a function that takes four inputs (max_row, min_row, max_column, min_column) and returns the \"subarray\" of the original 2D array containing only fields between min_row and max_row, and min_column by max_column. What would the shape of the resulting array be? Check if that's what you have."
   ]
  },
  {
   "cell_type": "code",
   "execution_count": 18,
   "id": "03c6ab44",
   "metadata": {},
   "outputs": [],
   "source": [
    "def subarray(max_row, min_row, max_column, min_column):\n",
    "    return test_arr[min_row:max_row,min_column:max_column]"
   ]
  },
  {
   "cell_type": "markdown",
   "id": "f2649e1d",
   "metadata": {},
   "source": [
    "The resulting shape would be (max(max_row - min_row, 0)) by (max(max_column - min_column, 0))"
   ]
  },
  {
   "cell_type": "code",
   "execution_count": 19,
   "id": "e5ba810f",
   "metadata": {},
   "outputs": [],
   "source": [
    "# This testing is potentially overkill, but takes every possible combination of min/max row/column and asserts that the output shape is what we said in the previous cell\n",
    "\n",
    "for max_row in range(0, 10):\n",
    "    for min_row in range(0, 10):\n",
    "        for max_column in range(0, 10):\n",
    "            for min_column in range(0, 10):\n",
    "                subarr = subarray(max_row, min_row, max_column, min_column)\n",
    "                assert subarr.shape == (max(max_row - min_row,0), max(max_column - min_column, 0))\n",
    "\n",
    "# This uses the fact that if we take a slice where the 'end' is less than the 'start', we get a zero-sized array, rather than an error"
   ]
  }
 ],
 "metadata": {
  "kernelspec": {
   "display_name": "CompPhys2",
   "language": "python",
   "name": "python3"
  },
  "language_info": {
   "codemirror_mode": {
    "name": "ipython",
    "version": 3
   },
   "file_extension": ".py",
   "mimetype": "text/x-python",
   "name": "python",
   "nbconvert_exporter": "python",
   "pygments_lexer": "ipython3",
   "version": "3.10.16"
  }
 },
 "nbformat": 4,
 "nbformat_minor": 5
}
