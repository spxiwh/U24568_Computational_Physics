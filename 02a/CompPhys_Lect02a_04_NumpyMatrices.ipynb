{
 "cells": [
  {
   "cell_type": "markdown",
   "id": "a769efa3",
   "metadata": {},
   "source": [
    "# Matrices in numpy\n",
    "\n",
    "We explored matrices in MATLAB last year, but didn't do this in python ... This was because you hadn't covered matrices in the math modules by that point, so let's do this now."
   ]
  },
  {
   "cell_type": "markdown",
   "id": "1c030444",
   "metadata": {},
   "source": [
    "## Transposing and reshaping arrays"
   ]
  },
  {
   "cell_type": "markdown",
   "id": "f4717b12",
   "metadata": {},
   "source": [
    "Let's move on now to consider some multi-dimension arrays. Let's first consider the following 12 x 10 array of random numbers uniformly distributed between 0 and 10:"
   ]
  },
  {
   "cell_type": "code",
   "execution_count": 1,
   "id": "ac0c3551",
   "metadata": {},
   "outputs": [
    {
     "name": "stdout",
     "output_type": "stream",
     "text": [
      "[[5.48813504 7.15189366 6.02763376 5.44883183 4.23654799 6.45894113\n",
      "  4.37587211 8.91773001 9.63662761 3.83441519]\n",
      " [7.91725038 5.2889492  5.68044561 9.25596638 0.71036058 0.871293\n",
      "  0.20218397 8.32619846 7.78156751 8.70012148]\n",
      " [9.78618342 7.99158564 4.61479362 7.80529176 1.18274426 6.39921021\n",
      "  1.43353287 9.44668917 5.21848322 4.1466194 ]\n",
      " [2.64555612 7.74233689 4.56150332 5.68433949 0.187898   6.17635497\n",
      "  6.12095723 6.16933997 9.43748079 6.81820299]\n",
      " [3.59507901 4.37031954 6.97631196 0.60225472 6.66766715 6.7063787\n",
      "  2.10382561 1.28926298 3.15428351 3.63710771]\n",
      " [5.7019677  4.38601513 9.88373838 1.02044811 2.08876756 1.61309518\n",
      "  6.53108325 2.53291603 4.66310773 2.44425592]\n",
      " [1.58969584 1.10375141 6.56329589 1.38182951 1.96582362 3.68725171\n",
      "  8.2099323  0.97101276 8.37944907 0.96098408]\n",
      " [9.76459465 4.68651202 9.76761088 6.0484552  7.39263579 0.39187792\n",
      "  2.82806963 1.20196561 2.96140198 1.18727719]\n",
      " [3.17983179 4.14262995 0.64147496 6.92472119 5.66601454 2.65389491\n",
      "  5.23248053 0.93940511 5.75946496 9.29296198]\n",
      " [3.18568952 6.6741038  1.31797862 7.16327204 2.89406093 1.83191362\n",
      "  5.86512935 0.20107546 8.28940029 0.04695476]\n",
      " [6.77816537 2.70007973 7.35194022 9.62188545 2.48753144 5.76157334\n",
      "  5.92041931 5.72251906 2.23081633 9.52749012]\n",
      " [4.47125379 8.46408672 6.99479275 2.97436951 8.1379782  3.96505741\n",
      "  8.81103197 5.81272873 8.81735362 6.9253159 ]]\n"
     ]
    }
   ],
   "source": [
    "import numpy as np\n",
    "np.random.seed(0)\n",
    "nums = np.random.random_sample(size=[12,10]) * 10\n",
    "print (nums)"
   ]
  },
  {
   "cell_type": "markdown",
   "id": "b16054fc",
   "metadata": {},
   "source": [
    "To transpose this array is quite simple, numpy supplies a `.T` property:"
   ]
  },
  {
   "cell_type": "code",
   "execution_count": 2,
   "id": "93aeeb45",
   "metadata": {},
   "outputs": [
    {
     "name": "stdout",
     "output_type": "stream",
     "text": [
      "[[5.48813504 7.91725038 9.78618342 2.64555612 3.59507901 5.7019677\n",
      "  1.58969584 9.76459465 3.17983179 3.18568952 6.77816537 4.47125379]\n",
      " [7.15189366 5.2889492  7.99158564 7.74233689 4.37031954 4.38601513\n",
      "  1.10375141 4.68651202 4.14262995 6.6741038  2.70007973 8.46408672]\n",
      " [6.02763376 5.68044561 4.61479362 4.56150332 6.97631196 9.88373838\n",
      "  6.56329589 9.76761088 0.64147496 1.31797862 7.35194022 6.99479275]\n",
      " [5.44883183 9.25596638 7.80529176 5.68433949 0.60225472 1.02044811\n",
      "  1.38182951 6.0484552  6.92472119 7.16327204 9.62188545 2.97436951]\n",
      " [4.23654799 0.71036058 1.18274426 0.187898   6.66766715 2.08876756\n",
      "  1.96582362 7.39263579 5.66601454 2.89406093 2.48753144 8.1379782 ]\n",
      " [6.45894113 0.871293   6.39921021 6.17635497 6.7063787  1.61309518\n",
      "  3.68725171 0.39187792 2.65389491 1.83191362 5.76157334 3.96505741]\n",
      " [4.37587211 0.20218397 1.43353287 6.12095723 2.10382561 6.53108325\n",
      "  8.2099323  2.82806963 5.23248053 5.86512935 5.92041931 8.81103197]\n",
      " [8.91773001 8.32619846 9.44668917 6.16933997 1.28926298 2.53291603\n",
      "  0.97101276 1.20196561 0.93940511 0.20107546 5.72251906 5.81272873]\n",
      " [9.63662761 7.78156751 5.21848322 9.43748079 3.15428351 4.66310773\n",
      "  8.37944907 2.96140198 5.75946496 8.28940029 2.23081633 8.81735362]\n",
      " [3.83441519 8.70012148 4.1466194  6.81820299 3.63710771 2.44425592\n",
      "  0.96098408 1.18727719 9.29296198 0.04695476 9.52749012 6.9253159 ]]\n"
     ]
    }
   ],
   "source": [
    "print (nums.T)"
   ]
  },
  {
   "cell_type": "markdown",
   "id": "ec73cf14",
   "metadata": {},
   "source": [
    "If we want to reshape the array we can use numpy's `reshape` function. For example if I want to \"flatten\" this array (note there is also a `flatten` function, but `reshape` is more general), we could do:"
   ]
  },
  {
   "cell_type": "code",
   "execution_count": 3,
   "id": "0178130d",
   "metadata": {},
   "outputs": [
    {
     "data": {
      "text/plain": [
       "array([5.48813504, 7.15189366, 6.02763376, 5.44883183, 4.23654799,\n",
       "       6.45894113, 4.37587211, 8.91773001, 9.63662761, 3.83441519,\n",
       "       7.91725038, 5.2889492 , 5.68044561, 9.25596638, 0.71036058,\n",
       "       0.871293  , 0.20218397, 8.32619846, 7.78156751, 8.70012148,\n",
       "       9.78618342, 7.99158564, 4.61479362, 7.80529176, 1.18274426,\n",
       "       6.39921021, 1.43353287, 9.44668917, 5.21848322, 4.1466194 ,\n",
       "       2.64555612, 7.74233689, 4.56150332, 5.68433949, 0.187898  ,\n",
       "       6.17635497, 6.12095723, 6.16933997, 9.43748079, 6.81820299,\n",
       "       3.59507901, 4.37031954, 6.97631196, 0.60225472, 6.66766715,\n",
       "       6.7063787 , 2.10382561, 1.28926298, 3.15428351, 3.63710771,\n",
       "       5.7019677 , 4.38601513, 9.88373838, 1.02044811, 2.08876756,\n",
       "       1.61309518, 6.53108325, 2.53291603, 4.66310773, 2.44425592,\n",
       "       1.58969584, 1.10375141, 6.56329589, 1.38182951, 1.96582362,\n",
       "       3.68725171, 8.2099323 , 0.97101276, 8.37944907, 0.96098408,\n",
       "       9.76459465, 4.68651202, 9.76761088, 6.0484552 , 7.39263579,\n",
       "       0.39187792, 2.82806963, 1.20196561, 2.96140198, 1.18727719,\n",
       "       3.17983179, 4.14262995, 0.64147496, 6.92472119, 5.66601454,\n",
       "       2.65389491, 5.23248053, 0.93940511, 5.75946496, 9.29296198,\n",
       "       3.18568952, 6.6741038 , 1.31797862, 7.16327204, 2.89406093,\n",
       "       1.83191362, 5.86512935, 0.20107546, 8.28940029, 0.04695476,\n",
       "       6.77816537, 2.70007973, 7.35194022, 9.62188545, 2.48753144,\n",
       "       5.76157334, 5.92041931, 5.72251906, 2.23081633, 9.52749012,\n",
       "       4.47125379, 8.46408672, 6.99479275, 2.97436951, 8.1379782 ,\n",
       "       3.96505741, 8.81103197, 5.81272873, 8.81735362, 6.9253159 ])"
      ]
     },
     "execution_count": 3,
     "metadata": {},
     "output_type": "execute_result"
    }
   ],
   "source": [
    "np.reshape(nums, (120,))"
   ]
  },
  {
   "cell_type": "markdown",
   "id": "09c85868",
   "metadata": {},
   "source": [
    "This indicates that this should become a 1D array with 120 entries. We could also make this a 4 x 30 array or a 30 x 4 array with something like:"
   ]
  },
  {
   "cell_type": "code",
   "execution_count": 4,
   "id": "ab27b36b",
   "metadata": {},
   "outputs": [
    {
     "data": {
      "text/plain": [
       "array([[5.48813504, 7.15189366, 6.02763376, 5.44883183, 4.23654799,\n",
       "        6.45894113, 4.37587211, 8.91773001, 9.63662761, 3.83441519,\n",
       "        7.91725038, 5.2889492 , 5.68044561, 9.25596638, 0.71036058,\n",
       "        0.871293  , 0.20218397, 8.32619846, 7.78156751, 8.70012148,\n",
       "        9.78618342, 7.99158564, 4.61479362, 7.80529176, 1.18274426,\n",
       "        6.39921021, 1.43353287, 9.44668917, 5.21848322, 4.1466194 ],\n",
       "       [2.64555612, 7.74233689, 4.56150332, 5.68433949, 0.187898  ,\n",
       "        6.17635497, 6.12095723, 6.16933997, 9.43748079, 6.81820299,\n",
       "        3.59507901, 4.37031954, 6.97631196, 0.60225472, 6.66766715,\n",
       "        6.7063787 , 2.10382561, 1.28926298, 3.15428351, 3.63710771,\n",
       "        5.7019677 , 4.38601513, 9.88373838, 1.02044811, 2.08876756,\n",
       "        1.61309518, 6.53108325, 2.53291603, 4.66310773, 2.44425592],\n",
       "       [1.58969584, 1.10375141, 6.56329589, 1.38182951, 1.96582362,\n",
       "        3.68725171, 8.2099323 , 0.97101276, 8.37944907, 0.96098408,\n",
       "        9.76459465, 4.68651202, 9.76761088, 6.0484552 , 7.39263579,\n",
       "        0.39187792, 2.82806963, 1.20196561, 2.96140198, 1.18727719,\n",
       "        3.17983179, 4.14262995, 0.64147496, 6.92472119, 5.66601454,\n",
       "        2.65389491, 5.23248053, 0.93940511, 5.75946496, 9.29296198],\n",
       "       [3.18568952, 6.6741038 , 1.31797862, 7.16327204, 2.89406093,\n",
       "        1.83191362, 5.86512935, 0.20107546, 8.28940029, 0.04695476,\n",
       "        6.77816537, 2.70007973, 7.35194022, 9.62188545, 2.48753144,\n",
       "        5.76157334, 5.92041931, 5.72251906, 2.23081633, 9.52749012,\n",
       "        4.47125379, 8.46408672, 6.99479275, 2.97436951, 8.1379782 ,\n",
       "        3.96505741, 8.81103197, 5.81272873, 8.81735362, 6.9253159 ]])"
      ]
     },
     "execution_count": 4,
     "metadata": {},
     "output_type": "execute_result"
    }
   ],
   "source": [
    "np.reshape(nums, (4,30))"
   ]
  },
  {
   "cell_type": "code",
   "execution_count": 5,
   "id": "a3e7a1d9",
   "metadata": {},
   "outputs": [
    {
     "data": {
      "text/plain": [
       "array([[5.48813504, 7.15189366, 6.02763376, 5.44883183],\n",
       "       [4.23654799, 6.45894113, 4.37587211, 8.91773001],\n",
       "       [9.63662761, 3.83441519, 7.91725038, 5.2889492 ],\n",
       "       [5.68044561, 9.25596638, 0.71036058, 0.871293  ],\n",
       "       [0.20218397, 8.32619846, 7.78156751, 8.70012148],\n",
       "       [9.78618342, 7.99158564, 4.61479362, 7.80529176],\n",
       "       [1.18274426, 6.39921021, 1.43353287, 9.44668917],\n",
       "       [5.21848322, 4.1466194 , 2.64555612, 7.74233689],\n",
       "       [4.56150332, 5.68433949, 0.187898  , 6.17635497],\n",
       "       [6.12095723, 6.16933997, 9.43748079, 6.81820299],\n",
       "       [3.59507901, 4.37031954, 6.97631196, 0.60225472],\n",
       "       [6.66766715, 6.7063787 , 2.10382561, 1.28926298],\n",
       "       [3.15428351, 3.63710771, 5.7019677 , 4.38601513],\n",
       "       [9.88373838, 1.02044811, 2.08876756, 1.61309518],\n",
       "       [6.53108325, 2.53291603, 4.66310773, 2.44425592],\n",
       "       [1.58969584, 1.10375141, 6.56329589, 1.38182951],\n",
       "       [1.96582362, 3.68725171, 8.2099323 , 0.97101276],\n",
       "       [8.37944907, 0.96098408, 9.76459465, 4.68651202],\n",
       "       [9.76761088, 6.0484552 , 7.39263579, 0.39187792],\n",
       "       [2.82806963, 1.20196561, 2.96140198, 1.18727719],\n",
       "       [3.17983179, 4.14262995, 0.64147496, 6.92472119],\n",
       "       [5.66601454, 2.65389491, 5.23248053, 0.93940511],\n",
       "       [5.75946496, 9.29296198, 3.18568952, 6.6741038 ],\n",
       "       [1.31797862, 7.16327204, 2.89406093, 1.83191362],\n",
       "       [5.86512935, 0.20107546, 8.28940029, 0.04695476],\n",
       "       [6.77816537, 2.70007973, 7.35194022, 9.62188545],\n",
       "       [2.48753144, 5.76157334, 5.92041931, 5.72251906],\n",
       "       [2.23081633, 9.52749012, 4.47125379, 8.46408672],\n",
       "       [6.99479275, 2.97436951, 8.1379782 , 3.96505741],\n",
       "       [8.81103197, 5.81272873, 8.81735362, 6.9253159 ]])"
      ]
     },
     "execution_count": 5,
     "metadata": {},
     "output_type": "execute_result"
    }
   ],
   "source": [
    "np.reshape(nums, (30,4))"
   ]
  },
  {
   "cell_type": "markdown",
   "id": "05dc99c0",
   "metadata": {},
   "source": [
    "In all cases the order of the data is preserved. There is a bit more information on reshaping an array here:\n",
    "\n",
    "https://www.w3resource.com/numpy/manipulation/reshape.php\n",
    "\n",
    "If you try to do something invalid, the code will fail:"
   ]
  },
  {
   "cell_type": "code",
   "execution_count": 6,
   "id": "207ef3c3",
   "metadata": {},
   "outputs": [
    {
     "name": "stdout",
     "output_type": "stream",
     "text": [
      "cannot reshape array of size 120 into shape (30,10)\n"
     ]
    }
   ],
   "source": [
    "try:\n",
    "    np.reshape(nums, (30,10))\n",
    "except ValueError as err:\n",
    "    print(err)"
   ]
  },
  {
   "cell_type": "markdown",
   "id": "5e8e5a47",
   "metadata": {},
   "source": [
    "## EXERCISE\n",
    "\n",
    "Create a 2D array (x,y) whose values should be equal to $x**2 + y$ (so the value at `[0,1]` would be 1, the value at `[2,4]` would be $2^2 + 4 = 8$ and so on). The size of this array should be 42 x 20.\n",
    "\n",
    "Take the transpose of this array. Now if this new array has coordinates (x1,y1) what is the value at x1 = 4, y1=5 going to be?\n",
    "\n",
    "There are a number of different 2D shapes that you can reshape this array into (I counted 32). How many valid different sizes can you reshape this array into.\n",
    "\n",
    "Reshape this array into a 5D shape, where no dimension has a size equal to 1."
   ]
  },
  {
   "cell_type": "markdown",
   "id": "a17278ab",
   "metadata": {},
   "source": [
    "## Matrix operations\n",
    "\n",
    "A 2D array in numpy can be treated as a matrix, but unlike in MATLAB, it will *not* be treated mathematically as a matrix unless you tell it. For example doing `a * b` will perform elementwise multiplication, not matrix multiplication. BUT, we can still do all matrix stuff in MATLAB in numpy just as easily.\n",
    "\n",
    "First let's show elementwise multiplication:"
   ]
  },
  {
   "cell_type": "code",
   "execution_count": 10,
   "id": "eeda61af",
   "metadata": {},
   "outputs": [
    {
     "name": "stdout",
     "output_type": "stream",
     "text": [
      "(12, 10)\n",
      "\n",
      "operands could not be broadcast together with shapes (12,10) (10,10) \n"
     ]
    }
   ],
   "source": [
    "nums1 = np.random.random_sample(size=[12,10]) * 10\n",
    "nums2 = np.random.random_sample(size=[12,10]) * 10\n",
    "nums3 = np.random.random_sample(size=[10,10]) * 10\n",
    "\n",
    "prod = nums1 * nums2\n",
    "# To multiply two numpy arrays they must be the same shape, and then every element is multiplied by its corresponding\n",
    "# element in the other array. That's not how matrix multiplication works\n",
    "print (prod.shape)\n",
    "print()\n",
    "\n",
    "# This won't work, they are not the same shape!\n",
    "try:\n",
    "    prod2 = nums1 * nums3\n",
    "except ValueError as err:\n",
    "    print(err)\n"
   ]
  },
  {
   "cell_type": "markdown",
   "id": "4d783bf6",
   "metadata": {},
   "source": [
    "Now let's show matrix multiplication, we use the `@` operator to do this:"
   ]
  },
  {
   "cell_type": "code",
   "execution_count": 11,
   "id": "f8b00da2",
   "metadata": {},
   "outputs": [
    {
     "name": "stdout",
     "output_type": "stream",
     "text": [
      "[[194.19872992 323.76528078 269.90001023 256.59623967 266.65411148\n",
      "  268.07233792 307.53394386 201.36703269 290.73757293 266.98396255]\n",
      " [186.87437507 364.05132317 207.01159042 217.82275719 266.2129797\n",
      "  205.64735424 302.87286885 181.84545079 312.21562361 258.04946699]\n",
      " [206.25480043 485.05758491 271.65819963 335.8318468  377.87966333\n",
      "  318.71636229 385.02726837 232.66971934 399.43871757 357.41591532]\n",
      " [196.74690349 281.61871556 198.63747378 210.39059441 175.98451147\n",
      "  201.20781872 279.64418302 179.82089709 229.86097634 222.18984637]\n",
      " [193.86793965 377.53813833 260.07514993 318.95991392 290.97189697\n",
      "  299.23471434 311.84209588 220.83252834 310.10716687 272.36668002]\n",
      " [145.41271768 299.38856027 164.3070563  192.02313896 227.18648753\n",
      "  168.02146319 233.14497149 147.09512841 276.76462279 178.9653195 ]\n",
      " [238.00945252 368.45246659 242.31302848 258.93746315 283.7999495\n",
      "  234.78560296 322.25325694 200.55643211 321.72119237 250.05794702]\n",
      " [117.73806627 268.46602483 122.1584458  230.22005044 204.08418568\n",
      "  209.2225304  196.1864346  107.51535367 183.12335387 158.23651096]\n",
      " [212.25540019 311.82668282 221.91159001 152.8091131  244.06982978\n",
      "  172.0397601  314.87690917 167.88843675 289.21604711 251.32062043]\n",
      " [180.53633243 360.8440915  243.2377488  182.89449975 299.41917962\n",
      "  226.40959118 321.23955749 157.60290305 321.51695919 311.07593889]\n",
      " [238.23835815 423.27929919 294.54445862 246.95568888 285.34818265\n",
      "  269.72624418 391.86001444 255.39794602 352.03379881 359.13783931]\n",
      " [148.32825079 241.20184942 151.92804329 131.9534631  207.70847439\n",
      "  146.18098999 216.72892071  91.64408907 214.85397187 185.08809034]]\n",
      "This doesn't work! The [not particularly helpful] error message says:\n",
      "matmul: Input operand 1 has a mismatch in its core dimension 0, with gufunc signature (n?,k),(k,m?)->(n?,m?) (size 12 is different from 10)\n",
      "(12, 12) (10, 10)\n"
     ]
    }
   ],
   "source": [
    "# The @ indicates matrix multiplication, nums1 can be multiplied by nums3\n",
    "mult1 = nums1 @ nums3\n",
    "\n",
    "print(mult1)\n",
    "\n",
    "# But nums1 cannot be multiplied by nums2.\n",
    "# I cannot multiply a 12x10 matrix by a 12x10 matrix!\n",
    "# Let's catch this error and continue. Python's try/except can be used for this\n",
    "# https://docs.python.org/3/tutorial/errors.html\n",
    "\n",
    "try:\n",
    "    nums1 @ nums2\n",
    "except ValueError as err:\n",
    "    print (\"This doesn't work! The [not particularly helpful] error message says:\")\n",
    "    print (err)\n",
    "\n",
    "# But I can multiply a 12x10 matrix by a 10x12 matrix (the resulting matrix should be 12 x 12.)\n",
    "# OR I can multiply a 10x12 matrix by a 12x10 matrix (resulting in a 10x10 matrix)\n",
    "\n",
    "prod1 = nums1 @ nums2.T\n",
    "prod2 = nums1.T @ nums2\n",
    "\n",
    "print (prod1.shape, prod2.shape)"
   ]
  },
  {
   "cell_type": "markdown",
   "id": "6e530174",
   "metadata": {},
   "source": [
    "We can also compute the eigenvalues and eigenvectors of a square 2D array :"
   ]
  },
  {
   "cell_type": "code",
   "execution_count": 12,
   "id": "5f8c3350",
   "metadata": {},
   "outputs": [
    {
     "name": "stdout",
     "output_type": "stream",
     "text": [
      "[[1. 0. 0.]\n",
      " [0. 2. 0.]\n",
      " [0. 0. 3.]]\n",
      "[[1. 0. 0.]\n",
      " [0. 2. 0.]\n",
      " [0. 0. 3.]]\n",
      "[1. 2. 3.]\n",
      "[[1. 0. 0.]\n",
      " [0. 1. 0.]\n",
      " [0. 0. 1.]]\n"
     ]
    }
   ],
   "source": [
    "# Make a diagonal matrix\n",
    "nums1 = np.zeros([3,3])\n",
    "nums1[0,0] = 1.\n",
    "nums1[1,1] = 2.\n",
    "nums1[2,2] = 3.\n",
    "print(nums1)\n",
    "# Or equivalently\n",
    "print (np.diag([1.,2.,3.]))\n",
    "\n",
    "evals, evecs = np.linalg.eig(nums1)\n",
    "\n",
    "print (evals)\n",
    "print (evecs)"
   ]
  },
  {
   "cell_type": "markdown",
   "id": "18188d4d",
   "metadata": {},
   "source": [
    "## EXERCISE\n",
    "\n",
    "Generate a 2D 10x10 matrix of random numbers. Compute the eigenvectors and eigenvalues of this matrix.\n",
    "\n",
    "Now try again but this time generate a symmetric matrix (where the value at `[x,y]` is equal to the value at `[y,x]`). What do you notice is different? Why is this?"
   ]
  },
  {
   "cell_type": "markdown",
   "id": "14d7e844",
   "metadata": {},
   "source": [
    "Confirm that the eigenvectors and eigenvalues are correct"
   ]
  }
 ],
 "metadata": {
  "kernelspec": {
   "display_name": "CompPhys2",
   "language": "python",
   "name": "python3"
  },
  "language_info": {
   "codemirror_mode": {
    "name": "ipython",
    "version": 3
   },
   "file_extension": ".py",
   "mimetype": "text/x-python",
   "name": "python",
   "nbconvert_exporter": "python",
   "pygments_lexer": "ipython3",
   "version": "3.10.16"
  }
 },
 "nbformat": 4,
 "nbformat_minor": 5
}
