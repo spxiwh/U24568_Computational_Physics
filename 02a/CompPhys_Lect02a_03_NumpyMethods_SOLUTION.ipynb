{
 "cells": [
  {
   "cell_type": "markdown",
   "id": "e8bd6ea6",
   "metadata": {},
   "source": [
    "# Methods of numpy arrays.\n",
    "\n",
    "The numpy array class defines a number of `methods` for easily accessing information about the numpy array. Let's explore a few of these methods now."
   ]
  },
  {
   "cell_type": "markdown",
   "id": "03029091",
   "metadata": {},
   "source": [
    "## The `.any` and `.all` method"
   ]
  },
  {
   "cell_type": "markdown",
   "id": "67020635",
   "metadata": {},
   "source": [
    "The `any` method can be used to check if at least one element in a boolean array is True. For example if we want to go back to our `some_numbers` array, and ask if it contains any number greater than 20 we can do:"
   ]
  },
  {
   "cell_type": "code",
   "execution_count": 1,
   "id": "f8e64263",
   "metadata": {},
   "outputs": [
    {
     "name": "stdout",
     "output_type": "stream",
     "text": [
      "There is at least one value in some_numbers larger than 20\n"
     ]
    }
   ],
   "source": [
    "import numpy as np\n",
    "\n",
    "some_numbers = np.array([1,10,2,20,3,30,4,40,5,50,6,60])\n",
    "\n",
    "if (some_numbers > 20).any():\n",
    "    print (\"There is at least one value in some_numbers larger than 20\")"
   ]
  },
  {
   "cell_type": "markdown",
   "id": "2d97e767",
   "metadata": {},
   "source": [
    "Similarly we can use the `all` method to ask if all numbers in `some_numbers` are larger than 20:"
   ]
  },
  {
   "cell_type": "code",
   "execution_count": 2,
   "id": "b98ba379",
   "metadata": {},
   "outputs": [
    {
     "name": "stdout",
     "output_type": "stream",
     "text": [
      "Not all the numbers in some_numbers are larger than 20\n"
     ]
    }
   ],
   "source": [
    "some_numbers = np.array([1,10,2,20,3,30,4,40,5,50,6,60])\n",
    "\n",
    "if (some_numbers > 20).all():\n",
    "    print (\"All numbers in some_numbers are larger than 20\")\n",
    "else:\n",
    "    print (\"Not all the numbers in some_numbers are larger than 20\")"
   ]
  },
  {
   "cell_type": "markdown",
   "id": "29f000da",
   "metadata": {},
   "source": [
    "In both cases, these methods can also run on non boolean arrays:"
   ]
  },
  {
   "cell_type": "code",
   "execution_count": 3,
   "id": "f224814a",
   "metadata": {},
   "outputs": [
    {
     "name": "stdout",
     "output_type": "stream",
     "text": [
      "True\n"
     ]
    }
   ],
   "source": [
    "print (some_numbers.all())"
   ]
  },
  {
   "cell_type": "markdown",
   "id": "0376c753",
   "metadata": {},
   "source": [
    "In such cases it will be checking the \"truth value\" of each entry in the array. 0, or 0.0 or `''` are False for integers, floats and strings respectively, anything else is True. This is the same as running `bool(value)` on all values in the array and then checking if any, or all, are True."
   ]
  },
  {
   "cell_type": "markdown",
   "id": "1a54d709",
   "metadata": {},
   "source": [
    "Let's take our pandas example again before setting some exercises:"
   ]
  },
  {
   "cell_type": "code",
   "execution_count": 4,
   "id": "673e2029",
   "metadata": {},
   "outputs": [
    {
     "data": {
      "text/html": [
       "<div>\n",
       "<style scoped>\n",
       "    .dataframe tbody tr th:only-of-type {\n",
       "        vertical-align: middle;\n",
       "    }\n",
       "\n",
       "    .dataframe tbody tr th {\n",
       "        vertical-align: top;\n",
       "    }\n",
       "\n",
       "    .dataframe thead th {\n",
       "        text-align: right;\n",
       "    }\n",
       "</style>\n",
       "<table border=\"1\" class=\"dataframe\">\n",
       "  <thead>\n",
       "    <tr style=\"text-align: right;\">\n",
       "      <th></th>\n",
       "      <th>aa</th>\n",
       "      <th>x1</th>\n",
       "      <th>y1</th>\n",
       "      <th>z1</th>\n",
       "    </tr>\n",
       "  </thead>\n",
       "  <tbody>\n",
       "    <tr>\n",
       "      <th>0</th>\n",
       "      <td>0.000000</td>\n",
       "      <td>0.000000</td>\n",
       "      <td>1.000000</td>\n",
       "      <td>0.000000</td>\n",
       "    </tr>\n",
       "    <tr>\n",
       "      <th>1</th>\n",
       "      <td>0.204082</td>\n",
       "      <td>0.041649</td>\n",
       "      <td>0.979248</td>\n",
       "      <td>0.124948</td>\n",
       "    </tr>\n",
       "    <tr>\n",
       "      <th>2</th>\n",
       "      <td>0.408163</td>\n",
       "      <td>0.166597</td>\n",
       "      <td>0.917851</td>\n",
       "      <td>0.499792</td>\n",
       "    </tr>\n",
       "    <tr>\n",
       "      <th>3</th>\n",
       "      <td>0.612245</td>\n",
       "      <td>0.374844</td>\n",
       "      <td>0.818360</td>\n",
       "      <td>1.124531</td>\n",
       "    </tr>\n",
       "    <tr>\n",
       "      <th>4</th>\n",
       "      <td>0.816327</td>\n",
       "      <td>0.666389</td>\n",
       "      <td>0.684902</td>\n",
       "      <td>1.999167</td>\n",
       "    </tr>\n",
       "    <tr>\n",
       "      <th>5</th>\n",
       "      <td>1.020408</td>\n",
       "      <td>1.041233</td>\n",
       "      <td>0.523018</td>\n",
       "      <td>3.123698</td>\n",
       "    </tr>\n",
       "    <tr>\n",
       "      <th>6</th>\n",
       "      <td>1.224490</td>\n",
       "      <td>1.499375</td>\n",
       "      <td>0.339426</td>\n",
       "      <td>4.498126</td>\n",
       "    </tr>\n",
       "    <tr>\n",
       "      <th>7</th>\n",
       "      <td>1.428571</td>\n",
       "      <td>2.040816</td>\n",
       "      <td>0.141746</td>\n",
       "      <td>6.122449</td>\n",
       "    </tr>\n",
       "    <tr>\n",
       "      <th>8</th>\n",
       "      <td>1.632653</td>\n",
       "      <td>2.665556</td>\n",
       "      <td>-0.061817</td>\n",
       "      <td>7.996668</td>\n",
       "    </tr>\n",
       "    <tr>\n",
       "      <th>9</th>\n",
       "      <td>1.836735</td>\n",
       "      <td>3.373594</td>\n",
       "      <td>-0.262815</td>\n",
       "      <td>10.120783</td>\n",
       "    </tr>\n",
       "    <tr>\n",
       "      <th>10</th>\n",
       "      <td>2.040816</td>\n",
       "      <td>4.164931</td>\n",
       "      <td>-0.452904</td>\n",
       "      <td>12.494794</td>\n",
       "    </tr>\n",
       "    <tr>\n",
       "      <th>11</th>\n",
       "      <td>2.244898</td>\n",
       "      <td>5.039567</td>\n",
       "      <td>-0.624196</td>\n",
       "      <td>15.118701</td>\n",
       "    </tr>\n",
       "    <tr>\n",
       "      <th>12</th>\n",
       "      <td>2.448980</td>\n",
       "      <td>5.997501</td>\n",
       "      <td>-0.769580</td>\n",
       "      <td>17.992503</td>\n",
       "    </tr>\n",
       "    <tr>\n",
       "      <th>13</th>\n",
       "      <td>2.653061</td>\n",
       "      <td>7.038734</td>\n",
       "      <td>-0.883023</td>\n",
       "      <td>21.116202</td>\n",
       "    </tr>\n",
       "    <tr>\n",
       "      <th>14</th>\n",
       "      <td>2.857143</td>\n",
       "      <td>8.163265</td>\n",
       "      <td>-0.959816</td>\n",
       "      <td>24.489796</td>\n",
       "    </tr>\n",
       "    <tr>\n",
       "      <th>15</th>\n",
       "      <td>3.061224</td>\n",
       "      <td>9.371095</td>\n",
       "      <td>-0.996772</td>\n",
       "      <td>28.113286</td>\n",
       "    </tr>\n",
       "    <tr>\n",
       "      <th>16</th>\n",
       "      <td>3.265306</td>\n",
       "      <td>10.662224</td>\n",
       "      <td>-0.992357</td>\n",
       "      <td>31.986672</td>\n",
       "    </tr>\n",
       "    <tr>\n",
       "      <th>17</th>\n",
       "      <td>3.469388</td>\n",
       "      <td>12.036651</td>\n",
       "      <td>-0.946755</td>\n",
       "      <td>36.109954</td>\n",
       "    </tr>\n",
       "    <tr>\n",
       "      <th>18</th>\n",
       "      <td>3.673469</td>\n",
       "      <td>13.494377</td>\n",
       "      <td>-0.861857</td>\n",
       "      <td>40.483132</td>\n",
       "    </tr>\n",
       "    <tr>\n",
       "      <th>19</th>\n",
       "      <td>3.877551</td>\n",
       "      <td>15.035402</td>\n",
       "      <td>-0.741188</td>\n",
       "      <td>45.106206</td>\n",
       "    </tr>\n",
       "    <tr>\n",
       "      <th>20</th>\n",
       "      <td>4.081633</td>\n",
       "      <td>16.659725</td>\n",
       "      <td>-0.589756</td>\n",
       "      <td>49.979175</td>\n",
       "    </tr>\n",
       "    <tr>\n",
       "      <th>21</th>\n",
       "      <td>4.285714</td>\n",
       "      <td>18.367347</td>\n",
       "      <td>-0.413846</td>\n",
       "      <td>55.102041</td>\n",
       "    </tr>\n",
       "    <tr>\n",
       "      <th>22</th>\n",
       "      <td>4.489796</td>\n",
       "      <td>20.158267</td>\n",
       "      <td>-0.220759</td>\n",
       "      <td>60.474802</td>\n",
       "    </tr>\n",
       "    <tr>\n",
       "      <th>23</th>\n",
       "      <td>4.693878</td>\n",
       "      <td>22.032486</td>\n",
       "      <td>-0.018510</td>\n",
       "      <td>66.097459</td>\n",
       "    </tr>\n",
       "    <tr>\n",
       "      <th>24</th>\n",
       "      <td>4.897959</td>\n",
       "      <td>23.990004</td>\n",
       "      <td>0.184507</td>\n",
       "      <td>71.970012</td>\n",
       "    </tr>\n",
       "    <tr>\n",
       "      <th>25</th>\n",
       "      <td>5.102041</td>\n",
       "      <td>26.030820</td>\n",
       "      <td>0.379866</td>\n",
       "      <td>78.092461</td>\n",
       "    </tr>\n",
       "    <tr>\n",
       "      <th>26</th>\n",
       "      <td>5.306122</td>\n",
       "      <td>28.154935</td>\n",
       "      <td>0.559459</td>\n",
       "      <td>84.464806</td>\n",
       "    </tr>\n",
       "    <tr>\n",
       "      <th>27</th>\n",
       "      <td>5.510204</td>\n",
       "      <td>30.362349</td>\n",
       "      <td>0.715832</td>\n",
       "      <td>91.087047</td>\n",
       "    </tr>\n",
       "    <tr>\n",
       "      <th>28</th>\n",
       "      <td>5.714286</td>\n",
       "      <td>32.653061</td>\n",
       "      <td>0.842494</td>\n",
       "      <td>97.959184</td>\n",
       "    </tr>\n",
       "    <tr>\n",
       "      <th>29</th>\n",
       "      <td>5.918367</td>\n",
       "      <td>35.027072</td>\n",
       "      <td>0.934189</td>\n",
       "      <td>105.081216</td>\n",
       "    </tr>\n",
       "    <tr>\n",
       "      <th>30</th>\n",
       "      <td>6.122449</td>\n",
       "      <td>37.484382</td>\n",
       "      <td>0.987110</td>\n",
       "      <td>112.453145</td>\n",
       "    </tr>\n",
       "    <tr>\n",
       "      <th>31</th>\n",
       "      <td>6.326531</td>\n",
       "      <td>40.024990</td>\n",
       "      <td>0.999061</td>\n",
       "      <td>120.074969</td>\n",
       "    </tr>\n",
       "    <tr>\n",
       "      <th>32</th>\n",
       "      <td>6.530612</td>\n",
       "      <td>42.648896</td>\n",
       "      <td>0.969546</td>\n",
       "      <td>127.946689</td>\n",
       "    </tr>\n",
       "    <tr>\n",
       "      <th>33</th>\n",
       "      <td>6.734694</td>\n",
       "      <td>45.356102</td>\n",
       "      <td>0.899790</td>\n",
       "      <td>136.068305</td>\n",
       "    </tr>\n",
       "    <tr>\n",
       "      <th>34</th>\n",
       "      <td>6.938776</td>\n",
       "      <td>48.146606</td>\n",
       "      <td>0.792688</td>\n",
       "      <td>144.439817</td>\n",
       "    </tr>\n",
       "    <tr>\n",
       "      <th>35</th>\n",
       "      <td>7.142857</td>\n",
       "      <td>51.020408</td>\n",
       "      <td>0.652686</td>\n",
       "      <td>153.061224</td>\n",
       "    </tr>\n",
       "    <tr>\n",
       "      <th>36</th>\n",
       "      <td>7.346939</td>\n",
       "      <td>53.977509</td>\n",
       "      <td>0.485594</td>\n",
       "      <td>161.932528</td>\n",
       "    </tr>\n",
       "    <tr>\n",
       "      <th>37</th>\n",
       "      <td>7.551020</td>\n",
       "      <td>57.017909</td>\n",
       "      <td>0.298348</td>\n",
       "      <td>171.053728</td>\n",
       "    </tr>\n",
       "    <tr>\n",
       "      <th>38</th>\n",
       "      <td>7.755102</td>\n",
       "      <td>60.141608</td>\n",
       "      <td>0.098719</td>\n",
       "      <td>180.424823</td>\n",
       "    </tr>\n",
       "    <tr>\n",
       "      <th>39</th>\n",
       "      <td>7.959184</td>\n",
       "      <td>63.348605</td>\n",
       "      <td>-0.105008</td>\n",
       "      <td>190.045814</td>\n",
       "    </tr>\n",
       "    <tr>\n",
       "      <th>40</th>\n",
       "      <td>8.163265</td>\n",
       "      <td>66.638900</td>\n",
       "      <td>-0.304376</td>\n",
       "      <td>199.916701</td>\n",
       "    </tr>\n",
       "    <tr>\n",
       "      <th>41</th>\n",
       "      <td>8.367347</td>\n",
       "      <td>70.012495</td>\n",
       "      <td>-0.491112</td>\n",
       "      <td>210.037484</td>\n",
       "    </tr>\n",
       "    <tr>\n",
       "      <th>42</th>\n",
       "      <td>8.571429</td>\n",
       "      <td>73.469388</td>\n",
       "      <td>-0.657463</td>\n",
       "      <td>220.408163</td>\n",
       "    </tr>\n",
       "    <tr>\n",
       "      <th>43</th>\n",
       "      <td>8.775510</td>\n",
       "      <td>77.009579</td>\n",
       "      <td>-0.796527</td>\n",
       "      <td>231.028738</td>\n",
       "    </tr>\n",
       "    <tr>\n",
       "      <th>44</th>\n",
       "      <td>8.979592</td>\n",
       "      <td>80.633070</td>\n",
       "      <td>-0.902531</td>\n",
       "      <td>241.899209</td>\n",
       "    </tr>\n",
       "    <tr>\n",
       "      <th>45</th>\n",
       "      <td>9.183673</td>\n",
       "      <td>84.339858</td>\n",
       "      <td>-0.971075</td>\n",
       "      <td>253.019575</td>\n",
       "    </tr>\n",
       "    <tr>\n",
       "      <th>46</th>\n",
       "      <td>9.387755</td>\n",
       "      <td>88.129946</td>\n",
       "      <td>-0.999315</td>\n",
       "      <td>264.389838</td>\n",
       "    </tr>\n",
       "    <tr>\n",
       "      <th>47</th>\n",
       "      <td>9.591837</td>\n",
       "      <td>92.003332</td>\n",
       "      <td>-0.986078</td>\n",
       "      <td>276.009996</td>\n",
       "    </tr>\n",
       "    <tr>\n",
       "      <th>48</th>\n",
       "      <td>9.795918</td>\n",
       "      <td>95.960017</td>\n",
       "      <td>-0.931914</td>\n",
       "      <td>287.880050</td>\n",
       "    </tr>\n",
       "    <tr>\n",
       "      <th>49</th>\n",
       "      <td>10.000000</td>\n",
       "      <td>100.000000</td>\n",
       "      <td>-0.839072</td>\n",
       "      <td>300.000000</td>\n",
       "    </tr>\n",
       "  </tbody>\n",
       "</table>\n",
       "</div>"
      ],
      "text/plain": [
       "           aa          x1        y1          z1\n",
       "0    0.000000    0.000000  1.000000    0.000000\n",
       "1    0.204082    0.041649  0.979248    0.124948\n",
       "2    0.408163    0.166597  0.917851    0.499792\n",
       "3    0.612245    0.374844  0.818360    1.124531\n",
       "4    0.816327    0.666389  0.684902    1.999167\n",
       "5    1.020408    1.041233  0.523018    3.123698\n",
       "6    1.224490    1.499375  0.339426    4.498126\n",
       "7    1.428571    2.040816  0.141746    6.122449\n",
       "8    1.632653    2.665556 -0.061817    7.996668\n",
       "9    1.836735    3.373594 -0.262815   10.120783\n",
       "10   2.040816    4.164931 -0.452904   12.494794\n",
       "11   2.244898    5.039567 -0.624196   15.118701\n",
       "12   2.448980    5.997501 -0.769580   17.992503\n",
       "13   2.653061    7.038734 -0.883023   21.116202\n",
       "14   2.857143    8.163265 -0.959816   24.489796\n",
       "15   3.061224    9.371095 -0.996772   28.113286\n",
       "16   3.265306   10.662224 -0.992357   31.986672\n",
       "17   3.469388   12.036651 -0.946755   36.109954\n",
       "18   3.673469   13.494377 -0.861857   40.483132\n",
       "19   3.877551   15.035402 -0.741188   45.106206\n",
       "20   4.081633   16.659725 -0.589756   49.979175\n",
       "21   4.285714   18.367347 -0.413846   55.102041\n",
       "22   4.489796   20.158267 -0.220759   60.474802\n",
       "23   4.693878   22.032486 -0.018510   66.097459\n",
       "24   4.897959   23.990004  0.184507   71.970012\n",
       "25   5.102041   26.030820  0.379866   78.092461\n",
       "26   5.306122   28.154935  0.559459   84.464806\n",
       "27   5.510204   30.362349  0.715832   91.087047\n",
       "28   5.714286   32.653061  0.842494   97.959184\n",
       "29   5.918367   35.027072  0.934189  105.081216\n",
       "30   6.122449   37.484382  0.987110  112.453145\n",
       "31   6.326531   40.024990  0.999061  120.074969\n",
       "32   6.530612   42.648896  0.969546  127.946689\n",
       "33   6.734694   45.356102  0.899790  136.068305\n",
       "34   6.938776   48.146606  0.792688  144.439817\n",
       "35   7.142857   51.020408  0.652686  153.061224\n",
       "36   7.346939   53.977509  0.485594  161.932528\n",
       "37   7.551020   57.017909  0.298348  171.053728\n",
       "38   7.755102   60.141608  0.098719  180.424823\n",
       "39   7.959184   63.348605 -0.105008  190.045814\n",
       "40   8.163265   66.638900 -0.304376  199.916701\n",
       "41   8.367347   70.012495 -0.491112  210.037484\n",
       "42   8.571429   73.469388 -0.657463  220.408163\n",
       "43   8.775510   77.009579 -0.796527  231.028738\n",
       "44   8.979592   80.633070 -0.902531  241.899209\n",
       "45   9.183673   84.339858 -0.971075  253.019575\n",
       "46   9.387755   88.129946 -0.999315  264.389838\n",
       "47   9.591837   92.003332 -0.986078  276.009996\n",
       "48   9.795918   95.960017 -0.931914  287.880050\n",
       "49  10.000000  100.000000 -0.839072  300.000000"
      ]
     },
     "execution_count": 4,
     "metadata": {},
     "output_type": "execute_result"
    }
   ],
   "source": [
    "import numpy as np\n",
    "import pandas as pd\n",
    "def func_makedata(a):\n",
    "    x1 = a**2\n",
    "    y1 = np.cos(a)\n",
    "    z1 = 3*a**2 \n",
    "    return x1, y1, z1\n",
    "\n",
    "aa = np.linspace(0.,10.,50)\n",
    "x1, y1, z1 = func_makedata(aa)\n",
    "\n",
    "data_dict = {}\n",
    "data_dict['aa'] = aa\n",
    "data_dict['x1'] = x1\n",
    "data_dict['y1'] = y1\n",
    "data_dict['z1'] = z1\n",
    "pd_dataframe = pd.DataFrame(data_dict)\n",
    "pd_dataframe"
   ]
  },
  {
   "cell_type": "markdown",
   "id": "a1b5c06f",
   "metadata": {},
   "source": [
    "## EXERCISES\n",
    "\n",
    "* Are there any values in $\\mathrm{y1}$ for which $\\cos^{-1}(y1) > 3.0$ (radians)\n",
    "* Do all of the values of $(x1 - 50) * (z1 - 150)$ have a magnitude smaller than 5000?"
   ]
  },
  {
   "cell_type": "code",
   "execution_count": 5,
   "id": "56c9ef63",
   "metadata": {},
   "outputs": [
    {
     "name": "stdout",
     "output_type": "stream",
     "text": [
      "True\n",
      "False\n"
     ]
    }
   ],
   "source": [
    "print((np.arccos(y1) < 3.0).any())\n",
    "print((abs((x1-50) * (z1-150)) < 5000).all())"
   ]
  },
  {
   "cell_type": "markdown",
   "id": "27a4a758",
   "metadata": {},
   "source": [
    "## The `np.where` function"
   ]
  },
  {
   "cell_type": "markdown",
   "id": "d121adff",
   "metadata": {},
   "source": [
    "Consider again our list of `some_numbers`. Let's say that we have a problem that asks: For your list of numbers create a new list storing $x^2$ if $x$ is smaller than 10 or $x^{0.5}$ is x is larger than or equal to 10. This is a perfect example for numpy's `where` function:"
   ]
  },
  {
   "cell_type": "code",
   "execution_count": 6,
   "id": "2845c51e",
   "metadata": {},
   "outputs": [
    {
     "name": "stdout",
     "output_type": "stream",
     "text": [
      "\u001b[0;31mCall signature:\u001b[0m  \u001b[0mnp\u001b[0m\u001b[0;34m.\u001b[0m\u001b[0mwhere\u001b[0m\u001b[0;34m(\u001b[0m\u001b[0;34m*\u001b[0m\u001b[0margs\u001b[0m\u001b[0;34m,\u001b[0m \u001b[0;34m**\u001b[0m\u001b[0mkwargs\u001b[0m\u001b[0;34m)\u001b[0m\u001b[0;34m\u001b[0m\u001b[0;34m\u001b[0m\u001b[0m\n",
      "\u001b[0;31mType:\u001b[0m            _ArrayFunctionDispatcher\n",
      "\u001b[0;31mString form:\u001b[0m     <built-in function where>\n",
      "\u001b[0;31mDocstring:\u001b[0m      \n",
      "where(condition, [x, y], /)\n",
      "\n",
      "Return elements chosen from `x` or `y` depending on `condition`.\n",
      "\n",
      ".. note::\n",
      "    When only `condition` is provided, this function is a shorthand for\n",
      "    ``np.asarray(condition).nonzero()``. Using `nonzero` directly should be\n",
      "    preferred, as it behaves correctly for subclasses. The rest of this\n",
      "    documentation covers only the case where all three arguments are\n",
      "    provided.\n",
      "\n",
      "Parameters\n",
      "----------\n",
      "condition : array_like, bool\n",
      "    Where True, yield `x`, otherwise yield `y`.\n",
      "x, y : array_like\n",
      "    Values from which to choose. `x`, `y` and `condition` need to be\n",
      "    broadcastable to some shape.\n",
      "\n",
      "Returns\n",
      "-------\n",
      "out : ndarray\n",
      "    An array with elements from `x` where `condition` is True, and elements\n",
      "    from `y` elsewhere.\n",
      "\n",
      "See Also\n",
      "--------\n",
      "choose\n",
      "nonzero : The function that is called when x and y are omitted\n",
      "\n",
      "Notes\n",
      "-----\n",
      "If all the arrays are 1-D, `where` is equivalent to::\n",
      "\n",
      "    [xv if c else yv\n",
      "     for c, xv, yv in zip(condition, x, y)]\n",
      "\n",
      "Examples\n",
      "--------\n",
      ">>> import numpy as np\n",
      ">>> a = np.arange(10)\n",
      ">>> a\n",
      "array([0, 1, 2, 3, 4, 5, 6, 7, 8, 9])\n",
      ">>> np.where(a < 5, a, 10*a)\n",
      "array([ 0,  1,  2,  3,  4, 50, 60, 70, 80, 90])\n",
      "\n",
      "This can be used on multidimensional arrays too:\n",
      "\n",
      ">>> np.where([[True, False], [True, True]],\n",
      "...          [[1, 2], [3, 4]],\n",
      "...          [[9, 8], [7, 6]])\n",
      "array([[1, 8],\n",
      "       [3, 4]])\n",
      "\n",
      "The shapes of x, y, and the condition are broadcast together:\n",
      "\n",
      ">>> x, y = np.ogrid[:3, :4]\n",
      ">>> np.where(x < y, x, 10 + y)  # both x and 10+y are broadcast\n",
      "array([[10,  0,  0,  0],\n",
      "       [10, 11,  1,  1],\n",
      "       [10, 11, 12,  2]])\n",
      "\n",
      ">>> a = np.array([[0, 1, 2],\n",
      "...               [0, 2, 4],\n",
      "...               [0, 3, 6]])\n",
      ">>> np.where(a < 4, a, -1)  # -1 is broadcast\n",
      "array([[ 0,  1,  2],\n",
      "       [ 0,  2, -1],\n",
      "       [ 0,  3, -1]])\n",
      "\u001b[0;31mClass docstring:\u001b[0m\n",
      "Class to wrap functions with checks for __array_function__ overrides.\n",
      "\n",
      "All arguments are required, and can only be passed by position.\n",
      "\n",
      "Parameters\n",
      "----------\n",
      "dispatcher : function or None\n",
      "    The dispatcher function that returns a single sequence-like object\n",
      "    of all arguments relevant.  It must have the same signature (except\n",
      "    the default values) as the actual implementation.\n",
      "    If ``None``, this is a ``like=`` dispatcher and the\n",
      "    ``_ArrayFunctionDispatcher`` must be called with ``like`` as the\n",
      "    first (additional and positional) argument.\n",
      "implementation : function\n",
      "    Function that implements the operation on NumPy arrays without\n",
      "    overrides.  Arguments passed calling the ``_ArrayFunctionDispatcher``\n",
      "    will be forwarded to this (and the ``dispatcher``) as if using\n",
      "    ``*args, **kwargs``.\n",
      "\n",
      "Attributes\n",
      "----------\n",
      "_implementation : function\n",
      "    The original implementation passed in."
     ]
    }
   ],
   "source": [
    "# Let's let numpy explain what this function does first\n",
    "np.where?"
   ]
  },
  {
   "cell_type": "code",
   "execution_count": 7,
   "id": "cf77b35a",
   "metadata": {},
   "outputs": [
    {
     "data": {
      "text/plain": [
       "array([ 1.        ,  3.16227766,  4.        ,  4.47213595,  9.        ,\n",
       "        5.47722558, 16.        ,  6.32455532, 25.        ,  7.07106781,\n",
       "       36.        ,  7.74596669])"
      ]
     },
     "execution_count": 7,
     "metadata": {},
     "output_type": "execute_result"
    }
   ],
   "source": [
    "some_numbers = np.array([1,10,2,20,3,30,4,40,5,50,6,60])\n",
    "np.where(some_numbers >= 10, some_numbers**0.5, some_numbers**2)"
   ]
  },
  {
   "cell_type": "markdown",
   "id": "5b75b6b2",
   "metadata": {},
   "source": [
    "Alternatively, if we just run this with the first argument:"
   ]
  },
  {
   "cell_type": "code",
   "execution_count": 8,
   "id": "ce26d39e",
   "metadata": {},
   "outputs": [
    {
     "data": {
      "text/plain": [
       "array([ 1,  3,  5,  7,  9, 11])"
      ]
     },
     "execution_count": 8,
     "metadata": {},
     "output_type": "execute_result"
    }
   ],
   "source": [
    "np.where(some_numbers >= 10)[0]"
   ]
  },
  {
   "cell_type": "markdown",
   "id": "e41d1a4a",
   "metadata": {},
   "source": [
    "It returns the indexes of the points where some_numbers is larger than or equal to 10. This can also be used to index, so we can do:"
   ]
  },
  {
   "cell_type": "code",
   "execution_count": 9,
   "id": "84a837d6",
   "metadata": {},
   "outputs": [
    {
     "data": {
      "text/plain": [
       "array([10, 20, 30, 40, 50, 60])"
      ]
     },
     "execution_count": 9,
     "metadata": {},
     "output_type": "execute_result"
    }
   ],
   "source": [
    "# Returns the points at positions 1, 3, 5, 7, 9 and 11\n",
    "some_numbers[np.where(some_numbers >= 10)[0]]"
   ]
  },
  {
   "cell_type": "markdown",
   "id": "afdf6528",
   "metadata": {},
   "source": [
    "This is equivalent to having done:"
   ]
  },
  {
   "cell_type": "code",
   "execution_count": 10,
   "id": "b656502b",
   "metadata": {},
   "outputs": [
    {
     "data": {
      "text/plain": [
       "array([10, 20, 30, 40, 50, 60])"
      ]
     },
     "execution_count": 10,
     "metadata": {},
     "output_type": "execute_result"
    }
   ],
   "source": [
    "some_numbers[some_numbers >= 10]"
   ]
  },
  {
   "cell_type": "markdown",
   "id": "abaf2433",
   "metadata": {},
   "source": [
    "But sometimes we want to know the indexes."
   ]
  },
  {
   "cell_type": "markdown",
   "id": "b6e40099",
   "metadata": {},
   "source": [
    "## EXERCISE\n",
    "\n",
    "Create an array out of some_numbers from the following condition.\n",
    "\n",
    "* If the number is larger than 20, store $x^3$. If the number is smaller than or equal to 20, store 1.\n",
    "\n",
    "Then try the following:\n",
    "\n",
    "* If the number is larger than 20, store $x^3$. If the number is larger than 4 but smaller than or equal to 20 store $x$, otherwise store 1."
   ]
  },
  {
   "cell_type": "code",
   "execution_count": 11,
   "id": "fdcae821",
   "metadata": {},
   "outputs": [
    {
     "data": {
      "text/plain": [
       "array([     1,      1,      1,      1,      1,  27000,      1,  64000,\n",
       "            1, 125000,      1, 216000])"
      ]
     },
     "execution_count": 11,
     "metadata": {},
     "output_type": "execute_result"
    }
   ],
   "source": [
    "np.where(some_numbers > 20, some_numbers ** 3, 1)"
   ]
  },
  {
   "cell_type": "code",
   "execution_count": 12,
   "id": "42ee401f",
   "metadata": {},
   "outputs": [
    {
     "data": {
      "text/plain": [
       "array([     1,     10,      1,     20,      1,  27000,      1,  64000,\n",
       "            5, 125000,      6, 216000])"
      ]
     },
     "execution_count": 12,
     "metadata": {},
     "output_type": "execute_result"
    }
   ],
   "source": [
    "np.where(some_numbers > 20, some_numbers ** 3, np.where(some_numbers > 4, some_numbers, 1))"
   ]
  }
 ],
 "metadata": {
  "kernelspec": {
   "display_name": "CompPhys2",
   "language": "python",
   "name": "python3"
  },
  "language_info": {
   "codemirror_mode": {
    "name": "ipython",
    "version": 3
   },
   "file_extension": ".py",
   "mimetype": "text/x-python",
   "name": "python",
   "nbconvert_exporter": "python",
   "pygments_lexer": "ipython3",
   "version": "3.10.16"
  }
 },
 "nbformat": 4,
 "nbformat_minor": 5
}
