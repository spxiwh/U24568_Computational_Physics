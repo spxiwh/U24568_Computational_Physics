{
 "cells": [
  {
   "cell_type": "markdown",
   "id": "0689f11b",
   "metadata": {},
   "source": [
    "# Boolean indexing"
   ]
  },
  {
   "cell_type": "markdown",
   "id": "d67e2e4b",
   "metadata": {},
   "source": [
    "Let's start with boolean indexing on a numpy array. What does this mean?\n",
    "\n",
    "Well let's sat that you have a set of numbers and you want to identify all those numbers whose value is larger than 2. You could write a for loop (which is often quite slow to run in python), or you could use \"boolean indexing\". This goes something like:"
   ]
  },
  {
   "cell_type": "code",
   "execution_count": 1,
   "id": "1d5034c6",
   "metadata": {},
   "outputs": [
    {
     "name": "stdout",
     "output_type": "stream",
     "text": [
      "[10 20 30 40  5 50  6 60]\n"
     ]
    }
   ],
   "source": [
    "import numpy as np\n",
    "# Here's a for loop showing what we're doing\n",
    "some_numbers = [1,10,2,20,3,30,4,40,5,50,6,60]\n",
    "large_nums = []\n",
    "\n",
    "for num in some_numbers:\n",
    "    if num > 4:\n",
    "        large_nums.append(num)\n",
    "\n",
    "# But we could also do this as using boolean indexing:\n",
    "\n",
    "some_numbers = np.array(some_numbers)\n",
    "large_nums = some_numbers[some_numbers > 4]\n",
    "print(large_nums)\n"
   ]
  },
  {
   "cell_type": "markdown",
   "id": "925a906d",
   "metadata": {},
   "source": [
    "Let's try and break down what this is doing. It only works with numpy arrays so if you have a list, first convert it to a numpy array by doing `some_numbers = np.array(some_numbers)`.\n",
    "\n",
    "Then we do `some_numbers > 4`. This creates a boolean array (an array whose entries are either `True` or `False`).\n",
    "\n",
    "We then use this boolean array to index `some_numbers`. It will extract all entries for which the boolean array is True. The boolean array must be the same length as the array being indexed.\n",
    "\n",
    "So for example\n",
    "\n",
    "`np.array([1,4,9,16])[np.array([True,False,False,True])]`\n",
    "\n",
    "will return the first and fourth entries of this array (1 and 16) in a new array."
   ]
  },
  {
   "cell_type": "code",
   "execution_count": 2,
   "id": "3f1a1c67",
   "metadata": {},
   "outputs": [
    {
     "data": {
      "text/plain": [
       "array([ 1, 16])"
      ]
     },
     "execution_count": 2,
     "metadata": {},
     "output_type": "execute_result"
    }
   ],
   "source": [
    "np.array([1,4,9,16])[np.array([True,False,False,True])]"
   ]
  },
  {
   "cell_type": "markdown",
   "id": "603ae4b9",
   "metadata": {},
   "source": [
    "We can split this into two lines if we also want to store the Boolean array."
   ]
  },
  {
   "cell_type": "code",
   "execution_count": 3,
   "id": "1daf7058",
   "metadata": {},
   "outputs": [
    {
     "name": "stdout",
     "output_type": "stream",
     "text": [
      "[False  True False  True False  True False  True  True  True  True  True]\n",
      "[10 20 30 40  5 50  6 60]\n"
     ]
    }
   ],
   "source": [
    "some_numbers = np.array([1,10,2,20,3,30,4,40,5,50,6,60])\n",
    "logic_array = some_numbers > 4\n",
    "print(logic_array)\n",
    "large_nums = some_numbers[logic_array]\n",
    "print(large_nums)"
   ]
  },
  {
   "cell_type": "markdown",
   "id": "8093eebb",
   "metadata": {},
   "source": [
    "We can also save a boolean array, and set values through later manipulation"
   ]
  },
  {
   "cell_type": "code",
   "execution_count": 4,
   "id": "20033c0d",
   "metadata": {},
   "outputs": [
    {
     "data": {
      "text/plain": [
       "array([1., 0., 0., 0., 0., 1., 0., 0., 0., 0., 0., 0., 0., 0., 0., 0., 1.,\n",
       "       1., 0., 1., 1., 1., 0., 1.])"
      ]
     },
     "execution_count": 4,
     "metadata": {},
     "output_type": "execute_result"
    }
   ],
   "source": [
    "# Who is teaching each lecture in this course?\n",
    "ian = np.array([0, 5, 16, 17, 19, 20, 21, 23])\n",
    "laura = np.array([1, 3, 4, 7, 8, 11, 13, 18, 22])\n",
    "gareth = np.array([2, 6, 9, 10, 12, 14, 15])\n",
    "\n",
    "bool_ian = np.zeros(24)\n",
    "bool_ian[ian] = True\n",
    "\n",
    "bool_ian"
   ]
  },
  {
   "cell_type": "markdown",
   "id": "7aa760de",
   "metadata": {},
   "source": [
    "## EXERCISE\n",
    "\n",
    "Let's practice this.\n",
    "\n",
    "* Use boolean indexing to extract all values in some_numbers where the number is smaller than 15\n",
    "* Use boolean indexing to extract all values in some_numbers where $\\mathrm{num}^2 - 15$ is larger than 100"
   ]
  },
  {
   "cell_type": "code",
   "execution_count": 5,
   "id": "bf9f483c",
   "metadata": {},
   "outputs": [
    {
     "name": "stdout",
     "output_type": "stream",
     "text": [
      "[ 1 10  2  3  4  5  6]\n",
      "[20 30 40 50 60]\n"
     ]
    }
   ],
   "source": [
    "some_numbers = np.array([1,10,2,20,3,30,4,40,5,50,6,60])\n",
    "\n",
    "# COMPLETE BELOW\n",
    "\n",
    "print(some_numbers[some_numbers < 15])\n",
    "print(some_numbers[(some_numbers **  2 - 15) > 100])\n",
    "\n"
   ]
  },
  {
   "cell_type": "markdown",
   "id": "275c9c62",
   "metadata": {},
   "source": [
    "How is this better than using a `for` loop? It is significantly faster, so if you are dealing with very large arrays, you might want this. But another huge advantage to this comes when you're dealing with multiple arrays of related data. Let's illustrate this using a pandas DataFrame."
   ]
  },
  {
   "cell_type": "code",
   "execution_count": 6,
   "id": "3df3cfd0",
   "metadata": {},
   "outputs": [
    {
     "data": {
      "text/html": [
       "<div>\n",
       "<style scoped>\n",
       "    .dataframe tbody tr th:only-of-type {\n",
       "        vertical-align: middle;\n",
       "    }\n",
       "\n",
       "    .dataframe tbody tr th {\n",
       "        vertical-align: top;\n",
       "    }\n",
       "\n",
       "    .dataframe thead th {\n",
       "        text-align: right;\n",
       "    }\n",
       "</style>\n",
       "<table border=\"1\" class=\"dataframe\">\n",
       "  <thead>\n",
       "    <tr style=\"text-align: right;\">\n",
       "      <th></th>\n",
       "      <th>aa</th>\n",
       "      <th>x1</th>\n",
       "      <th>y1</th>\n",
       "      <th>z1</th>\n",
       "    </tr>\n",
       "  </thead>\n",
       "  <tbody>\n",
       "    <tr>\n",
       "      <th>0</th>\n",
       "      <td>0.000000</td>\n",
       "      <td>0.000000</td>\n",
       "      <td>1.000000</td>\n",
       "      <td>0.000000</td>\n",
       "    </tr>\n",
       "    <tr>\n",
       "      <th>1</th>\n",
       "      <td>0.204082</td>\n",
       "      <td>0.041649</td>\n",
       "      <td>0.979248</td>\n",
       "      <td>0.124948</td>\n",
       "    </tr>\n",
       "    <tr>\n",
       "      <th>2</th>\n",
       "      <td>0.408163</td>\n",
       "      <td>0.166597</td>\n",
       "      <td>0.917851</td>\n",
       "      <td>0.499792</td>\n",
       "    </tr>\n",
       "    <tr>\n",
       "      <th>3</th>\n",
       "      <td>0.612245</td>\n",
       "      <td>0.374844</td>\n",
       "      <td>0.818360</td>\n",
       "      <td>1.124531</td>\n",
       "    </tr>\n",
       "    <tr>\n",
       "      <th>4</th>\n",
       "      <td>0.816327</td>\n",
       "      <td>0.666389</td>\n",
       "      <td>0.684902</td>\n",
       "      <td>1.999167</td>\n",
       "    </tr>\n",
       "    <tr>\n",
       "      <th>5</th>\n",
       "      <td>1.020408</td>\n",
       "      <td>1.041233</td>\n",
       "      <td>0.523018</td>\n",
       "      <td>3.123698</td>\n",
       "    </tr>\n",
       "    <tr>\n",
       "      <th>6</th>\n",
       "      <td>1.224490</td>\n",
       "      <td>1.499375</td>\n",
       "      <td>0.339426</td>\n",
       "      <td>4.498126</td>\n",
       "    </tr>\n",
       "    <tr>\n",
       "      <th>7</th>\n",
       "      <td>1.428571</td>\n",
       "      <td>2.040816</td>\n",
       "      <td>0.141746</td>\n",
       "      <td>6.122449</td>\n",
       "    </tr>\n",
       "    <tr>\n",
       "      <th>8</th>\n",
       "      <td>1.632653</td>\n",
       "      <td>2.665556</td>\n",
       "      <td>-0.061817</td>\n",
       "      <td>7.996668</td>\n",
       "    </tr>\n",
       "    <tr>\n",
       "      <th>9</th>\n",
       "      <td>1.836735</td>\n",
       "      <td>3.373594</td>\n",
       "      <td>-0.262815</td>\n",
       "      <td>10.120783</td>\n",
       "    </tr>\n",
       "    <tr>\n",
       "      <th>10</th>\n",
       "      <td>2.040816</td>\n",
       "      <td>4.164931</td>\n",
       "      <td>-0.452904</td>\n",
       "      <td>12.494794</td>\n",
       "    </tr>\n",
       "    <tr>\n",
       "      <th>11</th>\n",
       "      <td>2.244898</td>\n",
       "      <td>5.039567</td>\n",
       "      <td>-0.624196</td>\n",
       "      <td>15.118701</td>\n",
       "    </tr>\n",
       "    <tr>\n",
       "      <th>12</th>\n",
       "      <td>2.448980</td>\n",
       "      <td>5.997501</td>\n",
       "      <td>-0.769580</td>\n",
       "      <td>17.992503</td>\n",
       "    </tr>\n",
       "    <tr>\n",
       "      <th>13</th>\n",
       "      <td>2.653061</td>\n",
       "      <td>7.038734</td>\n",
       "      <td>-0.883023</td>\n",
       "      <td>21.116202</td>\n",
       "    </tr>\n",
       "    <tr>\n",
       "      <th>14</th>\n",
       "      <td>2.857143</td>\n",
       "      <td>8.163265</td>\n",
       "      <td>-0.959816</td>\n",
       "      <td>24.489796</td>\n",
       "    </tr>\n",
       "    <tr>\n",
       "      <th>15</th>\n",
       "      <td>3.061224</td>\n",
       "      <td>9.371095</td>\n",
       "      <td>-0.996772</td>\n",
       "      <td>28.113286</td>\n",
       "    </tr>\n",
       "    <tr>\n",
       "      <th>16</th>\n",
       "      <td>3.265306</td>\n",
       "      <td>10.662224</td>\n",
       "      <td>-0.992357</td>\n",
       "      <td>31.986672</td>\n",
       "    </tr>\n",
       "    <tr>\n",
       "      <th>17</th>\n",
       "      <td>3.469388</td>\n",
       "      <td>12.036651</td>\n",
       "      <td>-0.946755</td>\n",
       "      <td>36.109954</td>\n",
       "    </tr>\n",
       "    <tr>\n",
       "      <th>18</th>\n",
       "      <td>3.673469</td>\n",
       "      <td>13.494377</td>\n",
       "      <td>-0.861857</td>\n",
       "      <td>40.483132</td>\n",
       "    </tr>\n",
       "    <tr>\n",
       "      <th>19</th>\n",
       "      <td>3.877551</td>\n",
       "      <td>15.035402</td>\n",
       "      <td>-0.741188</td>\n",
       "      <td>45.106206</td>\n",
       "    </tr>\n",
       "    <tr>\n",
       "      <th>20</th>\n",
       "      <td>4.081633</td>\n",
       "      <td>16.659725</td>\n",
       "      <td>-0.589756</td>\n",
       "      <td>49.979175</td>\n",
       "    </tr>\n",
       "    <tr>\n",
       "      <th>21</th>\n",
       "      <td>4.285714</td>\n",
       "      <td>18.367347</td>\n",
       "      <td>-0.413846</td>\n",
       "      <td>55.102041</td>\n",
       "    </tr>\n",
       "    <tr>\n",
       "      <th>22</th>\n",
       "      <td>4.489796</td>\n",
       "      <td>20.158267</td>\n",
       "      <td>-0.220759</td>\n",
       "      <td>60.474802</td>\n",
       "    </tr>\n",
       "    <tr>\n",
       "      <th>23</th>\n",
       "      <td>4.693878</td>\n",
       "      <td>22.032486</td>\n",
       "      <td>-0.018510</td>\n",
       "      <td>66.097459</td>\n",
       "    </tr>\n",
       "    <tr>\n",
       "      <th>24</th>\n",
       "      <td>4.897959</td>\n",
       "      <td>23.990004</td>\n",
       "      <td>0.184507</td>\n",
       "      <td>71.970012</td>\n",
       "    </tr>\n",
       "    <tr>\n",
       "      <th>25</th>\n",
       "      <td>5.102041</td>\n",
       "      <td>26.030820</td>\n",
       "      <td>0.379866</td>\n",
       "      <td>78.092461</td>\n",
       "    </tr>\n",
       "    <tr>\n",
       "      <th>26</th>\n",
       "      <td>5.306122</td>\n",
       "      <td>28.154935</td>\n",
       "      <td>0.559459</td>\n",
       "      <td>84.464806</td>\n",
       "    </tr>\n",
       "    <tr>\n",
       "      <th>27</th>\n",
       "      <td>5.510204</td>\n",
       "      <td>30.362349</td>\n",
       "      <td>0.715832</td>\n",
       "      <td>91.087047</td>\n",
       "    </tr>\n",
       "    <tr>\n",
       "      <th>28</th>\n",
       "      <td>5.714286</td>\n",
       "      <td>32.653061</td>\n",
       "      <td>0.842494</td>\n",
       "      <td>97.959184</td>\n",
       "    </tr>\n",
       "    <tr>\n",
       "      <th>29</th>\n",
       "      <td>5.918367</td>\n",
       "      <td>35.027072</td>\n",
       "      <td>0.934189</td>\n",
       "      <td>105.081216</td>\n",
       "    </tr>\n",
       "    <tr>\n",
       "      <th>30</th>\n",
       "      <td>6.122449</td>\n",
       "      <td>37.484382</td>\n",
       "      <td>0.987110</td>\n",
       "      <td>112.453145</td>\n",
       "    </tr>\n",
       "    <tr>\n",
       "      <th>31</th>\n",
       "      <td>6.326531</td>\n",
       "      <td>40.024990</td>\n",
       "      <td>0.999061</td>\n",
       "      <td>120.074969</td>\n",
       "    </tr>\n",
       "    <tr>\n",
       "      <th>32</th>\n",
       "      <td>6.530612</td>\n",
       "      <td>42.648896</td>\n",
       "      <td>0.969546</td>\n",
       "      <td>127.946689</td>\n",
       "    </tr>\n",
       "    <tr>\n",
       "      <th>33</th>\n",
       "      <td>6.734694</td>\n",
       "      <td>45.356102</td>\n",
       "      <td>0.899790</td>\n",
       "      <td>136.068305</td>\n",
       "    </tr>\n",
       "    <tr>\n",
       "      <th>34</th>\n",
       "      <td>6.938776</td>\n",
       "      <td>48.146606</td>\n",
       "      <td>0.792688</td>\n",
       "      <td>144.439817</td>\n",
       "    </tr>\n",
       "    <tr>\n",
       "      <th>35</th>\n",
       "      <td>7.142857</td>\n",
       "      <td>51.020408</td>\n",
       "      <td>0.652686</td>\n",
       "      <td>153.061224</td>\n",
       "    </tr>\n",
       "    <tr>\n",
       "      <th>36</th>\n",
       "      <td>7.346939</td>\n",
       "      <td>53.977509</td>\n",
       "      <td>0.485594</td>\n",
       "      <td>161.932528</td>\n",
       "    </tr>\n",
       "    <tr>\n",
       "      <th>37</th>\n",
       "      <td>7.551020</td>\n",
       "      <td>57.017909</td>\n",
       "      <td>0.298348</td>\n",
       "      <td>171.053728</td>\n",
       "    </tr>\n",
       "    <tr>\n",
       "      <th>38</th>\n",
       "      <td>7.755102</td>\n",
       "      <td>60.141608</td>\n",
       "      <td>0.098719</td>\n",
       "      <td>180.424823</td>\n",
       "    </tr>\n",
       "    <tr>\n",
       "      <th>39</th>\n",
       "      <td>7.959184</td>\n",
       "      <td>63.348605</td>\n",
       "      <td>-0.105008</td>\n",
       "      <td>190.045814</td>\n",
       "    </tr>\n",
       "    <tr>\n",
       "      <th>40</th>\n",
       "      <td>8.163265</td>\n",
       "      <td>66.638900</td>\n",
       "      <td>-0.304376</td>\n",
       "      <td>199.916701</td>\n",
       "    </tr>\n",
       "    <tr>\n",
       "      <th>41</th>\n",
       "      <td>8.367347</td>\n",
       "      <td>70.012495</td>\n",
       "      <td>-0.491112</td>\n",
       "      <td>210.037484</td>\n",
       "    </tr>\n",
       "    <tr>\n",
       "      <th>42</th>\n",
       "      <td>8.571429</td>\n",
       "      <td>73.469388</td>\n",
       "      <td>-0.657463</td>\n",
       "      <td>220.408163</td>\n",
       "    </tr>\n",
       "    <tr>\n",
       "      <th>43</th>\n",
       "      <td>8.775510</td>\n",
       "      <td>77.009579</td>\n",
       "      <td>-0.796527</td>\n",
       "      <td>231.028738</td>\n",
       "    </tr>\n",
       "    <tr>\n",
       "      <th>44</th>\n",
       "      <td>8.979592</td>\n",
       "      <td>80.633070</td>\n",
       "      <td>-0.902531</td>\n",
       "      <td>241.899209</td>\n",
       "    </tr>\n",
       "    <tr>\n",
       "      <th>45</th>\n",
       "      <td>9.183673</td>\n",
       "      <td>84.339858</td>\n",
       "      <td>-0.971075</td>\n",
       "      <td>253.019575</td>\n",
       "    </tr>\n",
       "    <tr>\n",
       "      <th>46</th>\n",
       "      <td>9.387755</td>\n",
       "      <td>88.129946</td>\n",
       "      <td>-0.999315</td>\n",
       "      <td>264.389838</td>\n",
       "    </tr>\n",
       "    <tr>\n",
       "      <th>47</th>\n",
       "      <td>9.591837</td>\n",
       "      <td>92.003332</td>\n",
       "      <td>-0.986078</td>\n",
       "      <td>276.009996</td>\n",
       "    </tr>\n",
       "    <tr>\n",
       "      <th>48</th>\n",
       "      <td>9.795918</td>\n",
       "      <td>95.960017</td>\n",
       "      <td>-0.931914</td>\n",
       "      <td>287.880050</td>\n",
       "    </tr>\n",
       "    <tr>\n",
       "      <th>49</th>\n",
       "      <td>10.000000</td>\n",
       "      <td>100.000000</td>\n",
       "      <td>-0.839072</td>\n",
       "      <td>300.000000</td>\n",
       "    </tr>\n",
       "  </tbody>\n",
       "</table>\n",
       "</div>"
      ],
      "text/plain": [
       "           aa          x1        y1          z1\n",
       "0    0.000000    0.000000  1.000000    0.000000\n",
       "1    0.204082    0.041649  0.979248    0.124948\n",
       "2    0.408163    0.166597  0.917851    0.499792\n",
       "3    0.612245    0.374844  0.818360    1.124531\n",
       "4    0.816327    0.666389  0.684902    1.999167\n",
       "5    1.020408    1.041233  0.523018    3.123698\n",
       "6    1.224490    1.499375  0.339426    4.498126\n",
       "7    1.428571    2.040816  0.141746    6.122449\n",
       "8    1.632653    2.665556 -0.061817    7.996668\n",
       "9    1.836735    3.373594 -0.262815   10.120783\n",
       "10   2.040816    4.164931 -0.452904   12.494794\n",
       "11   2.244898    5.039567 -0.624196   15.118701\n",
       "12   2.448980    5.997501 -0.769580   17.992503\n",
       "13   2.653061    7.038734 -0.883023   21.116202\n",
       "14   2.857143    8.163265 -0.959816   24.489796\n",
       "15   3.061224    9.371095 -0.996772   28.113286\n",
       "16   3.265306   10.662224 -0.992357   31.986672\n",
       "17   3.469388   12.036651 -0.946755   36.109954\n",
       "18   3.673469   13.494377 -0.861857   40.483132\n",
       "19   3.877551   15.035402 -0.741188   45.106206\n",
       "20   4.081633   16.659725 -0.589756   49.979175\n",
       "21   4.285714   18.367347 -0.413846   55.102041\n",
       "22   4.489796   20.158267 -0.220759   60.474802\n",
       "23   4.693878   22.032486 -0.018510   66.097459\n",
       "24   4.897959   23.990004  0.184507   71.970012\n",
       "25   5.102041   26.030820  0.379866   78.092461\n",
       "26   5.306122   28.154935  0.559459   84.464806\n",
       "27   5.510204   30.362349  0.715832   91.087047\n",
       "28   5.714286   32.653061  0.842494   97.959184\n",
       "29   5.918367   35.027072  0.934189  105.081216\n",
       "30   6.122449   37.484382  0.987110  112.453145\n",
       "31   6.326531   40.024990  0.999061  120.074969\n",
       "32   6.530612   42.648896  0.969546  127.946689\n",
       "33   6.734694   45.356102  0.899790  136.068305\n",
       "34   6.938776   48.146606  0.792688  144.439817\n",
       "35   7.142857   51.020408  0.652686  153.061224\n",
       "36   7.346939   53.977509  0.485594  161.932528\n",
       "37   7.551020   57.017909  0.298348  171.053728\n",
       "38   7.755102   60.141608  0.098719  180.424823\n",
       "39   7.959184   63.348605 -0.105008  190.045814\n",
       "40   8.163265   66.638900 -0.304376  199.916701\n",
       "41   8.367347   70.012495 -0.491112  210.037484\n",
       "42   8.571429   73.469388 -0.657463  220.408163\n",
       "43   8.775510   77.009579 -0.796527  231.028738\n",
       "44   8.979592   80.633070 -0.902531  241.899209\n",
       "45   9.183673   84.339858 -0.971075  253.019575\n",
       "46   9.387755   88.129946 -0.999315  264.389838\n",
       "47   9.591837   92.003332 -0.986078  276.009996\n",
       "48   9.795918   95.960017 -0.931914  287.880050\n",
       "49  10.000000  100.000000 -0.839072  300.000000"
      ]
     },
     "execution_count": 6,
     "metadata": {},
     "output_type": "execute_result"
    }
   ],
   "source": [
    "import numpy as np\n",
    "import pandas as pd\n",
    "def func_makedata(a):\n",
    "    x1 = a**2\n",
    "    y1 = np.cos(a)\n",
    "    z1 = 3*a**2 \n",
    "    return x1, y1, z1\n",
    "\n",
    "aa = np.linspace(0.,10.,50)\n",
    "x1, y1, z1 = func_makedata(aa)\n",
    "\n",
    "data_dict = {}\n",
    "data_dict['aa'] = aa\n",
    "data_dict['x1'] = x1\n",
    "data_dict['y1'] = y1\n",
    "data_dict['z1'] = z1\n",
    "pd_dataframe = pd.DataFrame(data_dict)\n",
    "pd_dataframe"
   ]
  },
  {
   "cell_type": "markdown",
   "id": "e7d63212",
   "metadata": {},
   "source": [
    "This data structure contains 4 arrays of data, but these are all related to each other (in particular x1, y1 and z1 are all functions of the first array, aa). So how could we extract all values of x1 for which y1 is larger than 0.5? This could be done with a `for` loop, but the following approach is *significantly* faster and makes the code much more compact."
   ]
  },
  {
   "cell_type": "code",
   "execution_count": 7,
   "id": "f1874a04",
   "metadata": {},
   "outputs": [
    {
     "name": "stdout",
     "output_type": "stream",
     "text": [
      "0      0.000000\n",
      "1      0.041649\n",
      "2      0.166597\n",
      "3      0.374844\n",
      "4      0.666389\n",
      "5      1.041233\n",
      "26    28.154935\n",
      "27    30.362349\n",
      "28    32.653061\n",
      "29    35.027072\n",
      "30    37.484382\n",
      "31    40.024990\n",
      "32    42.648896\n",
      "33    45.356102\n",
      "34    48.146606\n",
      "35    51.020408\n",
      "Name: x1, dtype: float64\n"
     ]
    }
   ],
   "source": [
    "# Create the boolean array\n",
    "large_y1_logic = pd_dataframe['y1'] > 0.5\n",
    "# Access corresponding values of x1\n",
    "x1_values = pd_dataframe['x1'][large_y1_logic]\n",
    "# Match this against the table above .. pandas also retains the indexes!\n",
    "print(x1_values)\n",
    "\n",
    "# Similarly we can quickly obtain the corresponding values of aa or z1\n",
    "aa_values = pd_dataframe['aa'][large_y1_logic]\n",
    "z1_values = pd_dataframe['z1'][large_y1_logic]"
   ]
  },
  {
   "cell_type": "markdown",
   "id": "e134a986",
   "metadata": {},
   "source": [
    "With these tools you **never need to use Excel again**. You now have access to a much more powerful, faster, and more flexible method to slice and dice data and to graphically display the output however you want! We'll learn more about this below."
   ]
  },
  {
   "cell_type": "markdown",
   "id": "fac73530",
   "metadata": {},
   "source": [
    "## EXERCISES\n",
    "\n",
    "Let's try a few more exercises on our `pd_dataframe` dataset:\n",
    "\n",
    "* Extract all values of `z1` for which the corresponding value of $\\mathrm{x1} - 15$ is larger than 20.\n",
    "* Extract all values of `x1` for which the corresponding value of $\\mathrm{aa} * (\\mathrm{x1} - 50) * \\mathrm{y1}$ is larger than 20"
   ]
  },
  {
   "cell_type": "code",
   "execution_count": 8,
   "id": "a568a803",
   "metadata": {},
   "outputs": [
    {
     "name": "stdout",
     "output_type": "stream",
     "text": [
      "[105.08121616 112.45314452 120.07496876 127.94668888 136.06830487\n",
      " 144.43981674 153.06122449 161.93252811 171.05372761 180.42482299\n",
      " 190.04581424 199.91670137 210.03748438 220.40816327 231.02873803\n",
      " 241.89920866 253.01957518 264.38983757 276.00999584 287.88004998\n",
      " 300.        ]\n",
      "[ 3.37359434  4.16493128  5.03956685  5.99750104  7.03873386  8.16326531\n",
      "  9.37109538 10.66222407 12.0366514  13.49437734 15.03540192 16.65972511\n",
      " 18.36734694 20.15826739]\n"
     ]
    }
   ],
   "source": [
    "print(z1[x1 - 15 > 20])\n",
    "print(x1[aa * (x1-50) * y1 > 20])"
   ]
  },
  {
   "cell_type": "markdown",
   "id": "2daa9954",
   "metadata": {},
   "source": [
    "Let's add one more layer of complexity to this. What if we want to access all values of `z1` for which $\\mathrm{y1} > 0.5$ *and* $\\mathrm{x1} < 10$. One could do some sort of nested approach (which actually might be the most computationally efficient way of doing this, but isn't the most elegant):"
   ]
  },
  {
   "cell_type": "code",
   "execution_count": 9,
   "id": "73e14952",
   "metadata": {},
   "outputs": [
    {
     "name": "stdout",
     "output_type": "stream",
     "text": [
      "0    0.000000\n",
      "1    0.124948\n",
      "2    0.499792\n",
      "3    1.124531\n",
      "4    1.999167\n",
      "5    3.123698\n",
      "Name: z1, dtype: float64\n"
     ]
    }
   ],
   "source": [
    "y1_logic = pd_dataframe['y1'] > 0.5\n",
    "reduced_x1 = pd_dataframe['x1'][y1_logic]\n",
    "reduced_z1 = pd_dataframe['z1'][y1_logic]\n",
    "\n",
    "final_z1_values = reduced_z1[reduced_x1 < 10]\n",
    "\n",
    "print (final_z1_values)"
   ]
  },
  {
   "cell_type": "markdown",
   "id": "e8212693",
   "metadata": {},
   "source": [
    "However, we can combine this logic together into one array. Numpy supplies a `logical_and` function for this, but the simplest way to construct a single logic array satisfying two conditions is:"
   ]
  },
  {
   "cell_type": "code",
   "execution_count": 10,
   "id": "263cfcfa",
   "metadata": {},
   "outputs": [
    {
     "name": "stdout",
     "output_type": "stream",
     "text": [
      "0    0.000000\n",
      "1    0.124948\n",
      "2    0.499792\n",
      "3    1.124531\n",
      "4    1.999167\n",
      "5    3.123698\n",
      "Name: z1, dtype: float64\n"
     ]
    }
   ],
   "source": [
    "# WARNING: Note the brackets here! `&` is evaluated before `>` so make sure you don't forget them!\n",
    "y1_and_x1_logic = (pd_dataframe['y1'] > 0.5) & (pd_dataframe['x1'] < 10)\n",
    "final_z1_values = pd_dataframe['z1'][y1_and_x1_logic]\n",
    "print (final_z1_values)"
   ]
  },
  {
   "cell_type": "markdown",
   "id": "e6609c6e",
   "metadata": {},
   "source": [
    "## EXERCISE\n",
    "\n",
    "* Find all values of `aa` for which `abs(x1 - 50)` is bigger than 20, `arccos(y1) > 45 degrees` and `z1**0.5 > 4`"
   ]
  },
  {
   "cell_type": "code",
   "execution_count": 11,
   "id": "b29e907e",
   "metadata": {},
   "outputs": [
    {
     "name": "stdout",
     "output_type": "stream",
     "text": [
      "[ 2.44897959  2.65306122  2.85714286  3.06122449  3.26530612  3.46938776\n",
      "  3.67346939  3.87755102  4.08163265  4.28571429  4.48979592  4.69387755\n",
      "  4.89795918  5.10204082  5.30612245  8.36734694  8.57142857  8.7755102\n",
      "  8.97959184  9.18367347  9.3877551   9.59183673  9.79591837 10.        ]\n"
     ]
    }
   ],
   "source": [
    "all_logic = (abs(x1-50) > 20) & (np.arccos(y1) > np.pi / 4) & (z1**0.5 > 4)\n",
    "\n",
    "print(aa[all_logic])"
   ]
  }
 ],
 "metadata": {
  "kernelspec": {
   "display_name": "CompPhys2",
   "language": "python",
   "name": "python3"
  },
  "language_info": {
   "codemirror_mode": {
    "name": "ipython",
    "version": 3
   },
   "file_extension": ".py",
   "mimetype": "text/x-python",
   "name": "python",
   "nbconvert_exporter": "python",
   "pygments_lexer": "ipython3",
   "version": "3.10.16"
  }
 },
 "nbformat": 4,
 "nbformat_minor": 5
}
