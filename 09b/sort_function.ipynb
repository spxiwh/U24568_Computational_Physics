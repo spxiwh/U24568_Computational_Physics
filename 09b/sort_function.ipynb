{
 "cells": [
  {
   "cell_type": "markdown",
   "id": "b67ec1db",
   "metadata": {},
   "source": [
    "# Writing a function to sort an array\n",
    "\n",
    "Sorting arrays is a common operation. Making a sorting algorithm that is *fast* is very important and there are many different approaches to the problem (python, for example uses \"Timsort\"):\n",
    "\n",
    "https://en.wikipedia.org/wiki/Sorting_algorithm\n",
    "\n",
    "There is a rule though: If you have an array that contains random input, then you will require an average of `O(N log(N))` operations to sort the array. If the array is *not* random though, this can be shorter (e.g. if the array is already sorted, this can be done in `O(N)`, which is the cost required to identify that the array *is* sorted.\n",
    "\n",
    "As this is the last exercise, let's make this challenging:\n",
    "\n",
    "* Write your own code that will take as input an array of numbers. Return a sorted *copy* of the array (the original array should be unchanged). Don't worry too much about making the code fast until you have something that works. When you have something that works, see how you can use the tools presented above to make it as fast as possible."
   ]
  },
  {
   "cell_type": "code",
   "execution_count": null,
   "id": "c1a6d68b",
   "metadata": {},
   "outputs": [],
   "source": [
    "import copy\n",
    "def sort_array(unsorted_array):\n",
    "    # This line will copy the array so that the input will be preserved.\n",
    "    # After this you can do what you want to unsorted_array\n",
    "    unsorted_array = copy.deepcopy(unsorted_array)\n",
    "    \n",
    "    # FIXME: You need to fill this with code DO NOT use python's built-in sort/sorted routines (or any link to\n",
    "    # that e.g. numpy.sorted). The problem is to think about how you would do this!\n",
    "    \n",
    "    return sorted_array"
   ]
  },
  {
   "cell_type": "code",
   "execution_count": null,
   "id": "e0004831",
   "metadata": {},
   "outputs": [],
   "source": [
    "# Use this cell to profile your code.\n"
   ]
  }
 ],
 "metadata": {
  "kernelspec": {
   "display_name": "Python 3 (ipykernel)",
   "language": "python",
   "name": "python3"
  },
  "language_info": {
   "codemirror_mode": {
    "name": "ipython",
    "version": 3
   },
   "file_extension": ".py",
   "mimetype": "text/x-python",
   "name": "python",
   "nbconvert_exporter": "python",
   "pygments_lexer": "ipython3",
   "version": "3.9.7"
  }
 },
 "nbformat": 4,
 "nbformat_minor": 5
}
