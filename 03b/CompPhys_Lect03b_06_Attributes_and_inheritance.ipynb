{
 "cells": [
  {
   "cell_type": "markdown",
   "id": "0923f5e8",
   "metadata": {},
   "source": [
    "# Class attributes and inheritence\n",
    "\n",
    "Let's have a look at a couple of other things now, class attributes and inheritance.\n",
    "\n",
    "First let's consider a class describing a mammal"
   ]
  },
  {
   "cell_type": "code",
   "execution_count": 1,
   "id": "d46d768a",
   "metadata": {},
   "outputs": [],
   "source": [
    "class Mammal:\n",
    "    num_limbs = 4\n",
    "    has_backbone = True\n",
    "    warmblooded = True\n",
    "    \n",
    "    def __init__(self, current_size, current_age):\n",
    "        self.current_size = current_size\n",
    "        self.current_age = current_age"
   ]
  },
  {
   "cell_type": "markdown",
   "id": "5d5373bf",
   "metadata": {},
   "source": [
    "In this example we have defined 3 \"class attributes\" (`num_limbs`, `has_backbone` and `warmblooded`), these attributes will be accessible from any instance of this class."
   ]
  },
  {
   "cell_type": "code",
   "execution_count": 2,
   "id": "27fedad8",
   "metadata": {},
   "outputs": [
    {
     "name": "stdout",
     "output_type": "stream",
     "text": [
      "4 True True\n"
     ]
    }
   ],
   "source": [
    "my_mammal = Mammal(100, 32)\n",
    "print(my_mammal.num_limbs, my_mammal.has_backbone, my_mammal.warmblooded)"
   ]
  },
  {
   "cell_type": "markdown",
   "id": "44ae36db",
   "metadata": {},
   "source": [
    "If you change these values they will change for *all* instances of the class (don't do this!)"
   ]
  },
  {
   "cell_type": "code",
   "execution_count": 3,
   "id": "e621129a",
   "metadata": {},
   "outputs": [
    {
     "name": "stdout",
     "output_type": "stream",
     "text": [
      "3 3 3\n",
      "3 3 5\n"
     ]
    }
   ],
   "source": [
    "my_mammal = Mammal(100, 32)\n",
    "my_mammal2 = Mammal(50, 12)\n",
    "my_mammal3 = Mammal(25, 64)\n",
    "Mammal.num_limbs = 3\n",
    "\n",
    "print(my_mammal.num_limbs, my_mammal2.num_limbs, my_mammal3.num_limbs)\n",
    "\n",
    "my_mammal = Mammal(100, 32)\n",
    "my_mammal2 = Mammal(50, 12)\n",
    "my_mammal3 = Mammal(25, 64)\n",
    "# This line sets the attribute again to be a local attribute, so this one won't change\n",
    "my_mammal3.num_limbs = 5\n",
    "Mammal.num_limbs = 3\n",
    "\n",
    "print(my_mammal.num_limbs, my_mammal2.num_limbs, my_mammal3.num_limbs)\n",
    "\n",
    "# Set it back\n",
    "Mammal.num_limbs = 4"
   ]
  },
  {
   "cell_type": "markdown",
   "id": "e62e1dac",
   "metadata": {},
   "source": [
    "Now let's demonstrate inheritence. If we wanted a canine class, say, we might not want to define again properties of mammals, which are common across all mammals. So we can \"inherit\" information from the parent class"
   ]
  },
  {
   "cell_type": "code",
   "execution_count": 4,
   "id": "909f7101",
   "metadata": {},
   "outputs": [
    {
     "name": "stdout",
     "output_type": "stream",
     "text": [
      "4 False\n"
     ]
    }
   ],
   "source": [
    "class Canine(Mammal):\n",
    "    num_legs = 4\n",
    "    lays_eggs = False\n",
    "    is_carnivore = True\n",
    "\n",
    "my_canine = Canine(100, 32)\n",
    "\n",
    "print(my_canine.num_limbs, my_canine.lays_eggs)"
   ]
  },
  {
   "cell_type": "markdown",
   "id": "62a87575",
   "metadata": {},
   "source": [
    "In this example the Canine class just adds 3 additional class attributes over the Mammal class. The `__init__` function is \"inherited\" from the Mammal class and is used directly. If a class method or attribute exists in both the parent and child class, the child class' method or attribute is used"
   ]
  },
  {
   "cell_type": "code",
   "execution_count": 5,
   "id": "3ee086bb",
   "metadata": {},
   "outputs": [
    {
     "name": "stdout",
     "output_type": "stream",
     "text": [
      "4 False False\n"
     ]
    }
   ],
   "source": [
    "class Canine(Mammal):\n",
    "    num_legs = 4\n",
    "    lays_eggs = False\n",
    "    is_carnivore = True\n",
    "    \n",
    "    def __init__(self, current_size, current_age, is_a_pet=False):\n",
    "        self.is_a_pet=is_a_pet\n",
    "        # Explicitly call the parent class' init function\n",
    "        Mammal.__init__(self, current_size, current_age)\n",
    "        # A nicer way to do this is:\n",
    "        # super().__init__(current_size, current_age)\n",
    "\n",
    "my_canine = Canine(100, 32, is_a_pet=False)\n",
    "\n",
    "print(my_canine.num_limbs, my_canine.lays_eggs, my_canine.is_a_pet)"
   ]
  },
  {
   "cell_type": "markdown",
   "id": "e5e07c17",
   "metadata": {},
   "source": [
    "Inheritance can have multiple levels. If I wanted a Dog class, I could inherit from the Canine class, which itself inherits from the Mammal class. It's also possible to inherit from multiple classes (`class Class1(Parent1, Parent2, ...):`. "
   ]
  },
  {
   "cell_type": "code",
   "execution_count": 6,
   "id": "f31ea032",
   "metadata": {},
   "outputs": [
    {
     "name": "stdout",
     "output_type": "stream",
     "text": [
      "4 False True True\n"
     ]
    }
   ],
   "source": [
    "class Dog(Canine):\n",
    "    is_awesome = True\n",
    "    \n",
    "    def __init__(self, current_size, current_age):\n",
    "        # Here I remove the is_pet optional argument as we will just set it to true for all dogs.\n",
    "        super().__init__(current_size, current_age, is_a_pet=True)\n",
    "\n",
    "my_dog = Dog(100, 32)\n",
    "\n",
    "print(my_dog.num_limbs, my_dog.lays_eggs, my_dog.is_a_pet, my_dog.is_awesome)"
   ]
  },
  {
   "cell_type": "code",
   "execution_count": null,
   "id": "797e68b2",
   "metadata": {},
   "outputs": [],
   "source": []
  }
 ],
 "metadata": {
  "kernelspec": {
   "display_name": "Python 3 (ipykernel)",
   "language": "python",
   "name": "python3"
  },
  "language_info": {
   "codemirror_mode": {
    "name": "ipython",
    "version": 3
   },
   "file_extension": ".py",
   "mimetype": "text/x-python",
   "name": "python",
   "nbconvert_exporter": "python",
   "pygments_lexer": "ipython3",
   "version": "3.9.7"
  }
 },
 "nbformat": 4,
 "nbformat_minor": 5
}
