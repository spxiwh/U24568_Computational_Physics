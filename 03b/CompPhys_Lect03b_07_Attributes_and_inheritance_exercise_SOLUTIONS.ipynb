{
 "cells": [
  {
   "cell_type": "markdown",
   "id": "fe99b4b4",
   "metadata": {},
   "source": [
    "# EXERCISE: Class attributes and inheritence\n",
    "\n",
    "Create a Cat class in the same manner as the Dog class in the previous section. Define some class attributes specific to a cat. Use a Feline (or Felid) class which is a parent to Cat but a child of Mammal. Again choose some class attributes appropriate in each case. "
   ]
  },
  {
   "cell_type": "code",
   "execution_count": 2,
   "id": "bf8d39f3",
   "metadata": {},
   "outputs": [],
   "source": [
    "class Mammal:\n",
    "    num_limbs = 4\n",
    "    has_backbone = True\n",
    "    warmblooded = True\n",
    "    \n",
    "    def __init__(self, current_size, current_age):\n",
    "        self.current_size = current_size\n",
    "        self.current_age = current_age\n",
    "        \n",
    "class Felid(Mammal):\n",
    "    num_legs = 4\n",
    "    has_facial_whiskers = True\n",
    "    num_teeth = 30\n",
    "\n",
    "\n",
    "class Cat(Felid):\n",
    "    is_evil = True\n",
    "    \n",
    "    def __init__(self, current_size, current_age):\n",
    "        super().__init__(current_size, current_age)\n"
   ]
  },
  {
   "cell_type": "code",
   "execution_count": null,
   "id": "458b6edc",
   "metadata": {},
   "outputs": [],
   "source": []
  }
 ],
 "metadata": {
  "kernelspec": {
   "display_name": "Python 3 (ipykernel)",
   "language": "python",
   "name": "python3"
  },
  "language_info": {
   "codemirror_mode": {
    "name": "ipython",
    "version": 3
   },
   "file_extension": ".py",
   "mimetype": "text/x-python",
   "name": "python",
   "nbconvert_exporter": "python",
   "pygments_lexer": "ipython3",
   "version": "3.9.7"
  }
 },
 "nbformat": 4,
 "nbformat_minor": 5
}
