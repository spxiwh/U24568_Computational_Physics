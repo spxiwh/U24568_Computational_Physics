{
 "cells": [
  {
   "cell_type": "markdown",
   "metadata": {
    "id": "95dDFQbOpOIu"
   },
   "source": [
    "# Introduction\n",
    "\n",
    "Today's lecture will give you an introduction to classes in python, and explain why python is known as an \"object oriented\" language. The basic idea is that when writing a long piece of code you normally want to split things up using functions to avoid repeating code and to keep the main block of code short and concise, while also making it clear what is going on.\n",
    "\n",
    "The class provides an alternative to using functions. A class defines an object, which might hold a number of attributes (think values) or methods (think functions, which act on the class) describing that object. You can then use these attributes and methods to set up the object in the way you want and then use this to solve problems.\n",
    "\n",
    "As an abstract example of this, if I were simulating a Galaxy I might want to use a class as a nice way to turn features on and off. This might be accessed with code looking something like:\n",
    "\n",
    "```python\n",
    "my_galaxy = GalaxySimulator(num_stars=1E9)\n",
    "my_galaxy.add_supermassive_blackhole(mass=1E6)\n",
    "my_galaxy.add_satellite_galaxies(50)\n",
    "my_galaxy.add_star_forming_region(location_from_center_kpc=(10,10,1), radius_kpc=1)\n",
    "my_galaxy.evolve_galaxy(time_gigayears=10)\n",
    "```\n",
    "\n",
    "Now if you copy this code into the window it isn't going to work, as we haven't written the code to do this, but I hope the methods being used here give some idea of what these commands are doing (even if the details are not clear).\n",
    "\n",
    "In this lecture we'll walk through the details of defining your own class, giving the usual set of exercises to practice on.\n"
   ]
  },
  {
   "cell_type": "code",
   "execution_count": null,
   "metadata": {},
   "outputs": [],
   "source": []
  }
 ],
 "metadata": {
  "colab": {
   "provenance": []
  },
  "kernelspec": {
   "display_name": "Python 3 (ipykernel)",
   "language": "python",
   "name": "python3"
  },
  "language_info": {
   "codemirror_mode": {
    "name": "ipython",
    "version": 3
   },
   "file_extension": ".py",
   "mimetype": "text/x-python",
   "name": "python",
   "nbconvert_exporter": "python",
   "pygments_lexer": "ipython3",
   "version": "3.9.12"
  }
 },
 "nbformat": 4,
 "nbformat_minor": 1
}
