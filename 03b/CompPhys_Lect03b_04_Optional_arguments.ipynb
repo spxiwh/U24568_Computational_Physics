{
 "cells": [
  {
   "cell_type": "markdown",
   "id": "97920775",
   "metadata": {},
   "source": [
    "# Optional arguments\n"
   ]
  },
  {
   "cell_type": "markdown",
   "id": "f965cca9",
   "metadata": {},
   "source": [
    "Sometimes it is useful to have class arguments take default values. If we take our example above, we can set this up so that these two values take default values:"
   ]
  },
  {
   "cell_type": "code",
   "execution_count": 1,
   "id": "aeac82cd",
   "metadata": {},
   "outputs": [],
   "source": [
    "class MyPointlessClass5:\n",
    "    def __init__(self, value1=10, value2=20):\n",
    "        self.value1 = value1\n",
    "        self.value2 = value2\n",
    "        self.set_value3()\n",
    "        \n",
    "    def set_value1(self, value):\n",
    "        self.value1 = value\n",
    "        self.set_value3()\n",
    "\n",
    "    def set_value2(self, value):\n",
    "        self.value2 = value\n",
    "        self.set_value3()\n",
    "    \n",
    "    def set_value3(self):\n",
    "        self.value3 = self.value1 + self.value2"
   ]
  },
  {
   "cell_type": "code",
   "execution_count": 2,
   "id": "fb913942",
   "metadata": {},
   "outputs": [
    {
     "name": "stdout",
     "output_type": "stream",
     "text": [
      "10 20 30\n",
      "\n",
      "10 15 25\n",
      "\n",
      "-2 20 18\n",
      "\n",
      "-2 15 13\n",
      "\n"
     ]
    }
   ],
   "source": [
    "# Now if I initialize the class without any values:\n",
    "mypc_instance5 = MyPointlessClass5()\n",
    "# It has the default values\n",
    "print(mypc_instance5.value1, mypc_instance5.value2, mypc_instance5.value3)\n",
    "print()\n",
    "\n",
    "# Or I can set one of the values directly:\n",
    "mypc_instance5 = MyPointlessClass5(value2=15)\n",
    "print(mypc_instance5.value1, mypc_instance5.value2, mypc_instance5.value3)\n",
    "print()\n",
    "\n",
    "# Or I can set the other\n",
    "mypc_instance5 = MyPointlessClass5(value1=-2)\n",
    "print(mypc_instance5.value1, mypc_instance5.value2, mypc_instance5.value3)\n",
    "print()\n",
    "\n",
    "# Or I can set both\n",
    "mypc_instance5 = MyPointlessClass5(value1=-2, value2=15)\n",
    "print(mypc_instance5.value1, mypc_instance5.value2, mypc_instance5.value3)\n",
    "print()\n"
   ]
  },
  {
   "cell_type": "code",
   "execution_count": null,
   "id": "a9ad1176",
   "metadata": {},
   "outputs": [],
   "source": []
  }
 ],
 "metadata": {
  "kernelspec": {
   "display_name": "Python 3 (ipykernel)",
   "language": "python",
   "name": "python3"
  },
  "language_info": {
   "codemirror_mode": {
    "name": "ipython",
    "version": 3
   },
   "file_extension": ".py",
   "mimetype": "text/x-python",
   "name": "python",
   "nbconvert_exporter": "python",
   "pygments_lexer": "ipython3",
   "version": "3.9.12"
  }
 },
 "nbformat": 4,
 "nbformat_minor": 5
}
