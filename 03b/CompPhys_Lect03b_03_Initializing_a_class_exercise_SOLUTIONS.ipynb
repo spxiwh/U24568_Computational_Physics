{
 "cells": [
  {
   "cell_type": "markdown",
   "id": "6da9ff27",
   "metadata": {},
   "source": [
    "# EXERCISE - Initializing a class\n",
    "\n",
    "Write a class that is initialized with 3 values (`value1`, `value2` and `value3`). It should also include a function that computes\n",
    "\n",
    "`value4` = (`value1` * `value2`) % `value3`\n",
    "\n",
    "* STEP 1: Write an `__init__` function that takes 3 inputs, and stores them in the class instance (just like the example above, but with 3, instead of 2, inputs).\n",
    "* STEP 2: Write a set_value4 function (called a \"method\") to set value4. This must be within the class definition, similar to the example above.\n",
    "* STEP 3: Optionally, write set_value1, set_value2 and set_value3 functions, which would update valueX *and then* also update value4 by calling set_value4. "
   ]
  },
  {
   "cell_type": "code",
   "execution_count": 1,
   "id": "baa3bcee",
   "metadata": {},
   "outputs": [],
   "source": [
    "class ExerciseClassOne:\n",
    "    def __init__(self, value1, value2, value3):\n",
    "        self.value1 = value1\n",
    "        self.value2 = value2\n",
    "        self.value3 = value3\n",
    "        \n",
    "    def set_value4(self):\n",
    "        self.value4 = (self.value1 * self.value2) % self.value3\n"
   ]
  },
  {
   "cell_type": "code",
   "execution_count": 2,
   "id": "fb54d46f",
   "metadata": {},
   "outputs": [
    {
     "name": "stdout",
     "output_type": "stream",
     "text": [
      "2 This should be: 2\n",
      "2.6000000000000187 This should be: 2.6000000000000187\n"
     ]
    }
   ],
   "source": [
    "# Code to check your class is working\n",
    "\n",
    "exercise_instance_a = ExerciseClassOne(5, 10, 6)\n",
    "exercise_instance_a.set_value4()\n",
    "print(exercise_instance_a.value4, \"This should be:\", (5*10) % 6)\n",
    "\n",
    "exercise_instance_b = ExerciseClassOne(10, 72, 3.4)\n",
    "exercise_instance_b.set_value4()\n",
    "print(exercise_instance_b.value4, \"This should be:\", (10*72) % 3.4)\n",
    "\n"
   ]
  },
  {
   "cell_type": "code",
   "execution_count": null,
   "id": "c4ece366",
   "metadata": {},
   "outputs": [],
   "source": []
  }
 ],
 "metadata": {
  "kernelspec": {
   "display_name": "Python 3 (ipykernel)",
   "language": "python",
   "name": "python3"
  },
  "language_info": {
   "codemirror_mode": {
    "name": "ipython",
    "version": 3
   },
   "file_extension": ".py",
   "mimetype": "text/x-python",
   "name": "python",
   "nbconvert_exporter": "python",
   "pygments_lexer": "ipython3",
   "version": "3.9.7"
  }
 },
 "nbformat": 4,
 "nbformat_minor": 5
}
