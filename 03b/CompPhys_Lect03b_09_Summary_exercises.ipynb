{
 "cells": [
  {
   "cell_type": "markdown",
   "id": "b03ce4f4",
   "metadata": {},
   "source": [
    "# SUMMARY EXERCISES \n",
    "\n",
    "The best way to properly get to grips with classes is by writing some, so here's some exercises:"
   ]
  },
  {
   "cell_type": "markdown",
   "id": "6b107423",
   "metadata": {},
   "source": [
    "## Exercise 1\n",
    "\n",
    " Define a class which has the following methods:\n",
    " * get_string: Take a string from console input (use the `input` builtin function)\n",
    " * \\_\\_init\\_\\_: This should call the get_string method when a class instance is initialized. \n",
    " * print_string: Print the string\n",
    " * print_string_upper: Print the string in upper case.\n",
    " * print_string_lower: Print the string in lower case.\n",
    "\n",
    "Test the class with some examples"
   ]
  },
  {
   "cell_type": "code",
   "execution_count": null,
   "id": "c40c5211",
   "metadata": {},
   "outputs": [],
   "source": [
    "# Code here"
   ]
  },
  {
   "cell_type": "markdown",
   "id": "6a268075",
   "metadata": {},
   "source": [
    "## Exercise 2\n",
    "\n",
    "Write a class which is designed to store a population of foxes and chickens. Except the interface here is a bit strange, and you've been asked to design it in the following way. The class must contain:\n",
    "\n",
    " * An `__init__` method which takes two arguments `num_heads` and `num_legs`. `num_heads` is the total number of heads including both chickens and foxes. `num_legs` is the total number of legs including both chickens and foxes.\n",
    " * A `num_animals` method, which returns the number of chickens and the number of rabbits as a length-2 tuple. (Assume that all chickens have one head and two legs, and all foxes have one head and four legs).\n",
    " \n",
    "Then test initializing the class and calling num_animals. Example outputs you should get:\n",
    "\n",
    " * `num_heads=2` and `num_legs=6` -> 1 fox, 1 chicken\n",
    " * `num_heads=30` and `num_legs=100` -> 20 foxes, 10 chickens\n",
    " * `num_heads=88` and `num_legs=238` -> 31 foxes, 57 chickens\n",
    " * `num_heads=5` and `num_legs=64` -> This case is not possible, raise an Exception. (`raise ValueError(\"MESSAGE\")`)"
   ]
  },
  {
   "cell_type": "code",
   "execution_count": null,
   "id": "eb2fb4ac",
   "metadata": {},
   "outputs": [],
   "source": [
    "class AnimalThing()\n",
    "    # FILL ME IN!\n",
    "\n",
    "\n",
    "at = AnimalThing(2, 6)\n",
    "print(at.num_animals())\n",
    "\n",
    "at = AnimalThing(30, 100)\n",
    "print(at.num_animals())\n",
    "\n",
    "at = AnimalThing(88, 238)\n",
    "print(at.num_animals())\n",
    "\n",
    "at = AnimalThing(5, 64)\n",
    "print(at.num_animals())\n"
   ]
  },
  {
   "cell_type": "markdown",
   "id": "989be845",
   "metadata": {},
   "source": [
    "## Exercise 3\n",
    "\n",
    "The last example is an example where the interface doesn't make sense. Why would you give num_heads and num_legs when the obvious thing to count is the number of both animals! Let's try and extend this into a somewhat more challenging example where the benefits of using object oriented programming beging to come into play.\n",
    "\n",
    "Write a class to track the population of foxes and chickens over time. It should have the following methods:\n",
    "\n",
    "* An `__init__` method which takes two arguments `num_foxes` and `num_chickens`. These correspond to the *initial* number of foxes and chickens.\n",
    "* An `add_foxes` method. This should take one argument `num` and when called should increase the number of foxes by `num`. (Maybe the foxes are migrating??)\n",
    "* An `add_chickens` method. As with `add_foxes` this should take one argument `num` and when called should increase the number of chickens by `num`. (Maybe the chickens migrate as well??)\n",
    "* An `advance_time_one_year` method. This takes no arguments. When called it simulates how these populations would change over a year. This is done with the following steps. Consider if each of these steps should be individual methods in the class, or just all things that are done in `advance_time_one_year`. These three items should be done *in this order* (so the number of chickens increased in the first item affects the calculation in the third). Where these numbers give fractional numbers of chickens or foxes round *down* to the nearest integer.\n",
    "  * Increase number of chickens proportionally to chicken population. The number of *additional* chickens is `num_chickens` * 0.6.\n",
    "  * Decrease number of chickens proportionally to fox population. The number of chickens decreases by `num_foxes` * 4. (This number cannot become less than 0).\n",
    "  * Change fox population proportionally to chicken *and* fox population. Use the following logic to determine this:\n",
    "    * If `num_chickens` > `num_foxes` * 4 then add 0.5 * `num_foxes` new foxes.\n",
    "    * If `num_chickens` > `num_foxes` * 2 then add (((`num_chickens`/`num_foxes`) - 2) * 0.25 * `num_foxes`) new foxes.\n",
    "    * If `num_chickens` <= `num_foxes` * 2 then reduce the number of foxes by ((2 - (`num_chickens`/`num_foxes`)) * 0.25 * `num_foxes`)\n",
    "    \n",
    "Then try the following. Initiate the class with 1000 chickens, and 50 foxes. Evolve and store the population of both animals over 20 years. Plot how the population evolves.\n",
    "\n",
    "You should find that this is not a stable ecosystem. Is it possible to edit some of the parameters above so that you have a *dynamic* ecosystem (e.g. the populations should change over time and respond to each other) but one that will not result in both sets of animals quickly disappearing, or that will result in an unckecked increase in one population?"
   ]
  },
  {
   "cell_type": "code",
   "execution_count": null,
   "id": "f585f27b",
   "metadata": {},
   "outputs": [],
   "source": [
    "# Code here"
   ]
  },
  {
   "cell_type": "markdown",
   "id": "d8f54b09",
   "metadata": {},
   "source": [
    "## Exercise 4\n",
    "\n",
    "Challenging exercise. Construct a class that can be used to play a game of noughts and crosses. The class should have at least the following methods:\n",
    "\n",
    " * `__init__`: Create an empty 3 x 3 board (represented by some form of list-like object).\n",
    " * `place_nought`: Place a nought at a position on the board (the position is given by arguments to this method).\n",
    " * `place_cross`: Place a cross at a position on the board (the position is given by arguments to this method).\n",
    " * `print_board`: Print a representation of the board to the terminal\n",
    " * `restart_game`: Revert to an empty 3 x 3 board\n",
    " \n",
    "Whenever a nought, or a cross, is played, the following should happen:\n",
    "\n",
    " * Noughts and crosses must be played in alternating order, if someone tries to play out of order a message should be given, but the game allowed to continue\n",
    " * You cannot place a piece on a space that already has a piece on it. Print a message if this happens and continue the game.\n",
    " * Whenever a piece is played check to see if one player has won. Print a message if this happens.\n",
    " * If all spaces on the board are full and no-one has won, print a message to that effect."
   ]
  },
  {
   "cell_type": "code",
   "execution_count": 1,
   "id": "5c541d08",
   "metadata": {},
   "outputs": [
    {
     "ename": "IndentationError",
     "evalue": "expected an indented block (139590512.py, line 7)",
     "output_type": "error",
     "traceback": [
      "\u001b[0;36m  File \u001b[0;32m\"/var/folders/67/1t4_rwdj441c8g3j147_fwrh0000gs/T/ipykernel_48051/139590512.py\"\u001b[0;36m, line \u001b[0;32m7\u001b[0m\n\u001b[0;31m    oandc = NoughtsAndCrosses()\u001b[0m\n\u001b[0m    ^\u001b[0m\n\u001b[0;31mIndentationError\u001b[0m\u001b[0;31m:\u001b[0m expected an indented block\n"
     ]
    }
   ],
   "source": [
    "class NoughtsAndCrosses():\n",
    "    # FILL IN CLASS HERE!\n",
    "    \n",
    "    \n",
    "\n",
    "# Some example games to test. Do not change!\n",
    "oandc = NoughtsAndCrosses()\n",
    "oandc.print_board()\n",
    "oandc.place_nought(0,1)\n",
    "# This one below should not go through: It's not nought's turn.\n",
    "oandc.place_nought(1,1)\n",
    "oandc.print_board()\n",
    "oandc.place_cross(1,1)\n",
    "oandc.place_nought(0,0)\n",
    "# This shouldn't go through as you can't play a cross on a nought.\n",
    "oandc.place_cross(0,0)\n",
    "oandc.place_cross(2,2)\n",
    "oandc.place_nought(0,2)\n",
    "# Nought wins\n",
    "\n",
    "oandc = NoughtsAndCrosses()\n",
    "oandc.print_board()\n",
    "oandc.place_nought(1,1)\n",
    "oandc.place_cross(0,0)\n",
    "oandc.place_nought(0,2)\n",
    "oandc.place_cross(2,0)\n",
    "oandc.place_nought(1,0)\n",
    "oandc.place_cross(1,2)\n",
    "oandc.place_nought(0,1)\n",
    "oandc.place_cross(2,1)\n",
    "oandc.place_nought(2,2)\n",
    "# DRAW\n",
    "\n",
    "\n"
   ]
  },
  {
   "cell_type": "code",
   "execution_count": null,
   "id": "825e7aa9",
   "metadata": {},
   "outputs": [],
   "source": []
  }
 ],
 "metadata": {
  "kernelspec": {
   "display_name": "Python 3 (ipykernel)",
   "language": "python",
   "name": "python3"
  },
  "language_info": {
   "codemirror_mode": {
    "name": "ipython",
    "version": 3
   },
   "file_extension": ".py",
   "mimetype": "text/x-python",
   "name": "python",
   "nbconvert_exporter": "python",
   "pygments_lexer": "ipython3",
   "version": "3.9.7"
  }
 },
 "nbformat": 4,
 "nbformat_minor": 5
}
