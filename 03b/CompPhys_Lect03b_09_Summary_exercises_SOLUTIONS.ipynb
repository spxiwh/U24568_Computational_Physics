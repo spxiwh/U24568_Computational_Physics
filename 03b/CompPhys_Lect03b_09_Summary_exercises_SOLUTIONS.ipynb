{
 "cells": [
  {
   "cell_type": "markdown",
   "id": "b03ce4f4",
   "metadata": {},
   "source": [
    "# SUMMARY EXERCISES \n",
    "\n",
    "The best way to properly get to grips with classes is by writing some, so here's some exercises:"
   ]
  },
  {
   "cell_type": "markdown",
   "id": "6b107423",
   "metadata": {},
   "source": [
    "## Exercise 1\n",
    "\n",
    " Define a class which has the following methods:\n",
    " * get_string: Take a string from console input (use the `input` builtin function)\n",
    " * \\_\\_init\\_\\_: This should call the get_string method when a class instance is initialized. \n",
    " * print_string: Print the string\n",
    " * print_string_upper: Print the string in upper case.\n",
    " * print_string_lower: Print the string in lower case.\n",
    "\n",
    "Test the class with some examples"
   ]
  },
  {
   "cell_type": "code",
   "execution_count": 1,
   "id": "c40c5211",
   "metadata": {},
   "outputs": [
    {
     "name": "stdout",
     "output_type": "stream",
     "text": [
      "'AsasdSSdd'\n",
      "'AsasdSSdd'\n",
      "'asasdssdd'\n",
      "'ASASDSSDD'\n"
     ]
    }
   ],
   "source": [
    "class StringStuff():\n",
    "    def __init__(self):\n",
    "        self.s = ''\n",
    "    \n",
    "    def get_string(self):\n",
    "        self.s = input()\n",
    "    \n",
    "    def print_string(self):\n",
    "        print(self.s)\n",
    "    \n",
    "    def print_string_upper(self):\n",
    "        print(self.s.upper())\n",
    "        \n",
    "    def print_string_lower(self):\n",
    "        print(self.s.lower())\n",
    "\n",
    "ex = StringStuff()\n",
    "ex.get_string()\n",
    "ex.print_string()\n",
    "ex.print_string_lower()\n",
    "ex.print_string_upper()"
   ]
  },
  {
   "cell_type": "markdown",
   "id": "6a268075",
   "metadata": {},
   "source": [
    "## Exercise 2\n",
    "\n",
    "Write a class which is designed to store a population of foxes and chickens. Except the interface here is a bit strange, and you've been asked to design it in the following way. The class must contain:\n",
    "\n",
    " * An `__init__` method which takes two arguments `num_heads` and `num_legs`. `num_heads` is the total number of heads including both chickens and foxes. `num_legs` is the total number of legs including both chickens and foxes.\n",
    " * A `num_animals` method, which returns the number of chickens and the number of rabbits as a length-2 tuple. (Assume that all chickens have one head and two legs, and all foxes have one head and four legs).\n",
    " \n",
    "Then test initializing the class and calling num_animals. Example outputs you should get:\n",
    "\n",
    " * `num_heads=2` and `num_legs=6` -> 1 fox, 1 chicken\n",
    " * `num_heads=30` and `num_legs=100` -> 20 foxes, 10 chickens\n",
    " * `num_heads=88` and `num_legs=238` -> 31 foxes, 57 chickens\n",
    " * `num_heads=5` and `num_legs=64` -> This case is not possible, raise an Exception. (`raise ValueError(\"MESSAGE\")`)"
   ]
  },
  {
   "cell_type": "code",
   "execution_count": 2,
   "id": "eb2fb4ac",
   "metadata": {},
   "outputs": [
    {
     "name": "stdout",
     "output_type": "stream",
     "text": [
      "(1.0, 1.0)\n",
      "(20.0, 10.0)\n",
      "(31.0, 57.0)\n"
     ]
    },
    {
     "ename": "ValueError",
     "evalue": "This combination is not possible",
     "output_type": "error",
     "traceback": [
      "\u001b[0;31m---------------------------------------------------------------------------\u001b[0m",
      "\u001b[0;31mValueError\u001b[0m                                Traceback (most recent call last)",
      "Input \u001b[0;32mIn [2]\u001b[0m, in \u001b[0;36m<module>\u001b[0;34m\u001b[0m\n\u001b[1;32m     29\u001b[0m \u001b[38;5;28mprint\u001b[39m(at\u001b[38;5;241m.\u001b[39mnum_animals())\n\u001b[1;32m     31\u001b[0m at \u001b[38;5;241m=\u001b[39m AnimalThing(\u001b[38;5;241m5\u001b[39m, \u001b[38;5;241m64\u001b[39m)\n\u001b[0;32m---> 32\u001b[0m \u001b[38;5;28mprint\u001b[39m(\u001b[43mat\u001b[49m\u001b[38;5;241;43m.\u001b[39;49m\u001b[43mnum_animals\u001b[49m\u001b[43m(\u001b[49m\u001b[43m)\u001b[49m)\n",
      "Input \u001b[0;32mIn [2]\u001b[0m, in \u001b[0;36mAnimalThing.num_animals\u001b[0;34m(self)\u001b[0m\n\u001b[1;32m     14\u001b[0m rabbits \u001b[38;5;241m=\u001b[39m \u001b[38;5;28mself\u001b[39m\u001b[38;5;241m.\u001b[39mnum_heads \u001b[38;5;241m-\u001b[39m chickens\n\u001b[1;32m     16\u001b[0m \u001b[38;5;28;01mif\u001b[39;00m chickens \u001b[38;5;241m<\u001b[39m \u001b[38;5;241m0\u001b[39m \u001b[38;5;129;01mor\u001b[39;00m rabbits \u001b[38;5;241m<\u001b[39m \u001b[38;5;241m0\u001b[39m:\n\u001b[0;32m---> 17\u001b[0m     \u001b[38;5;28;01mraise\u001b[39;00m \u001b[38;5;167;01mValueError\u001b[39;00m(\u001b[38;5;124m\"\u001b[39m\u001b[38;5;124mThis combination is not possible\u001b[39m\u001b[38;5;124m\"\u001b[39m)\n\u001b[1;32m     19\u001b[0m \u001b[38;5;28;01mreturn\u001b[39;00m rabbits, chickens\n",
      "\u001b[0;31mValueError\u001b[0m: This combination is not possible"
     ]
    }
   ],
   "source": [
    "class AnimalThing():\n",
    "    def __init__(self, num_heads, num_legs):\n",
    "        self.num_heads = num_heads\n",
    "        self.num_legs = num_legs\n",
    "    \n",
    "    def num_animals(self):\n",
    "        # C * 2 + (NH - C) * 4 = NL\n",
    "        # 4*NH - NL = 2 * C\n",
    "        if self.num_legs % 1:\n",
    "            # Odd number of length\n",
    "            raise ValueError(\"This combination is not possible\")\n",
    "        \n",
    "        chickens = (4 * self.num_heads - self.num_legs) / 2\n",
    "        rabbits = self.num_heads - chickens\n",
    "        \n",
    "        if chickens < 0 or rabbits < 0:\n",
    "            raise ValueError(\"This combination is not possible\")\n",
    "        \n",
    "        return rabbits, chickens\n",
    "\n",
    "\n",
    "at = AnimalThing(2, 6)\n",
    "print(at.num_animals())\n",
    "\n",
    "at = AnimalThing(30, 100)\n",
    "print(at.num_animals())\n",
    "\n",
    "at = AnimalThing(88, 238)\n",
    "print(at.num_animals())\n",
    "\n",
    "at = AnimalThing(5, 64)\n",
    "print(at.num_animals())\n"
   ]
  },
  {
   "cell_type": "markdown",
   "id": "989be845",
   "metadata": {},
   "source": [
    "## Exercise 3\n",
    "\n",
    "The last example is an example where the interface doesn't make sense. Why would you give num_heads and num_legs when the obvious thing to count is the number of both animals! Let's try and extend this into a somewhat more challenging example where the benefits of using object oriented programming beging to come into play.\n",
    "\n",
    "Write a class to track the population of foxes and chickens over time. It should have the following methods:\n",
    "\n",
    "* An `__init__` method which takes two arguments `num_foxes` and `num_chickens`. These correspond to the *initial* number of foxes and chickens.\n",
    "* An `add_foxes` method. This should take one argument `num` and when called should increase the number of foxes by `num`. (Maybe the foxes are migrating??)\n",
    "* An `add_chickens` method. As with `add_foxes` this should take one argument `num` and when called should increase the number of chickens by `num`. (Maybe the chickens migrate as well??)\n",
    "* An `advance_time_one_year` method. This takes no arguments. When called it simulates how these populations would change over a year. This is done with the following steps. Consider if each of these steps should be individual methods in the class, or just all things that are done in `advance_time_one_year`. These three items should be done *in this order* (so the number of chickens increased in the first item affects the calculation in the third). Where these numbers give fractional numbers of chickens or foxes round *down* to the nearest integer.\n",
    "  * Increase number of chickens proportionally to chicken population. The number of *additional* chickens is `num_chickens` * 0.6.\n",
    "  * Decrease number of chickens proportionally to fox population. The number of chickens decreases by `num_foxes` * 4. (This number cannot become less than 0).\n",
    "  * Change fox population proportionally to chicken *and* fox population. Use the following logic to determine this:\n",
    "    * If `num_chickens` > `num_foxes` * 4 then add 0.5 * `num_foxes` new foxes.\n",
    "    * If `num_chickens` > `num_foxes` * 2 then add (((`num_chickens`/`num_foxes`) - 2) * 0.25 * `num_foxes`) new foxes.\n",
    "    * If `num_chickens` <= `num_foxes` * 2 then reduce the number of foxes by ((2 - (`num_chickens`/`num_foxes`)) * 0.25 * `num_foxes`)\n",
    "    \n",
    "Then try the following. Initiate the class with 1000 chickens, and 50 foxes. Evolve and store the population of both animals over 20 years. Plot how the population evolves.\n",
    "\n",
    "You should find that this is not a stable ecosystem. Is it possible to edit some of the parameters above so that you have a *dynamic* ecosystem (e.g. the populations should change over time and respond to each other) but one that will not result in both sets of animals quickly disappearing, or that will result in an unckecked increase in one population?"
   ]
  },
  {
   "cell_type": "code",
   "execution_count": 3,
   "id": "f585f27b",
   "metadata": {},
   "outputs": [],
   "source": [
    "class AnimalThingTwo():\n",
    "    def __init__(self, num_chickens, num_foxes):\n",
    "        self.num_chickens = num_chickens\n",
    "        self.num_foxes = num_foxes\n",
    "    \n",
    "    def add_foxes(self, num_foxes):\n",
    "        self.num_foxes += num_foxes\n",
    "        if self.num_foxes < 0:\n",
    "            self.num_foxes = 0 # :-(\n",
    "        \n",
    "    def add_chickens(self, num_chickens):\n",
    "        self.num_chickens += num_chickens\n",
    "        if self.num_chickens < 0:\n",
    "            self.num_chickens = 0 # :-(\n",
    "        \n",
    "    def advance_time_one_year(self):\n",
    "        self.add_chickens(int(0.6 * self.num_chickens))\n",
    "        self.add_chickens(int(- 4 * self.num_foxes))\n",
    "        if self.num_chickens > self.num_foxes*4:\n",
    "            self.add_foxes(int(0.5 * self.num_foxes))\n",
    "        else:\n",
    "            # Note the second and third conditions are not different, the number just gets negative!\n",
    "            self.add_foxes(int((self.num_chickens / self.num_foxes - 2) * 0.25 * self.num_foxes))\n",
    "            \n",
    "class AnimalThingStable():\n",
    "    def __init__(self, num_chickens, num_foxes):\n",
    "        self.num_chickens = num_chickens\n",
    "        self.num_foxes = num_foxes\n",
    "    \n",
    "    def add_foxes(self, num_foxes):\n",
    "        self.num_foxes += num_foxes\n",
    "        if self.num_foxes < 0:\n",
    "            self.num_foxes = 0 # :-(\n",
    "        \n",
    "    def add_chickens(self, num_chickens):\n",
    "        self.num_chickens += num_chickens\n",
    "        if self.num_chickens < 0:\n",
    "            self.num_chickens = 0 # :-(\n",
    "        \n",
    "    def advance_time_one_year(self):\n",
    "        # Use this and the populations will disappear:\n",
    "        # self.add_chickens(int(0.699357903060 * self.num_chickens))\n",
    "        # Use this and the populations will explode\n",
    "        self.add_chickens(int(0.699357903070 * self.num_chickens))\n",
    "        # This really is balanced on a knife-edge. Unless the parameters are *exactly* tuned such systems\n",
    "        # are not stable. (In reality different/additional controls on the populations are needed to keep this stable).\n",
    "        self.add_chickens(int(- 4 * self.num_foxes))\n",
    "        if self.num_chickens > self.num_foxes*4:\n",
    "            self.add_foxes(int(0.5 * self.num_foxes))\n",
    "        else:\n",
    "            # Note the second and third conditions are not different, the number just gets negative!\n",
    "            self.add_foxes(int((self.num_chickens / self.num_foxes - 2) * 0.25 * self.num_foxes))"
   ]
  },
  {
   "cell_type": "code",
   "execution_count": 4,
   "id": "243faf53",
   "metadata": {},
   "outputs": [
    {
     "name": "stdout",
     "output_type": "stream",
     "text": [
      "Year 0 Chickens: 1400 Foxes: 75\n",
      "Year 1 Chickens: 1940 Foxes: 112\n",
      "Year 2 Chickens: 2656 Foxes: 168\n",
      "Year 3 Chickens: 3577 Foxes: 252\n",
      "Year 4 Chickens: 4715 Foxes: 378\n",
      "Year 5 Chickens: 6032 Foxes: 567\n",
      "Year 6 Chickens: 7383 Foxes: 850\n",
      "Year 7 Chickens: 8412 Foxes: 1275\n",
      "Year 8 Chickens: 8359 Foxes: 1912\n",
      "Year 9 Chickens: 5726 Foxes: 2387\n",
      "Year 10 Chickens: 0 Foxes: 1194\n",
      "Year 11 Chickens: 0 Foxes: 597\n",
      "Year 12 Chickens: 0 Foxes: 299\n",
      "Year 13 Chickens: 0 Foxes: 150\n",
      "Year 14 Chickens: 0 Foxes: 75\n",
      "Year 15 Chickens: 0 Foxes: 38\n",
      "Year 16 Chickens: 0 Foxes: 19\n",
      "Year 17 Chickens: 0 Foxes: 10\n",
      "Year 18 Chickens: 0 Foxes: 5\n",
      "Year 19 Chickens: 0 Foxes: 3\n"
     ]
    },
    {
     "data": {
      "text/plain": [
       "[<matplotlib.lines.Line2D at 0x119d0ddf0>]"
      ]
     },
     "execution_count": 4,
     "metadata": {},
     "output_type": "execute_result"
    },
    {
     "data": {
      "image/png": "[encoded data removed]",
      "text/plain": [
       "<Figure size 640x480 with 1 Axes>"
      ]
     },
     "metadata": {},
     "output_type": "display_data"
    }
   ],
   "source": [
    "amt2 = AnimalThingTwo(1000, 50)\n",
    "n_chickens = []\n",
    "n_foxes = []\n",
    "\n",
    "for year in range(20):\n",
    "    amt2.advance_time_one_year()\n",
    "    n_chickens.append(amt2.num_chickens)\n",
    "    n_foxes.append(amt2.num_foxes)\n",
    "    print(\"Year\", year, \"Chickens:\", amt2.num_chickens, \"Foxes:\", amt2.num_foxes)\n",
    "\n",
    "# You should make the plot look nicer than this and include axis labels etc.!!\n",
    "from matplotlib import pyplot as plt\n",
    "plt.plot(n_chickens)\n",
    "plt.plot(n_foxes)"
   ]
  },
  {
   "cell_type": "code",
   "execution_count": 5,
   "id": "bac6b3e8",
   "metadata": {},
   "outputs": [
    {
     "name": "stdout",
     "output_type": "stream",
     "text": [
      "Year 999 Chickens: 4597825123782512403940663656402514720920242935922474826237032536983928011004631378740866635851687113426633228031975235399680403353362365895300585782101605744025722279832743083776362925863293098581715396471734876411719962667793132 Foxes: 6135796327505989235727472356078700172383477942443873077356831410729146305162765536350373375775510798599136513330640118502771752673316007056148423671542581521901877597060593139309\n"
     ]
    }
   ],
   "source": [
    "# No I can't keep this stable unless I create a system that is *not* dynamic (ie. I tune the parameters)\n",
    "# so that the populations never change.\n",
    "amt2 = AnimalThingStable(1000, 50)\n",
    "\n",
    "for year in range(1000):\n",
    "    amt2.advance_time_one_year()\n",
    "print(\"Year\", year, \"Chickens:\", amt2.num_chickens, \"Foxes:\", amt2.num_foxes)"
   ]
  },
  {
   "cell_type": "markdown",
   "id": "d8f54b09",
   "metadata": {},
   "source": [
    "## Exercise 4\n",
    "\n",
    "Challenging exercise. Construct a class that can be used to play a game of noughts and crosses. The class should have at least the following methods:\n",
    "\n",
    " * `__init__`: Create an empty 3 x 3 board (represented by some form of list-like object).\n",
    " * `place_nought`: Place a nought at a position on the board (the position is given by arguments to this method).\n",
    " * `place_cross`: Place a cross at a position on the board (the position is given by arguments to this method).\n",
    " * `print_board`: Print a representation of the board to the terminal\n",
    " * `restart_game`: Revert to an empty 3 x 3 board\n",
    " \n",
    "Whenever a nought, or a cross, is played, the following should happen:\n",
    "\n",
    " * Noughts and crosses must be played in alternating order, if someone tries to play out of order a message should be given, but the game allowed to continue\n",
    " * You cannot place a piece on a space that already has a piece on it. Print a message if this happens and continue the game.\n",
    " * Whenever a piece is played check to see if one player has won. Print a message if this happens.\n",
    " * If all spaces on the board are full and no-one has won, print a message to that effect."
   ]
  },
  {
   "cell_type": "code",
   "execution_count": 1,
   "id": "5c541d08",
   "metadata": {},
   "outputs": [
    {
     "ename": "IndentationError",
     "evalue": "expected an indented block (139590512.py, line 7)",
     "output_type": "error",
     "traceback": [
      "\u001b[0;36m  File \u001b[0;32m\"/var/folders/67/1t4_rwdj441c8g3j147_fwrh0000gs/T/ipykernel_48051/139590512.py\"\u001b[0;36m, line \u001b[0;32m7\u001b[0m\n\u001b[0;31m    oandc = NoughtsAndCrosses()\u001b[0m\n\u001b[0m    ^\u001b[0m\n\u001b[0;31mIndentationError\u001b[0m\u001b[0;31m:\u001b[0m expected an indented block\n"
     ]
    }
   ],
   "source": [
    "class NoughtsAndCrosses():\n",
    "    # FILL IN CLASS HERE!\n",
    "    \n",
    "    \n",
    "\n",
    "# Some example games to test. Do not change!\n",
    "oandc = NoughtsAndCrosses()\n",
    "oandc.print_board()\n",
    "oandc.place_nought(0,1)\n",
    "# This one below should not go through: It's not nought's turn.\n",
    "oandc.place_nought(1,1)\n",
    "oandc.print_board()\n",
    "oandc.place_cross(1,1)\n",
    "oandc.place_nought(0,0)\n",
    "# This shouldn't go through as you can't play a cross on a nought.\n",
    "oandc.place_cross(0,0)\n",
    "oandc.place_cross(2,2)\n",
    "oandc.place_nought(0,2)\n",
    "# Nought wins\n",
    "\n",
    "oandc = NoughtsAndCrosses()\n",
    "oandc.print_board()\n",
    "oandc.place_nought(1,1)\n",
    "oandc.place_cross(0,0)\n",
    "oandc.place_nought(0,2)\n",
    "oandc.place_cross(2,0)\n",
    "oandc.place_nought(1,0)\n",
    "oandc.place_cross(1,2)\n",
    "oandc.place_nought(0,1)\n",
    "oandc.place_cross(2,1)\n",
    "oandc.place_nought(2,2)\n",
    "# DRAW\n",
    "\n",
    "\n"
   ]
  },
  {
   "cell_type": "code",
   "execution_count": 6,
   "id": "825e7aa9",
   "metadata": {},
   "outputs": [
    {
     "name": "stdout",
     "output_type": "stream",
     "text": [
      "***\n",
      "***\n",
      "***\n",
      "\n",
      "It's not nought's turn!\n",
      "*O*\n",
      "***\n",
      "***\n",
      "\n",
      "That square already has a piece on it\n",
      "NOUGHTS WIN\n",
      "OOO\n",
      "*X*\n",
      "**X\n",
      "\n",
      "***\n",
      "***\n",
      "***\n",
      "\n",
      "GAME IS A DRAW\n",
      "XOO\n",
      "OOX\n",
      "XXO\n",
      "\n"
     ]
    }
   ],
   "source": [
    "import numpy\n",
    "class NoughtsAndCrosses():\n",
    "    def __init__(self):\n",
    "        self.board = numpy.zeros([3,3])\n",
    "        self.current_player = None\n",
    "    \n",
    "    def print_board(self):\n",
    "        for i in range(3):\n",
    "            curr_line = ''\n",
    "            for j in range(3):\n",
    "                if self.board[i,j] == -1:\n",
    "                    curr_line += \"O\"\n",
    "                elif self.board[i,j] == 1:\n",
    "                    curr_line += \"X\"\n",
    "                elif self.board[i,j] == 0:\n",
    "                    curr_line += \"*\"\n",
    "            print(curr_line)\n",
    "        print()\n",
    "    \n",
    "    def place_nought(self, i, j):\n",
    "        if self.current_player == 'crosses':\n",
    "            print(\"It's not nought's turn!\")\n",
    "            return\n",
    "        if not self.board[i,j] == 0:\n",
    "            print(\"That square already has a piece on it\")\n",
    "            return\n",
    "        self.board[i,j] = -1\n",
    "        self.current_player = 'crosses'\n",
    "        self.check_board_status()\n",
    "    \n",
    "    def place_cross(self, i, j):\n",
    "        if self.current_player == 'noughts':\n",
    "            print(\"It's not nought's turn!\")\n",
    "            return\n",
    "        if not self.board[i,j] == 0:\n",
    "            print(\"That square already has a piece on it\")\n",
    "            return\n",
    "        self.board[i,j] = 1\n",
    "        self.current_player = 'noughts'\n",
    "        self.check_board_status()\n",
    "    \n",
    "    def check_board_status(self):\n",
    "        # Check horizontal and vertical rows\n",
    "        diag_sum = self.board[0,0] + self.board[1,1] + self.board[2,2]\n",
    "        diag_sum2 = self.board[0,2] + self.board[1,1] + self.board[2,0]\n",
    "        for i in range(3):\n",
    "            if self.board[i,:].sum() == 3 or self.board[:,i].sum() == 3 or diag_sum == 3 or diag_sum == 3:\n",
    "                print(\"CROSSES WIN\")\n",
    "                self.print_board()\n",
    "            if self.board[i,:].sum() == -3 or self.board[:,i].sum() == -3 or diag_sum == -3 or diag_sum == -3:\n",
    "                print(\"NOUGHTS WIN\")\n",
    "                self.print_board()\n",
    "        \n",
    "        # Check if any values are 0\n",
    "        if not (self.board == 0).any():\n",
    "            print(\"GAME IS A DRAW\")\n",
    "            self.print_board()    \n",
    "\n",
    "# Some example games to test. Do not change!\n",
    "oandc = NoughtsAndCrosses()\n",
    "oandc.print_board()\n",
    "oandc.place_nought(0,1)\n",
    "# This one below should not go through: It's not nought's turn.\n",
    "oandc.place_nought(1,1)\n",
    "oandc.print_board()\n",
    "oandc.place_cross(1,1)\n",
    "oandc.place_nought(0,0)\n",
    "# This shouldn't go through as you can't play a cross on a nought.\n",
    "oandc.place_cross(0,0)\n",
    "oandc.place_cross(2,2)\n",
    "oandc.place_nought(0,2)\n",
    "# Nought wins\n",
    "\n",
    "oandc = NoughtsAndCrosses()\n",
    "oandc.print_board()\n",
    "oandc.place_nought(1,1)\n",
    "oandc.place_cross(0,0)\n",
    "oandc.place_nought(0,2)\n",
    "oandc.place_cross(2,0)\n",
    "oandc.place_nought(1,0)\n",
    "oandc.place_cross(1,2)\n",
    "oandc.place_nought(0,1)\n",
    "oandc.place_cross(2,1)\n",
    "oandc.place_nought(2,2)\n",
    "# DRAW\n",
    "\n",
    "\n"
   ]
  },
  {
   "cell_type": "code",
   "execution_count": null,
   "id": "91b75fa0",
   "metadata": {},
   "outputs": [],
   "source": []
  }
 ],
 "metadata": {
  "kernelspec": {
   "display_name": "Python 3 (ipykernel)",
   "language": "python",
   "name": "python3"
  },
  "language_info": {
   "codemirror_mode": {
    "name": "ipython",
    "version": 3
   },
   "file_extension": ".py",
   "mimetype": "text/x-python",
   "name": "python",
   "nbconvert_exporter": "python",
   "pygments_lexer": "ipython3",
   "version": "3.9.7"
  }
 },
 "nbformat": 4,
 "nbformat_minor": 5
}
