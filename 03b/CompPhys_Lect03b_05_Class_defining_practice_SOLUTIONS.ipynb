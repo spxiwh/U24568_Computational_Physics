{
 "cells": [
  {
   "cell_type": "markdown",
   "id": "1059f87d",
   "metadata": {},
   "source": [
    "# EXERCISES - Practicing defining classes\n",
    "\n",
    "Here are some exercises to practice how to define and initialize a class"
   ]
  },
  {
   "cell_type": "markdown",
   "id": "8c6ac45e",
   "metadata": {},
   "source": [
    "## EXERCISE 1\n",
    "\n",
    "I want to know how many people have passed my course in the last 5 years. I know that $N$ people passed my course in years 1 - 4, and I have a list $mark\\_list$ of marks for the students in year 5. A mark of 40 or larger is pass. Implement a class below so that the code fragment below will tell me how many students have passed my course in the last 5 years.\n",
    "\n",
    "The class should have the following:\n",
    "\n",
    "* It should be called `MarkTracker`\n",
    "* It should have an `__init__` function/method, which takes one input (in addition to `self`). This input is a number N, denoting the number of people who passed the course in the first 4 years. This number should be stored to an attribute of the class called `num_passes`.\n",
    "* It should have a `add_passes_from_grades` function/method. This takes one input (in addition to `self`). That input is a list of the marks for the students in year 5. The function should identify how many of these students have passed (40 or larger is a pass), and then add that number to the current value of `num_passes`"
   ]
  },
  {
   "cell_type": "code",
   "execution_count": 1,
   "id": "7cd0d375",
   "metadata": {},
   "outputs": [
    {
     "name": "stdout",
     "output_type": "stream",
     "text": [
      "57 Should say 57\n",
      "10 Should say 10\n",
      "106 Should say 106\n"
     ]
    }
   ],
   "source": [
    "class MarkTracker:\n",
    "    def __init__(self, N):\n",
    "        self.num_passes = N\n",
    "        \n",
    "    def add_passes_from_grades(self, marks):\n",
    "        for mark in marks:\n",
    "            if mark >= 40:\n",
    "                self.num_passes += 1\n",
    "\n",
    "\n",
    "# DO NOT CHANGE CODE BELOW! It checks if your solution is correct!\n",
    "\n",
    "N = 52\n",
    "mark_list = [12, 24, 36, 48, 60, 72, 84, 96]\n",
    "mark_tracker = MarkTracker(N)\n",
    "mark_tracker.add_passes_from_grades(mark_list)\n",
    "print(mark_tracker.num_passes, \"Should say 57\")\n",
    "\n",
    "N = 4\n",
    "mark_list = [35,36,37,38,39,40,41,42,43,44,45]\n",
    "mark_tracker = MarkTracker(N)\n",
    "mark_tracker.add_passes_from_grades(mark_list)\n",
    "print(mark_tracker.num_passes, \"Should say 10\")\n",
    "\n",
    "N = 101\n",
    "mark_list = [1, 12, 40, 91, 36, 40, 23, 27, 42, 68]\n",
    "mark_tracker = MarkTracker(N)\n",
    "mark_tracker.add_passes_from_grades(mark_list)\n",
    "print(mark_tracker.num_passes, \"Should say 106\")\n"
   ]
  },
  {
   "cell_type": "markdown",
   "id": "14ae1e4e",
   "metadata": {},
   "source": [
    "## EXERCISE 2\n",
    "\n",
    "I want to write a class that will compute the area of a rectangle and print it in a nice way. I have implemented part of the solution already. Please fill in the missing method of the class! Note that in this exercise I am defining a `__str__` method. This method is called when I run the builtin `str` function on the class instance. I can overwrite *any* operation in python in this way. I can use `__mul__` to define what to do if I multiply this object with something else, or `__geq__` to define what to do if using the `>=` operator or .... (there's a lot of these \"magic methods\" https://rszalski.github.io/magicmethods/)\n",
    "\n",
    "* To solve this you will need to add a compute_area method of this class, which uses the height and width attributes, already defined within the class instance to compute an area. Therefore `compute_area` takes no inputs (other than self) and returns an area, using height and width already defined in the `__init__` method."
   ]
  },
  {
   "cell_type": "code",
   "execution_count": 2,
   "id": "b43c240a",
   "metadata": {},
   "outputs": [
    {
     "name": "stdout",
     "output_type": "stream",
     "text": [
      "AREA = 30 x 21 = 630 Should be 630\n",
      "AREA = 0 x 12 = 0 Should be 0\n",
      "AREA = 12.3 x 13.4 = 164.82000000000002 Should be 164.82000000000002\n"
     ]
    }
   ],
   "source": [
    "class Rectangle:\n",
    "    def __init__(self, height, width):\n",
    "        self.height = height\n",
    "        self.width = width\n",
    "\n",
    "    def __str__(self):\n",
    "        return f'AREA = {self.height} x {self.width} = {self.compute_area()}'\n",
    "\n",
    "    def compute_area(self):\n",
    "        return self.height * self.width\n",
    "\n",
    "\n",
    "# Test if your class works\n",
    "height=30\n",
    "width = 21\n",
    "rectangle_instance = Rectangle(height, width)\n",
    "print(str(rectangle_instance), \"Should be\", 30*21)\n",
    "\n",
    "height= 0\n",
    "width = 12\n",
    "rectangle_instance = Rectangle(height, width)\n",
    "print(str(rectangle_instance), \"Should be\", 0)\n",
    "\n",
    "height= 12.3\n",
    "width = 13.4\n",
    "rectangle_instance = Rectangle(height, width)\n",
    "print(str(rectangle_instance), \"Should be\", 12.3 * 13.4)\n"
   ]
  },
  {
   "cell_type": "markdown",
   "id": "7aa2e86a",
   "metadata": {},
   "source": [
    "## EXERCISE 3\n",
    "\n",
    "Now take the above example and add an additional method such that when I run `str` on the class instance it prints both the area *and* the perimeter.\n",
    "\n",
    "* HINT: To do this I would write a `compute_perimeter` method, similar to `compute_area`. Then the `__str__` method needs to be edited to return a string that prints both the area and perimeter!"
   ]
  },
  {
   "cell_type": "code",
   "execution_count": 3,
   "id": "9669d857",
   "metadata": {},
   "outputs": [
    {
     "name": "stdout",
     "output_type": "stream",
     "text": [
      "AREA = 30 x 21 = 630 PERIMETER = 2*30 + 2*21 = 102 Should be 630 and 102\n",
      "AREA = 0 x 12 = 0 PERIMETER = 2*0 + 2*12 = 24 Should be 0 and ... what should the perimeter be in this case??\n",
      "AREA = 12.3 x 13.4 = 164.82000000000002 PERIMETER = 2*12.3 + 2*13.4 = 51.400000000000006 Should be 164.82000000000002 and 51.400000000000006\n"
     ]
    }
   ],
   "source": [
    "class Rectangle:\n",
    "    def __init__(self, height, width):\n",
    "        self.height = height\n",
    "        self.width = width\n",
    "\n",
    "    def __str__(self):\n",
    "        return f'AREA = {self.height} x {self.width} = {self.compute_area()} PERIMETER = 2*{self.height} + 2*{self.width} = {self.compute_perimeter()}'\n",
    "\n",
    "    def compute_area(self):\n",
    "        return self.height * self.width\n",
    "    \n",
    "    def compute_perimeter(self):\n",
    "        return 2* self.height + 2* self.width\n",
    "\n",
    "\n",
    "\n",
    "# Test if your class works\n",
    "height=30\n",
    "width = 21\n",
    "rectangle_instance = Rectangle(height, width)\n",
    "print(str(rectangle_instance), \"Should be\", 30*21, \"and\", 2*(30+21))\n",
    "\n",
    "height= 0\n",
    "width = 12\n",
    "rectangle_instance = Rectangle(height, width)\n",
    "print(str(rectangle_instance), \"Should be\", 0, \"and ... what should the perimeter be in this case??\")\n",
    "\n",
    "height= 12.3\n",
    "width = 13.4\n",
    "rectangle_instance = Rectangle(height, width)\n",
    "print(str(rectangle_instance), \"Should be\", 12.3 * 13.4, \"and\", 2*(12.3 + 13.4))\n"
   ]
  },
  {
   "cell_type": "markdown",
   "id": "56df4639",
   "metadata": {},
   "source": [
    "## EXERCISE 4\n",
    "\n",
    "In a similar vein write a Triangle class. This should be able to print the perimeter, and area, of a triangle. It should be initialized by taking the 3 lengths of the sides of the triangle.\n",
    "\n",
    "* HINT: Here you have some more freedome to define how to do this, but your Triangle class must be called `Triangle`, must have an `__init__` method taking the 3 lengths as input, and define a `__str__` method similar to the case above."
   ]
  },
  {
   "cell_type": "code",
   "execution_count": 5,
   "id": "ffb51292",
   "metadata": {},
   "outputs": [
    {
     "name": "stdout",
     "output_type": "stream",
     "text": [
      "AREA = 43.30127018922193; PERIMETER = 30\n",
      "Should be 43.30127018922193 and 30\n",
      "\n",
      "AREA = 49.607837082461074; PERIMETER = 35\n",
      "Should be 49.607837082461074 and 35\n",
      "\n",
      "AREA = 54.49713295211043; PERIMETER = 61\n",
      "Should be 54.49713295211043 and 61\n",
      "\n"
     ]
    }
   ],
   "source": [
    "class Triangle:\n",
    "    def __init__(self, side1, side2, side3):\n",
    "        self.side1 = side1\n",
    "        self.side2 = side2\n",
    "        self.side3 = side3\n",
    "\n",
    "    def __str__(self):\n",
    "        return f'AREA = {self.compute_area()}; PERIMETER = {self.compute_perimeter()}'\n",
    "\n",
    "    def compute_area(self):\n",
    "        # Google \"Heron's formula\"\n",
    "        s = self.compute_perimeter() / 2.\n",
    "        return ( s * (s-self.side1) * (s-self.side2) * (s-self.side3) )**0.5\n",
    "    \n",
    "    def compute_perimeter(self):\n",
    "        return self.side1 + self.side2 + self.side3\n",
    "\n",
    "\n",
    "# Test if your class works\n",
    "side1_length = 10\n",
    "side2_length = 10\n",
    "side3_length = 10\n",
    "triangle_instance = Triangle(side1_length, side2_length, side3_length)\n",
    "print(str(triangle_instance))\n",
    "print(\"Should be\", 1875**0.5, \"and\", 30)\n",
    "print()\n",
    "\n",
    "side1_length = 10\n",
    "side2_length = 10\n",
    "side3_length = 15\n",
    "triangle_instance = Triangle(side1_length, side2_length, side3_length)\n",
    "print(str(triangle_instance))\n",
    "print(\"Should be\", 49.607837082461074, \"and\", 35)\n",
    "print()\n",
    "\n",
    "side1_length = 30\n",
    "side2_length = 10\n",
    "side3_length = 21\n",
    "triangle_instance = Triangle(side1_length, side2_length, side3_length)\n",
    "print(str(triangle_instance))\n",
    "print(\"Should be\", 54.49713295211043, \"and\", 61)\n",
    "print()\n"
   ]
  },
  {
   "cell_type": "code",
   "execution_count": null,
   "id": "cf50cc23",
   "metadata": {},
   "outputs": [],
   "source": []
  }
 ],
 "metadata": {
  "kernelspec": {
   "display_name": "Python 3 (ipykernel)",
   "language": "python",
   "name": "python3"
  },
  "language_info": {
   "codemirror_mode": {
    "name": "ipython",
    "version": 3
   },
   "file_extension": ".py",
   "mimetype": "text/x-python",
   "name": "python",
   "nbconvert_exporter": "python",
   "pygments_lexer": "ipython3",
   "version": "3.9.7"
  }
 },
 "nbformat": 4,
 "nbformat_minor": 5
}
