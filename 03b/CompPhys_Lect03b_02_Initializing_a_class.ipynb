{
 "cells": [
  {
   "cell_type": "markdown",
   "id": "ba277cd5",
   "metadata": {},
   "source": [
    "# Initializing a class\n",
    "\n",
    "The very first thing we need to know is how to create a basic class. A simple class that does nothing at all can be defined as"
   ]
  },
  {
   "cell_type": "code",
   "execution_count": 1,
   "id": "c5bfd943",
   "metadata": {},
   "outputs": [],
   "source": [
    "class MyPointlessClass:\n",
    "    pass"
   ]
  },
  {
   "cell_type": "markdown",
   "id": "4fb59f6b",
   "metadata": {},
   "source": [
    "We can then generate an \"instance\" of this class by running:"
   ]
  },
  {
   "cell_type": "code",
   "execution_count": 2,
   "id": "574b420e",
   "metadata": {},
   "outputs": [],
   "source": [
    "mypointlessclass_instance = MyPointlessClass()"
   ]
  },
  {
   "cell_type": "markdown",
   "id": "07e0d349",
   "metadata": {},
   "source": [
    "We can examine this instance to see what it is:"
   ]
  },
  {
   "cell_type": "code",
   "execution_count": 3,
   "id": "337c2beb",
   "metadata": {},
   "outputs": [
    {
     "name": "stdout",
     "output_type": "stream",
     "text": [
      "<class '__main__.MyPointlessClass'>\n"
     ]
    }
   ],
   "source": [
    "print(type(mypointlessclass_instance))"
   ]
  },
  {
   "cell_type": "markdown",
   "id": "295814fe",
   "metadata": {},
   "source": [
    "It's an example of the MyPointlessClass object, as expected.\n",
    "\n",
    "We can set values into this object, and do arithmetic using them. Note the \".\" operator is used here to access\n",
    "attributes (or methods, which we'll come to in a bit!) of an object (or instance of a class)."
   ]
  },
  {
   "cell_type": "code",
   "execution_count": 4,
   "id": "b786e8eb",
   "metadata": {},
   "outputs": [],
   "source": [
    "mypointlessclass_instance.value1 = 10.\n",
    "mypointlessclass_instance.value2 = 20.\n",
    "mypointlessclass_instance.value3 = mypointlessclass_instance.value1 + mypointlessclass_instance.value2"
   ]
  },
  {
   "cell_type": "markdown",
   "id": "7cafac33",
   "metadata": {},
   "source": [
    "In this example we're basically using the object as a \"namespace\". We're storing values into the class instance, if the class instance is storing lots of different values then the class instance could be sent on to functions to avoid sending lots of values as arguments to the function. This can be convenient, but a dictionary (for example) could be used for exactly the same thing.\n",
    "\n",
    "The power and utility of python's classes come from having as much code as possible exist within the class. So let's introduce some more concepts to illustrate this. First the `__init__` method is used to create a class, which already has certain values. So if we want to demand that a class is initialized with `value1` and `value2` attributes we could do:"
   ]
  },
  {
   "cell_type": "code",
   "execution_count": 5,
   "id": "96beaeb6",
   "metadata": {},
   "outputs": [],
   "source": [
    "class MyPointlessClass2:\n",
    "    def __init__(self, value1, value2):\n",
    "        self.value1 = value1\n",
    "        self.value2 = value2"
   ]
  },
  {
   "cell_type": "markdown",
   "id": "5933b586",
   "metadata": {},
   "source": [
    "The `__init__` method is crucial for using classes effectively! Note that the first argument to `__init__` is `self`. This is a convention. `self` refers to the class instance itself and is *not* provided when calling this function. Effectively `self` here is equivalent to `mypointlessclass_instance` in the case above. So to illustrate calling this:"
   ]
  },
  {
   "cell_type": "code",
   "execution_count": 6,
   "id": "d1eb81cf",
   "metadata": {},
   "outputs": [
    {
     "name": "stdout",
     "output_type": "stream",
     "text": [
      "10\n",
      "20\n",
      "30\n",
      "35.0\n",
      "30\n"
     ]
    }
   ],
   "source": [
    "mypointlessclass2_instance = MyPointlessClass2(10, 20)\n",
    "print(mypointlessclass2_instance.value1)\n",
    "print(mypointlessclass2_instance.value2)\n",
    "\n",
    "# We can still do:\n",
    "mypointlessclass2_instance.value3 = mypointlessclass2_instance.value1 + mypointlessclass2_instance.value2\n",
    "print(mypointlessclass2_instance.value3)\n",
    "\n",
    "# And we can still change these values:\n",
    "mypointlessclass2_instance.value2 = 35.\n",
    "print(mypointlessclass2_instance.value2)\n",
    "# Of course value 3 is not linked to value2, so won't change automatically:\n",
    "print(mypointlessclass2_instance.value3)\n",
    "# But of course you can set it again:\n",
    "mypointlessclass2_instance.value3 = mypointlessclass2_instance.value1 + mypointlessclass2_instance.value2"
   ]
  },
  {
   "cell_type": "markdown",
   "id": "ca062805",
   "metadata": {},
   "source": [
    "Again though, we can consign all of this to the class itself, and define a method for setting this value3"
   ]
  },
  {
   "cell_type": "code",
   "execution_count": 7,
   "id": "d3c9d61c",
   "metadata": {},
   "outputs": [],
   "source": [
    "class MyPointlessClass3:\n",
    "    def __init__(self, value1, value2):\n",
    "        self.value1 = value1\n",
    "        self.value2 = value2\n",
    "    \n",
    "    def set_value3(self):\n",
    "        self.value3 = self.value1 + self.value2"
   ]
  },
  {
   "cell_type": "code",
   "execution_count": 8,
   "id": "0a256330",
   "metadata": {},
   "outputs": [],
   "source": [
    "mypointlessclass3_instance = MyPointlessClass3(10, 20)\n",
    "mypointlessclass3_instance.set_value3()"
   ]
  },
  {
   "cell_type": "markdown",
   "id": "4d9e3e72",
   "metadata": {},
   "source": [
    "Finally, if you always want value3 set, you can have this done automatically. You can also add functions for setting value1 and value2. In the case below these functions *also* call set_value3 whenever you set value1 or value2, so everything is kept in sync automatically!\n",
    "\n",
    "(I note that python provides \"class setters/getters\" which can make the example below a little shorter. See here for reference (https://www.python-course.eu/python3_properties.php), but I won't cover this here as we need to be more familiar with classes before thinking about some of the advanced features!)"
   ]
  },
  {
   "cell_type": "code",
   "execution_count": 9,
   "id": "2b800856",
   "metadata": {},
   "outputs": [],
   "source": [
    "class MyPointlessClass4:\n",
    "    def __init__(self, value1, value2):\n",
    "        self.value1 = value1\n",
    "        self.value2 = value2\n",
    "        self.set_value3()\n",
    "        \n",
    "    def set_value1(self, value):\n",
    "        self.value1 = value\n",
    "        self.set_value3()\n",
    "\n",
    "    def set_value2(self, value):\n",
    "        self.value2 = value\n",
    "        self.set_value3()\n",
    "    \n",
    "    def set_value3(self):\n",
    "        self.value3 = self.value1 + self.value2"
   ]
  },
  {
   "cell_type": "code",
   "execution_count": 10,
   "id": "4503eab9",
   "metadata": {},
   "outputs": [
    {
     "name": "stdout",
     "output_type": "stream",
     "text": [
      "30\n",
      "15 5 20\n",
      "20\n"
     ]
    }
   ],
   "source": [
    "mypointlessclass4_instance = MyPointlessClass4(10, 20)\n",
    "# Now value 3 is set automatically:\n",
    "print(mypointlessclass4_instance.value3)\n",
    "\n",
    "# And if I do:\n",
    "mypointlessclass4_instance.set_value1(15)\n",
    "mypointlessclass4_instance.set_value2(5)\n",
    "# value3 is updated automatically\n",
    "print(mypointlessclass4_instance.value1,mypointlessclass4_instance.value2,mypointlessclass4_instance.value3)\n",
    "\n",
    "# BUT if I do:\n",
    "mypointlessclass4_instance.value1 = 100\n",
    "# value3 is *not* updated (the getter/setter thing is the way to avoid this!)\n",
    "print(mypointlessclass4_instance.value3)\n"
   ]
  },
  {
   "cell_type": "code",
   "execution_count": null,
   "id": "2c757673",
   "metadata": {},
   "outputs": [],
   "source": []
  }
 ],
 "metadata": {
  "kernelspec": {
   "display_name": "Python 3 (ipykernel)",
   "language": "python",
   "name": "python3"
  },
  "language_info": {
   "codemirror_mode": {
    "name": "ipython",
    "version": 3
   },
   "file_extension": ".py",
   "mimetype": "text/x-python",
   "name": "python",
   "nbconvert_exporter": "python",
   "pygments_lexer": "ipython3",
   "version": "3.9.12"
  }
 },
 "nbformat": 4,
 "nbformat_minor": 5
}
