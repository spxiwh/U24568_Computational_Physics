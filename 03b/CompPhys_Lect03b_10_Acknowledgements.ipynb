{
 "cells": [
  {
   "cell_type": "markdown",
   "id": "072c03a1",
   "metadata": {},
   "source": [
    "# Acknowledgements\n",
    "\n",
    "We acknowledge the following resources for help in formulating this notebook:\n",
    " * CodeSignal\n",
    " * https://github.com/zhiwehu/Python-programming-exercises"
   ]
  }
 ],
 "metadata": {
  "kernelspec": {
   "display_name": "Python 3 (ipykernel)",
   "language": "python",
   "name": "python3"
  },
  "language_info": {
   "codemirror_mode": {
    "name": "ipython",
    "version": 3
   },
   "file_extension": ".py",
   "mimetype": "text/x-python",
   "name": "python",
   "nbconvert_exporter": "python",
   "pygments_lexer": "ipython3",
   "version": "3.9.12"
  }
 },
 "nbformat": 4,
 "nbformat_minor": 5
}
