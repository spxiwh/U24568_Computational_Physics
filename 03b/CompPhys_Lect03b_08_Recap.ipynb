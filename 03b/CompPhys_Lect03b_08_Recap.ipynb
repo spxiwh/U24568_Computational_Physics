{
 "cells": [
  {
   "cell_type": "markdown",
   "id": "20714fab",
   "metadata": {},
   "source": [
    "# Recap\n",
    "\n",
    "So that's the basics of python classes. Just to recap the nomenclature here:\n",
    "\n",
    " * Class: Defines a new type of object (like a `float` or an `int` is a type of object)\n",
    " * Object or Instance: When I do `mypointlessclass_instance = MyPointlessClass()` then `mypointlessclass_instance` is an *instance* of the `MyPointlessClass` *class*\n",
    " * Methods: Are functions defined within the scope of the class, like `compute_area` within our Rectangle class above.\n",
    " * Attributes: Are values defined with the class. So things like `mypointlessclass_instance.value1` in our original example.\n",
    " * Inheritance: When a class inherits properties (methods/attributes) from another class.\n",
    "\n",
    "\n",
    "That's largely it for classes. To see all this in a different way see the python documentation https://docs.python.org/3/tutorial/classes.html\n",
    "\n",
    "There are some neat features that we aren't going to discuss here, including:\n",
    "\n",
    " * Class properties (via getters/setters)\n",
    " * Class decorators\n",
    "\n",
    "(you can Google these if you particularly want to explore these, and I can discuss them if after doing that if things are unclear)."
   ]
  }
 ],
 "metadata": {
  "kernelspec": {
   "display_name": "Python 3 (ipykernel)",
   "language": "python",
   "name": "python3"
  },
  "language_info": {
   "codemirror_mode": {
    "name": "ipython",
    "version": 3
   },
   "file_extension": ".py",
   "mimetype": "text/x-python",
   "name": "python",
   "nbconvert_exporter": "python",
   "pygments_lexer": "ipython3",
   "version": "3.9.12"
  }
 },
 "nbformat": 4,
 "nbformat_minor": 5
}
