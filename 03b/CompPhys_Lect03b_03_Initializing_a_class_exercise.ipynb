{
 "cells": [
  {
   "cell_type": "markdown",
   "id": "6da9ff27",
   "metadata": {},
   "source": [
    "# EXERCISE - Initializing a class\n",
    "\n",
    "Write a class that is initialized with 3 values (`value1`, `value2` and `value3`). It should also include a function that computes\n",
    "\n",
    "`value4` = (`value1` * `value2`) % `value3`\n",
    "\n",
    "* STEP 1: Write an `__init__` function that takes 3 inputs, and stores them in the class instance (just like the example above, but with 3, instead of 2, inputs).\n",
    "* STEP 2: Write a set_value4 function (called a \"method\") to set value4. This must be within the class definition, similar to the example above.\n",
    "* STEP 3: Optionally, write set_value1, set_value2 and set_value3 functions, which would update valueX *and then* also update value4 by calling set_value4. "
   ]
  },
  {
   "cell_type": "code",
   "execution_count": 3,
   "id": "baa3bcee",
   "metadata": {},
   "outputs": [],
   "source": [
    "class ExerciseClassOne:\n",
    "    # REPLACE THIS WITH CODE TO GENERATE YOUR CLASS!\n",
    "    pass # Remove this line as well\n"
   ]
  },
  {
   "cell_type": "code",
   "execution_count": 4,
   "id": "fb54d46f",
   "metadata": {},
   "outputs": [
    {
     "ename": "TypeError",
     "evalue": "ExerciseClassOne() takes no arguments",
     "output_type": "error",
     "traceback": [
      "\u001b[0;31m---------------------------------------------------------------------------\u001b[0m",
      "\u001b[0;31mTypeError\u001b[0m                                 Traceback (most recent call last)",
      "\u001b[0;32m/var/folders/67/1t4_rwdj441c8g3j147_fwrh0000gs/T/ipykernel_47798/4067543661.py\u001b[0m in \u001b[0;36m<module>\u001b[0;34m\u001b[0m\n\u001b[1;32m      1\u001b[0m \u001b[0;31m# Code to check your class is working\u001b[0m\u001b[0;34m\u001b[0m\u001b[0;34m\u001b[0m\u001b[0m\n\u001b[1;32m      2\u001b[0m \u001b[0;34m\u001b[0m\u001b[0m\n\u001b[0;32m----> 3\u001b[0;31m \u001b[0mexercise_instance_a\u001b[0m \u001b[0;34m=\u001b[0m \u001b[0mExerciseClassOne\u001b[0m\u001b[0;34m(\u001b[0m\u001b[0;36m5\u001b[0m\u001b[0;34m,\u001b[0m \u001b[0;36m10\u001b[0m\u001b[0;34m,\u001b[0m \u001b[0;36m6\u001b[0m\u001b[0;34m)\u001b[0m\u001b[0;34m\u001b[0m\u001b[0;34m\u001b[0m\u001b[0m\n\u001b[0m\u001b[1;32m      4\u001b[0m \u001b[0mexercise_instance_a\u001b[0m\u001b[0;34m.\u001b[0m\u001b[0mcompute_value_four\u001b[0m\u001b[0;34m(\u001b[0m\u001b[0;34m)\u001b[0m\u001b[0;34m\u001b[0m\u001b[0;34m\u001b[0m\u001b[0m\n\u001b[1;32m      5\u001b[0m \u001b[0mprint\u001b[0m\u001b[0;34m(\u001b[0m\u001b[0mexercise_instance_a\u001b[0m\u001b[0;34m.\u001b[0m\u001b[0mvalue4\u001b[0m\u001b[0;34m,\u001b[0m \u001b[0;34m\"This should be:\"\u001b[0m\u001b[0;34m,\u001b[0m \u001b[0;34m(\u001b[0m\u001b[0;36m5\u001b[0m\u001b[0;34m*\u001b[0m\u001b[0;36m10\u001b[0m\u001b[0;34m)\u001b[0m \u001b[0;34m%\u001b[0m \u001b[0;36m6\u001b[0m\u001b[0;34m)\u001b[0m\u001b[0;34m\u001b[0m\u001b[0;34m\u001b[0m\u001b[0m\n",
      "\u001b[0;31mTypeError\u001b[0m: ExerciseClassOne() takes no arguments"
     ]
    }
   ],
   "source": [
    "# Code to check your class is working\n",
    "\n",
    "exercise_instance_a = ExerciseClassOne(5, 10, 6)\n",
    "exercise_instance_a.set_value4()\n",
    "print(exercise_instance_a.value4, \"This should be:\", (5*10) % 6)\n",
    "\n",
    "exercise_instance_b = ExerciseClassOne(10, 72, 3.4)\n",
    "exercise_instance_b.set_value4()\n",
    "print(exercise_instance_b.value4, \"This should be:\", (10*72) % 3.4)\n",
    "\n"
   ]
  },
  {
   "cell_type": "code",
   "execution_count": null,
   "id": "c4ece366",
   "metadata": {},
   "outputs": [],
   "source": []
  }
 ],
 "metadata": {
  "kernelspec": {
   "display_name": "Python 3 (ipykernel)",
   "language": "python",
   "name": "python3"
  },
  "language_info": {
   "codemirror_mode": {
    "name": "ipython",
    "version": 3
   },
   "file_extension": ".py",
   "mimetype": "text/x-python",
   "name": "python",
   "nbconvert_exporter": "python",
   "pygments_lexer": "ipython3",
   "version": "3.9.7"
  }
 },
 "nbformat": 4,
 "nbformat_minor": 5
}
