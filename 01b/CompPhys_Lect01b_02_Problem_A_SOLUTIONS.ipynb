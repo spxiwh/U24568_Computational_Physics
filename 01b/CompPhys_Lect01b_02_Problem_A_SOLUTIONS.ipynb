{
 "cells": [
  {
   "cell_type": "markdown",
   "id": "25af2005",
   "metadata": {},
   "source": [
    "# Problem A\n",
    "\n",
    "For our first problem we will think about how to sort an array. This seems easy but is actually a fundamental and difficult coding problem with many solutions. We will try today to think of as many solutions as we can. Sure, many of these solutions are available to you (e.g. the built-in function `sorted`), but someone had to code that up, and there are some cases where it may not be the \"optimal\" solution .... Sorting arrays is also a *really* common coding interview question so it's good to try coding sorting algorithms and will get us back into the practice of coding problem solving\n",
    "\n",
    "**PLEASE NOTE: We are well aware that you can copy and paste a sorting algorithm from the internet. You will not learn anything from doing so (and it will not help you in the assessments that will follow). Although a professional coder will use the internet often, they do so from having a lot of experience and can quickly understand and discard \"bad\" options. Please turn off the ChatGPTs/Colab-AI and avoid the search bar for this problem ... It *will* help you more.**"
   ]
  },
  {
   "cell_type": "code",
   "execution_count": 2,
   "id": "179a8efc",
   "metadata": {},
   "outputs": [],
   "source": [
    "import numpy as np"
   ]
  },
  {
   "cell_type": "markdown",
   "id": "177113e6",
   "metadata": {},
   "source": [
    "## A simple 2-element array\n",
    "\n",
    "Let's start with a simple 2-element array, that is something like:"
   ]
  },
  {
   "cell_type": "code",
   "execution_count": 3,
   "id": "bb2734f2",
   "metadata": {},
   "outputs": [],
   "source": [
    "array1a = np.array([2,1])"
   ]
  },
  {
   "cell_type": "markdown",
   "id": "19983dcf",
   "metadata": {},
   "source": [
    "Here is the way one would sort this. Note the level of detail, a computer cannot think independently, so you need to be very explicit about every step:\n",
    "\n",
    "    1) Find the first element of the array\n",
    "    2) Find the second element of the array\n",
    "    3) Compare the elements\n",
    "    4) Reorder the array if necerssary\n",
    "    5) Print the new array\n",
    "    \n",
    "**EXERCISE**\n",
    "\n",
    "Implement these steps to sort this array"
   ]
  },
  {
   "cell_type": "code",
   "execution_count": 4,
   "id": "abf1acbd",
   "metadata": {},
   "outputs": [
    {
     "name": "stdout",
     "output_type": "stream",
     "text": [
      "[1 2]\n"
     ]
    }
   ],
   "source": [
    "# Answer here\n",
    "a = array1a[0]\n",
    "b = array1a[1]\n",
    "if a > b:\n",
    "    array1a[0] = b\n",
    "    array1a[1] = a\n",
    "print(array1a)"
   ]
  },
  {
   "cell_type": "markdown",
   "id": "a9f25c62",
   "metadata": {},
   "source": [
    "## A 3-element array\n",
    "\n",
    "Does you code work for this 3-element array? Copy and paste your code for the 2-element array below (without changes) and print out the array that you get after \"sorting\"."
   ]
  },
  {
   "cell_type": "code",
   "execution_count": 5,
   "id": "44ff618d",
   "metadata": {},
   "outputs": [],
   "source": [
    "array1a = np.array([3,2,1])"
   ]
  },
  {
   "cell_type": "code",
   "execution_count": 5,
   "id": "2ca6f022",
   "metadata": {},
   "outputs": [
    {
     "name": "stdout",
     "output_type": "stream",
     "text": [
      "[1 2]\n"
     ]
    }
   ],
   "source": [
    "# Answer here\n",
    "a = array1a[0]\n",
    "b = array1a[1]\n",
    "if a > b:\n",
    "    array1a[0] = b\n",
    "    array1a[1] = a\n",
    "print(array1a)"
   ]
  },
  {
   "cell_type": "markdown",
   "id": "217f61cf",
   "metadata": {},
   "source": [
    "Swapping just elements 1 and 2 obviously does not work here. The 3rd element is important as well! But you could continue to swap elements like this:\n",
    "\n",
    "* Initial array:\n",
    "\n",
    "[ 3 2 1 ]\n",
    "\n",
    "* Now we compare and swap elements:\n",
    "\n",
    "[ <span style='color:Blue'> 3 2 </span> 1 ]  Compare the first two elements\n",
    "\n",
    "  [ <span style='color:Red'> 2 3 </span> 1 ]  Swap them if necessary\n",
    "\n",
    "  [ 2 <span style='color:Blue'> 3 1 </span> ]  Compare the next two elements\n",
    "\n",
    "  [ 2 <span style='color:Red'> 1 3 </span> ]  Swap them if necessary\n",
    "\n",
    "[ <span style='color:Blue'> 2 1 </span> 3 ]  Return to the begininng and compare the first two elements\n",
    "\n",
    "  [ <span style='color:Red'> 1 2 </span> 3 ]  Swap them if necessary\n",
    "\n",
    "  [ 1 <span style='color:Blue'> 2 3 </span> ]  Compare the next two elements\n",
    "\n",
    "  [ 1 <span style='color:Green'> 2 3 </span> ]  Swap them if necessary\n",
    "\n",
    "* Final array:\n",
    "\n",
    "[ 1 2 3 ]"
   ]
  },
  {
   "cell_type": "markdown",
   "id": "2c7cce64",
   "metadata": {},
   "source": [
    "We will use this to code our first sorting algorithm.\n",
    "\n",
    "To develop a first draft algorithm you do **NOT** need to know much code.\n",
    "\n",
    "In fact it is often best to approach the problem by drawing, or writing bullet points - these are examples of **Pseudocode**. \n",
    "\n",
    "**Pseudocode** is the name for any code-like process. You define the rules so it is a more flexible starting point. E.g. you don't need to remember python syntax (when to use `:`, or when to indent) \n",
    "\n",
    "As an example, the instructions we gave above for the 2-element array, is an example of pseudocode. Another example: I might write out first routine for the array [ 2 1 ] as:\n",
    "\n",
    "    i = first element\n",
    "    j = second element\n",
    "    compare i to j\n",
    "    if i is greater than j\n",
    "        swap the elements\n",
    "\n",
    "I (Becky Canning) like to indent in my pseudocode as it is clearer to me - but you might not. It is entirely up to you. (Ian adds to this: I personally do not use pseudocode, but making it \"closer\" to the language you are writing in, e.g. using python's indentation as Becky does, makes it easier to translate than the instructions we started with).\n",
    "\n",
    "  "
   ]
  },
  {
   "cell_type": "markdown",
   "id": "43f38b82",
   "metadata": {},
   "source": [
    "**EXERCISE**\n",
    "\n",
    "\n",
    "Let's make this more interesting: Adapt your pseudocode so that it would work for *any* size array. Begin by considering the array:\n",
    "\n",
    "    [ 4 2 3 1 ]\n",
    "    \n",
    "Think about how the steps above might apply to this array. It might help to write it out in the same way as we did above. The code below *might* help you start to write this\n",
    "\n",
    "* Initial array:\n",
    "\n",
    "[ 4 2 3 1 ]\n",
    "\n",
    "* Now we compare and swap elements:\n",
    "\n",
    "[ <span style='color:Blue'> 4 2 </span> 3 1 ] \n",
    "\n",
    "...\n",
    "\n",
    "* Final array:\n",
    "\n",
    "[ 1 2 3 4 ]\n"
   ]
  },
  {
   "cell_type": "markdown",
   "id": "83f8236c",
   "metadata": {},
   "source": [
    "Write out the steps for doing this (maybe convert to a markdown cell for this)\n",
    "\n",
    "EXAMPLE SOLUTION:\n",
    "\n",
    "* Initial array:\n",
    "\n",
    "[ 4 2 3 1 ]\n",
    "\n",
    "* Compare first two elements and swap if necessary\n",
    "[ 4 2 3 1 ]\n",
    "[ 2 4 3 1 ]\n",
    "* Compare next two elements (4 3) and swap if necessary\n",
    "[ 2 4 3 1 ]\n",
    "[ 2 3 4 1 ]\n",
    "* Compare next two elements (4 1) and swap if necessary\n",
    "[ 2 3 4 1 ]\n",
    "[ 2 3 1 4 ]\n",
    "* Go back to beginning and compare first two elements ( 2 3 ) again and swap if necessary\n",
    "[ 2 3 1 4 ]\n",
    "[ 2 3 1 4 ]\n",
    "* Compare next two elements (3 1) and swap if necessary\n",
    "[ 2 3 1 4 ]\n",
    "[ 2 1 3 4 ]\n",
    "* Compare next two elements (3 4) and swap if necessary\n",
    "[ 2 1 3 4 ]\n",
    "[ 2 1 3 4 ]\n",
    "* Go back to beginning and compare first two elements (2 1) again and swap if necessary\n",
    "[ 2 1 3 4 ]\n",
    "[ 1 2 3 4 ]\n",
    "* Compare next two elements (2 3) and swap if necessary\n",
    "* Compare next two elements (3 4) and swap if necessary\n",
    "\n",
    "* Final array:\n",
    "\n",
    "[ 1 2 3 4 ]\n"
   ]
  },
  {
   "cell_type": "code",
   "execution_count": 7,
   "id": "3bdbd227",
   "metadata": {},
   "outputs": [
    {
     "ename": "SyntaxError",
     "evalue": "invalid syntax (494091378.py, line 3)",
     "output_type": "error",
     "traceback": [
      "\u001b[0;36m  Input \u001b[0;32mIn [7]\u001b[0;36m\u001b[0m\n\u001b[0;31m    Loop over elements in the array\u001b[0m\n\u001b[0m         ^\u001b[0m\n\u001b[0;31mSyntaxError\u001b[0m\u001b[0;31m:\u001b[0m invalid syntax\n"
     ]
    }
   ],
   "source": [
    "# Write pseudocode for sorting an array of *any* length below\n",
    "# Pseudocode space\n",
    "Loop over elements in the array\n",
    "  i = first element\n",
    "  j = second element\n",
    "  compare i to j\n",
    "    if i is greater than j\n",
    "      swap elements\n",
    "  i = second element\n",
    "  j = third element\n",
    "  compare i to j\n",
    "    if i is greater than j\n",
    "      swap elements\n",
    "  i = third element\n",
    "  j = fourth element\n",
    "  compare i to j\n",
    "    if i is greater than j\n",
    "      swap elements\n",
    "Check if the array is in the right order\n",
    "  if not loop through again and repeat same steps as above, then do the same sort check\n",
    "  else end the loop\n"
   ]
  },
  {
   "cell_type": "markdown",
   "id": "e6af5af7",
   "metadata": {},
   "source": [
    "For an array with 5 elements ([5,4,3,2,1]) how many times did you need to compare numbers to get the array to be sorted?"
   ]
  },
  {
   "cell_type": "code",
   "execution_count": 8,
   "id": "1c5817ec",
   "metadata": {},
   "outputs": [],
   "source": [
    "# 10"
   ]
  },
  {
   "cell_type": "markdown",
   "id": "3c93c43f",
   "metadata": {},
   "source": [
    "Now convert your pseudocode into python and write our your sorting algorithm.  Print the array at each step in your sorting algorithm."
   ]
  },
  {
   "cell_type": "code",
   "execution_count": 9,
   "id": "48cda72e",
   "metadata": {},
   "outputs": [
    {
     "name": "stdout",
     "output_type": "stream",
     "text": [
      "Initial array : [3 2 1]\n",
      "[2 3 1]\n",
      "[2 1 3]\n",
      "[1 2 3]\n",
      "[1 2 3]\n"
     ]
    }
   ],
   "source": [
    "array1a = np.array([3,2,1])\n",
    "print(\"Initial array :\", array1a)\n",
    "\n",
    "# Answer here\n",
    "for j in range(0,len(array1a)-1):\n",
    "    for i in range(0,len(array1a)-1):\n",
    "        a = array1a[i]\n",
    "        b = array1a[i+1]\n",
    "        if a > b:\n",
    "            array1a[i] = b\n",
    "            array1a[i+1] = a\n",
    "        print(array1a)\n"
   ]
  },
  {
   "cell_type": "markdown",
   "id": "8db74396",
   "metadata": {},
   "source": [
    "The example algorithm we gave (which you may, or may not, have followed) is called a bubble sort. However, this algorithm is non-optimal (perhaps you reach the correct answer long before you stop iterating the code). Can you think of ways to make this code more efficient? ... We will revisit optimization in detail later on."
   ]
  },
  {
   "cell_type": "code",
   "execution_count": 10,
   "id": "b2347b56",
   "metadata": {},
   "outputs": [
    {
     "name": "stdout",
     "output_type": "stream",
     "text": [
      "Initial array : [3 2 1]\n",
      "[2 3 1]\n",
      "[2 1 3]\n",
      "[1 2 3]\n",
      "[1 2 3]\n"
     ]
    }
   ],
   "source": [
    "array1a = np.array([3,2,1])\n",
    "print(\"Initial array :\", array1a)\n",
    "\n",
    "# Answer here\n",
    "order = np.array(sorted(array1a))\n",
    "\n",
    "for j in range(0,len(array1a)-1):\n",
    "    have_swapped_this_pass = False\n",
    "    for i in range(0,len(array1a)-1):\n",
    "        a = array1a[i]\n",
    "        b = array1a[i+1]\n",
    "        if a > b:\n",
    "            array1a[i] = b\n",
    "            array1a[i+1] = a\n",
    "            have_swapped_this_pass = True\n",
    "        print(array1a)\n",
    "    # If I didn't make any swaps this pass the array is in order so stop\n",
    "    if not have_swapped_this_pass:\n",
    "        break"
   ]
  },
  {
   "cell_type": "markdown",
   "id": "f2d6ee16",
   "metadata": {},
   "source": [
    "## Lessons learned\n",
    "\n",
    "* Writing a good algorithm is like solving a puzzle - it is about creatively thinking of solutions which will work for the task at hand. \n",
    "* Pseudocode is a valuble tool for thinking about how to approach an algorithm - feel free tobring pen and paper to draw/write pseudocode to help you with this course. \n",
    "* Figure out the approach you want to take and then think about how to explicitly code that approach in the python language.\n",
    "* This is where you are better (and more employable) than computer science graduates! Being able to combine your mathematical and analytical skills to creatively problem solve will result in better algorithms than someone who cannot think like this."
   ]
  }
 ],
 "metadata": {
  "kernelspec": {
   "display_name": "Python 3 (ipykernel)",
   "language": "python",
   "name": "python3"
  },
  "language_info": {
   "codemirror_mode": {
    "name": "ipython",
    "version": 3
   },
   "file_extension": ".py",
   "mimetype": "text/x-python",
   "name": "python",
   "nbconvert_exporter": "python",
   "pygments_lexer": "ipython3",
   "version": "3.9.7"
  }
 },
 "nbformat": 4,
 "nbformat_minor": 5
}
