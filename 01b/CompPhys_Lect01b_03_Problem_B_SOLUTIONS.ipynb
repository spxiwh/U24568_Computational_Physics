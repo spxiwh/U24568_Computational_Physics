{
 "cells": [
  {
   "cell_type": "markdown",
   "id": "29afdc81",
   "metadata": {},
   "source": [
    "# Problem B\n",
    "\n",
    "For our second problem you will calculate the 'median' (middle value) of an array. (Again, do not use built-in functions, or use Google, or ChatGPT/Colab-AI for this)"
   ]
  },
  {
   "cell_type": "code",
   "execution_count": 2,
   "id": "4c4e6139",
   "metadata": {},
   "outputs": [],
   "source": [
    "import numpy as np\n",
    "\n",
    "array1b=np.array([1,2,3])"
   ]
  },
  {
   "cell_type": "markdown",
   "id": "c6b6bee7",
   "metadata": {},
   "source": [
    "What is the median of this array?  No code - just write it down. (You can google \"median\" if you don't know, or can't remember, what it is)"
   ]
  },
  {
   "cell_type": "code",
   "execution_count": 3,
   "id": "bd86d6bc",
   "metadata": {},
   "outputs": [
    {
     "data": {
      "text/plain": [
       "'The answer is 2'"
      ]
     },
     "execution_count": 3,
     "metadata": {},
     "output_type": "execute_result"
    }
   ],
   "source": [
    "# Answer here\n",
    "'The answer is 2'"
   ]
  },
  {
   "cell_type": "markdown",
   "id": "9eb9e7f1",
   "metadata": {},
   "source": [
    "Even though you worked this out in your head you probably had a few lines of reasoning which you might not have realised you were consciously making. These steps might be summarised as (not in correct order):\n",
    "\n",
    "<div class=\"alert-success\">\n",
    "1. Check if your array is sorted.\n",
    "</div>\n",
    "\n",
    "<div class=\"alert-info\">\n",
    "2. Report the value of the array which corresponds to this middle index.\n",
    "</div>\n",
    "\n",
    "<div class=\"alert-danger\">\n",
    "3. Count the number of data points in your array.\n",
    "</div>\n",
    "\n",
    "<div class=\"alert-warning\">\n",
    "4. Find the index of the middle value.\n",
    "</div>\n",
    "\n",
    "How many different ways can you order the boxes above to still give you a recipe for finding the middle of our array above? (e.g. 1-2-3-4 - does this work?)"
   ]
  },
  {
   "cell_type": "code",
   "execution_count": 3,
   "id": "5e5130ae",
   "metadata": {},
   "outputs": [],
   "source": [
    "# Answer here:\n",
    "print('1-3-4-2 and 3-1-4-2 works, I do not think any other ordering works')\n"
   ]
  },
  {
   "cell_type": "markdown",
   "id": "a63bffd4",
   "metadata": {},
   "source": [
    "Choose a method and code it up.  You **may NOT** use np.size, `len(array)`, or np.sort. You may use your sorting algorithm from before but you must figure out the size of the array yourself. "
   ]
  },
  {
   "cell_type": "code",
   "execution_count": 4,
   "id": "385e8692",
   "metadata": {},
   "outputs": [
    {
     "name": "stdout",
     "output_type": "stream",
     "text": [
      "Median is 2\n"
     ]
    }
   ],
   "source": [
    "array1b=np.array([1,2,3])\n",
    "\n",
    "# Work out length of array\n",
    "len_arr = 0\n",
    "for i in array1b:\n",
    "    len_arr+=1\n",
    "\n",
    "# Check if array is sorted\n",
    "array1b = np.sort(array1b) # May as well use built-in sort here, it's faster than what we did before!\n",
    "\n",
    "# Find index of middle value\n",
    "middle = np.floor_divide(len_arr,2)\n",
    "\n",
    "# Find value of middle index\n",
    "middle_value = array1b[middle]\n",
    "print('Median is %s' % middle_value)"
   ]
  },
  {
   "cell_type": "markdown",
   "id": "694f07b4",
   "metadata": {},
   "source": [
    "Verify you method also works for..."
   ]
  },
  {
   "cell_type": "code",
   "execution_count": 9,
   "id": "926c9e4a",
   "metadata": {},
   "outputs": [
    {
     "name": "stdout",
     "output_type": "stream",
     "text": [
      "Median is 3\n"
     ]
    }
   ],
   "source": [
    "array1b=np.array([1,2,3,4])\n",
    "\n",
    "# Work out length of array\n",
    "len_arr = 0\n",
    "for i in array1b:\n",
    "    len_arr+=1\n",
    "\n",
    "# Check if array is sorted\n",
    "array1b = np.sort(array1b) # May as well use built-in sort here, it's faster than what we did before!\n",
    "\n",
    "# Find index of middle value\n",
    "middle = np.floor_divide(len_arr,2)\n",
    "\n",
    "# Find value of middle index\n",
    "middle_value = array1b[middle]\n",
    "print('Median is %s' % middle_value)\n",
    "\n",
    "# Not right :-("
   ]
  },
  {
   "cell_type": "markdown",
   "id": "4ef52858",
   "metadata": {},
   "source": [
    "If it does not then rewrite it to make it work for arrays with both odd and even valued lengths"
   ]
  },
  {
   "cell_type": "code",
   "execution_count": 10,
   "id": "7e015f8e",
   "metadata": {},
   "outputs": [
    {
     "name": "stdout",
     "output_type": "stream",
     "text": [
      "Median is 2.5\n"
     ]
    }
   ],
   "source": [
    "# Answer here\n",
    "# Work out length of array\n",
    "len_arr = 0\n",
    "for i in array1b:\n",
    "    len_arr+=1\n",
    "\n",
    "# Check if array is sorted\n",
    "array1b = np.sort(array1b) # May as well use built-in sort here, it's faster than what we did before!\n",
    "\n",
    "# Find index of middle value\n",
    "if len_arr % 2 == 0:\n",
    "    middle = int(len_arr / 2)\n",
    "    middle_value = (array1b[middle] + array1b[middle-1]) / 2\n",
    "else:\n",
    "    middle = np.floor_divide(len_arr,2)\n",
    "    middle_value = array1b[middle]\n",
    "\n",
    "print('Median is %s' % middle_value)"
   ]
  },
  {
   "cell_type": "markdown",
   "id": "872903f8",
   "metadata": {},
   "source": [
    "Could you code be more effficient - if you had chosen a different order to your algorthm could you have combined opperations such that fewer calculations were made?"
   ]
  },
  {
   "cell_type": "code",
   "execution_count": 16,
   "id": "d74bdfa1",
   "metadata": {},
   "outputs": [
    {
     "name": "stdout",
     "output_type": "stream",
     "text": [
      "2.5\n"
     ]
    }
   ],
   "source": [
    "# The solution above is dominated by the sort. In the case the array is unsorted, this will use a number of\n",
    "# operations equal to the length of the array x log(length of the array) (O(N log N)).\n",
    "# This can be done on an unsorted array using only a number of operations proportional to the length of the\n",
    "# array (O(N)). An example is explained here:\n",
    "# https://brilliant.org/wiki/median-finding-algorithm\n",
    "# and we use that example here\n",
    "\n",
    "# WARNING: This would be overcomplicated for most cases. Unless you had really long arrays that with many median\n",
    "#          computations, you probably wouldn't need this.\n",
    "\n",
    "array1b=np.array([1,2,3,4])\n",
    "\n",
    "def median_of_medians(A, i):\n",
    "\n",
    "    #divide A into sublists of len 5\n",
    "    sublists = [A[j:j+5] for j in range(0, len(A), 5)]\n",
    "    medians = [sorted(sublist)[len(sublist)//2] for sublist in sublists]\n",
    "    if len(medians) <= 5:\n",
    "        pivot = sorted(medians)[len(medians)//2]\n",
    "    else:\n",
    "        #the pivot is the median of the medians\n",
    "        pivot = median_of_medians(medians, len(medians)//2)\n",
    "\n",
    "    #partitioning step\n",
    "    low = [j for j in A if j < pivot]\n",
    "    high = [j for j in A if j > pivot]\n",
    "\n",
    "    k = len(low)\n",
    "    if i < k:\n",
    "        return median_of_medians(low,i)\n",
    "    elif i > k:\n",
    "        return median_of_medians(high,i-k-1)\n",
    "    else: #pivot = k\n",
    "        return pivot\n",
    "\n",
    "\n",
    "def get_median(array):\n",
    "    if len(array) % 2 == 0:\n",
    "        # even\n",
    "        median = (median_of_medians(array, len(array)//2) + median_of_medians(array, len(array)//2 - 1)) / 2.\n",
    "    else:\n",
    "        # odd\n",
    "        median = (median_of_medians(array, len(array)/2))\n",
    "    return median\n",
    "\n",
    "print(get_median(array1b))"
   ]
  },
  {
   "cell_type": "markdown",
   "id": "acb771bd",
   "metadata": {},
   "source": [
    "## Lessons learned\n",
    "* There is rarely 'one way' to get the correct answer but there may be better ways\n",
    "    * Use Pseudocode as a tool to think about how best to approach the problem before you start to code in python\n",
    "* Consider all the properties of your data - could they be even or odd valued, do they have missing values, what 'data types' have been used - make sure to define 'test cases' for yourself to test your code works in a general way"
   ]
  }
 ],
 "metadata": {
  "kernelspec": {
   "display_name": "Python 3 (ipykernel)",
   "language": "python",
   "name": "python3"
  },
  "language_info": {
   "codemirror_mode": {
    "name": "ipython",
    "version": 3
   },
   "file_extension": ".py",
   "mimetype": "text/x-python",
   "name": "python",
   "nbconvert_exporter": "python",
   "pygments_lexer": "ipython3",
   "version": "3.9.7"
  }
 },
 "nbformat": 4,
 "nbformat_minor": 5
}
