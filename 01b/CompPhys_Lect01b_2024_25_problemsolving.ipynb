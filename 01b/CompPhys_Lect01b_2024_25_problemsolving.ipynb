{
 "cells": [
  {
   "cell_type": "code",
   "execution_count": null,
   "metadata": {
    "id": "SVtB7IWBixMp"
   },
   "outputs": [],
   "source": [
    "%matplotlib inline\n",
    "import matplotlib.pyplot as plt\n",
    "from matplotlib import animation\n",
    "from IPython.display import display, Image\n",
    "import numpy as np"
   ]
  },
  {
   "cell_type": "markdown",
   "metadata": {
    "id": "rrEllXFBixMq"
   },
   "source": [
    "# Problem solving (in python)"
   ]
  },
  {
   "cell_type": "markdown",
   "metadata": {
    "id": "U15wHbFGixMr"
   },
   "source": [
    "In the first lab you revised the level 4 python 'introduction to computational physics' course.\n",
    "\n",
    "In this course we will go further both with your python code 'knowledge' but also with your understanding of how to approach physics (or any other) problem via computational methods. In code, as with most tools, there are many methods of reaching the 'correct' answer.  We want you to be able to not just code what you have been told to, but to be able to think creatively about how best to solve a problem.\n",
    "\n",
    "We therefore want to introduce you today to how to problem solve using code.\n",
    "\n",
    "We will look at a couple of simple problems for which will not use any special packages other than numpy arrays (we could do this entirely with list notation but numpy array makes maths more straightforward so we will use this for today)."
   ]
  },
  {
   "cell_type": "markdown",
   "metadata": {
    "id": "wXzNJD_gixMr"
   },
   "source": [
    "# Problem A\n",
    "\n",
    "For our first problem we will think about how to sort an array. This seems easy but is actually a fundamental and difficult coding problem with many solutions. We will try today to think of as many solutions as we can."
   ]
  },
  {
   "cell_type": "code",
   "execution_count": null,
   "metadata": {
    "id": "xVjLz16_ixMr"
   },
   "outputs": [],
   "source": [
    "array1a = np.array([2,1])"
   ]
  },
  {
   "cell_type": "markdown",
   "metadata": {
    "id": "zbbZhATIixMs"
   },
   "source": [
    "Sort this array in acsending order using these steps:\n",
    "\n",
    "    1) Find the first element of the array\n",
    "    2) Find the second element of the array\n",
    "    3) Compare the elements\n",
    "    4) Reorder the array if necessary\n",
    "    5) Print the new array"
   ]
  },
  {
   "cell_type": "code",
   "execution_count": null,
   "metadata": {
    "colab": {
     "base_uri": "https://localhost:8080/"
    },
    "id": "3FvE2SohixMs",
    "outputId": "cc4c96fc-b6b1-47b2-b125-6ae51906029a"
   },
   "outputs": [
    {
     "name": "stdout",
     "output_type": "stream",
     "text": [
      "[1 2]\n"
     ]
    }
   ],
   "source": [
    "# Answer here\n",
    "a = array1a[0]\n",
    "b = array1a[1]\n",
    "if a > b:\n",
    "  array1a[0] = b\n",
    "  array1a[1] = a\n",
    "print(array1a)"
   ]
  },
  {
   "cell_type": "markdown",
   "metadata": {
    "id": "XGqdZT66ixMs"
   },
   "source": [
    "Does your code work for this array? Copy and paste it below and print out the array."
   ]
  },
  {
   "cell_type": "code",
   "execution_count": null,
   "metadata": {
    "id": "2nmbWjvpixMs"
   },
   "outputs": [],
   "source": [
    "array1a = np.array([3,2,1])"
   ]
  },
  {
   "cell_type": "code",
   "execution_count": null,
   "metadata": {
    "colab": {
     "base_uri": "https://localhost:8080/"
    },
    "id": "AO9DDOo2ixMs",
    "outputId": "51538770-c9b9-404a-ebd3-2c6722145889"
   },
   "outputs": [
    {
     "name": "stdout",
     "output_type": "stream",
     "text": [
      "[2 3 1]\n"
     ]
    }
   ],
   "source": [
    "# Answer here\n",
    "a = array1a[0]\n",
    "b = array1a[1]\n",
    "if a > b:\n",
    "  array1a[0] = b\n",
    "  array1a[1] = a\n",
    "print(array1a)"
   ]
  },
  {
   "cell_type": "markdown",
   "metadata": {
    "id": "zM1T8uKvixMt"
   },
   "source": [
    "Swapping just elements 1 and 2 obviously does not work here. But you could continue to swap elements like this:"
   ]
  },
  {
   "cell_type": "markdown",
   "metadata": {
    "id": "B0C-eTRJixMt"
   },
   "source": [
    "* Initial array:\n",
    "\n",
    "[ 3 2 1 ]\n",
    "\n",
    "* Now we compare and swap elements:\n",
    "\n",
    "[ <span style='color:Blue'> 3 2 </span> 1 ]  Compare first two elments\n",
    "\n",
    "  [ <span style='color:Red'> 2 3 </span> 1 ]  Swap them if nec.\n",
    "\n",
    "  [ 2 <span style='color:Blue'> 3 1 </span> ]  Compare next two elments\n",
    "\n",
    "  [ 2 <span style='color:Red'> 1 3 </span> ]  Swap them if nec.\n",
    "\n",
    "[ <span style='color:Blue'> 2 1 </span> 3 ]  Return to begining and compare first two elments\n",
    "\n",
    "  [ <span style='color:Red'> 1 2 </span> 3 ]  Swap them if nec.\n",
    "\n",
    "  [ 1 <span style='color:Blue'> 2 3 </span> ]  Compare next two elments\n",
    "\n",
    "  [ 1 <span style='color:Green'> 2 3 </span> ]  Swap them if nec.\n",
    "\n",
    "* Final array:\n",
    "\n",
    "[ 1 2 3 ]"
   ]
  },
  {
   "cell_type": "markdown",
   "metadata": {
    "id": "X6OI-58pixMt"
   },
   "source": [
    "We will use this to code our first sorting algorithm.\n",
    "\n",
    "To develop a first draft algorithm you do <b>NOT</b> need to know much code.\n",
    "\n",
    "In fact it is often best to approach the problem by drawing, or writing bullet points - these are examples of <b>Pseudocode</b>.\n",
    "\n",
    "<b>Pseudocode</b> is the name for any code-like process. You define the rules so it is a more flexible starting point. E.g. you don't need to remember ':' in python or ';' in C. You can choose to indent if not etc.\n",
    "\n",
    "As an example I might write out the first routine for the array [ 2 1 ] as:\n",
    "\n",
    "    i = first element\n",
    "    j = second element\n",
    "    compare i to j\n",
    "    if i is greater than j\n",
    "        swap the elements\n",
    "\n",
    "I like to indent in my pseudocode as it is clearer to me - but you might not. It is entirely up to you.\n",
    "\n",
    "You will now write out the algorithm above for sorting an array in your own pseudocode.  The one catch is that your algorithm must work for any size array. Consider the array:\n",
    "\n",
    "    [ 4 2 3 1 ]\n",
    "    \n",
    "Think about how the steps above might apply to this array. It might help to write it out in the same way as I did above. The code below will help you start to write this - turn it to markdown to make the colours appear.  "
   ]
  },
  {
   "cell_type": "code",
   "execution_count": null,
   "metadata": {
    "id": "uZbjGrUrixMt",
    "outputId": "37ccf7e3-44b3-4bf4-c4e0-75ce711f6e90"
   },
   "outputs": [
    {
     "ename": "SyntaxError",
     "evalue": "invalid syntax (<ipython-input-6-5692138e2449>, line 3)",
     "output_type": "error",
     "traceback": [
      "\u001b[0;36m  File \u001b[0;32m\"<ipython-input-6-5692138e2449>\"\u001b[0;36m, line \u001b[0;32m3\u001b[0m\n\u001b[0;31m    * Initial array:\u001b[0m\n\u001b[0m                  ^\u001b[0m\n\u001b[0;31mSyntaxError\u001b[0m\u001b[0;31m:\u001b[0m invalid syntax\n"
     ]
    }
   ],
   "source": [
    "# Steps for a 4 element array\n",
    "\n",
    "* Initial array:\n",
    "\n",
    "[ 4 2 3 1 ]\n",
    "\n",
    "* Compare first two elements and swap if necessary\n",
    "[ 4 2 3 1 ]\n",
    "[ 2 4 3 1 ]\n",
    "* Compare next two elements (4 3) and swap if necessary\n",
    "[ 2 4 3 1 ]\n",
    "[ 2 3 4 1 ]\n",
    "* Compare next two elements (4 1) and swap if necessary\n",
    "[ 2 3 4 1 ]\n",
    "[ 2 3 1 4 ]\n",
    "* Go back to beginning and compare first two elements ( 2 3 ) again and swap if necessary\n",
    "[ 2 3 1 4 ]\n",
    "[ 2 3 1 4 ]\n",
    "* Compare next two elements (3 1) and swap if necessary\n",
    "[ 2 3 1 4 ]\n",
    "[ 2 1 3 4 ]\n",
    "* Compare next two elements (3 4) and swap if necessary\n",
    "[ 2 1 3 4 ]\n",
    "[ 2 1 3 4 ]\n",
    "* Go back to beginning and compare first two elements (2 1) again and swap if necessary\n",
    "[ 2 1 3 4 ]\n",
    "[ 1 2 3 4 ]\n",
    "* Compare next two elements (2 3) and swap if necessary\n",
    "* Compare next two elements (3 4) and swap if necessary\n",
    "\n",
    "* Final array:\n",
    "\n",
    "[ 1 2 3 4 ]\n"
   ]
  },
  {
   "cell_type": "markdown",
   "metadata": {
    "id": "uLNloMDhixMt"
   },
   "source": [
    "How many for loops does your code need?"
   ]
  },
  {
   "cell_type": "code",
   "execution_count": null,
   "metadata": {
    "id": "Yi9egNdhixMu"
   },
   "outputs": [],
   "source": [
    "# Answer here\n",
    "'My code needs two for loops but it needs to loop through the code 3 times to get to the final answer'"
   ]
  },
  {
   "cell_type": "markdown",
   "metadata": {
    "id": "ABSA7VKUixMu"
   },
   "source": [
    "Write out your pseudocode."
   ]
  },
  {
   "cell_type": "code",
   "execution_count": null,
   "metadata": {
    "colab": {
     "base_uri": "https://localhost:8080/",
     "height": 108
    },
    "id": "f8xhJeDJixMu",
    "outputId": "4f1f2eaf-7b50-43ea-ca8e-fbbe987a71bf"
   },
   "outputs": [
    {
     "ename": "SyntaxError",
     "evalue": "invalid syntax (<ipython-input-1-2a7d21e258ed>, line 3)",
     "output_type": "error",
     "traceback": [
      "\u001b[0;36m  File \u001b[0;32m\"<ipython-input-1-2a7d21e258ed>\"\u001b[0;36m, line \u001b[0;32m3\u001b[0m\n\u001b[0;31m    Loop over elements in the array\u001b[0m\n\u001b[0m         ^\u001b[0m\n\u001b[0;31mSyntaxError\u001b[0m\u001b[0;31m:\u001b[0m invalid syntax\n"
     ]
    }
   ],
   "source": [
    "from ast import AugAssign\n",
    "# Pseudocode space\n",
    "Loop over elements in the array\n",
    "  i = first element\n",
    "  j = second element\n",
    "  compare i to j\n",
    "    if i is greater than j\n",
    "      swap elements\n",
    "  i = second element\n",
    "  j = third element\n",
    "  compare i to j\n",
    "    if i is greater than j\n",
    "      swap elements\n",
    "  i = third element\n",
    "  j = fourth element\n",
    "  compare i to j\n",
    "    if i is greater than j\n",
    "      swap elements\n",
    "Check if the array is in the right order\n",
    "  if not loop through again and repeat same steps as above, then do the same sort check\n",
    "  else end the loop\n"
   ]
  },
  {
   "cell_type": "markdown",
   "metadata": {
    "id": "jSB8v_OcixMu"
   },
   "source": [
    "Now convert your pseudocode into python and write our your sorting algorithm.  Print the array at each step in your sorting algorithm."
   ]
  },
  {
   "cell_type": "code",
   "execution_count": null,
   "metadata": {
    "colab": {
     "base_uri": "https://localhost:8080/"
    },
    "id": "IUkVbfSfixMu",
    "outputId": "bf80fc7f-f196-4558-e650-c46f00118a16"
   },
   "outputs": [
    {
     "name": "stdout",
     "output_type": "stream",
     "text": [
      "Initial array : [3 2 1]\n",
      "[2 3 1]\n",
      "[2 1 3]\n",
      "[1 2 3]\n",
      "[1 2 3]\n"
     ]
    }
   ],
   "source": [
    "array1a = np.array([3,2,1])\n",
    "print(\"Initial array :\", array1a)\n",
    "\n",
    "# Answer here\n",
    "for j in range(0,len(array1a)-1):\n",
    "  for i in range(0,len(array1a)-1):\n",
    "    a = array1a[i]\n",
    "    b = array1a[i+1]\n",
    "    if a > b:\n",
    "      array1a[i] = b\n",
    "      array1a[i+1] = a\n",
    "    print(array1a)\n"
   ]
  },
  {
   "cell_type": "markdown",
   "metadata": {
    "id": "nwhdFZdaixMu"
   },
   "source": [
    "This type of sort is called a bubble sort. However, our sort is non-optimised (you can see that we reach the correct answer long below we stop iterating the code. Can you think of ways to make this code more efficient?"
   ]
  },
  {
   "cell_type": "code",
   "execution_count": null,
   "metadata": {
    "colab": {
     "base_uri": "https://localhost:8080/"
    },
    "id": "p-XJOIWAixMu",
    "outputId": "dc8f5b93-9e58-4604-c3ab-1bc9ac35e13b"
   },
   "outputs": [
    {
     "name": "stdout",
     "output_type": "stream",
     "text": [
      "Initial array : [3 2 1]\n",
      "[2 3 1]\n",
      "[2 1 3]\n",
      "[1 2 3]\n"
     ]
    }
   ],
   "source": [
    "array1a = np.array([3,2,1])\n",
    "print(\"Initial array :\", array1a)\n",
    "\n",
    "# Answer here\n",
    "order = np.array(sorted(array1a))\n",
    "\n",
    "for j in range(0,len(array1a)-1):\n",
    "  for i in range(0,len(array1a)-1):\n",
    "    # Add break statement in to stop code when array is in order\n",
    "    if (array1a == order).all():\n",
    "      break\n",
    "    a = array1a[i]\n",
    "    b = array1a[i+1]\n",
    "    if a > b:\n",
    "      array1a[i] = b\n",
    "      array1a[i+1] = a\n",
    "    print(array1a)"
   ]
  },
  {
   "cell_type": "markdown",
   "metadata": {
    "id": "KBAjiyJMixMu"
   },
   "source": [
    "## Lessons learned\n",
    "* Writing a good algorithm is like solving a puzzle - it is about creatively thinking of solutions which will work for the task at hand.\n",
    "* Pseudocode is a valuble tool for thinking about how to approach an algorithm - feel free tobring pen and paper to draw/write pseudocode to help you with this course.\n",
    "* Figure out the approach you want to take and then think about how to explicitly code that approach in the python language."
   ]
  },
  {
   "cell_type": "markdown",
   "metadata": {
    "id": "_sk3I9KjixMu"
   },
   "source": [
    "# Problem B\n",
    "\n",
    "For our second problem you will calculate the 'median' (middle value) of an array."
   ]
  },
  {
   "cell_type": "code",
   "execution_count": null,
   "metadata": {
    "id": "ZszU70urixMu"
   },
   "outputs": [],
   "source": [
    "array1b=np.array([1,2,3])"
   ]
  },
  {
   "cell_type": "markdown",
   "metadata": {
    "id": "NExK2fe3ixMu"
   },
   "source": [
    "B) What is the median of this array?  No code - just write it down."
   ]
  },
  {
   "cell_type": "code",
   "execution_count": null,
   "metadata": {
    "id": "4BrRpmSuixMu"
   },
   "outputs": [],
   "source": [
    "# Answer here\n",
    "'The answer is 2'"
   ]
  },
  {
   "cell_type": "markdown",
   "metadata": {
    "id": "qkmOpjEVixMu"
   },
   "source": [
    "Even though you worked this out in your head you probably had a few lines of reasoning which you might not have realised you were consiously making. These steps might be sumarised as (not in correct order):"
   ]
  },
  {
   "cell_type": "markdown",
   "metadata": {
    "id": "-4l8HAGxixMu"
   },
   "source": [
    "<div class=\"alert-success\">\n",
    "1. Check if your array is sorted.\n",
    "</div>"
   ]
  },
  {
   "cell_type": "markdown",
   "metadata": {
    "id": "IfXPXGuMixMu"
   },
   "source": [
    "<div class=\"alert-info\">\n",
    "2. Report the value of the array which coresponds to this middle index.\n",
    "</div>"
   ]
  },
  {
   "cell_type": "markdown",
   "metadata": {
    "id": "1qir5ZwaixMu"
   },
   "source": [
    "<div class=\"alert-danger\">\n",
    "3. Count the number of data points in your array.\n",
    "</div>"
   ]
  },
  {
   "cell_type": "markdown",
   "metadata": {
    "id": "fICmY66WixMv"
   },
   "source": [
    "<div class=\"alert-warning\">\n",
    "4. Find the index of the middle value.\n",
    "</div>"
   ]
  },
  {
   "cell_type": "markdown",
   "metadata": {
    "id": "ifX2bOZbixMv"
   },
   "source": [
    "How many different ways can you order the boxes above to still give you a recipe for finding the middle of our array above? (e.g. 1-2-3-4 - does this work?)"
   ]
  },
  {
   "cell_type": "code",
   "execution_count": null,
   "metadata": {
    "id": "NHC4ryXKixMv"
   },
   "outputs": [],
   "source": [
    "# Answer here:\n",
    "print('1-3-4-2 and 3-1-4-2 works, I do not think any other ordering works')"
   ]
  },
  {
   "cell_type": "markdown",
   "metadata": {
    "id": "sFeG7bXdixMv"
   },
   "source": [
    "Choose a method and code it up.  You may NOT use np.size, len(array), or np.sort. You may use your sorting algorithm from above but you must figure out the size of the array yourself."
   ]
  },
  {
   "cell_type": "code",
   "execution_count": null,
   "metadata": {
    "colab": {
     "base_uri": "https://localhost:8080/"
    },
    "id": "MpElgb9dixMv",
    "outputId": "b482dfda-8220-4686-f398-e1a9af654f9a"
   },
   "outputs": [
    {
     "name": "stdout",
     "output_type": "stream",
     "text": [
      "Median is 2\n"
     ]
    }
   ],
   "source": [
    "array1b=np.array([1,2,3])\n",
    "\n",
    "# Work out length of array\n",
    "len_arr = 0\n",
    "for i in array1b:\n",
    "    len_arr+=1\n",
    "\n",
    "# Check if array is sorted\n",
    "order = np.array(sorted(array1b))\n",
    "\n",
    "for j in range(0,len_arr-1):\n",
    "  for i in range(0,len_arr-1):\n",
    "    # Add break statement in to stop code when array is in order\n",
    "    if (array1b == order).all():\n",
    "      break\n",
    "    a = array1b[i]\n",
    "    b = array1b[i+1]\n",
    "    if a > b:\n",
    "      array1b[i] = b\n",
    "      array1b[i+1] = a\n",
    "\n",
    "# Find index of middle value\n",
    "middle = np.floor_divide(len_arr,2)\n",
    "\n",
    "# Find value of middle index\n",
    "middle_value = array1b[middle]\n",
    "print('Median is %s' % middle_value)"
   ]
  },
  {
   "cell_type": "markdown",
   "metadata": {
    "id": "2ys3NLCxixMv"
   },
   "source": [
    "Verify you method also works for..."
   ]
  },
  {
   "cell_type": "code",
   "execution_count": null,
   "metadata": {
    "id": "cmQaQX3AixMv"
   },
   "outputs": [],
   "source": [
    "array1b=np.array([1,2,3,4])"
   ]
  },
  {
   "cell_type": "code",
   "execution_count": null,
   "metadata": {
    "colab": {
     "base_uri": "https://localhost:8080/"
    },
    "id": "bcUlQ5rRixMz",
    "outputId": "5c426c56-3aad-4673-da5f-b7f186acc2ad"
   },
   "outputs": [
    {
     "name": "stdout",
     "output_type": "stream",
     "text": [
      "Median is 3\n"
     ]
    }
   ],
   "source": [
    "# Answer here\n",
    "# Work out length of array\n",
    "len_arr = 0\n",
    "for i in array1b:\n",
    "    len_arr+=1\n",
    "\n",
    "# Check if array is sorted\n",
    "order = np.array(sorted(array1b))\n",
    "\n",
    "for j in range(0,len_arr-1):\n",
    "  for i in range(0,len_arr-1):\n",
    "    # Add break statement in to stop code when array is in order\n",
    "    if (array1b == order).all():\n",
    "      break\n",
    "    a = array1b[i]\n",
    "    b = array1b[i+1]\n",
    "    if a > b:\n",
    "      array1b[i] = b\n",
    "      array1b[i+1] = a\n",
    "\n",
    "# Find index of middle value\n",
    "middle = np.floor_divide(len_arr,2)\n",
    "\n",
    "# Find value of middle index\n",
    "middle_value = array1b[middle]\n",
    "print('Median is %s' % middle_value)"
   ]
  },
  {
   "cell_type": "markdown",
   "metadata": {
    "id": "YHtcz1YkixMz"
   },
   "source": [
    "If it does not then rewrite it to make it work for both odd and even valued arrays"
   ]
  },
  {
   "cell_type": "code",
   "execution_count": null,
   "metadata": {
    "colab": {
     "base_uri": "https://localhost:8080/"
    },
    "id": "u7Jefi2NixMz",
    "outputId": "a57a1f76-b531-4ca4-98da-875054b05e78"
   },
   "outputs": [
    {
     "name": "stdout",
     "output_type": "stream",
     "text": [
      "Median is 3.5\n"
     ]
    }
   ],
   "source": [
    "# Answer here\n",
    "# Work out length of array\n",
    "len_arr = 0\n",
    "for i in array1b:\n",
    "    len_arr+=1\n",
    "\n",
    "# Check if array is sorted\n",
    "order = np.array(sorted(array1b))\n",
    "\n",
    "for j in range(0,len_arr-1):\n",
    "  for i in range(0,len_arr-1):\n",
    "    # Add break statement in to stop code when array is in order\n",
    "    if (array1b == order).all():\n",
    "      break\n",
    "    a = array1b[i]\n",
    "    b = array1b[i+1]\n",
    "    if a > b:\n",
    "      array1b[i] = b\n",
    "      array1b[i+1] = a\n",
    "\n",
    "# Find index of middle value\n",
    "if len_arr % 2 == 0:\n",
    "  middle = int(len_arr / 2)\n",
    "  middle_value = (array1b[middle] + array1b[middle-1]) / 2\n",
    "else:\n",
    "  middle = np.floor_divide(len_arr,2)\n",
    "  middle_value = array1b[middle]\n",
    "\n",
    "print('Median is %s' % middle_value)"
   ]
  },
  {
   "cell_type": "markdown",
   "metadata": {
    "id": "p5_Bc0yvixMz"
   },
   "source": [
    "Could your code be more effficient - if you had chosen a different order to your algorthm could you have combined opperations such that fewer calculations were made?"
   ]
  },
  {
   "cell_type": "code",
   "execution_count": null,
   "metadata": {
    "colab": {
     "base_uri": "https://localhost:8080/"
    },
    "id": "rUdKYKxIixMz",
    "outputId": "3250287d-4033-4529-ad4f-7a5d367233bd"
   },
   "outputs": [
    {
     "name": "stdout",
     "output_type": "stream",
     "text": [
      "Median is 2.5\n"
     ]
    }
   ],
   "source": [
    "array1b=np.array([1,2,3,4])\n",
    "\n",
    "# Answer here\n",
    "# Work out length of array\n",
    "len_arr = 0\n",
    "for i in array1b:\n",
    "    len_arr+=1\n",
    "\n",
    "# Check if array is sorted\n",
    "array1b = np.array(sorted(array1b))\n",
    "\n",
    "# Find index of middle value\n",
    "if len_arr % 2 == 0:\n",
    "  middle = int(len_arr / 2)\n",
    "  middle_value = (array1b[middle] + array1b[middle-1]) / 2\n",
    "else:\n",
    "  middle = np.floor_divide(len_arr,2)\n",
    "  middle_value = array1b[middle]\n",
    "\n",
    "print('Median is %s' % middle_value)"
   ]
  },
  {
   "cell_type": "markdown",
   "metadata": {
    "id": "FL8vTHeRixMz"
   },
   "source": [
    "## Lessons learned\n",
    "* There is rarely 'one way' to get the correct answer but there may be better ways\n",
    "    * Use Pseudocode as a tool to think about how best to approach the problem before you start to code in python\n",
    "* Consider all the properties of your data - could they be even or odd valued, do they have missing values, what 'data types' have been used - make sure to define 'test cases' for yourself to test your code works in a general way"
   ]
  },
  {
   "cell_type": "markdown",
   "metadata": {
    "id": "ir_nLXruixMz"
   },
   "source": [
    "# Problem C\n",
    "\n",
    "For the third problem we will compare two words to identify if they are anagrams.\n",
    "\n",
    "Consider the three sets of words:\n",
    "\n",
    "    EARTH - HEART\n",
    "    CAT - DOG\n",
    "    DORMITORY - DIRTY ROOM\n",
    "    \n",
    "Here we will write some programs which compare these words and identify if they are anagrams by way of a boolen (True, False)."
   ]
  },
  {
   "cell_type": "markdown",
   "metadata": {
    "id": "XvkRnSe-ixMz"
   },
   "source": [
    "There are 4 ways you could do this that we will explore:\n",
    "    1. Test that each character in word 1 actually occurs in word 2.\n",
    "    2. Sort the letters in the word alphebetically and compare.\n",
    "    3. Create a complete list of all the possible strings from word 1 and then compare this list with word 2. (NOTE - only test this with short words!)\n",
    "    4. Count the number of times each character occurs in each word and then compare the result."
   ]
  },
  {
   "cell_type": "markdown",
   "metadata": {
    "id": "EQXS86vpixMz"
   },
   "source": [
    "Write an algorithm for methods 1, 2 and 4 above. Method 3 is more advanced and has been written for you - you do not need to code it but should instead think about <b>how</b> you might code it.  How do the number of calculations performed by each method differ (give approximate answers - you don't need to count every single calculation)?"
   ]
  },
  {
   "cell_type": "code",
   "execution_count": null,
   "metadata": {
    "colab": {
     "base_uri": "https://localhost:8080/"
    },
    "id": "arQVJAffixMz",
    "outputId": "4f5209d1-70d4-4278-9aba-ffe0a3b2c157"
   },
   "outputs": [
    {
     "name": "stdout",
     "output_type": "stream",
     "text": [
      "True\n"
     ]
    }
   ],
   "source": [
    "# Answer here - method 1\n",
    "def solution1(s1,s2):\n",
    "\n",
    "  # remove any spaces and lower the case of s1 and s2\n",
    "  s1 = s1.replace(' ','').lower()\n",
    "  s2 = s2.replace(' ','').lower()\n",
    "\n",
    "  count = 0\n",
    "  # loop over letters in s1 and check if it is in s2. If True then add 1 to the count\n",
    "  for i in range(0,len(s1)):\n",
    "    if s1[i] in s2:\n",
    "      count+=1\n",
    "  # Check s1 and s2 are the same length\n",
    "  if count == len(s2):\n",
    "    matches = True\n",
    "  else:\n",
    "    matches = False\n",
    "\n",
    "  return matches\n",
    "\n",
    "print(solution1('earth', 'heart'))\n"
   ]
  },
  {
   "cell_type": "code",
   "execution_count": null,
   "metadata": {
    "colab": {
     "base_uri": "https://localhost:8080/"
    },
    "id": "PIB3oGhRixMz",
    "outputId": "464efaf0-10ef-4569-a7bf-34f161b58ef1"
   },
   "outputs": [
    {
     "name": "stdout",
     "output_type": "stream",
     "text": [
      "True\n"
     ]
    }
   ],
   "source": [
    "# Answer here - method 2\n",
    "def solution2(s1, s2):\n",
    "\n",
    "  # remove any spaces and lower the case of s1 and s2\n",
    "  s1 = s1.replace(' ','').lower()\n",
    "  s2 = s2.replace(' ','').lower()\n",
    "\n",
    "  # Sort s1 and s2\n",
    "  sorted_s1 = sorted(s1)\n",
    "  sorted_s2 = sorted(s2)\n",
    "\n",
    "  # test if the two words are the same\n",
    "  if sorted_s1 == sorted_s2:\n",
    "    matches = True\n",
    "  else:\n",
    "    matches = False\n",
    "\n",
    "  return matches\n",
    "\n",
    "print(solution2('DORMITORY', 'dirty room'))"
   ]
  },
  {
   "cell_type": "code",
   "execution_count": null,
   "metadata": {
    "id": "f-dvkbuYixM0",
    "outputId": "02d600c7-6bcd-4f1b-bfdc-dd1af3d5f801"
   },
   "outputs": [
    {
     "name": "stdout",
     "output_type": "stream",
     "text": [
      "no. of solutions : 6\n",
      "('d', 'o', 'g')\n",
      "('d', 'g', 'o')\n",
      "('o', 'd', 'g')\n",
      "('o', 'g', 'd')\n",
      "('g', 'd', 'o')\n",
      "('g', 'o', 'd')\n",
      "False\n"
     ]
    }
   ],
   "source": [
    "# Solution for (method 3) using itertools - recursion, generators etc is a way to\n",
    "# solve this problem but we will look at those techniques in a few weeks time\n",
    "def anagramSolution3(s1,s2):\n",
    "    import itertools\n",
    "\n",
    "    alist1 = list(s1)\n",
    "    alist2 = list(s2)\n",
    "\n",
    "    #convert letetrs to numbers and write factorial\n",
    "    no_of_ways=np.math.factorial(len(alist1))\n",
    "    print('no. of solutions :', no_of_ways)\n",
    "    permutations = list(itertools.permutations(alist1))\n",
    "\n",
    "    matches = False\n",
    "    for i in permutations:\n",
    "        print(i)\n",
    "        if list(i) == alist2:\n",
    "            matches = True\n",
    "            return matches\n",
    "\n",
    "    return matches\n",
    "\n",
    "print(anagramSolution3('dog','cat'))\n",
    "\n",
    "# O(n!)"
   ]
  },
  {
   "cell_type": "code",
   "execution_count": null,
   "metadata": {
    "colab": {
     "base_uri": "https://localhost:8080/"
    },
    "id": "F32UyhxZixM0",
    "outputId": "32335ce6-a0b3-440d-8dce-e511511d7e5e"
   },
   "outputs": [
    {
     "name": "stdout",
     "output_type": "stream",
     "text": [
      "True\n"
     ]
    }
   ],
   "source": [
    "from sys import flags\n",
    "# Answer here - method 4  Count the number of times each character occurs in each word and then compare the result.\n",
    "def solution4(s1, s2):\n",
    "\n",
    "  # remove any spaces and lower the case of s1 and s2\n",
    "  s1 = s1.replace(' ','').lower()\n",
    "  s2 = s2.replace(' ','').lower()\n",
    "\n",
    "  # create numpy array of zeros to store number of times a letter appears\n",
    "  a = np.zeros(len(s1))\n",
    "  b = np.zeros(len(s2))\n",
    "\n",
    "  # if the two words are not of the same length they cannot be anagrams\n",
    "  if len(a) != len(b):\n",
    "    matches = False\n",
    "    return matches\n",
    "\n",
    "  # loop over each word in s1 and count the number of times it appears in s1 and s2\n",
    "  for i in range(0,len(s1)):\n",
    "    a[i] = s1.count(s1[i])\n",
    "    b[i] = s2.count(s1[i])\n",
    "\n",
    "  # Check that a and b are the same to return true\n",
    "  if a.all() == b.all():\n",
    "    matches = True\n",
    "  else:\n",
    "    matches = False\n",
    "\n",
    "  return(matches)\n",
    "\n",
    "print(solution4('dirty room', 'dormitory'))"
   ]
  },
  {
   "cell_type": "markdown",
   "metadata": {
    "id": "Tb46sxHfixM0"
   },
   "source": [
    "We tend to consider the number of calculations or steps in your code as a mark of its efficiency. We use the 'order of magnitude' notation big 'O' to report this.\n",
    "\n",
    "In these cases above you worked out roughly how many calculations were done. In big O notation we would conclude this:\n",
    "\n",
    "1. Two nested for loops are required e.g. for i in word 1 then loop through word 2 - so this is a O(n${^2}$) algorithm\n",
    "\n",
    "2. The comparison is quick but the sort is again a two nested for loop operation (if using a bubble sort) so this dominates the process and it is again an O(n$^{2}$) algorithm\n",
    "\n",
    "3. Search for each possible string combination rewuires n*(n-1)*(n-2)*(n-3)*...*1 operations which = n!. n! is even larger than n${^2}$ for big n  (O(n!)). This is not efficient for us though this approach might be the most familiar to humans as we try to make words from anagrams.\n",
    "\n",
    "4. There are 26 letters in the alphabet so this algorithm only required that we go through one for loop and simply add a number when a letter turns up so this opertation is actually linear O(n). This is probably the last thing you would have thought of but it is the most efficient process."
   ]
  },
  {
   "cell_type": "markdown",
   "metadata": {
    "id": "_w4J-zzrixM0"
   },
   "source": [
    "## Lessons learned\n",
    "* Take time to consider different methods of solving a problem - no need ot rush to code\n",
    "* Consider what might be best for your algorithm - e.g. is it a one-off such that brute force works, does it ned to be generalised so it can work in many situations, does it need to be quick?"
   ]
  },
  {
   "cell_type": "markdown",
   "metadata": {
    "id": "o3BztZVzixM0"
   },
   "source": [
    "# Problem D - optional extra\n",
    "\n",
    "For our final problem you will find the largest product in a grid which can be made by any four adjacent numbers.\n",
    "\n",
    "The numbers could be adjacent vertically, horizontally or diagnoally."
   ]
  },
  {
   "cell_type": "code",
   "execution_count": null,
   "metadata": {
    "colab": {
     "base_uri": "https://localhost:8080/"
    },
    "id": "QbUuL6FjixM0",
    "outputId": "16ecb3dd-3c86-4f08-992b-31369a75353e"
   },
   "outputs": [
    {
     "name": "stdout",
     "output_type": "stream",
     "text": [
      "[[77.  2. 63. 75. 50. 22. 20. 76. 17.  9.]\n",
      " [69. 95.  0. 51. 81. 61. 72. 29. 92. 71.]\n",
      " [54. 14. 37. 67. 44. 43. 62. 51. 65. 60.]\n",
      " [81. 52. 91. 32.  9. 30. 11. 83.  5. 63.]\n",
      " [55. 82. 20. 86. 35. 75. 30. 88. 33. 17.]\n",
      " [39.  9. 82. 15. 38. 94. 99. 46. 83. 25.]\n",
      " [60. 90. 53. 59.  4. 36.  8. 31. 33. 77.]\n",
      " [ 4. 43. 31. 64. 35.  4. 88. 76. 88. 42.]\n",
      " [61. 51. 60. 26. 30.  3. 30. 24. 56. 57.]\n",
      " [48. 29.  6. 98. 34. 50. 98. 44. 32. 52.]]\n"
     ]
    }
   ],
   "source": [
    "# Here I am generating a 10 by 10 grid. You will search this grid for the answer.\n",
    "\n",
    "grid=np.zeros((10,10))\n",
    "\n",
    "np.random.seed(10)\n",
    "for i in range(0,10):\n",
    "    for j in range(0,10):\n",
    "        grid[i,j]=round(np.random.uniform(0,100))\n",
    "\n",
    "print(grid)"
   ]
  },
  {
   "cell_type": "code",
   "execution_count": null,
   "metadata": {
    "colab": {
     "base_uri": "https://localhost:8080/"
    },
    "id": "JnGZWMrWixM0",
    "outputId": "27548718-1fbb-4dce-94f8-a47382853418"
   },
   "outputs": [
    {
     "name": "stdout",
     "output_type": "stream",
     "text": [
      "The largest product in a grid which can be made by any four adjacent numbers is 40496274\n"
     ]
    }
   ],
   "source": [
    "# Answer here\n",
    "\n",
    "# Number of points to use\n",
    "adj = 4\n",
    "\n",
    "# Horizontal\n",
    "hor = np.zeros((len(grid), len(grid)-adj+1))\n",
    "# Loop over the rows and in each row loop over the number\n",
    "# of elements in the row. Find the product of asdjacent\n",
    "# Horizontal numbers\n",
    "for i in range(0,len(grid)):\n",
    "  for j in range(0,len(grid[0])-adj+1):\n",
    "    b = grid[i][j:j+adj]\n",
    "    hor[i,j] = np.prod(b)\n",
    "\n",
    "# Vertical\n",
    "# Use the transpose to transform the grid so can reuse code\n",
    "grid_t = grid.T\n",
    "vert = np.zeros((len(grid_t), len(grid_t)-adj+1))\n",
    "# Loop over the rows and in each row loop over the number\n",
    "# of elements in the row. Find the product of asdjacent\n",
    "# Horizontal numbers\n",
    "for i in range(0,len(grid_t)):\n",
    "  for j in range(0,len(grid_t[0])-adj+1):\n",
    "    b = grid_t[i][j:j+adj]\n",
    "    vert[i,j] = np.prod(b)\n",
    "\n",
    "# Diagonal\n",
    "# Sort out the indexes to loop over. Start in top left corner and work to\n",
    "# bottom right corner\n",
    "start_ele = -grid.shape[0]+1\n",
    "end_ele = grid.shape[1]\n",
    "\n",
    "# Sort out storing largest products for each diagnonal\n",
    "num_points = abs(start_ele) + abs(end_ele)\n",
    "diags1 = np.zeros(num_points)\n",
    "\n",
    "# Start at top left, if the diagonal has more than 4 points then work out\n",
    "# the product. Find the product for all instances in that diagonal and\n",
    "# record. Find the max product in that array and store. Only find the\n",
    "# mad product if the diagonal has 4 points\n",
    "for i in range(start_ele,end_ele):\n",
    "  a = np.array(grid[::-1,:].diagonal(i))\n",
    "  if len(a) > adj:\n",
    "    test = np.zeros(len(a)-adj+1)\n",
    "    for j in range(0,len(a)-adj+1):\n",
    "      test[j] = np.prod(a[j:j+adj])\n",
    "    diags1[i+abs(start_ele)] = np.max(test)\n",
    "  elif len(a) == adj:\n",
    "    diags1[i+abs(start_ele)] = np.prod(a)\n",
    "\n",
    "# Do the same but start at the top right corner\n",
    "start_ele = grid.shape[1]-1\n",
    "end_ele = -grid.shape[0]\n",
    "\n",
    "num_points = abs(start_ele) + abs(end_ele)\n",
    "diags2 = np.zeros(num_points)\n",
    "\n",
    "diags2 = np.zeros(19)\n",
    "for i in range(start_ele,end_ele,-1):\n",
    "  a = np.array(grid.diagonal(i))\n",
    "  if len(a) > adj:\n",
    "    test = np.zeros(len(a)-adj+1)\n",
    "    for j in range(0,len(a)-adj+1):\n",
    "      test[j] = np.prod(a[j:j+adj])\n",
    "    diags2[i+abs(start_ele)] = np.max(test)\n",
    "  elif len(a) == adj:\n",
    "    diags2[i+abs(start_ele)] = np.prod(a)\n",
    "\n",
    "# Find the maximum from all 4 arrays\n",
    "max_prod = np.asarray([hor.max(), vert.max(), diags1.max(), diags2.max()])\n",
    "print('The largest product in a grid which can be made by any four adjacent numbers is %s' % int(max(max_prod)))\n"
   ]
  },
  {
   "cell_type": "code",
   "execution_count": null,
   "metadata": {
    "id": "5FSVot3qixM0"
   },
   "outputs": [],
   "source": [
    "# Hint 1\n",
    "\n",
    "# One method would be to treat each sequence separately and then loop over elements.\n",
    "# Consider what to do at the boundaries"
   ]
  },
  {
   "cell_type": "code",
   "execution_count": null,
   "metadata": {
    "id": "IbF-LP_zixM0"
   },
   "outputs": [],
   "source": [
    "# Hint 2 - pseudocode\n",
    "\n",
    "# max results array is same size as grid\n",
    "# max method array is same size as grid\n",
    "# number your methods for string in the method array\n",
    "# 1. horizontal right, 2. horizontal left\n",
    "# 3. vertical top, 4. vertical bottom\n",
    "# 5. 45 degrees, 6. 135 degrees, 7. 225 degrees, 8. 315 degrees\n",
    "# pad array with 3 extra rows and columns of zeros in each direction\n",
    "# for each x element in array from 4 to :-4\n",
    "#   for each y element in array from 4 to :-4\n",
    "#       calculate the product for each method\n",
    "#       store the maximum product and it's corresponding method in the results and mthod grid\n",
    "# find max of results grid and report index\n",
    "# find this index in method grid\n",
    "# woop!"
   ]
  }
 ],
 "metadata": {
  "colab": {
   "provenance": []
  },
  "kernelspec": {
   "display_name": "Python 3 (ipykernel)",
   "language": "python",
   "name": "python3"
  },
  "language_info": {
   "codemirror_mode": {
    "name": "ipython",
    "version": 3
   },
   "file_extension": ".py",
   "mimetype": "text/x-python",
   "name": "python",
   "nbconvert_exporter": "python",
   "pygments_lexer": "ipython3",
   "version": "3.9.7"
  }
 },
 "nbformat": 4,
 "nbformat_minor": 1
}
