{
 "cells": [
  {
   "cell_type": "markdown",
   "metadata": {
    "id": "VXfzy3J9pOIs"
   },
   "source": [
    "# Computational Physics U24568\n",
    "## Lecture 3b - Class Conundrums"
   ]
  },
  {
   "cell_type": "markdown",
   "metadata": {
    "id": "95dDFQbOpOIu"
   },
   "source": [
    "### Introduction\n",
    "\n",
    "Today's lecture will give you an introduction to classes in python, and explain why python is known as an \"object oriented\" language. The basic idea is that when writing a long piece of code you normally want to split things up using functions to avoid repeating code and to keep the main block of code short and concise, while also making it clear what is going on.\n",
    "\n",
    "The class provides an alternative to using functions. A class defines an object, which might hold a number of attributes (think values) or methods (think functions, which act on the class) describing that object. You can then use these attributes and methods to set up the object in the way you want and then use this to solve problems.\n",
    "\n",
    "As an abstract example of this, if I were simulating a Galaxy I might want to use a class as a nice way to turn features on and off. This might be accessed with code looking something like:\n",
    "\n",
    "```python\n",
    "my_galaxy = GalaxySimulator(num_stars=1E9)\n",
    "my_galaxy.add_supermassive_blackhole(mass=1E6)\n",
    "my_galaxy.add_satellite_galaxies(50)\n",
    "my_galaxy.add_star_forming_region(location_from_center_kpc=(10,10,1), radius_kpc=1)\n",
    "my_galaxy.evolve_galaxy(time_gigayears=10)\n",
    "```\n",
    "\n",
    "Now if you copy this code into the window it isn't going to work, as we haven't written the code to do this, but I hope the methods being used here give some idea of what these commands are doing (even if the details are not clear).\n",
    "\n",
    "In this lecture we'll walk through the details of defining your own class, giving the usual set of exercises to practice on.\n"
   ]
  },
  {
   "cell_type": "markdown",
   "metadata": {
    "id": "n1xTLxDdpOIu"
   },
   "source": [
    "### Initializing a class\n",
    "\n",
    "The very first thing we need to know is how to create a basic class. A simple class that does nothing at all can be defined as"
   ]
  },
  {
   "cell_type": "code",
   "execution_count": null,
   "metadata": {
    "id": "yEalvjqHpOIu"
   },
   "outputs": [],
   "source": [
    "class MyPointlessClass:\n",
    "    pass"
   ]
  },
  {
   "cell_type": "markdown",
   "metadata": {
    "id": "uPkWg8bHpOIv"
   },
   "source": [
    "We can then generate an \"instance\" of this class by running:"
   ]
  },
  {
   "cell_type": "code",
   "execution_count": null,
   "metadata": {
    "id": "Z51x_3YapOIv"
   },
   "outputs": [],
   "source": [
    "mypointlessclass_instance = MyPointlessClass()"
   ]
  },
  {
   "cell_type": "markdown",
   "metadata": {
    "id": "Cun4dMn9pOIv"
   },
   "source": [
    "We can examine this instance to see what it is:"
   ]
  },
  {
   "cell_type": "code",
   "execution_count": null,
   "metadata": {
    "id": "tD43UvQqpOIv"
   },
   "outputs": [],
   "source": [
    "print(type(mypointlessclass_instance))"
   ]
  },
  {
   "cell_type": "markdown",
   "metadata": {
    "id": "8BoXf9HdpOIv"
   },
   "source": [
    "It's an example of the MyPointlessClass object, as expected.\n",
    "\n",
    "We can set values into this object, and do arithmetic using them. Note the \".\" operator is used here to access\n",
    "attributes (or methods, which we'll come to in a bit!) of an object (or instance of a class)."
   ]
  },
  {
   "cell_type": "code",
   "execution_count": null,
   "metadata": {
    "id": "5CfG7-mipOIv"
   },
   "outputs": [],
   "source": [
    "mypointlessclass_instance.value1 = 10.\n",
    "mypointlessclass_instance.value2 = 20.\n",
    "mypointlessclass_instance.value3 = mypointlessclass_instance.value1 + mypointlessclass_instance.value2"
   ]
  },
  {
   "cell_type": "markdown",
   "metadata": {
    "id": "MnHcnK3TpOIw"
   },
   "source": [
    "In this example we're basically using the object as a \"namespace\". We're storing values into the class instance, if the class instance is storing lots of different values then the class instance could be sent on to functions to avoid sending lots of values as arguments to the function. This can be convenient, but a dictionary (for example) could be used for exactly the same thing.\n",
    "\n",
    "The power and utility of python's classes come from having as much code as possible exist within the class. So let's introduce some more concepts to illustrate this. First the `__init__` method is used to create a class, which already has certain values. So if we want to demand that a class is initialized with `value1` and `value2` attributes we could do:"
   ]
  },
  {
   "cell_type": "code",
   "execution_count": null,
   "metadata": {
    "id": "rrurMwwupOIw"
   },
   "outputs": [],
   "source": [
    "class MyPointlessClass2:\n",
    "    def __init__(self, value1, value2):\n",
    "        self.value1 = value1\n",
    "        self.value2 = value2"
   ]
  },
  {
   "cell_type": "markdown",
   "metadata": {
    "id": "bVn4bSx5pOIw"
   },
   "source": [
    "The `__init__` method is crucial for using classes effectively! Note that the first argument to `__init__` is `self`. This is a convention. `self` refers to the class instance itself and is *not* provided when calling this function. Effectively `self` here is equivalent to `mypointlessclass_instance` in the case above. So to illustrate calling this:"
   ]
  },
  {
   "cell_type": "code",
   "execution_count": null,
   "metadata": {
    "id": "jC95mVVMpOIw"
   },
   "outputs": [],
   "source": [
    "mypointlessclass2_instance = MyPointlessClass2(10, 20)\n",
    "print(mypointlessclass2_instance.value1)\n",
    "print(mypointlessclass2_instance.value2)\n",
    "\n",
    "# We can still do:\n",
    "mypointlessclass2_instance.value3 = mypointlessclass2_instance.value1 + mypointlessclass2_instance.value2\n",
    "print(mypointlessclass2_instance.value3)\n",
    "\n",
    "# And we can still change these values:\n",
    "mypointlessclass2_instance.value2 = 35.\n",
    "print(mypointlessclass2_instance.value2)\n",
    "# Of course value 3 is not linked to value2, so won't change automatically:\n",
    "print(mypointlessclass2_instance.value3)\n",
    "# But of course you can set it again:\n",
    "mypointlessclass2_instance.value3 = mypointlessclass2_instance.value1 + mypointlessclass2_instance.value2"
   ]
  },
  {
   "cell_type": "markdown",
   "metadata": {
    "id": "aTVHnRbopOIw"
   },
   "source": [
    "Again though, we can consign all of this to the class itself, and define a method for setting this value3"
   ]
  },
  {
   "cell_type": "code",
   "execution_count": null,
   "metadata": {
    "id": "Fmx3B4DJpOIw"
   },
   "outputs": [],
   "source": [
    "class MyPointlessClass3:\n",
    "    def __init__(self, value1, value2):\n",
    "        self.value1 = value1\n",
    "        self.value2 = value2\n",
    "    \n",
    "    def set_value3(self):\n",
    "        self.value3 = self.value1 + self.value2"
   ]
  },
  {
   "cell_type": "code",
   "execution_count": null,
   "metadata": {
    "id": "yy5B5J60pOIw"
   },
   "outputs": [],
   "source": [
    "mypointlessclass3_instance = MyPointlessClass3(10, 20)\n",
    "mypointlessclass3_instance.set_value3()"
   ]
  },
  {
   "cell_type": "markdown",
   "metadata": {
    "id": "cbipq39dpOIw"
   },
   "source": [
    "Finally, if you always want value3 set, you can have this done automatically. You can also add functions for setting value1 and value2. In the case below these functions *also* call set_value3 whenever you set value1 or value2, so everything is kept in sync automatically!\n",
    "\n",
    "(I note that python provides \"class setters/getters\" which can make the example below a little shorter. See here for reference (https://www.python-course.eu/python3_properties.php), but I won't cover this here as we need to be more familiar with classes before thinking about some of the advanced features!)"
   ]
  },
  {
   "cell_type": "code",
   "execution_count": null,
   "metadata": {
    "id": "FF_lju4ypOIx"
   },
   "outputs": [],
   "source": [
    "class MyPointlessClass4:\n",
    "    def __init__(self, value1, value2):\n",
    "        self.value1 = value1\n",
    "        self.value2 = value2\n",
    "        self.set_value3()\n",
    "        \n",
    "    def set_value1(self, value):\n",
    "        self.value1 = value\n",
    "        self.set_value3()\n",
    "\n",
    "    def set_value2(self, value):\n",
    "        self.value2 = value\n",
    "        self.set_value3()\n",
    "    \n",
    "    def set_value3(self):\n",
    "        self.value3 = self.value1 + self.value2"
   ]
  },
  {
   "cell_type": "code",
   "execution_count": null,
   "metadata": {
    "id": "ZjFSTVvopOIx"
   },
   "outputs": [],
   "source": [
    "mypointlessclass4_instance = MyPointlessClass4(10, 20)\n",
    "# Now value 3 is set automatically:\n",
    "print(mypointlessclass4_instance.value3)\n",
    "\n",
    "# And if I do:\n",
    "mypointlessclass4_instance.set_value1(15)\n",
    "mypointlessclass4_instance.set_value2(5)\n",
    "# value3 is updated automatically\n",
    "print(mypointlessclass4_instance.value1,mypointlessclass4_instance.value2,mypointlessclass4_instance.value3)\n",
    "\n",
    "# BUT if I do:\n",
    "mypointlessclass4_instance.value1 = 100\n",
    "# value3 is *not* updated (the getter/setter thing is the way to avoid this!)\n",
    "print(mypointlessclass4_instance.value3)\n"
   ]
  },
  {
   "cell_type": "markdown",
   "metadata": {
    "id": "n2DBNYfbpOIx"
   },
   "source": [
    "**EXERCISE** Write a class that is initialized with 3 values (`value1`, `value2` and `value3`). It should also include a function that computes\n",
    "\n",
    "`value4` = (`value1` * `value2`) % `value3`\n",
    "\n",
    "* STEP 1: Write an `__init__` function that takes 3 inputs, and stores them in the class instance (just like the example above, but with 3, instead of 2, inputs).\n",
    "* STEP 2: Write a set_value4 function (called a \"method\") to set value4. This must be within the class definition, similar to the example above.\n",
    "* STEP 3: Optionally, write set_value1, set_value2 and set_value3 functions, which would update valueX *and then* also update value4 by calling set_value4. "
   ]
  },
  {
   "cell_type": "code",
   "execution_count": null,
   "metadata": {
    "id": "mPkHyd-DpOIx"
   },
   "outputs": [],
   "source": [
    "class ExerciseClassOne:\n",
    "    def __init__(self, value1, value2, value3):\n",
    "        self.value1 = value1\n",
    "        self.value2 = value2\n",
    "        self.value3 = value3\n",
    "        self.compute_value_four()\n",
    "    \n",
    "    def compute_value_four(self):\n",
    "        self.value4 = (self.value1 * self.value2) % self.value3\n"
   ]
  },
  {
   "cell_type": "code",
   "execution_count": null,
   "metadata": {
    "colab": {
     "base_uri": "https://localhost:8080/"
    },
    "executionInfo": {
     "elapsed": 9,
     "status": "ok",
     "timestamp": 1647442623403,
     "user": {
      "displayName": "Ian Harry",
      "photoUrl": "https://lh3.googleusercontent.com/a/default-user=s64",
      "userId": "12539231435418418952"
     },
     "user_tz": 0
    },
    "id": "4_ssthqxpOIx",
    "outputId": "69e8de1d-4694-40ae-9a45-232ddcd1526f"
   },
   "outputs": [
    {
     "name": "stdout",
     "output_type": "stream",
     "text": [
      "2 This should be: 2\n",
      "2.6000000000000187 This should be: 2.6000000000000187\n"
     ]
    }
   ],
   "source": [
    "# Code to check your class is working\n",
    "\n",
    "exercise_instance_a = ExerciseClassOne(5, 10, 6)\n",
    "exercise_instance_a.compute_value_four()\n",
    "print(exercise_instance_a.value4, \"This should be:\", (5*10) % 6)\n",
    "\n",
    "exercise_instance_b = ExerciseClassOne(10, 72, 3.4)\n",
    "exercise_instance_b.compute_value_four()\n",
    "print(exercise_instance_b.value4, \"This should be:\", (10*72) % 3.4)\n",
    "\n"
   ]
  },
  {
   "cell_type": "markdown",
   "metadata": {
    "id": "8DxoY43tpOIy"
   },
   "source": [
    "### Optional arguments\n",
    "\n",
    "Sometimes it is useful to have these arguments take default values. If we take our example above, we can set this up so that these two values take default values:"
   ]
  },
  {
   "cell_type": "code",
   "execution_count": null,
   "metadata": {
    "id": "NqsZpNx3pOIy"
   },
   "outputs": [],
   "source": [
    "class MyPointlessClass5:\n",
    "    def __init__(self, value1=10, value2=20):\n",
    "        self.value1 = value1\n",
    "        self.value2 = value2\n",
    "        self.set_value3()\n",
    "        \n",
    "    def set_value1(self, value):\n",
    "        self.value1 = value\n",
    "        self.set_value3()\n",
    "\n",
    "    def set_value2(self, value):\n",
    "        self.value2 = value\n",
    "        self.set_value3()\n",
    "    \n",
    "    def set_value3(self):\n",
    "        self.value3 = self.value1 + self.value2"
   ]
  },
  {
   "cell_type": "code",
   "execution_count": null,
   "metadata": {
    "id": "WR8-SahMpOIy"
   },
   "outputs": [],
   "source": [
    "# Now if I initialize the class without any values:\n",
    "mypc_instance5 = MyPointlessClass5()\n",
    "# It has the default values\n",
    "print(mypc_instance5.value1, mypc_instance5.value2, mypc_instance5.value3)\n",
    "print()\n",
    "\n",
    "# Or I can set one of the values directly:\n",
    "mypc_instance5 = MyPointlessClass5(value2=15)\n",
    "print(mypc_instance5.value1, mypc_instance5.value2, mypc_instance5.value3)\n",
    "print()\n",
    "\n",
    "# Or I can set the other\n",
    "mypc_instance5 = MyPointlessClass5(value1=-2)\n",
    "print(mypc_instance5.value1, mypc_instance5.value2, mypc_instance5.value3)\n",
    "print()\n",
    "\n",
    "# Or I can set both\n",
    "mypc_instance5 = MyPointlessClass5(value1=-2, value2=15)\n",
    "print(mypc_instance5.value1, mypc_instance5.value2, mypc_instance5.value3)\n",
    "print()\n"
   ]
  },
  {
   "cell_type": "markdown",
   "metadata": {
    "id": "Yc2B_hQkpOIy"
   },
   "source": [
    "Okay: let's try a few examples:"
   ]
  },
  {
   "cell_type": "markdown",
   "metadata": {
    "id": "r0kVznrRpOIy"
   },
   "source": [
    "**EXERCISE** I want to know how many people have passed my course in the last 5 years. I know that $N$ people passed my course in years 1 - 4, and I have a list $mark\\_list$ of marks for the students in year 5. A mark of 40 or larger is pass. Implement a class below so that the code fragment below will tell me how many students have passed my course in the last 5 years.\n",
    "\n",
    "The class should have the following:\n",
    "\n",
    "* It should be called `MarkTracker`\n",
    "* It should have an `__init__` function/method, which takes one input (in addition to `self`). This input is a number N, denoting the number of people who passed the course in the first 4 years. This number should be stored to an attribute of the class called `num_passes`.\n",
    "* It should have a `add_passes_from_grades` function/method. This takes one input (in addition to `self`). That input is a list of the marks for the students in year 5. The function should identify how many of these students have passed (40 or larger is a pass), and then add that number to the current value of `num_passes`"
   ]
  },
  {
   "cell_type": "code",
   "execution_count": null,
   "metadata": {
    "colab": {
     "base_uri": "https://localhost:8080/"
    },
    "executionInfo": {
     "elapsed": 267,
     "status": "ok",
     "timestamp": 1647442659349,
     "user": {
      "displayName": "Ian Harry",
      "photoUrl": "https://lh3.googleusercontent.com/a/default-user=s64",
      "userId": "12539231435418418952"
     },
     "user_tz": 0
    },
    "id": "tdpKO8mdpOIy",
    "outputId": "44113b74-b829-4c6b-cfdd-7a34d05cd3c7"
   },
   "outputs": [
    {
     "name": "stdout",
     "output_type": "stream",
     "text": [
      "57 Should say 57\n",
      "10 Should say 10\n",
      "106 Should say 106\n"
     ]
    }
   ],
   "source": [
    "class MarkTracker:\n",
    "    \n",
    "    def __init__(self, num):\n",
    "        self.num_passes = num\n",
    "    \n",
    "    def add_passes_from_grades(self, mark_list):\n",
    "        self.num_passes += len([m for m in mark_list if m >= 40])\n",
    "\n",
    "\n",
    "# DO NOT CHANGE CODE BELOW! It checks if your solution is correct!\n",
    "\n",
    "N = 52\n",
    "mark_list = [12, 24, 36, 48, 60, 72, 84, 96]\n",
    "mark_tracker = MarkTracker(N)\n",
    "mark_tracker.add_passes_from_grades(mark_list)\n",
    "print(mark_tracker.num_passes, \"Should say 57\")\n",
    "\n",
    "N = 4\n",
    "mark_list = [35,36,37,38,39,40,41,42,43,44,45]\n",
    "mark_tracker = MarkTracker(N)\n",
    "mark_tracker.add_passes_from_grades(mark_list)\n",
    "print(mark_tracker.num_passes, \"Should say 10\")\n",
    "\n",
    "N = 101\n",
    "mark_list = [1, 12, 40, 91, 36, 40, 23, 27, 42, 68]\n",
    "mark_tracker = MarkTracker(N)\n",
    "mark_tracker.add_passes_from_grades(mark_list)\n",
    "print(mark_tracker.num_passes, \"Should say 106\")\n"
   ]
  },
  {
   "cell_type": "markdown",
   "metadata": {
    "id": "ccO6wtcnpOIz"
   },
   "source": [
    "**EXERCISE** I want to write a class that will compute the area of a rectangle and print it in a nice way. I have implemented part of the solution already. Please fill in the missing method of the class! Note that in this exercise I am defining a `__str__` method. This method is called when I run the builtin `str` function on the class instance. I can overwrite *any* operation in python in this way. I can use `__mul__` to define what to do if I multiply this object with something else, or `__geq__` to define what to do if using the `>=` operator or .... (there's a lot of these \"magic methods\" https://rszalski.github.io/magicmethods/)\n",
    "\n",
    "* To solve this you will need to add a compute_area method of this class, which uses the height and width attributes, already defined within the class instance to compute an area. Therefore `compute_area` takes no inputs (other than self) and returns an area, using height and width already defined in the `__init__` method."
   ]
  },
  {
   "cell_type": "code",
   "execution_count": null,
   "metadata": {
    "colab": {
     "base_uri": "https://localhost:8080/"
    },
    "executionInfo": {
     "elapsed": 342,
     "status": "ok",
     "timestamp": 1647442672942,
     "user": {
      "displayName": "Ian Harry",
      "photoUrl": "https://lh3.googleusercontent.com/a/default-user=s64",
      "userId": "12539231435418418952"
     },
     "user_tz": 0
    },
    "id": "aHxgqBMmpOIz",
    "outputId": "c7a5ae00-2514-4c61-c7c6-2e2559525a9d"
   },
   "outputs": [
    {
     "name": "stdout",
     "output_type": "stream",
     "text": [
      "AREA = 30 x 21 = 630 Should be 630\n",
      "AREA = 0 x 12 = 0 Should be 0\n",
      "AREA = 12.3 x 13.4 = 164.82000000000002 Should be 164.82000000000002\n"
     ]
    }
   ],
   "source": [
    "class Rectangle:\n",
    "    def __init__(self, height, width):\n",
    "        self.height = height\n",
    "        self.width = width\n",
    "\n",
    "    def __str__(self):\n",
    "        return 'AREA = {} x {} = {}'.format(self.height, self.width, self.compute_area())\n",
    "\n",
    "    # FILL IN THE compute_area METHOD HERE\n",
    "    def compute_area(self):\n",
    "        return self.height * self.width\n",
    "\n",
    "\n",
    "# Test if your class works\n",
    "height=30\n",
    "width = 21\n",
    "rectangle_instance = Rectangle(height, width)\n",
    "print(str(rectangle_instance), \"Should be\", 30*21)\n",
    "\n",
    "height= 0\n",
    "width = 12\n",
    "rectangle_instance = Rectangle(height, width)\n",
    "print(str(rectangle_instance), \"Should be\", 0)\n",
    "\n",
    "height= 12.3\n",
    "width = 13.4\n",
    "rectangle_instance = Rectangle(height, width)\n",
    "print(str(rectangle_instance), \"Should be\", 12.3 * 13.4)\n"
   ]
  },
  {
   "cell_type": "markdown",
   "metadata": {
    "id": "nQkiWIDppOIz"
   },
   "source": [
    "**EXERCISE** Now take the above example and add an additional method such that when I run `str` on the class instance it prints both the area *and* the perimeter.\n",
    "\n",
    "* HINT: To do this I would write a `compute_perimeter` method, similar to `compute_area`. Then the `__str__` method needs to be edited to return a string that prints both the area and perimeter!"
   ]
  },
  {
   "cell_type": "code",
   "execution_count": null,
   "metadata": {
    "colab": {
     "base_uri": "https://localhost:8080/"
    },
    "executionInfo": {
     "elapsed": 249,
     "status": "ok",
     "timestamp": 1647442689714,
     "user": {
      "displayName": "Ian Harry",
      "photoUrl": "https://lh3.googleusercontent.com/a/default-user=s64",
      "userId": "12539231435418418952"
     },
     "user_tz": 0
    },
    "id": "TRZUsuHopOIz",
    "outputId": "1a468fdd-d9fb-4de4-a6eb-29a8032aec40"
   },
   "outputs": [
    {
     "name": "stdout",
     "output_type": "stream",
     "text": [
      "AREA = 30 x 21 = 630;  PERIMETER = 2 * (30 + 21) = 102 Should be 630 and 102\n",
      "AREA = 0 x 12 = 0;  PERIMETER = 2 * (0 + 12) = 24 Should be 0 and ... what should the perimeter be in this case??\n",
      "AREA = 12.3 x 13.4 = 164.82000000000002;  PERIMETER = 2 * (12.3 + 13.4) = 51.400000000000006 Should be 164.82000000000002 and 51.400000000000006\n"
     ]
    }
   ],
   "source": [
    "# FILL IN CLASS HERE\n",
    "class Rectangle:\n",
    "    def __init__(self, height, width):\n",
    "        self.height = height\n",
    "        self.width = width\n",
    "\n",
    "    def __str__(self):\n",
    "        return 'AREA = {} x {} = {};  '.format(self.height, self.width, self.compute_area(),) + \\\n",
    "               'PERIMETER = 2 * ({} + {}) = {}'.format(self.height, self.width, self.compute_perimeter(),)\n",
    "\n",
    "    def compute_area(self):\n",
    "        return self.height * self.width\n",
    "    \n",
    "    def compute_perimeter(self):\n",
    "        return 2 * self.height + 2*self.width\n",
    "\n",
    "\n",
    "# Test if your class works\n",
    "height=30\n",
    "width = 21\n",
    "rectangle_instance = Rectangle(height, width)\n",
    "print(str(rectangle_instance), \"Should be\", 30*21, \"and\", 2*(30+21))\n",
    "\n",
    "height= 0\n",
    "width = 12\n",
    "rectangle_instance = Rectangle(height, width)\n",
    "print(str(rectangle_instance), \"Should be\", 0, \"and ... what should the perimeter be in this case??\")\n",
    "\n",
    "height= 12.3\n",
    "width = 13.4\n",
    "rectangle_instance = Rectangle(height, width)\n",
    "print(str(rectangle_instance), \"Should be\", 12.3 * 13.4, \"and\", 2*(12.3 + 13.4))\n"
   ]
  },
  {
   "cell_type": "markdown",
   "metadata": {
    "id": "BlY_lKCFpOIz"
   },
   "source": [
    "**EXERCISE**: In a similar vein write a Triangle class. This should be able to print the perimeter, and area, of a triangle. It should be initialized by taking the 3 lengths of the sides of the triangle.\n",
    "\n",
    "* HINT: Here you have some more freedome to define how to do this, but your Triangle class must be called `Triangle`, must have an `__init__` method taking the 3 lengths as input, and define a `__str__` method similar to the case above."
   ]
  },
  {
   "cell_type": "code",
   "execution_count": null,
   "metadata": {
    "colab": {
     "base_uri": "https://localhost:8080/"
    },
    "executionInfo": {
     "elapsed": 326,
     "status": "ok",
     "timestamp": 1647442704060,
     "user": {
      "displayName": "Ian Harry",
      "photoUrl": "https://lh3.googleusercontent.com/a/default-user=s64",
      "userId": "12539231435418418952"
     },
     "user_tz": 0
    },
    "id": "6WB1yKezpOIz",
    "outputId": "d2a08dbf-f593-4044-9fed-8d7cef2c177d"
   },
   "outputs": [
    {
     "name": "stdout",
     "output_type": "stream",
     "text": [
      "AREA = 43.30127018922193;  PERIMETER = 30\n",
      "Should be 43.30127018922193 and 30\n",
      "\n",
      "AREA = 49.607837082461074;  PERIMETER = 35\n",
      "Should be 49.607837082461074 and 35\n",
      "\n",
      "AREA = 54.49713295211043;  PERIMETER = 61\n",
      "Should be 54.49713295211043 and 61\n",
      "\n"
     ]
    }
   ],
   "source": [
    "# Add implementation of a Triangle class here\n",
    "class Triangle:\n",
    "    def __init__(self, side1, side2, side3):\n",
    "        self.side1 = side1\n",
    "        self.side2 = side2\n",
    "        self.side3 = side3\n",
    "\n",
    "    def __str__(self):\n",
    "        return 'AREA = {};  '.format(self.compute_area(),) + \\\n",
    "               'PERIMETER = {}'.format(self.compute_perimeter(),)\n",
    "\n",
    "    def compute_area(self):\n",
    "        s = self.compute_perimeter() / 2.\n",
    "        return (s * (s-self.side1) * (s-self.side2) * (s-self.side3))**0.5\n",
    "    \n",
    "    def compute_perimeter(self):\n",
    "        return self.side1 + self.side2 + self.side3\n",
    "\n",
    "\n",
    "# Test if your class works\n",
    "side1_length = 10\n",
    "side2_length = 10\n",
    "side3_length = 10\n",
    "triangle_instance = Triangle(side1_length, side2_length, side3_length)\n",
    "print(str(triangle_instance))\n",
    "print(\"Should be\", 1875**0.5, \"and\", 30)\n",
    "print()\n",
    "\n",
    "side1_length = 10\n",
    "side2_length = 10\n",
    "side3_length = 15\n",
    "triangle_instance = Triangle(side1_length, side2_length, side3_length)\n",
    "print(str(triangle_instance))\n",
    "print(\"Should be\", 49.607837082461074, \"and\", 35)\n",
    "print()\n",
    "\n",
    "side1_length = 30\n",
    "side2_length = 10\n",
    "side3_length = 21\n",
    "triangle_instance = Triangle(side1_length, side2_length, side3_length)\n",
    "print(str(triangle_instance))\n",
    "print(\"Should be\", 54.49713295211043, \"and\", 61)\n",
    "print()\n"
   ]
  },
  {
   "cell_type": "markdown",
   "metadata": {
    "id": "SDB3DS-bpOIz"
   },
   "source": [
    "### Recap\n",
    "\n",
    "So that's the basics of python classes. Just to recap the nomenclature here:\n",
    "\n",
    " * Class: Defines a new type of object (like a `float` or an `int` is a type of object)\n",
    " * Object or Instance: When I do `mypointlessclass_instance = MyPointlessClass()` then `mypointlessclass_instance` is an *instance* of the `MyPointlessClass` *class*\n",
    " * Methods: Are functions defined within the scope of the class, like `compute_area` within our Rectangle class above.\n",
    " * Attributes: Are values defined with the class. So things like `mypointlessclass_instance.value1` in our original example.\n",
    " \n",
    "Let's have a look at a couple of other things now, class attributes and inheritance.\n",
    "\n",
    "First let's consider a class describing a mammal"
   ]
  },
  {
   "cell_type": "code",
   "execution_count": null,
   "metadata": {
    "id": "lThaWQ-JpOI0"
   },
   "outputs": [],
   "source": [
    "class Mammal:\n",
    "    num_limbs = 4\n",
    "    has_backbone = True\n",
    "    warmblooded = True\n",
    "    \n",
    "    def __init__(self, current_size, current_age):\n",
    "        self.current_size = current_size\n",
    "        self.current_age = current_age"
   ]
  },
  {
   "cell_type": "markdown",
   "metadata": {
    "id": "qsnl0ITGpOI0"
   },
   "source": [
    "In this example we have defined 3 \"class attributes\" (`num_limbs`, `has_backbone` and `warmblooded`), these attributes will be accessible from any instance of this class."
   ]
  },
  {
   "cell_type": "code",
   "execution_count": null,
   "metadata": {
    "id": "aqg11yHBpOI0"
   },
   "outputs": [],
   "source": [
    "my_mammal = Mammal(100, 32)\n",
    "print(my_mammal.num_limbs, my_mammal.has_backbone, my_mammal.warmblooded)"
   ]
  },
  {
   "cell_type": "markdown",
   "metadata": {
    "id": "Gy2pKTbJpOI0"
   },
   "source": [
    "If you change these values they will change for *all* instances of the class (don't do this!)"
   ]
  },
  {
   "cell_type": "code",
   "execution_count": null,
   "metadata": {
    "id": "LmRkGRvMpOI0"
   },
   "outputs": [],
   "source": [
    "my_mammal = Mammal(100, 32)\n",
    "my_mammal2 = Mammal(50, 12)\n",
    "my_mammal3 = Mammal(25, 64)\n",
    "Mammal.num_limbs = 3\n",
    "\n",
    "print(my_mammal.num_limbs, my_mammal2.num_limbs, my_mammal3.num_limbs)\n",
    "\n",
    "my_mammal = Mammal(100, 32)\n",
    "my_mammal2 = Mammal(50, 12)\n",
    "my_mammal3 = Mammal(25, 64)\n",
    "# This line sets the attribute again to be a local attribute, so this one won't change\n",
    "my_mammal3.num_limbs = 5\n",
    "Mammal.num_limbs = 3\n",
    "\n",
    "print(my_mammal.num_limbs, my_mammal2.num_limbs, my_mammal3.num_limbs)\n",
    "\n",
    "# Set it back\n",
    "Mammal.num_limbs = 4"
   ]
  },
  {
   "cell_type": "markdown",
   "metadata": {
    "id": "m8RdlL5cpOI0"
   },
   "source": [
    "Now let's demonstrate inheritence. If we wanted a canine class, say, we might not want to define again properties of mammals, which are common across all mammals. So we can \"inherit\" information from the parent class"
   ]
  },
  {
   "cell_type": "code",
   "execution_count": null,
   "metadata": {
    "id": "_bWerHz4pOI0"
   },
   "outputs": [],
   "source": [
    "class Canine(Mammal):\n",
    "    num_legs = 4\n",
    "    lays_eggs = False\n",
    "    is_carnivore = True\n",
    "\n",
    "my_canine = Canine(100, 32)\n",
    "\n",
    "print(my_canine.num_limbs, my_canine.lays_eggs)"
   ]
  },
  {
   "cell_type": "markdown",
   "metadata": {
    "id": "bqbei_n2pOI0"
   },
   "source": [
    "In this example the Canine class just adds 3 additional class attributes over the Mammal class. The `__init__` function is \"inherited\" from the Mammal class and is used directly. If a class method or attribute exists in both the parent and child class, the child class' method or attribute is used"
   ]
  },
  {
   "cell_type": "code",
   "execution_count": null,
   "metadata": {
    "id": "he0aR62ppOI0"
   },
   "outputs": [],
   "source": [
    "class Canine(Mammal):\n",
    "    num_legs = 4\n",
    "    lays_eggs = False\n",
    "    is_carnivore = True\n",
    "    \n",
    "    def __init__(self, current_size, current_age, is_a_pet=False):\n",
    "        self.is_a_pet=is_a_pet\n",
    "        # Explicitly call the parent class' init function\n",
    "        Mammal.__init__(self, current_size, current_age)\n",
    "        # A nicer way to do this is:\n",
    "        # super().__init__(current_size, current_age)\n",
    "\n",
    "my_canine = Canine(100, 32, is_a_pet=False)\n",
    "\n",
    "print(my_canine.num_limbs, my_canine.lays_eggs, my_canine.is_a_pet)"
   ]
  },
  {
   "cell_type": "markdown",
   "metadata": {
    "id": "bG0gulfApOI0"
   },
   "source": [
    "Inheritance can have multiple levels. If I wanted a Dog class, I could inherit from the Canine class, which itself inherits from the Mammal class. It's also possible to inherit from multiple classes (`class Class1(Parent1, Parent2, ...):`. "
   ]
  },
  {
   "cell_type": "code",
   "execution_count": null,
   "metadata": {
    "id": "pN5Q1UTBpOI0"
   },
   "outputs": [],
   "source": [
    "class Dog(Canine):\n",
    "    is_awesome = True\n",
    "    \n",
    "    def __init__(self, current_size, current_age):\n",
    "        # Here I remove the is_pet optional argument as we will just set it to true for all dogs.\n",
    "        super().__init__(current_size, current_age, is_a_pet=True)\n",
    "\n",
    "my_dog = Dog(100, 32)\n",
    "\n",
    "print(my_dog.num_limbs, my_dog.lays_eggs, my_dog.is_a_pet, my_dog.is_awesome)"
   ]
  },
  {
   "cell_type": "markdown",
   "metadata": {
    "id": "RzgLPZ3YpOI1"
   },
   "source": [
    "**EXERCISE** Create a Cat class in the same manner. Define some class attributes specific to a cat. Use a Feline (or Felid) class which is a parent to Cat but a child of Mammal. Again choose some class attributes appropriate in each case. "
   ]
  },
  {
   "cell_type": "code",
   "execution_count": null,
   "metadata": {
    "id": "ylBuXLWMpOI1"
   },
   "outputs": [],
   "source": [
    "class Felid(Mammal):\n",
    "    has_claws = True\n",
    "\n",
    "class Cat(Felid):\n",
    "    is_spawn_of_satan = True"
   ]
  },
  {
   "cell_type": "markdown",
   "metadata": {
    "id": "LicFWFgdpOI1"
   },
   "source": [
    "That's largely it for classes. To see all this in a different way see the python documentation https://docs.python.org/3/tutorial/classes.html\n",
    "\n",
    "There are some neat features that we aren't going to discuss here, including:\n",
    "\n",
    " * Class properties (via getters/setters)\n",
    " * Class decorators\n",
    "\n",
    "(you can Google these if you particularly want to explore these, and I can discuss them if after doing that if things are unclear)."
   ]
  },
  {
   "cell_type": "markdown",
   "metadata": {
    "id": "KWmk4FTOpOI1"
   },
   "source": [
    "### Exercises \n",
    "\n",
    "The best way to properly get to grips with classes is by writing some, so here's some exercises:"
   ]
  },
  {
   "cell_type": "markdown",
   "metadata": {
    "id": "a2TF6dEipOI1"
   },
   "source": [
    "**EXERCISE 1** Define a class which has the following methods:\n",
    " * get_string: Take a string from console input (use the `input` builtin function)\n",
    " * \\_\\_init\\_\\_: This should call the get_string method when a class instance is initialized. \n",
    " * print_string: Print the string\n",
    " * print_string_upper: Print the string in upper case.\n",
    " * print_string_lower: Print the string in lower case.\n",
    "\n",
    "Test the class with some examples"
   ]
  },
  {
   "cell_type": "code",
   "execution_count": null,
   "metadata": {
    "colab": {
     "base_uri": "https://localhost:8080/"
    },
    "executionInfo": {
     "elapsed": 5147,
     "status": "ok",
     "timestamp": 1647442767013,
     "user": {
      "displayName": "Ian Harry",
      "photoUrl": "https://lh3.googleusercontent.com/a/default-user=s64",
      "userId": "12539231435418418952"
     },
     "user_tz": 0
    },
    "id": "p9jmA6UbpOI1",
    "outputId": "33c10a81-5551-40fc-e8f0-e92ff08715b7"
   },
   "outputs": [
    {
     "name": "stdout",
     "output_type": "stream",
     "text": [
      "asdGGHyyHH\n",
      "asdGGHyyHH\n",
      "asdgghyyhh\n",
      "ASDGGHYYHH\n"
     ]
    }
   ],
   "source": [
    "class StringStuff():\n",
    "    def __init__(self):\n",
    "        self.s = ''\n",
    "    \n",
    "    def get_string(self):\n",
    "        self.s = input()\n",
    "    \n",
    "    def print_string(self):\n",
    "        print(self.s)\n",
    "    \n",
    "    def print_string_upper(self):\n",
    "        print(self.s.upper())\n",
    "        \n",
    "    def print_string_lower(self):\n",
    "        print(self.s.lower())\n",
    "\n",
    "ex = StringStuff()\n",
    "ex.get_string()\n",
    "ex.print_string()\n",
    "ex.print_string_lower()\n",
    "ex.print_string_upper()"
   ]
  },
  {
   "cell_type": "markdown",
   "metadata": {
    "id": "cy87u-XPpOI1"
   },
   "source": [
    "**EXERCISE 2** Write a class which is designed to store a population of foxes and chickens. Except the interface here is a bit strange, and you've been asked to design it in the following way. The class must contain:\n",
    "\n",
    " * An `__init__` method which takes two arguments `num_heads` and `num_legs`. `num_heads` is the total number of heads including both chickens and foxes. `num_legs` is the total number of legs including both chickens and foxes.\n",
    " * A `num_animals` method, which returns the number of chickens and the number of rabbits as a length-2 tuple. (Assume that all chickens have one head and two legs, and all foxes have one head and four legs).\n",
    " \n",
    "Then test initializing the class and calling num_animals. Example outputs you should get:\n",
    "\n",
    " * `num_heads=2` and `num_legs=6` -> 1 fox, 1 chicken\n",
    " * `num_heads=30` and `num_legs=100` -> 20 foxes, 10 chickens\n",
    " * `num_heads=88` and `num_legs=238` -> 31 foxes, 57 chickens\n",
    " * `num_heads=5` and `num_legs=64` -> This case is not possible, raise an Exception. (`raise ValueError(\"MESSAGE\")` ... We'll cover error handling later.)"
   ]
  },
  {
   "cell_type": "code",
   "execution_count": null,
   "metadata": {
    "colab": {
     "base_uri": "https://localhost:8080/",
     "height": 383
    },
    "executionInfo": {
     "elapsed": 531,
     "status": "error",
     "timestamp": 1647442772136,
     "user": {
      "displayName": "Ian Harry",
      "photoUrl": "https://lh3.googleusercontent.com/a/default-user=s64",
      "userId": "12539231435418418952"
     },
     "user_tz": 0
    },
    "id": "OxN-kLaipOI1",
    "outputId": "e3d08ac3-3912-433a-f969-c1578168440c"
   },
   "outputs": [
    {
     "name": "stdout",
     "output_type": "stream",
     "text": [
      "(1.0, 1.0)\n",
      "(20.0, 10.0)\n",
      "(31.0, 57.0)\n"
     ]
    },
    {
     "ename": "ValueError",
     "evalue": "ignored",
     "output_type": "error",
     "traceback": [
      "\u001b[0;31m---------------------------------------------------------------------------\u001b[0m",
      "\u001b[0;31mValueError\u001b[0m                                Traceback (most recent call last)",
      "\u001b[0;32m<ipython-input-8-0e5c2de176c1>\u001b[0m in \u001b[0;36m<module>\u001b[0;34m()\u001b[0m\n\u001b[1;32m     30\u001b[0m \u001b[0;34m\u001b[0m\u001b[0m\n\u001b[1;32m     31\u001b[0m \u001b[0mat\u001b[0m \u001b[0;34m=\u001b[0m \u001b[0mAnimalThing\u001b[0m\u001b[0;34m(\u001b[0m\u001b[0;36m5\u001b[0m\u001b[0;34m,\u001b[0m \u001b[0;36m64\u001b[0m\u001b[0;34m)\u001b[0m\u001b[0;34m\u001b[0m\u001b[0;34m\u001b[0m\u001b[0m\n\u001b[0;32m---> 32\u001b[0;31m \u001b[0mprint\u001b[0m\u001b[0;34m(\u001b[0m\u001b[0mat\u001b[0m\u001b[0;34m.\u001b[0m\u001b[0mnum_animals\u001b[0m\u001b[0;34m(\u001b[0m\u001b[0;34m)\u001b[0m\u001b[0;34m)\u001b[0m\u001b[0;34m\u001b[0m\u001b[0;34m\u001b[0m\u001b[0m\n\u001b[0m",
      "\u001b[0;32m<ipython-input-8-0e5c2de176c1>\u001b[0m in \u001b[0;36mnum_animals\u001b[0;34m(self)\u001b[0m\n\u001b[1;32m     15\u001b[0m \u001b[0;34m\u001b[0m\u001b[0m\n\u001b[1;32m     16\u001b[0m         \u001b[0;32mif\u001b[0m \u001b[0mchickens\u001b[0m \u001b[0;34m<\u001b[0m \u001b[0;36m0\u001b[0m \u001b[0;32mor\u001b[0m \u001b[0mrabbits\u001b[0m \u001b[0;34m<\u001b[0m \u001b[0;36m0\u001b[0m\u001b[0;34m:\u001b[0m\u001b[0;34m\u001b[0m\u001b[0;34m\u001b[0m\u001b[0m\n\u001b[0;32m---> 17\u001b[0;31m             \u001b[0;32mraise\u001b[0m \u001b[0mValueError\u001b[0m\u001b[0;34m(\u001b[0m\u001b[0;34m\"This combination is not possible\"\u001b[0m\u001b[0;34m)\u001b[0m\u001b[0;34m\u001b[0m\u001b[0;34m\u001b[0m\u001b[0m\n\u001b[0m\u001b[1;32m     18\u001b[0m \u001b[0;34m\u001b[0m\u001b[0m\n\u001b[1;32m     19\u001b[0m         \u001b[0;32mreturn\u001b[0m \u001b[0mrabbits\u001b[0m\u001b[0;34m,\u001b[0m \u001b[0mchickens\u001b[0m\u001b[0;34m\u001b[0m\u001b[0;34m\u001b[0m\u001b[0m\n",
      "\u001b[0;31mValueError\u001b[0m: This combination is not possible"
     ]
    }
   ],
   "source": [
    "class AnimalThing():\n",
    "    def __init__(self, num_heads, num_legs):\n",
    "        self.num_heads = num_heads\n",
    "        self.num_legs = num_legs\n",
    "    \n",
    "    def num_animals(self):\n",
    "        # C * 2 + (NH - C) * 4 = NL\n",
    "        # 4*NH - NL = 2 * C\n",
    "        if self.num_legs % 1:\n",
    "            # Odd number of length\n",
    "            raise ValueError(\"This combination is not possible\")\n",
    "        \n",
    "        chickens = (4 * self.num_heads - self.num_legs) / 2\n",
    "        rabbits = self.num_heads - chickens\n",
    "        \n",
    "        if chickens < 0 or rabbits < 0:\n",
    "            raise ValueError(\"This combination is not possible\")\n",
    "        \n",
    "        return rabbits, chickens\n",
    "\n",
    "\n",
    "at = AnimalThing(2, 6)\n",
    "print(at.num_animals())\n",
    "\n",
    "at = AnimalThing(30, 100)\n",
    "print(at.num_animals())\n",
    "\n",
    "at = AnimalThing(88, 238)\n",
    "print(at.num_animals())\n",
    "\n",
    "at = AnimalThing(5, 64)\n",
    "print(at.num_animals())\n"
   ]
  },
  {
   "cell_type": "markdown",
   "metadata": {
    "id": "5SpEgJg_pOI1"
   },
   "source": [
    "**EXERCISE 3** The last example is an example where the interface doesn't make sense. Why would you give num_heads and num_legs when the obvious thing to count is the number of both animals! Let's try and extend this into a somewhat more challenging example where the benefits of using object oriented programming beging to come into play.\n",
    "\n",
    "Write a class to track the population of foxes and chickens over time. It should have the following methods:\n",
    "\n",
    "* An `__init__` method which takes two arguments `num_foxes` and `num_chickens`. These correspond to the *initial* number of foxes and chickens.\n",
    "* An `add_foxes` method. This should take one argument `num` and when called should increase the number of foxes by `num`. (Maybe the foxes are migrating??)\n",
    "* An `add_chickens` method. As with `add_foxes` this should take one argument `num` and when called should increase the number of chickens by `num`. (Maybe the chickens migrate as well??)\n",
    "* An `advance_time_one_year` method. This takes no arguments. When called it simulates how these populations would change over a year. This is done with the following steps. Consider if each of these steps should be individual methods in the class, or just all things that are done in `advance_time_one_year`. These three items should be done *in this order* (so the number of chickens increased in the first item affects the calculation in the third). Where these numbers give fractional numbers of chickens or foxes round *down* to the nearest integer.\n",
    "  * Increase number of chickens proportionally to chicken population. The number of *additional* chickens is `num_chickens` * 0.6.\n",
    "  * Decrease number of chickens proportionally to fox population. The number of chickens decreases by `num_foxes` * 4. (This number cannot become less than 0).\n",
    "  * Change fox population proportionally to chicken *and* fox population. Use the following logic to determine this:\n",
    "    * If `num_chickens` > `num_foxes` * 4 then add 0.5 * `num_foxes` new foxes.\n",
    "    * If `num_chickens` > `num_foxes` * 2 then add (((`num_chickens`/`num_foxes`) - 2) * 0.25 * `num_foxes`) new foxes.\n",
    "    * If `num_chickens` <= `num_foxes` * 2 then reduce the number of foxes by ((2 - (`num_chickens`/`num_foxes`)) * 0.25 * `num_foxes`)\n",
    "    \n",
    "Then try the following. Initiate the class with 1000 chickens, and 50 foxes. Evolve and store the population of both animals over 20 years. Plot how the population evolves.\n",
    "\n",
    "You should find that this is not a stable ecosystem. Is it possible to edit some of the parameters above so that you have a *dynamic* ecosystem (e.g. the populations should change over time and respond to each other) but one that will not result in both sets of animals quickly disappearing, or that will result in an unckecked increase in one population?"
   ]
  },
  {
   "cell_type": "code",
   "execution_count": null,
   "metadata": {
    "id": "QjVI1aQqpOI1"
   },
   "outputs": [],
   "source": [
    "class AnimalThingTwo():\n",
    "    def __init__(self, num_chickens, num_foxes):\n",
    "        self.num_chickens = num_chickens\n",
    "        self.num_foxes = num_foxes\n",
    "    \n",
    "    def add_foxes(self, num_foxes):\n",
    "        self.num_foxes += num_foxes\n",
    "        if self.num_foxes < 0:\n",
    "            self.num_foxes = 0 # :-(\n",
    "        \n",
    "    def add_chickens(self, num_chickens):\n",
    "        self.num_chickens += num_chickens\n",
    "        if self.num_chickens < 0:\n",
    "            self.num_chickens = 0 # :-(\n",
    "        \n",
    "    def advance_time_one_year(self):\n",
    "        self.add_chickens(int(0.6 * self.num_chickens))\n",
    "        self.add_chickens(int(- 4 * self.num_foxes))\n",
    "        if self.num_chickens > self.num_foxes*4:\n",
    "            self.add_foxes(int(0.5 * self.num_foxes))\n",
    "        else:\n",
    "            # Note the second and third conditions are not different, the number just gets negative!\n",
    "            self.add_foxes(int((self.num_chickens / self.num_foxes - 2) * 0.25 * self.num_foxes))\n",
    "            \n",
    "class AnimalThingStable():\n",
    "    def __init__(self, num_chickens, num_foxes):\n",
    "        self.num_chickens = num_chickens\n",
    "        self.num_foxes = num_foxes\n",
    "    \n",
    "    def add_foxes(self, num_foxes):\n",
    "        self.num_foxes += num_foxes\n",
    "        if self.num_foxes < 0:\n",
    "            self.num_foxes = 0 # :-(\n",
    "        \n",
    "    def add_chickens(self, num_chickens):\n",
    "        self.num_chickens += num_chickens\n",
    "        if self.num_chickens < 0:\n",
    "            self.num_chickens = 0 # :-(\n",
    "        \n",
    "    def advance_time_one_year(self):\n",
    "        # Use this and the populations will disappear:\n",
    "        # self.add_chickens(int(0.699357903060 * self.num_chickens))\n",
    "        # Use this and the populations will explode\n",
    "        self.add_chickens(int(0.699357903070 * self.num_chickens))\n",
    "        # This really is balanced on a knife-edge. Unless the parameters are *exactly* tuned such systems\n",
    "        # are not stable. (In reality different/additional controls on the populations are needed to keep this stable).\n",
    "        self.add_chickens(int(- 4 * self.num_foxes))\n",
    "        if self.num_chickens > self.num_foxes*4:\n",
    "            self.add_foxes(int(0.5 * self.num_foxes))\n",
    "        else:\n",
    "            # Note the second and third conditions are not different, the number just gets negative!\n",
    "            self.add_foxes(int((self.num_chickens / self.num_foxes - 2) * 0.25 * self.num_foxes))"
   ]
  },
  {
   "cell_type": "code",
   "execution_count": null,
   "metadata": {
    "colab": {
     "base_uri": "https://localhost:8080/",
     "height": 640
    },
    "executionInfo": {
     "elapsed": 673,
     "status": "ok",
     "timestamp": 1647442828588,
     "user": {
      "displayName": "Ian Harry",
      "photoUrl": "https://lh3.googleusercontent.com/a/default-user=s64",
      "userId": "12539231435418418952"
     },
     "user_tz": 0
    },
    "id": "qnoPqEdQPiyd",
    "outputId": "de8d061c-0c95-4efa-f4e5-bef541a40526"
   },
   "outputs": [
    {
     "name": "stdout",
     "output_type": "stream",
     "text": [
      "Year 0 Chickens: 1400 Foxes: 75\n",
      "Year 1 Chickens: 1940 Foxes: 112\n",
      "Year 2 Chickens: 2656 Foxes: 168\n",
      "Year 3 Chickens: 3577 Foxes: 252\n",
      "Year 4 Chickens: 4715 Foxes: 378\n",
      "Year 5 Chickens: 6032 Foxes: 567\n",
      "Year 6 Chickens: 7383 Foxes: 850\n",
      "Year 7 Chickens: 8412 Foxes: 1275\n",
      "Year 8 Chickens: 8359 Foxes: 1912\n",
      "Year 9 Chickens: 5726 Foxes: 2387\n",
      "Year 10 Chickens: 0 Foxes: 1194\n",
      "Year 11 Chickens: 0 Foxes: 597\n",
      "Year 12 Chickens: 0 Foxes: 299\n",
      "Year 13 Chickens: 0 Foxes: 150\n",
      "Year 14 Chickens: 0 Foxes: 75\n",
      "Year 15 Chickens: 0 Foxes: 38\n",
      "Year 16 Chickens: 0 Foxes: 19\n",
      "Year 17 Chickens: 0 Foxes: 10\n",
      "Year 18 Chickens: 0 Foxes: 5\n",
      "Year 19 Chickens: 0 Foxes: 3\n"
     ]
    },
    {
     "data": {
      "text/plain": [
       "[<matplotlib.lines.Line2D at 0x7f8635cfc190>]"
      ]
     },
     "execution_count": 12,
     "metadata": {},
     "output_type": "execute_result"
    },
    {
     "data": {
      "image/png": "[encoded data removed]",
      "text/plain": [
       "<Figure size 432x288 with 1 Axes>"
      ]
     },
     "metadata": {
      "needs_background": "light"
     },
     "output_type": "display_data"
    }
   ],
   "source": [
    "amt2 = AnimalThingTwo(1000, 50)\n",
    "n_chickens = []\n",
    "n_foxes = []\n",
    "\n",
    "for year in range(20):\n",
    "    amt2.advance_time_one_year()\n",
    "    n_chickens.append(amt2.num_chickens)\n",
    "    n_foxes.append(amt2.num_foxes)\n",
    "    print(\"Year\", year, \"Chickens:\", amt2.num_chickens, \"Foxes:\", amt2.num_foxes)\n",
    "\n",
    "# You should make the plot look nicer than this and include axis labels etc.!!\n",
    "from matplotlib import pyplot as plt\n",
    "plt.plot(n_chickens)\n",
    "plt.plot(n_foxes)"
   ]
  },
  {
   "cell_type": "code",
   "execution_count": null,
   "metadata": {
    "colab": {
     "base_uri": "https://localhost:8080/"
    },
    "executionInfo": {
     "elapsed": 212,
     "status": "ok",
     "timestamp": 1647442861102,
     "user": {
      "displayName": "Ian Harry",
      "photoUrl": "https://lh3.googleusercontent.com/a/default-user=s64",
      "userId": "12539231435418418952"
     },
     "user_tz": 0
    },
    "id": "h22JnlW6Pw43",
    "outputId": "6684d856-ce28-4207-edbe-4f325bbbd6ba"
   },
   "outputs": [
    {
     "name": "stdout",
     "output_type": "stream",
     "text": [
      "Year 999 Chickens: 4597825123782512403940663656402514720920242935922474826237032536983928011004631378740866635851687113426633228031975235399680403353362365895300585782101605744025722279832743083776362925863293098581715396471734876411719962667793132 Foxes: 6135796327505989235727472356078700172383477942443873077356831410729146305162765536350373375775510798599136513330640118502771752673316007056148423671542581521901877597060593139309\n"
     ]
    }
   ],
   "source": [
    "# No I can't keep this stable unless I create a system that is *not* dynamic (ie. I tune the parameters)\n",
    "# so that the populations never change.\n",
    "amt2 = AnimalThingStable(1000, 50)\n",
    "\n",
    "for year in range(1000):\n",
    "    amt2.advance_time_one_year()\n",
    "print(\"Year\", year, \"Chickens:\", amt2.num_chickens, \"Foxes:\", amt2.num_foxes)"
   ]
  },
  {
   "cell_type": "markdown",
   "metadata": {
    "id": "tVNq_xIypOI1"
   },
   "source": [
    "**EXERCISE 4**: Challenging exercise. Construct a class that can be used to play a game of noughts and crosses. The class should have at least the following methods:\n",
    "\n",
    " * `__init__`: Create an empty 3 x 3 board (represented by some form of list-like object).\n",
    " * `place_nought`: Place a nought at a position on the board (the position is given by arguments to this method).\n",
    " * `place_cross`: Place a cross at a position on the board (the position is given by arguments to this method).\n",
    " * `print_board`: Print a representation of the board to the terminal\n",
    " * `restart_game`: Revert to an empty 3 x 3 board\n",
    " \n",
    "Whenever a nought, or a cross, is played, the following should happen:\n",
    "\n",
    " * Noughts and crosses must be played in alternating order, if someone tries to play out of order a message should be given, but the game allowed to continue\n",
    " * You cannot place a piece on a space that already has a piece on it. Print a message if this happens and continue the game.\n",
    " * Whenever a piece is played check to see if one player has won. Print a message if this happens.\n",
    " * If all spaces on the board are full and no-one has won, print a message to that effect."
   ]
  },
  {
   "cell_type": "code",
   "execution_count": null,
   "metadata": {
    "colab": {
     "base_uri": "https://localhost:8080/"
    },
    "executionInfo": {
     "elapsed": 487,
     "status": "ok",
     "timestamp": 1647442888593,
     "user": {
      "displayName": "Ian Harry",
      "photoUrl": "https://lh3.googleusercontent.com/a/default-user=s64",
      "userId": "12539231435418418952"
     },
     "user_tz": 0
    },
    "id": "K1RwKstnpOI1",
    "outputId": "aeb5096e-3bef-4b33-d1e7-51781694f424"
   },
   "outputs": [
    {
     "name": "stdout",
     "output_type": "stream",
     "text": [
      "***\n",
      "***\n",
      "***\n",
      "\n",
      "It's not nought's turn!\n",
      "*O*\n",
      "***\n",
      "***\n",
      "\n",
      "That square already has a piece on it\n",
      "NOUGHTS WIN\n",
      "OOO\n",
      "*X*\n",
      "**X\n",
      "\n",
      "***\n",
      "***\n",
      "***\n",
      "\n",
      "GAME IS A DRAW\n",
      "XOO\n",
      "OOX\n",
      "XXO\n",
      "\n"
     ]
    }
   ],
   "source": [
    "import numpy\n",
    "class NoughtsAndCrosses():\n",
    "    def __init__(self):\n",
    "        self.board = numpy.zeros([3,3])\n",
    "        self.current_player = None\n",
    "    \n",
    "    def print_board(self):\n",
    "        for i in range(3):\n",
    "            curr_line = ''\n",
    "            for j in range(3):\n",
    "                if self.board[i,j] == -1:\n",
    "                    curr_line += \"O\"\n",
    "                elif self.board[i,j] == 1:\n",
    "                    curr_line += \"X\"\n",
    "                elif self.board[i,j] == 0:\n",
    "                    curr_line += \"*\"\n",
    "            print(curr_line)\n",
    "        print()\n",
    "    \n",
    "    def place_nought(self, i, j):\n",
    "        if self.current_player == 'crosses':\n",
    "            print(\"It's not nought's turn!\")\n",
    "            return\n",
    "        if not self.board[i,j] == 0:\n",
    "            print(\"That square already has a piece on it\")\n",
    "            return\n",
    "        self.board[i,j] = -1\n",
    "        self.current_player = 'crosses'\n",
    "        self.check_board_status()\n",
    "    \n",
    "    def place_cross(self, i, j):\n",
    "        if self.current_player == 'noughts':\n",
    "            print(\"It's not nought's turn!\")\n",
    "            return\n",
    "        if not self.board[i,j] == 0:\n",
    "            print(\"That square already has a piece on it\")\n",
    "            return\n",
    "        self.board[i,j] = 1\n",
    "        self.current_player = 'noughts'\n",
    "        self.check_board_status()\n",
    "    \n",
    "    def check_board_status(self):\n",
    "        # Check horizontal and vertical rows\n",
    "        diag_sum = self.board[0,0] + self.board[1,1] + self.board[2,2]\n",
    "        diag_sum2 = self.board[0,2] + self.board[1,1] + self.board[2,0]\n",
    "        for i in range(3):\n",
    "            if self.board[i,:].sum() == 3 or self.board[:,i].sum() == 3 or diag_sum == 3 or diag_sum == 3:\n",
    "                print(\"CROSSES WIN\")\n",
    "                self.print_board()\n",
    "            if self.board[i,:].sum() == -3 or self.board[:,i].sum() == -3 or diag_sum == -3 or diag_sum == -3:\n",
    "                print(\"NOUGHTS WIN\")\n",
    "                self.print_board()\n",
    "        \n",
    "        # Check if any values are 0\n",
    "        if not (self.board == 0).any():\n",
    "            print(\"GAME IS A DRAW\")\n",
    "            self.print_board()    \n",
    "\n",
    "# Some example games to test. Do not change!\n",
    "oandc = NoughtsAndCrosses()\n",
    "oandc.print_board()\n",
    "oandc.place_nought(0,1)\n",
    "# This one below should not go through: It's not nought's turn.\n",
    "oandc.place_nought(1,1)\n",
    "oandc.print_board()\n",
    "oandc.place_cross(1,1)\n",
    "oandc.place_nought(0,0)\n",
    "# This shouldn't go through as you can't play a cross on a nought.\n",
    "oandc.place_cross(0,0)\n",
    "oandc.place_cross(2,2)\n",
    "oandc.place_nought(0,2)\n",
    "# Nought wins\n",
    "\n",
    "oandc = NoughtsAndCrosses()\n",
    "oandc.print_board()\n",
    "oandc.place_nought(1,1)\n",
    "oandc.place_cross(0,0)\n",
    "oandc.place_nought(0,2)\n",
    "oandc.place_cross(2,0)\n",
    "oandc.place_nought(1,0)\n",
    "oandc.place_cross(1,2)\n",
    "oandc.place_nought(0,1)\n",
    "oandc.place_cross(2,1)\n",
    "oandc.place_nought(2,2)\n",
    "# DRAW\n",
    "\n",
    "\n"
   ]
  },
  {
   "cell_type": "markdown",
   "metadata": {
    "id": "Wx48UXKnpOI2"
   },
   "source": [
    "We acknowledge the following resources for help in formulating this notebook:\n",
    " * CodeSignal\n",
    " * https://github.com/zhiwehu/Python-programming-exercises"
   ]
  }
 ],
 "metadata": {
  "colab": {
   "provenance": []
  },
  "kernelspec": {
   "display_name": "Python 3 (ipykernel)",
   "language": "python",
   "name": "python3"
  },
  "language_info": {
   "codemirror_mode": {
    "name": "ipython",
    "version": 3
   },
   "file_extension": ".py",
   "mimetype": "text/x-python",
   "name": "python",
   "nbconvert_exporter": "python",
   "pygments_lexer": "ipython3",
   "version": "3.9.7"
  }
 },
 "nbformat": 4,
 "nbformat_minor": 1
}
